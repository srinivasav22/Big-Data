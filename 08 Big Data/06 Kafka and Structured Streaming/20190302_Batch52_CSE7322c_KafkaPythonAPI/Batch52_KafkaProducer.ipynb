{
 "cells": [
  {
   "cell_type": "markdown",
   "metadata": {},
   "source": [
    "# Code for Kafka Producer"
   ]
  },
  {
   "cell_type": "markdown",
   "metadata": {},
   "source": [
    "### Import the KafkaProducer class from kafka package"
   ]
  },
  {
   "cell_type": "code",
   "execution_count": 1,
   "metadata": {},
   "outputs": [],
   "source": []
  },
  {
   "cell_type": "markdown",
   "metadata": {},
   "source": [
    "### Create a KafkaProducer instance "
   ]
  },
  {
   "cell_type": "code",
   "execution_count": null,
   "metadata": {},
   "outputs": [],
   "source": [
    "# Provide the following arguments inside the KafkaConsumer():\n",
    "\n",
    "# Keyword Arguments:\n",
    "#         bootstrap_servers – The server that the producer should contact to bootstrap initial cluster metadata\n",
    "#              Eg: bootstrap_servers=['c.insofe.edu.in:9092']\n",
    "#         retries - Setting a value greater than zero will cause the client to resend any record upon receiving the error.\n",
    "#              Eg: retries=5"
   ]
  },
  {
   "cell_type": "code",
   "execution_count": null,
   "metadata": {},
   "outputs": [],
   "source": [
    "producer = KafkaProducer()"
   ]
  },
  {
   "cell_type": "code",
   "execution_count": null,
   "metadata": {},
   "outputs": [],
   "source": [
    "# Callback method to be called upon successfully sending a message."
   ]
  },
  {
   "cell_type": "code",
   "execution_count": null,
   "metadata": {},
   "outputs": [],
   "source": [
    "def on_send_success(record_metadata):\n",
    "    print(record_metadata.topic)\n",
    "    print(record_metadata.partition)\n",
    "    print(record_metadata.offset)"
   ]
  },
  {
   "cell_type": "code",
   "execution_count": null,
   "metadata": {},
   "outputs": [],
   "source": [
    "# Callback method to be called upon receiving an error."
   ]
  },
  {
   "cell_type": "code",
   "execution_count": null,
   "metadata": {},
   "outputs": [],
   "source": [
    "def on_send_error(excp):\n",
    "    log.error('Error:', exc_info=excp)"
   ]
  },
  {
   "cell_type": "code",
   "execution_count": null,
   "metadata": {},
   "outputs": [],
   "source": [
    "# produce a message to send the numbers from 1 to 100 asynchronously with callbacks   \n",
    "for i in range(100):\n",
    "    producer.send('my-topic', key=b'key%d' % i, value= b'msg%d' % i).add_callback(on_send_success).add_errback(on_send_error)   "
   ]
  },
  {
   "cell_type": "code",
   "execution_count": 1,
   "metadata": {},
   "outputs": [],
   "source": [
    "# Invoke the flush() method to make all buffered records immediately available to send.\n",
    "# It blocks the thread until all async messages are sent."
   ]
  },
  {
   "cell_type": "code",
   "execution_count": null,
   "metadata": {},
   "outputs": [],
   "source": [
    "# producer.flush()"
   ]
  }
 ],
 "metadata": {
  "kernelspec": {
   "display_name": "Python 2",
   "language": "python",
   "name": "python2"
  },
  "language_info": {
   "codemirror_mode": {
    "name": "ipython",
    "version": 2
   },
   "file_extension": ".py",
   "mimetype": "text/x-python",
   "name": "python",
   "nbconvert_exporter": "python",
   "pygments_lexer": "ipython2",
   "version": "2.7.5"
  }
 },
 "nbformat": 4,
 "nbformat_minor": 2
}
