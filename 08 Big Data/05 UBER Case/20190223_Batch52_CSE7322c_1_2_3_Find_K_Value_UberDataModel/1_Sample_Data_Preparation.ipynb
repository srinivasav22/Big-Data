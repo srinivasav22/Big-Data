{
 "cells": [
  {
   "cell_type": "code",
   "execution_count": 1,
   "metadata": {},
   "outputs": [],
   "source": [
    "import os\n",
    "import sys\n",
    "os.environ[\"SPARK_HOME\"] = \"/usr/hdp/current/spark2-client\"\n",
    "os.environ[\"PYLIB\"] = os.environ[\"SPARK_HOME\"] + \"/python/lib\"\n",
    "sys.path.insert(0, os.environ[\"PYLIB\"] + \"/py4j-0.10.4-src.zip\")\n",
    "sys.path.insert(0, os.environ[\"PYLIB\"] + \"/pyspark.zip\")\n",
    "\n",
    "\n",
    "## Create SparkContext, SparkSession\n",
    "from pyspark.sql import SparkSession\n",
    "from pyspark import SparkContext\n",
    "sc = SparkContext()"
   ]
  },
  {
   "cell_type": "code",
   "execution_count": 2,
   "metadata": {},
   "outputs": [
    {
     "data": {
      "text/html": [
       "\n",
       "        <div>\n",
       "            <p><b>SparkContext</b></p>\n",
       "\n",
       "            <p><a href=\"http://m.insofe.edu.in:4040\">Spark UI</a></p>\n",
       "\n",
       "            <dl>\n",
       "              <dt>Version</dt>\n",
       "                <dd><code>v2.3.0.2.6.5.0-292</code></dd>\n",
       "              <dt>Master</dt>\n",
       "                <dd><code>local[*]</code></dd>\n",
       "              <dt>AppName</dt>\n",
       "                <dd><code>pyspark-shell</code></dd>\n",
       "            </dl>\n",
       "        </div>\n",
       "        "
      ],
      "text/plain": [
       "<SparkContext master=local[*] appName=pyspark-shell>"
      ]
     },
     "execution_count": 2,
     "metadata": {},
     "output_type": "execute_result"
    }
   ],
   "source": [
    "sc"
   ]
  },
  {
   "cell_type": "code",
   "execution_count": 3,
   "metadata": {},
   "outputs": [],
   "source": [
    "data = sc.textFile('/user/thomasj/UberUseCase/HistoricalData/')"
   ]
  },
  {
   "cell_type": "code",
   "execution_count": 4,
   "metadata": {},
   "outputs": [
    {
     "data": {
      "text/plain": [
       "3296451"
      ]
     },
     "execution_count": 4,
     "metadata": {},
     "output_type": "execute_result"
    }
   ],
   "source": [
    "data.count()"
   ]
  },
  {
   "cell_type": "code",
   "execution_count": 5,
   "metadata": {},
   "outputs": [],
   "source": [
    "fea_data = data.map(lambda line : line.split(','))"
   ]
  },
  {
   "cell_type": "code",
   "execution_count": 8,
   "metadata": {},
   "outputs": [],
   "source": [
    "sampleData = fea_data.sample(False, .02, 12345)"
   ]
  },
  {
   "cell_type": "code",
   "execution_count": 9,
   "metadata": {},
   "outputs": [
    {
     "data": {
      "text/plain": [
       "[[u'\"12/1/2016 3:28:00\"', u'40.7623', u'-73.9797', u'\"B02512\"'],\n",
       " [u'\"12/1/2016 7:13:00\"', u'40.7434', u'-73.9742', u'\"B02512\"'],\n",
       " [u'\"12/1/2016 7:13:00\"', u'40.743', u'-73.9794', u'\"B02512\"'],\n",
       " [u'\"12/1/2016 8:42:00\"', u'40.8073', u'-74.2178', u'\"B02512\"'],\n",
       " [u'\"12/1/2016 9:37:00\"', u'40.7576', u'-73.9789', u'\"B02512\"'],\n",
       " [u'\"12/1/2016 10:39:00\"', u'40.6462', u'-73.7899', u'\"B02512\"'],\n",
       " [u'\"12/1/2016 11:40:00\"', u'40.7616', u'-73.9733', u'\"B02512\"'],\n",
       " [u'\"12/1/2016 12:34:00\"', u'40.6894', u'-74.1792', u'\"B02512\"'],\n",
       " [u'\"12/1/2016 13:04:00\"', u'40.7644', u'-73.9805', u'\"B02512\"'],\n",
       " [u'\"12/1/2016 13:31:00\"', u'40.7715', u'-73.9805', u'\"B02512\"']]"
      ]
     },
     "execution_count": 9,
     "metadata": {},
     "output_type": "execute_result"
    }
   ],
   "source": [
    "sampleData.take(10)"
   ]
  },
  {
   "cell_type": "code",
   "execution_count": 10,
   "metadata": {},
   "outputs": [],
   "source": [
    "def toCSVLine(data):\n",
    "    return ','.join(str(d) for d in data)"
   ]
  },
  {
   "cell_type": "code",
   "execution_count": 14,
   "metadata": {},
   "outputs": [],
   "source": [
    "lines = sampleData.map(toCSVLine)\n",
    "#13. Write the above RDD lines as text file\n",
    "lines.coalesce(1).saveAsTextFile('file:///home/thomasj/Batch52/UberUseCase/SampleData')"
   ]
  },
  {
   "cell_type": "code",
   "execution_count": 15,
   "metadata": {},
   "outputs": [
    {
     "data": {
      "text/plain": [
       "['\"12/1/2016 3:28:00\",40.7623,-73.9797,\"B02512\"',\n",
       " '\"12/1/2016 7:13:00\",40.7434,-73.9742,\"B02512\"',\n",
       " '\"12/1/2016 7:13:00\",40.743,-73.9794,\"B02512\"',\n",
       " '\"12/1/2016 8:42:00\",40.8073,-74.2178,\"B02512\"',\n",
       " '\"12/1/2016 9:37:00\",40.7576,-73.9789,\"B02512\"',\n",
       " '\"12/1/2016 10:39:00\",40.6462,-73.7899,\"B02512\"',\n",
       " '\"12/1/2016 11:40:00\",40.7616,-73.9733,\"B02512\"',\n",
       " '\"12/1/2016 12:34:00\",40.6894,-74.1792,\"B02512\"',\n",
       " '\"12/1/2016 13:04:00\",40.7644,-73.9805,\"B02512\"',\n",
       " '\"12/1/2016 13:31:00\",40.7715,-73.9805,\"B02512\"',\n",
       " '\"12/1/2016 15:29:00\",40.7204,-73.9979,\"B02512\"',\n",
       " '\"12/1/2016 15:33:00\",40.7633,-73.9747,\"B02512\"',\n",
       " '\"12/1/2016 15:53:00\",40.7707,-73.9683,\"B02512\"',\n",
       " '\"12/1/2016 16:25:00\",40.7722,-73.9531,\"B02512\"',\n",
       " '\"12/1/2016 16:32:00\",40.7831,-73.9741,\"B02512\"']"
      ]
     },
     "execution_count": 15,
     "metadata": {},
     "output_type": "execute_result"
    }
   ],
   "source": [
    "lines.take(15)"
   ]
  },
  {
   "cell_type": "code",
   "execution_count": 13,
   "metadata": {},
   "outputs": [
    {
     "data": {
      "text/plain": [
       "[[u'\"12/1/2016 3:28:00\"', u'40.7623', u'-73.9797', u'\"B02512\"'],\n",
       " [u'\"12/1/2016 7:13:00\"', u'40.7434', u'-73.9742', u'\"B02512\"'],\n",
       " [u'\"12/1/2016 7:13:00\"', u'40.743', u'-73.9794', u'\"B02512\"'],\n",
       " [u'\"12/1/2016 8:42:00\"', u'40.8073', u'-74.2178', u'\"B02512\"'],\n",
       " [u'\"12/1/2016 9:37:00\"', u'40.7576', u'-73.9789', u'\"B02512\"']]"
      ]
     },
     "execution_count": 13,
     "metadata": {},
     "output_type": "execute_result"
    }
   ],
   "source": [
    "sampleData.take(5)"
   ]
  },
  {
   "cell_type": "code",
   "execution_count": null,
   "metadata": {},
   "outputs": [],
   "source": []
  },
  {
   "cell_type": "code",
   "execution_count": null,
   "metadata": {},
   "outputs": [],
   "source": []
  },
  {
   "cell_type": "code",
   "execution_count": null,
   "metadata": {},
   "outputs": [],
   "source": []
  },
  {
   "cell_type": "code",
   "execution_count": null,
   "metadata": {},
   "outputs": [],
   "source": []
  }
 ],
 "metadata": {
  "kernelspec": {
   "display_name": "Python 2",
   "language": "python",
   "name": "python2"
  },
  "language_info": {
   "codemirror_mode": {
    "name": "ipython",
    "version": 2
   },
   "file_extension": ".py",
   "mimetype": "text/x-python",
   "name": "python",
   "nbconvert_exporter": "python",
   "pygments_lexer": "ipython2",
   "version": "2.7.5"
  }
 },
 "nbformat": 4,
 "nbformat_minor": 2
}
