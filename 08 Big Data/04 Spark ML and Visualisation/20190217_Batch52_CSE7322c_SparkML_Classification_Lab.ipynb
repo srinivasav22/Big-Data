{
 "cells": [
  {
   "cell_type": "markdown",
   "metadata": {},
   "source": [
    "### Create SPARK_HOME and PYLIB env var and update PATH env var"
   ]
  },
  {
   "cell_type": "code",
   "execution_count": 80,
   "metadata": {},
   "outputs": [
    {
     "name": "stdout",
     "output_type": "stream",
     "text": [
      "/home/thomasj/Batch52\r\n"
     ]
    }
   ],
   "source": [
    "!pwd"
   ]
  },
  {
   "cell_type": "code",
   "execution_count": 81,
   "metadata": {},
   "outputs": [
    {
     "name": "stdout",
     "output_type": "stream",
     "text": [
      "20190217_Batch52_CSE7322c_SparkML_Classification_Lab.ipynb  SparkGraphFrames\r\n",
      "bank.csv\r\n"
     ]
    }
   ],
   "source": [
    "!ls /home/thomasj/Batch52"
   ]
  },
  {
   "cell_type": "code",
   "execution_count": 82,
   "metadata": {},
   "outputs": [
    {
     "name": "stdout",
     "output_type": "stream",
     "text": [
      "-rw-r--r--   3 thomasj thomasj     375424 2019-02-11 14:28 /user/thomasj/bank.csv\r\n"
     ]
    }
   ],
   "source": [
    "!hdfs dfs -ls /user/thomasj/bank.csv\n"
   ]
  },
  {
   "cell_type": "code",
   "execution_count": 83,
   "metadata": {},
   "outputs": [],
   "source": [
    "import os\n",
    "import sys\n",
    "os.environ[\"SPARK_HOME\"] = \"/usr/hdp/current/spark2-client\"\n",
    "os.environ[\"PYLIB\"] = os.environ[\"SPARK_HOME\"] + \"/python/lib\"\n",
    "sys.path.insert(0, os.environ[\"PYLIB\"] + \"/py4j-0.10.4-src.zip\")\n",
    "sys.path.insert(0, os.environ[\"PYLIB\"] + \"/pyspark.zip\")"
   ]
  },
  {
   "cell_type": "markdown",
   "metadata": {},
   "source": [
    "### Initializing Spark"
   ]
  },
  {
   "cell_type": "markdown",
   "metadata": {},
   "source": [
    "Build __SparkConf__ object \n",
    "\n",
    "    Contains information about your application.  \n",
    "\n",
    "\n",
    "Create __SparkContext__ object \n",
    "    \n",
    "    Tells Spark how to access a cluster. \n",
    "    \n",
    "\n",
    "Create __SparkSession__ object\n",
    "\n",
    "    The entry point to programming Spark with the Dataset and DataFrame API.\n",
    "\n",
    "    Used to create DataFrame, register DataFrame as tables and execute SQL over tables etc."
   ]
  },
  {
   "cell_type": "code",
   "execution_count": 84,
   "metadata": {},
   "outputs": [],
   "source": [
    "# from pyspark.conf import SparkConf\n",
    "# from pyspark import SparkContext\n",
    "# from pyspark.sql import SparkSession\n",
    "\n",
    "# conf = SparkConf().setAppName(\"Universal Bank Data Set\").setMaster('local')\n",
    "# sc = SparkContext(conf=conf)\n",
    "# spark = SparkSession(sc)"
   ]
  },
  {
   "cell_type": "code",
   "execution_count": 85,
   "metadata": {},
   "outputs": [],
   "source": [
    "# from pyspark.conf import SparkConf\n",
    "# from pyspark import SparkContext\n",
    "from pyspark.sql import SparkSession\n",
    "\n",
    "spark = SparkSession.builder\\\n",
    "    .appName(\"SparkML\")\\\n",
    "    .master('local[*]')\\\n",
    "    .getOrCreate()\n",
    "sc = spark.sparkContext"
   ]
  },
  {
   "cell_type": "markdown",
   "metadata": {
    "collapsed": true
   },
   "source": [
    "### Loading the dependent libraries"
   ]
  },
  {
   "cell_type": "code",
   "execution_count": 86,
   "metadata": {},
   "outputs": [],
   "source": [
    "from pyspark.sql.types import *\n",
    "from pyspark.sql.functions import *\n",
    "\n",
    "from pyspark.sql.functions import isnan, when, count, col, countDistinct"
   ]
  },
  {
   "cell_type": "markdown",
   "metadata": {},
   "source": [
    "\n",
    "#### Problem Statement\n",
    "The dataset is from a bank, data related to direct marketing campaigns of a Portuguese banking institution. The marketing campaigns were based on phone calls. Often, more than one contact to the same client was required, to access if the product (bank term deposit) would be (or not) subscribed. The data and attribute description are in the folder. \n",
    "\n",
    "\n",
    "#### Data Dictionary\n",
    " The dataset has the following attributes:\n",
    "\n",
    "1 - age (numeric)\n",
    "\n",
    "2 - job : type of job (categorical: \"admin.\",\"unknown\",\"unemployed\",\"management\",\"housemaid\",\"entrepreneur\",\"student\",\n",
    "                                    \"blue-collar\",\"self-employed\",\"retired\",\"technician\",\"services\") \n",
    "\n",
    "3 - marital : marital status (categorical: \"married\",\"divorced\",\"single\"; note: \"divorced\" means divorced or widowed)\n",
    "\n",
    "4 - education (categorical: \"unknown\",\"secondary\",\"primary\",\"tertiary\")\n",
    "\n",
    "5 - default: has credit in default? (binary: \"yes\",\"no\")\n",
    "\n",
    "#### 6 - balance: average yearly balance, in euros (numeric) \n",
    "\n",
    "7 - housing: has housing loan? (binary: \"yes\",\"no\")\n",
    "\n",
    "8 - loan: has personal loan? (binary: \"yes\",\"no\")\n",
    "\n",
    "9 - contact: contact communication type (categorical: \"unknown\",\"telephone\",\"cellular\") \n",
    "\n",
    "10 - day: last contact day of the month (numeric)\n",
    "\n",
    "11 - month: last contact month of year (categorical: \"jan\", \"feb\", \"mar\", ..., \"nov\", \"dec\")\n",
    "\n",
    "12 - duration: last contact duration, in seconds (numeric)\n",
    "\n",
    "13 - campaign: number of contacts performed during this campaign and for this client (numeric, includes last contact)\n",
    "\n",
    "14 - pdays: number of days that passed by after the client was last contacted from a previous campaign (numeric, -1 means client was not previously contacted)\n",
    "  \n",
    "15 - previous: number of contacts performed before this campaign and for this client (numeric)\n",
    "\n",
    "16 - poutcome: outcome of the previous marketing campaign (categorical: \"unknown\",\"other\",\"failure\",\"success\")\n",
    "\n",
    "17 - Approved_no_yes - has the client subscribed to a __term deposit?__ (binary: \"yes\",\"no\")"
   ]
  },
  {
   "cell_type": "markdown",
   "metadata": {},
   "source": [
    "### Defining the schema to the data"
   ]
  },
  {
   "cell_type": "code",
   "execution_count": 87,
   "metadata": {},
   "outputs": [],
   "source": [
    "## Define Schema\n",
    "bankDataSchema = StructType([\n",
    "    StructField(\"age\", IntegerType(), True),\n",
    "    StructField(\"job\", StringType(), True),\n",
    "    StructField(\"marital_status\", StringType(), True),\n",
    "    StructField(\"education\", StringType(), True),\n",
    "    StructField(\"default\", StringType(), True),\n",
    "    StructField(\"balance\", DoubleType(), True),\n",
    "    StructField(\"housing\", StringType(), True),\n",
    "    StructField(\"loan\", StringType(), True),        \n",
    "    StructField(\"contact\", StringType(), True),\n",
    "    StructField(\"day\", IntegerType(), True),\n",
    "    StructField(\"month\", StringType(), True),\n",
    "    StructField(\"duration\", DoubleType(), True),\n",
    "    StructField(\"campaign\", DoubleType(), True),\n",
    "    StructField(\"pdays\", DoubleType(), True),\n",
    "    StructField(\"previous\", DoubleType(), True),\n",
    "    StructField(\"poutcome\", StringType(), True),\n",
    "    StructField(\"Approved_no_yes\", StringType(), True)])"
   ]
  },
  {
   "cell_type": "markdown",
   "metadata": {},
   "source": [
    "### Reading the data and creating a dataframe"
   ]
  },
  {
   "cell_type": "code",
   "execution_count": 88,
   "metadata": {},
   "outputs": [],
   "source": [
    "## Read data and create a dataframe\n",
    "#data = spark.read.format(\"csv\")\\\n",
    "#       .option(\"header\", \"false\")\\\n",
    "#       .option(\"inferSchema\", \"false\")\\\n",
    "#       .load(\"/user/chaithanyas/bank.csv\", schema = bankDataSchema)"
   ]
  },
  {
   "cell_type": "code",
   "execution_count": 89,
   "metadata": {},
   "outputs": [
    {
     "name": "stdout",
     "output_type": "stream",
     "text": [
      "30,unemployed,married,primary,no,1787,no,no,cellular,19,oct,79,1,-1,0,unknown,no\r",
      "\r\n",
      "33,services,married,secondary,no,4789,yes,yes,cellular,11,may,220,1,339,4,failure,no\r",
      "\r\n",
      "35,management,single,tertiary,no,1350,yes,no,cellular,16,apr,185,1,330,1,failure,no\r",
      "\r\n",
      "30,management,married,tertiary,no,1476,yes,yes,unknown,3,jun,199,4,-1,0,unknown,no\r",
      "\r\n",
      "59,blue-collar,married,secondary,no,0,yes,no,unknown,5,may,226,1,-1,0,unknown,no\r",
      "\r\n",
      "35,management,single,tertiary,no,747,no,no,cellular,23,feb,141,2,176,3,failure,no\r",
      "\r\n",
      "36,self-employed,married,tertiary,no,307,yes,no,cellular,14,may,341,1,330,2,other,no\r",
      "\r\n",
      "39,technician,married,secondary,no,147,yes,no,cellular,6,may,151,2,-1,0,unknown,no\r",
      "\r\n",
      "41,entrepreneur,married,tertiary,no,221,yes,no,unknown,14,may,57,2,-1,0,unknown,no\r",
      "\r\n",
      "43,services,married,primary,no,-88,yes,yes,cellular,17,apr,313,1,147,2,failure,no\r",
      "\r\n",
      "cat: Unable to write to output stream.\r\n"
     ]
    }
   ],
   "source": [
    "!hdfs dfs -cat /user/thomasj/bank.csv | head -10"
   ]
  },
  {
   "cell_type": "code",
   "execution_count": 90,
   "metadata": {},
   "outputs": [],
   "source": [
    "data = spark.read.csv(path='/user/thomasj/bank.csv',\n",
    "                      header=False,\n",
    "                      schema=bankDataSchema)"
   ]
  },
  {
   "cell_type": "code",
   "execution_count": 91,
   "metadata": {},
   "outputs": [
    {
     "data": {
      "text/plain": [
       "pyspark.sql.dataframe.DataFrame"
      ]
     },
     "execution_count": 91,
     "metadata": {},
     "output_type": "execute_result"
    }
   ],
   "source": [
    "type(data)"
   ]
  },
  {
   "cell_type": "markdown",
   "metadata": {},
   "source": [
    "### Understanding Data"
   ]
  },
  {
   "cell_type": "markdown",
   "metadata": {},
   "source": [
    "#### Print Schema\n",
    "\n",
    "Hint: Use printSchema()"
   ]
  },
  {
   "cell_type": "code",
   "execution_count": 92,
   "metadata": {},
   "outputs": [
    {
     "name": "stdout",
     "output_type": "stream",
     "text": [
      "root\n",
      " |-- age: integer (nullable = true)\n",
      " |-- job: string (nullable = true)\n",
      " |-- marital_status: string (nullable = true)\n",
      " |-- education: string (nullable = true)\n",
      " |-- default: string (nullable = true)\n",
      " |-- balance: double (nullable = true)\n",
      " |-- housing: string (nullable = true)\n",
      " |-- loan: string (nullable = true)\n",
      " |-- contact: string (nullable = true)\n",
      " |-- day: integer (nullable = true)\n",
      " |-- month: string (nullable = true)\n",
      " |-- duration: double (nullable = true)\n",
      " |-- campaign: double (nullable = true)\n",
      " |-- pdays: double (nullable = true)\n",
      " |-- previous: double (nullable = true)\n",
      " |-- poutcome: string (nullable = true)\n",
      " |-- Approved_no_yes: string (nullable = true)\n",
      "\n"
     ]
    }
   ],
   "source": [
    "data.printSchema()"
   ]
  },
  {
   "cell_type": "markdown",
   "metadata": {},
   "source": [
    "#### Another way to check the data type of each attribute\n",
    "\n",
    "Hint: Use dtypes"
   ]
  },
  {
   "cell_type": "code",
   "execution_count": 93,
   "metadata": {},
   "outputs": [
    {
     "data": {
      "text/plain": [
       "[('age', 'int'),\n",
       " ('job', 'string'),\n",
       " ('marital_status', 'string'),\n",
       " ('education', 'string'),\n",
       " ('default', 'string'),\n",
       " ('balance', 'double'),\n",
       " ('housing', 'string'),\n",
       " ('loan', 'string'),\n",
       " ('contact', 'string'),\n",
       " ('day', 'int'),\n",
       " ('month', 'string'),\n",
       " ('duration', 'double'),\n",
       " ('campaign', 'double'),\n",
       " ('pdays', 'double'),\n",
       " ('previous', 'double'),\n",
       " ('poutcome', 'string'),\n",
       " ('Approved_no_yes', 'string')]"
      ]
     },
     "execution_count": 93,
     "metadata": {},
     "output_type": "execute_result"
    }
   ],
   "source": [
    "data.dtypes"
   ]
  },
  {
   "cell_type": "markdown",
   "metadata": {},
   "source": [
    "#### Total number of Columns and Records\n",
    "\n",
    "Hint: Use columns and count() function"
   ]
  },
  {
   "cell_type": "code",
   "execution_count": 94,
   "metadata": {},
   "outputs": [
    {
     "name": "stdout",
     "output_type": "stream",
     "text": [
      "No. of Columns = 17\n",
      "No. of Records = 4521\n"
     ]
    }
   ],
   "source": [
    "print(\"No. of Columns = {}\".format(len(data.columns)))\n",
    "\n",
    "print('No. of Records = {}'.format(data.count()))"
   ]
  },
  {
   "cell_type": "markdown",
   "metadata": {},
   "source": [
    "#### Look at first 3 row of the dataframe"
   ]
  },
  {
   "cell_type": "code",
   "execution_count": 95,
   "metadata": {},
   "outputs": [
    {
     "data": {
      "text/plain": [
       "[Row(age=30, job=u'unemployed', marital_status=u'married', education=u'primary', default=u'no', balance=1787.0, housing=u'no', loan=u'no', contact=u'cellular', day=19, month=u'oct', duration=79.0, campaign=1.0, pdays=-1.0, previous=0.0, poutcome=u'unknown', Approved_no_yes=u'no'),\n",
       " Row(age=33, job=u'services', marital_status=u'married', education=u'secondary', default=u'no', balance=4789.0, housing=u'yes', loan=u'yes', contact=u'cellular', day=11, month=u'may', duration=220.0, campaign=1.0, pdays=339.0, previous=4.0, poutcome=u'failure', Approved_no_yes=u'no'),\n",
       " Row(age=35, job=u'management', marital_status=u'single', education=u'tertiary', default=u'no', balance=1350.0, housing=u'yes', loan=u'no', contact=u'cellular', day=16, month=u'apr', duration=185.0, campaign=1.0, pdays=330.0, previous=1.0, poutcome=u'failure', Approved_no_yes=u'no')]"
      ]
     },
     "execution_count": 95,
     "metadata": {},
     "output_type": "execute_result"
    }
   ],
   "source": [
    "data.head(3)"
   ]
  },
  {
   "cell_type": "markdown",
   "metadata": {},
   "source": [
    "Hint: Use Show() function"
   ]
  },
  {
   "cell_type": "code",
   "execution_count": 96,
   "metadata": {},
   "outputs": [
    {
     "name": "stdout",
     "output_type": "stream",
     "text": [
      "+---+----------+--------------+---------+-------+-------+-------+----+--------+---+-----+--------+--------+-----+--------+--------+---------------+\n",
      "|age|       job|marital_status|education|default|balance|housing|loan| contact|day|month|duration|campaign|pdays|previous|poutcome|Approved_no_yes|\n",
      "+---+----------+--------------+---------+-------+-------+-------+----+--------+---+-----+--------+--------+-----+--------+--------+---------------+\n",
      "| 30|unemployed|       married|  primary|     no| 1787.0|     no|  no|cellular| 19|  oct|    79.0|     1.0| -1.0|     0.0| unknown|             no|\n",
      "| 33|  services|       married|secondary|     no| 4789.0|    yes| yes|cellular| 11|  may|   220.0|     1.0|339.0|     4.0| failure|             no|\n",
      "| 35|management|        single| tertiary|     no| 1350.0|    yes|  no|cellular| 16|  apr|   185.0|     1.0|330.0|     1.0| failure|             no|\n",
      "+---+----------+--------------+---------+-------+-------+-------+----+--------+---+-----+--------+--------+-----+--------+--------+---------------+\n",
      "only showing top 3 rows\n",
      "\n"
     ]
    }
   ],
   "source": [
    "data.show(3)"
   ]
  },
  {
   "cell_type": "markdown",
   "metadata": {},
   "source": [
    "#### Summary statistics\n",
    "\n",
    "Hint: Use describe() function"
   ]
  },
  {
   "cell_type": "code",
   "execution_count": 97,
   "metadata": {},
   "outputs": [
    {
     "name": "stdout",
     "output_type": "stream",
     "text": [
      "+-------+------------------+-------+--------------+---------+-------+------------------+-------+----+--------+------------------+-----+------------------+------------------+------------------+------------------+--------+---------------+\n",
      "|summary|               age|    job|marital_status|education|default|           balance|housing|loan| contact|               day|month|          duration|          campaign|             pdays|          previous|poutcome|Approved_no_yes|\n",
      "+-------+------------------+-------+--------------+---------+-------+------------------+-------+----+--------+------------------+-----+------------------+------------------+------------------+------------------+--------+---------------+\n",
      "|  count|              4521|   4521|          4521|     4521|   4521|              4521|   4521|4521|    4521|              4521| 4521|              4521|              4521|              4521|              4521|    4521|           4521|\n",
      "|   mean| 41.17009511170095|   null|          null|     null|   null|1422.6578190665782|   null|null|    null|15.915284229152842| null|263.96129174961294| 2.793629727936297|39.766644547666445|0.5425790754257908|    null|           null|\n",
      "| stddev|10.576210958711263|   null|          null|     null|   null|3009.6381424673395|   null|null|    null| 8.247667327229934| null|259.85663262468216|3.1098066601885823|100.12112444301656|1.6935623506071211|    null|           null|\n",
      "|    min|                19| admin.|      divorced|  primary|     no|           -3313.0|     no|  no|cellular|                 1|  apr|               4.0|               1.0|              -1.0|               0.0| failure|             no|\n",
      "|    max|                87|unknown|        single|  unknown|    yes|           71188.0|    yes| yes| unknown|                31|  sep|            3025.0|              50.0|             871.0|              25.0| unknown|            yes|\n",
      "+-------+------------------+-------+--------------+---------+-------+------------------+-------+----+--------+------------------+-----+------------------+------------------+------------------+------------------+--------+---------------+\n",
      "\n"
     ]
    }
   ],
   "source": [
    "data.describe().show()"
   ]
  },
  {
   "cell_type": "markdown",
   "metadata": {},
   "source": [
    "Show only fixed set of colums "
   ]
  },
  {
   "cell_type": "code",
   "execution_count": 98,
   "metadata": {},
   "outputs": [
    {
     "name": "stdout",
     "output_type": "stream",
     "text": [
      "+-------+------------------+----+------------------+------------------+\n",
      "|summary|               age|loan|           balance|             pdays|\n",
      "+-------+------------------+----+------------------+------------------+\n",
      "|  count|              4521|4521|              4521|              4521|\n",
      "|   mean| 41.17009511170095|null|1422.6578190665782|39.766644547666445|\n",
      "| stddev|10.576210958711263|null|3009.6381424673395|100.12112444301656|\n",
      "|    min|                19|  no|           -3313.0|              -1.0|\n",
      "|    max|                87| yes|           71188.0|             871.0|\n",
      "+-------+------------------+----+------------------+------------------+\n",
      "\n"
     ]
    }
   ],
   "source": [
    "data.describe().select('summary', 'age', 'loan', 'balance', 'pdays').show()"
   ]
  },
  {
   "cell_type": "markdown",
   "metadata": {},
   "source": [
    "Observation\n",
    "\n",
    "    Balance has -ve values"
   ]
  },
  {
   "cell_type": "markdown",
   "metadata": {},
   "source": [
    "Count the number of records that have balance < 0\n",
    "\n",
    "Hint: Use Where() and count()"
   ]
  },
  {
   "cell_type": "code",
   "execution_count": 99,
   "metadata": {},
   "outputs": [
    {
     "data": {
      "text/plain": [
       "366"
      ]
     },
     "execution_count": 99,
     "metadata": {},
     "output_type": "execute_result"
    }
   ],
   "source": [
    "data.where(data.balance < 0).count()"
   ]
  },
  {
   "cell_type": "markdown",
   "metadata": {},
   "source": [
    "### Data Preprocessing"
   ]
  },
  {
   "cell_type": "markdown",
   "metadata": {},
   "source": [
    "#### Replace negative balances with zeroes\n",
    "\n",
    "Hint: Use withColumn() and when() functions"
   ]
  },
  {
   "cell_type": "code",
   "execution_count": 100,
   "metadata": {},
   "outputs": [],
   "source": [
    "data = data.withColumn('balance', when(data.balance > 0, data.balance).otherwise(0))"
   ]
  },
  {
   "cell_type": "code",
   "execution_count": 101,
   "metadata": {},
   "outputs": [
    {
     "data": {
      "text/plain": [
       "0"
      ]
     },
     "execution_count": 101,
     "metadata": {},
     "output_type": "execute_result"
    }
   ],
   "source": [
    "data.where(data.balance < 0).count()"
   ]
  },
  {
   "cell_type": "markdown",
   "metadata": {},
   "source": [
    "#### Handling missing values"
   ]
  },
  {
   "cell_type": "markdown",
   "metadata": {},
   "source": [
    "Checking for null values at each column"
   ]
  },
  {
   "cell_type": "code",
   "execution_count": 102,
   "metadata": {},
   "outputs": [
    {
     "name": "stdout",
     "output_type": "stream",
     "text": [
      "+---+---+--------------+---------+-------+-------+-------+----+-------+---+-----+--------+--------+-----+--------+--------+---------------+\n",
      "|age|job|marital_status|education|default|balance|housing|loan|contact|day|month|duration|campaign|pdays|previous|poutcome|Approved_no_yes|\n",
      "+---+---+--------------+---------+-------+-------+-------+----+-------+---+-----+--------+--------+-----+--------+--------+---------------+\n",
      "|  0|  0|             0|        0|      0|      0|      0|   0|      0|  0|    0|       0|       0|    0|       0|       0|              0|\n",
      "+---+---+--------------+---------+-------+-------+-------+----+-------+---+-----+--------+--------+-----+--------+--------+---------------+\n",
      "\n"
     ]
    }
   ],
   "source": [
    "data.select([count(when(isnan(c) | col(c).isNull(), c)).alias(c) \n",
    "             for c in data.columns]).show()"
   ]
  },
  {
   "cell_type": "markdown",
   "metadata": {},
   "source": [
    "#### Split the data into training and test sets (30% held out for testing)\n",
    "\n",
    "Hint: randomSplit()"
   ]
  },
  {
   "cell_type": "code",
   "execution_count": 103,
   "metadata": {},
   "outputs": [],
   "source": [
    "(trainingData, testData) = data.randomSplit([0.7, 0.3])"
   ]
  },
  {
   "cell_type": "code",
   "execution_count": 104,
   "metadata": {},
   "outputs": [
    {
     "data": {
      "text/plain": [
       "DataFrame[summary: string, age: string, job: string, marital_status: string, education: string, default: string, balance: string, housing: string, loan: string, contact: string, day: string, month: string, duration: string, campaign: string, pdays: string, previous: string, poutcome: string, Approved_no_yes: string]"
      ]
     },
     "execution_count": 104,
     "metadata": {},
     "output_type": "execute_result"
    }
   ],
   "source": [
    "testData.describe()"
   ]
  },
  {
   "cell_type": "code",
   "execution_count": 105,
   "metadata": {},
   "outputs": [],
   "source": [
    "# testData = testData.drop(\"loan\")"
   ]
  },
  {
   "cell_type": "markdown",
   "metadata": {},
   "source": [
    "#### Creating a list of categorical and numerical features"
   ]
  },
  {
   "cell_type": "code",
   "execution_count": 106,
   "metadata": {},
   "outputs": [],
   "source": [
    "cat_Var_Names = ['job', 'marital_status', 'education', 'default', 'housing', \n",
    "                 'day', 'contact', 'month', 'poutcome', 'Approved_no_yes']\n",
    "\n",
    "num_Var_Names = ['age', 'balance', 'duration', 'previous', 'pdays', 'campaign']"
   ]
  },
  {
   "cell_type": "code",
   "execution_count": 107,
   "metadata": {},
   "outputs": [],
   "source": [
    "def generate_layout_bar(col_name):\n",
    "    layout_bar = go.Layout(\n",
    "        autosize=False, # auto size the graph? use False if you are specifying the height and width\n",
    "        width=800, # height of the figure in pixels\n",
    "        height=600, # height of the figure in pixels\n",
    "        title = \"Distribution of {} column\".format(col_name), # title of the figure\n",
    "        # more granular control on the title font \n",
    "        titlefont=dict( \n",
    "            family='Courier New, monospace', # font family\n",
    "            size=14, # size of the font\n",
    "            color='black' # color of the font\n",
    "        ),\n",
    "        # granular control on the axes objects \n",
    "        xaxis=dict( \n",
    "        tickfont=dict(\n",
    "            family='Courier New, monospace', # font family\n",
    "            size=14, # size of ticks displayed on the x axis\n",
    "            color='black'  # color of the font\n",
    "            )\n",
    "        ),\n",
    "        yaxis=dict(\n",
    "#         range=[0,100],\n",
    "            title='Percentage',\n",
    "            titlefont=dict(\n",
    "                size=14,\n",
    "                color='black'\n",
    "            ),\n",
    "        tickfont=dict(\n",
    "            family='Courier New, monospace', # font family\n",
    "            size=14, # size of ticks displayed on the y axis\n",
    "            color='black' # color of the font\n",
    "            )\n",
    "        ),\n",
    "        font = dict(\n",
    "            family='Courier New, monospace', # font family\n",
    "            color = \"white\",# color of the font\n",
    "            size = 12 # size of the font displayed on the bar\n",
    "                )  \n",
    "        )\n",
    "    return layout_bar"
   ]
  },
  {
   "cell_type": "code",
   "execution_count": 108,
   "metadata": {},
   "outputs": [
    {
     "data": {
      "text/html": [
       "<script>requirejs.config({paths: { 'plotly': ['https://cdn.plot.ly/plotly-latest.min']},});if(!window.Plotly) {{require(['plotly'],function(plotly) {window.Plotly=plotly;});}}</script>"
      ],
      "text/vnd.plotly.v1+html": [
       "<script>requirejs.config({paths: { 'plotly': ['https://cdn.plot.ly/plotly-latest.min']},});if(!window.Plotly) {{require(['plotly'],function(plotly) {window.Plotly=plotly;});}}</script>"
      ]
     },
     "metadata": {},
     "output_type": "display_data"
    }
   ],
   "source": [
    "import plotly.offline as pyoff\n",
    "import plotly.graph_objs as go\n",
    "\n",
    "from plotly.offline import init_notebook_mode, plot, iplot\n",
    "init_notebook_mode(connected=True)"
   ]
  },
  {
   "cell_type": "code",
   "execution_count": 109,
   "metadata": {},
   "outputs": [],
   "source": [
    "import numpy as np\n",
    "from pyspark.sql import functions as F\n"
   ]
  },
  {
   "cell_type": "code",
   "execution_count": 110,
   "metadata": {},
   "outputs": [],
   "source": [
    "def plot_bar(dataframe, col_name):\n",
    "    # create a table with value counts\n",
    "    temp =  trainingData.groupBy(col_name).count()\n",
    "    temp = temp.toPandas()\n",
    "    temp = temp.sort_values('count',ascending = False)\n",
    "    temp[col_name] = temp[col_name].astype(str)\n",
    "#     temp = dataframe[col_name].value_counts()\n",
    "    # creating a Bar chart object of plotly\n",
    "    data = [go.Bar(\n",
    "            x=temp.loc[:,col_name].astype(str), # x axis values\n",
    "            y=np.round(temp.loc[:,'count'].astype(float)/temp.loc[:,'count'].sum(),6)*100, # y axis values\n",
    "            text = ['{}%'.format(i) for i in np.round(temp.loc[:,'count'].astype(float)/temp.loc[:,'count'].sum(),6)*100],\n",
    "        # text to be displayed on the bar, we are doing this to display the '%' symbol along with the number on the bar\n",
    "            textposition = 'auto', # specify at which position on the bar the text should appear\n",
    "        marker = dict(color = '#0047AB'),)] # change color of the bar\n",
    "    # color used here Cobalt Blue\n",
    "     \n",
    "    layout_bar = generate_layout_bar(col_name=col_name)\n",
    "\n",
    "    fig = go.Figure(data=data, layout=layout_bar)\n",
    "    return iplot(fig)\n",
    "    "
   ]
  },
  {
   "cell_type": "code",
   "execution_count": 111,
   "metadata": {
    "scrolled": false
   },
   "outputs": [
    {
     "data": {
      "application/vnd.plotly.v1+json": {
       "data": [
        {
         "marker": {
          "color": "#0047AB"
         },
         "text": [
          "21.5655%",
          "21.3419%",
          "17.1885%",
          "10.0958%",
          "9.3291%",
          "4.8882%",
          "4.2173%",
          "3.8019%",
          "2.5559%",
          "2.492%",
          "1.853%",
          "0.6709%"
         ],
         "textposition": "auto",
         "type": "bar",
         "x": [
          "blue-collar",
          "management",
          "technician",
          "admin.",
          "services",
          "retired",
          "self-employed",
          "entrepreneur",
          "unemployed",
          "housemaid",
          "student",
          "unknown"
         ],
         "y": [
          21.5655,
          21.3419,
          17.1885,
          10.0958,
          9.3291,
          4.8882,
          4.2173,
          3.8019,
          2.5559,
          2.492,
          1.8530000000000002,
          0.6708999999999999
         ]
        }
       ],
       "layout": {
        "autosize": false,
        "font": {
         "color": "white",
         "family": "Courier New, monospace",
         "size": 12
        },
        "height": 600,
        "title": "Distribution of job column",
        "titlefont": {
         "color": "black",
         "family": "Courier New, monospace",
         "size": 14
        },
        "width": 800,
        "xaxis": {
         "tickfont": {
          "color": "black",
          "family": "Courier New, monospace",
          "size": 14
         }
        },
        "yaxis": {
         "tickfont": {
          "color": "black",
          "family": "Courier New, monospace",
          "size": 14
         },
         "title": "Percentage",
         "titlefont": {
          "color": "black",
          "size": 14
         }
        }
       }
      },
      "text/html": [
       "<div id=\"aaf03811-9d2b-4837-9697-de96ff07699a\" style=\"height: 600px; width: 800px;\" class=\"plotly-graph-div\"></div><script type=\"text/javascript\">require([\"plotly\"], function(Plotly) { window.PLOTLYENV=window.PLOTLYENV || {};window.PLOTLYENV.BASE_URL=\"https://plot.ly\";Plotly.newPlot(\"aaf03811-9d2b-4837-9697-de96ff07699a\", [{\"textposition\": \"auto\", \"text\": [\"21.5655%\", \"21.3419%\", \"17.1885%\", \"10.0958%\", \"9.3291%\", \"4.8882%\", \"4.2173%\", \"3.8019%\", \"2.5559%\", \"2.492%\", \"1.853%\", \"0.6709%\"], \"marker\": {\"color\": \"#0047AB\"}, \"y\": [21.5655, 21.3419, 17.1885, 10.0958, 9.3291, 4.8882, 4.2173, 3.8019, 2.5559, 2.492, 1.8530000000000002, 0.6708999999999999], \"x\": [\"blue-collar\", \"management\", \"technician\", \"admin.\", \"services\", \"retired\", \"self-employed\", \"entrepreneur\", \"unemployed\", \"housemaid\", \"student\", \"unknown\"], \"type\": \"bar\"}], {\"autosize\": false, \"title\": \"Distribution of job column\", \"yaxis\": {\"tickfont\": {\"color\": \"black\", \"family\": \"Courier New, monospace\", \"size\": 14}, \"titlefont\": {\"color\": \"black\", \"size\": 14}, \"title\": \"Percentage\"}, \"height\": 600, \"width\": 800, \"titlefont\": {\"color\": \"black\", \"family\": \"Courier New, monospace\", \"size\": 14}, \"xaxis\": {\"tickfont\": {\"color\": \"black\", \"family\": \"Courier New, monospace\", \"size\": 14}}, \"font\": {\"color\": \"white\", \"family\": \"Courier New, monospace\", \"size\": 12}}, {\"linkText\": \"Export to plot.ly\", \"showLink\": true})});</script>"
      ],
      "text/vnd.plotly.v1+html": [
       "<div id=\"aaf03811-9d2b-4837-9697-de96ff07699a\" style=\"height: 600px; width: 800px;\" class=\"plotly-graph-div\"></div><script type=\"text/javascript\">require([\"plotly\"], function(Plotly) { window.PLOTLYENV=window.PLOTLYENV || {};window.PLOTLYENV.BASE_URL=\"https://plot.ly\";Plotly.newPlot(\"aaf03811-9d2b-4837-9697-de96ff07699a\", [{\"textposition\": \"auto\", \"text\": [\"21.5655%\", \"21.3419%\", \"17.1885%\", \"10.0958%\", \"9.3291%\", \"4.8882%\", \"4.2173%\", \"3.8019%\", \"2.5559%\", \"2.492%\", \"1.853%\", \"0.6709%\"], \"marker\": {\"color\": \"#0047AB\"}, \"y\": [21.5655, 21.3419, 17.1885, 10.0958, 9.3291, 4.8882, 4.2173, 3.8019, 2.5559, 2.492, 1.8530000000000002, 0.6708999999999999], \"x\": [\"blue-collar\", \"management\", \"technician\", \"admin.\", \"services\", \"retired\", \"self-employed\", \"entrepreneur\", \"unemployed\", \"housemaid\", \"student\", \"unknown\"], \"type\": \"bar\"}], {\"autosize\": false, \"title\": \"Distribution of job column\", \"yaxis\": {\"tickfont\": {\"color\": \"black\", \"family\": \"Courier New, monospace\", \"size\": 14}, \"titlefont\": {\"color\": \"black\", \"size\": 14}, \"title\": \"Percentage\"}, \"height\": 600, \"width\": 800, \"titlefont\": {\"color\": \"black\", \"family\": \"Courier New, monospace\", \"size\": 14}, \"xaxis\": {\"tickfont\": {\"color\": \"black\", \"family\": \"Courier New, monospace\", \"size\": 14}}, \"font\": {\"color\": \"white\", \"family\": \"Courier New, monospace\", \"size\": 12}}, {\"linkText\": \"Export to plot.ly\", \"showLink\": true})});</script>"
      ]
     },
     "metadata": {},
     "output_type": "display_data"
    },
    {
     "data": {
      "application/vnd.plotly.v1+json": {
       "data": [
        {
         "marker": {
          "color": "#0047AB"
         },
         "text": [
          "61.5655%",
          "27.0607%",
          "11.3738%"
         ],
         "textposition": "auto",
         "type": "bar",
         "x": [
          "married",
          "single",
          "divorced"
         ],
         "y": [
          61.56549999999999,
          27.060699999999997,
          11.373800000000001
         ]
        }
       ],
       "layout": {
        "autosize": false,
        "font": {
         "color": "white",
         "family": "Courier New, monospace",
         "size": 12
        },
        "height": 600,
        "title": "Distribution of marital_status column",
        "titlefont": {
         "color": "black",
         "family": "Courier New, monospace",
         "size": 14
        },
        "width": 800,
        "xaxis": {
         "tickfont": {
          "color": "black",
          "family": "Courier New, monospace",
          "size": 14
         }
        },
        "yaxis": {
         "tickfont": {
          "color": "black",
          "family": "Courier New, monospace",
          "size": 14
         },
         "title": "Percentage",
         "titlefont": {
          "color": "black",
          "size": 14
         }
        }
       }
      },
      "text/html": [
       "<div id=\"fd6cf724-ead2-4ee8-b4bc-66e87ec7a597\" style=\"height: 600px; width: 800px;\" class=\"plotly-graph-div\"></div><script type=\"text/javascript\">require([\"plotly\"], function(Plotly) { window.PLOTLYENV=window.PLOTLYENV || {};window.PLOTLYENV.BASE_URL=\"https://plot.ly\";Plotly.newPlot(\"fd6cf724-ead2-4ee8-b4bc-66e87ec7a597\", [{\"textposition\": \"auto\", \"text\": [\"61.5655%\", \"27.0607%\", \"11.3738%\"], \"marker\": {\"color\": \"#0047AB\"}, \"y\": [61.56549999999999, 27.060699999999997, 11.373800000000001], \"x\": [\"married\", \"single\", \"divorced\"], \"type\": \"bar\"}], {\"autosize\": false, \"title\": \"Distribution of marital_status column\", \"yaxis\": {\"tickfont\": {\"color\": \"black\", \"family\": \"Courier New, monospace\", \"size\": 14}, \"titlefont\": {\"color\": \"black\", \"size\": 14}, \"title\": \"Percentage\"}, \"height\": 600, \"width\": 800, \"titlefont\": {\"color\": \"black\", \"family\": \"Courier New, monospace\", \"size\": 14}, \"xaxis\": {\"tickfont\": {\"color\": \"black\", \"family\": \"Courier New, monospace\", \"size\": 14}}, \"font\": {\"color\": \"white\", \"family\": \"Courier New, monospace\", \"size\": 12}}, {\"linkText\": \"Export to plot.ly\", \"showLink\": true})});</script>"
      ],
      "text/vnd.plotly.v1+html": [
       "<div id=\"fd6cf724-ead2-4ee8-b4bc-66e87ec7a597\" style=\"height: 600px; width: 800px;\" class=\"plotly-graph-div\"></div><script type=\"text/javascript\">require([\"plotly\"], function(Plotly) { window.PLOTLYENV=window.PLOTLYENV || {};window.PLOTLYENV.BASE_URL=\"https://plot.ly\";Plotly.newPlot(\"fd6cf724-ead2-4ee8-b4bc-66e87ec7a597\", [{\"textposition\": \"auto\", \"text\": [\"61.5655%\", \"27.0607%\", \"11.3738%\"], \"marker\": {\"color\": \"#0047AB\"}, \"y\": [61.56549999999999, 27.060699999999997, 11.373800000000001], \"x\": [\"married\", \"single\", \"divorced\"], \"type\": \"bar\"}], {\"autosize\": false, \"title\": \"Distribution of marital_status column\", \"yaxis\": {\"tickfont\": {\"color\": \"black\", \"family\": \"Courier New, monospace\", \"size\": 14}, \"titlefont\": {\"color\": \"black\", \"size\": 14}, \"title\": \"Percentage\"}, \"height\": 600, \"width\": 800, \"titlefont\": {\"color\": \"black\", \"family\": \"Courier New, monospace\", \"size\": 14}, \"xaxis\": {\"tickfont\": {\"color\": \"black\", \"family\": \"Courier New, monospace\", \"size\": 14}}, \"font\": {\"color\": \"white\", \"family\": \"Courier New, monospace\", \"size\": 12}}, {\"linkText\": \"Export to plot.ly\", \"showLink\": true})});</script>"
      ]
     },
     "metadata": {},
     "output_type": "display_data"
    },
    {
     "data": {
      "application/vnd.plotly.v1+json": {
       "data": [
        {
         "marker": {
          "color": "#0047AB"
         },
         "text": [
          "51.5655%",
          "29.2652%",
          "15.1757%",
          "3.9936%"
         ],
         "textposition": "auto",
         "type": "bar",
         "x": [
          "secondary",
          "tertiary",
          "primary",
          "unknown"
         ],
         "y": [
          51.5655,
          29.265200000000004,
          15.1757,
          3.9936
         ]
        }
       ],
       "layout": {
        "autosize": false,
        "font": {
         "color": "white",
         "family": "Courier New, monospace",
         "size": 12
        },
        "height": 600,
        "title": "Distribution of education column",
        "titlefont": {
         "color": "black",
         "family": "Courier New, monospace",
         "size": 14
        },
        "width": 800,
        "xaxis": {
         "tickfont": {
          "color": "black",
          "family": "Courier New, monospace",
          "size": 14
         }
        },
        "yaxis": {
         "tickfont": {
          "color": "black",
          "family": "Courier New, monospace",
          "size": 14
         },
         "title": "Percentage",
         "titlefont": {
          "color": "black",
          "size": 14
         }
        }
       }
      },
      "text/html": [
       "<div id=\"e0224b20-d588-43ef-8d21-3483cb1da891\" style=\"height: 600px; width: 800px;\" class=\"plotly-graph-div\"></div><script type=\"text/javascript\">require([\"plotly\"], function(Plotly) { window.PLOTLYENV=window.PLOTLYENV || {};window.PLOTLYENV.BASE_URL=\"https://plot.ly\";Plotly.newPlot(\"e0224b20-d588-43ef-8d21-3483cb1da891\", [{\"textposition\": \"auto\", \"text\": [\"51.5655%\", \"29.2652%\", \"15.1757%\", \"3.9936%\"], \"marker\": {\"color\": \"#0047AB\"}, \"y\": [51.5655, 29.265200000000004, 15.1757, 3.9936], \"x\": [\"secondary\", \"tertiary\", \"primary\", \"unknown\"], \"type\": \"bar\"}], {\"autosize\": false, \"title\": \"Distribution of education column\", \"yaxis\": {\"tickfont\": {\"color\": \"black\", \"family\": \"Courier New, monospace\", \"size\": 14}, \"titlefont\": {\"color\": \"black\", \"size\": 14}, \"title\": \"Percentage\"}, \"height\": 600, \"width\": 800, \"titlefont\": {\"color\": \"black\", \"family\": \"Courier New, monospace\", \"size\": 14}, \"xaxis\": {\"tickfont\": {\"color\": \"black\", \"family\": \"Courier New, monospace\", \"size\": 14}}, \"font\": {\"color\": \"white\", \"family\": \"Courier New, monospace\", \"size\": 12}}, {\"linkText\": \"Export to plot.ly\", \"showLink\": true})});</script>"
      ],
      "text/vnd.plotly.v1+html": [
       "<div id=\"e0224b20-d588-43ef-8d21-3483cb1da891\" style=\"height: 600px; width: 800px;\" class=\"plotly-graph-div\"></div><script type=\"text/javascript\">require([\"plotly\"], function(Plotly) { window.PLOTLYENV=window.PLOTLYENV || {};window.PLOTLYENV.BASE_URL=\"https://plot.ly\";Plotly.newPlot(\"e0224b20-d588-43ef-8d21-3483cb1da891\", [{\"textposition\": \"auto\", \"text\": [\"51.5655%\", \"29.2652%\", \"15.1757%\", \"3.9936%\"], \"marker\": {\"color\": \"#0047AB\"}, \"y\": [51.5655, 29.265200000000004, 15.1757, 3.9936], \"x\": [\"secondary\", \"tertiary\", \"primary\", \"unknown\"], \"type\": \"bar\"}], {\"autosize\": false, \"title\": \"Distribution of education column\", \"yaxis\": {\"tickfont\": {\"color\": \"black\", \"family\": \"Courier New, monospace\", \"size\": 14}, \"titlefont\": {\"color\": \"black\", \"size\": 14}, \"title\": \"Percentage\"}, \"height\": 600, \"width\": 800, \"titlefont\": {\"color\": \"black\", \"family\": \"Courier New, monospace\", \"size\": 14}, \"xaxis\": {\"tickfont\": {\"color\": \"black\", \"family\": \"Courier New, monospace\", \"size\": 14}}, \"font\": {\"color\": \"white\", \"family\": \"Courier New, monospace\", \"size\": 12}}, {\"linkText\": \"Export to plot.ly\", \"showLink\": true})});</script>"
      ]
     },
     "metadata": {},
     "output_type": "display_data"
    },
    {
     "data": {
      "application/vnd.plotly.v1+json": {
       "data": [
        {
         "marker": {
          "color": "#0047AB"
         },
         "text": [
          "98.1789%",
          "1.8211%"
         ],
         "textposition": "auto",
         "type": "bar",
         "x": [
          "no",
          "yes"
         ],
         "y": [
          98.1789,
          1.8211000000000002
         ]
        }
       ],
       "layout": {
        "autosize": false,
        "font": {
         "color": "white",
         "family": "Courier New, monospace",
         "size": 12
        },
        "height": 600,
        "title": "Distribution of default column",
        "titlefont": {
         "color": "black",
         "family": "Courier New, monospace",
         "size": 14
        },
        "width": 800,
        "xaxis": {
         "tickfont": {
          "color": "black",
          "family": "Courier New, monospace",
          "size": 14
         }
        },
        "yaxis": {
         "tickfont": {
          "color": "black",
          "family": "Courier New, monospace",
          "size": 14
         },
         "title": "Percentage",
         "titlefont": {
          "color": "black",
          "size": 14
         }
        }
       }
      },
      "text/html": [
       "<div id=\"bf97f5e4-0724-460f-abef-0bbbca8c27c0\" style=\"height: 600px; width: 800px;\" class=\"plotly-graph-div\"></div><script type=\"text/javascript\">require([\"plotly\"], function(Plotly) { window.PLOTLYENV=window.PLOTLYENV || {};window.PLOTLYENV.BASE_URL=\"https://plot.ly\";Plotly.newPlot(\"bf97f5e4-0724-460f-abef-0bbbca8c27c0\", [{\"textposition\": \"auto\", \"text\": [\"98.1789%\", \"1.8211%\"], \"marker\": {\"color\": \"#0047AB\"}, \"y\": [98.1789, 1.8211000000000002], \"x\": [\"no\", \"yes\"], \"type\": \"bar\"}], {\"autosize\": false, \"title\": \"Distribution of default column\", \"yaxis\": {\"tickfont\": {\"color\": \"black\", \"family\": \"Courier New, monospace\", \"size\": 14}, \"titlefont\": {\"color\": \"black\", \"size\": 14}, \"title\": \"Percentage\"}, \"height\": 600, \"width\": 800, \"titlefont\": {\"color\": \"black\", \"family\": \"Courier New, monospace\", \"size\": 14}, \"xaxis\": {\"tickfont\": {\"color\": \"black\", \"family\": \"Courier New, monospace\", \"size\": 14}}, \"font\": {\"color\": \"white\", \"family\": \"Courier New, monospace\", \"size\": 12}}, {\"linkText\": \"Export to plot.ly\", \"showLink\": true})});</script>"
      ],
      "text/vnd.plotly.v1+html": [
       "<div id=\"bf97f5e4-0724-460f-abef-0bbbca8c27c0\" style=\"height: 600px; width: 800px;\" class=\"plotly-graph-div\"></div><script type=\"text/javascript\">require([\"plotly\"], function(Plotly) { window.PLOTLYENV=window.PLOTLYENV || {};window.PLOTLYENV.BASE_URL=\"https://plot.ly\";Plotly.newPlot(\"bf97f5e4-0724-460f-abef-0bbbca8c27c0\", [{\"textposition\": \"auto\", \"text\": [\"98.1789%\", \"1.8211%\"], \"marker\": {\"color\": \"#0047AB\"}, \"y\": [98.1789, 1.8211000000000002], \"x\": [\"no\", \"yes\"], \"type\": \"bar\"}], {\"autosize\": false, \"title\": \"Distribution of default column\", \"yaxis\": {\"tickfont\": {\"color\": \"black\", \"family\": \"Courier New, monospace\", \"size\": 14}, \"titlefont\": {\"color\": \"black\", \"size\": 14}, \"title\": \"Percentage\"}, \"height\": 600, \"width\": 800, \"titlefont\": {\"color\": \"black\", \"family\": \"Courier New, monospace\", \"size\": 14}, \"xaxis\": {\"tickfont\": {\"color\": \"black\", \"family\": \"Courier New, monospace\", \"size\": 14}}, \"font\": {\"color\": \"white\", \"family\": \"Courier New, monospace\", \"size\": 12}}, {\"linkText\": \"Export to plot.ly\", \"showLink\": true})});</script>"
      ]
     },
     "metadata": {},
     "output_type": "display_data"
    },
    {
     "data": {
      "application/vnd.plotly.v1+json": {
       "data": [
        {
         "marker": {
          "color": "#0047AB"
         },
         "text": [
          "56.9649%",
          "43.0351%"
         ],
         "textposition": "auto",
         "type": "bar",
         "x": [
          "yes",
          "no"
         ],
         "y": [
          56.96489999999999,
          43.0351
         ]
        }
       ],
       "layout": {
        "autosize": false,
        "font": {
         "color": "white",
         "family": "Courier New, monospace",
         "size": 12
        },
        "height": 600,
        "title": "Distribution of housing column",
        "titlefont": {
         "color": "black",
         "family": "Courier New, monospace",
         "size": 14
        },
        "width": 800,
        "xaxis": {
         "tickfont": {
          "color": "black",
          "family": "Courier New, monospace",
          "size": 14
         }
        },
        "yaxis": {
         "tickfont": {
          "color": "black",
          "family": "Courier New, monospace",
          "size": 14
         },
         "title": "Percentage",
         "titlefont": {
          "color": "black",
          "size": 14
         }
        }
       }
      },
      "text/html": [
       "<div id=\"9d0a02fc-4e11-45ab-bf14-f1d2755d3e10\" style=\"height: 600px; width: 800px;\" class=\"plotly-graph-div\"></div><script type=\"text/javascript\">require([\"plotly\"], function(Plotly) { window.PLOTLYENV=window.PLOTLYENV || {};window.PLOTLYENV.BASE_URL=\"https://plot.ly\";Plotly.newPlot(\"9d0a02fc-4e11-45ab-bf14-f1d2755d3e10\", [{\"textposition\": \"auto\", \"text\": [\"56.9649%\", \"43.0351%\"], \"marker\": {\"color\": \"#0047AB\"}, \"y\": [56.96489999999999, 43.0351], \"x\": [\"yes\", \"no\"], \"type\": \"bar\"}], {\"autosize\": false, \"title\": \"Distribution of housing column\", \"yaxis\": {\"tickfont\": {\"color\": \"black\", \"family\": \"Courier New, monospace\", \"size\": 14}, \"titlefont\": {\"color\": \"black\", \"size\": 14}, \"title\": \"Percentage\"}, \"height\": 600, \"width\": 800, \"titlefont\": {\"color\": \"black\", \"family\": \"Courier New, monospace\", \"size\": 14}, \"xaxis\": {\"tickfont\": {\"color\": \"black\", \"family\": \"Courier New, monospace\", \"size\": 14}}, \"font\": {\"color\": \"white\", \"family\": \"Courier New, monospace\", \"size\": 12}}, {\"linkText\": \"Export to plot.ly\", \"showLink\": true})});</script>"
      ],
      "text/vnd.plotly.v1+html": [
       "<div id=\"9d0a02fc-4e11-45ab-bf14-f1d2755d3e10\" style=\"height: 600px; width: 800px;\" class=\"plotly-graph-div\"></div><script type=\"text/javascript\">require([\"plotly\"], function(Plotly) { window.PLOTLYENV=window.PLOTLYENV || {};window.PLOTLYENV.BASE_URL=\"https://plot.ly\";Plotly.newPlot(\"9d0a02fc-4e11-45ab-bf14-f1d2755d3e10\", [{\"textposition\": \"auto\", \"text\": [\"56.9649%\", \"43.0351%\"], \"marker\": {\"color\": \"#0047AB\"}, \"y\": [56.96489999999999, 43.0351], \"x\": [\"yes\", \"no\"], \"type\": \"bar\"}], {\"autosize\": false, \"title\": \"Distribution of housing column\", \"yaxis\": {\"tickfont\": {\"color\": \"black\", \"family\": \"Courier New, monospace\", \"size\": 14}, \"titlefont\": {\"color\": \"black\", \"size\": 14}, \"title\": \"Percentage\"}, \"height\": 600, \"width\": 800, \"titlefont\": {\"color\": \"black\", \"family\": \"Courier New, monospace\", \"size\": 14}, \"xaxis\": {\"tickfont\": {\"color\": \"black\", \"family\": \"Courier New, monospace\", \"size\": 14}}, \"font\": {\"color\": \"white\", \"family\": \"Courier New, monospace\", \"size\": 12}}, {\"linkText\": \"Export to plot.ly\", \"showLink\": true})});</script>"
      ]
     },
     "metadata": {},
     "output_type": "display_data"
    },
    {
     "data": {
      "application/vnd.plotly.v1+json": {
       "data": [
        {
         "marker": {
          "color": "#0047AB"
         },
         "text": [
          "5.9425%",
          "4.7604%",
          "4.6326%",
          "4.5048%",
          "4.2812%",
          "4.2492%",
          "4.1853%",
          "4.1534%",
          "4.1534%",
          "3.8978%",
          "3.8339%",
          "3.8019%",
          "3.6422%",
          "3.5783%",
          "3.5783%",
          "3.4824%",
          "3.4185%",
          "3.4185%",
          "3.4185%",
          "2.8115%",
          "2.7476%",
          "2.5879%",
          "2.492%",
          "2.492%",
          "2.3323%",
          "1.9169%",
          "1.7572%",
          "1.3738%",
          "1.1182%",
          "0.8946%",
          "0.5431%"
         ],
         "textposition": "auto",
         "type": "bar",
         "x": [
          "20",
          "18",
          "19",
          "21",
          "14",
          "5",
          "7",
          "29",
          "17",
          "8",
          "30",
          "6",
          "16",
          "28",
          "9",
          "12",
          "13",
          "15",
          "11",
          "4",
          "26",
          "27",
          "3",
          "2",
          "23",
          "22",
          "25",
          "31",
          "10",
          "24",
          "1"
         ],
         "y": [
          5.9425,
          4.7604,
          4.6326,
          4.5047999999999995,
          4.2812,
          4.2492,
          4.1853,
          4.1534,
          4.1534,
          3.8977999999999997,
          3.8339,
          3.8019,
          3.6422000000000003,
          3.5783,
          3.5783,
          3.4824,
          3.4185,
          3.4185,
          3.4185,
          2.8115,
          2.7476000000000003,
          2.5879,
          2.492,
          2.492,
          2.3323,
          1.9168999999999998,
          1.7572,
          1.3738000000000001,
          1.1181999999999999,
          0.8946000000000001,
          0.5431
         ]
        }
       ],
       "layout": {
        "autosize": false,
        "font": {
         "color": "white",
         "family": "Courier New, monospace",
         "size": 12
        },
        "height": 600,
        "title": "Distribution of day column",
        "titlefont": {
         "color": "black",
         "family": "Courier New, monospace",
         "size": 14
        },
        "width": 800,
        "xaxis": {
         "tickfont": {
          "color": "black",
          "family": "Courier New, monospace",
          "size": 14
         }
        },
        "yaxis": {
         "tickfont": {
          "color": "black",
          "family": "Courier New, monospace",
          "size": 14
         },
         "title": "Percentage",
         "titlefont": {
          "color": "black",
          "size": 14
         }
        }
       }
      },
      "text/html": [
       "<div id=\"641460d8-5c08-434f-9209-dce6e1d1eb89\" style=\"height: 600px; width: 800px;\" class=\"plotly-graph-div\"></div><script type=\"text/javascript\">require([\"plotly\"], function(Plotly) { window.PLOTLYENV=window.PLOTLYENV || {};window.PLOTLYENV.BASE_URL=\"https://plot.ly\";Plotly.newPlot(\"641460d8-5c08-434f-9209-dce6e1d1eb89\", [{\"textposition\": \"auto\", \"text\": [\"5.9425%\", \"4.7604%\", \"4.6326%\", \"4.5048%\", \"4.2812%\", \"4.2492%\", \"4.1853%\", \"4.1534%\", \"4.1534%\", \"3.8978%\", \"3.8339%\", \"3.8019%\", \"3.6422%\", \"3.5783%\", \"3.5783%\", \"3.4824%\", \"3.4185%\", \"3.4185%\", \"3.4185%\", \"2.8115%\", \"2.7476%\", \"2.5879%\", \"2.492%\", \"2.492%\", \"2.3323%\", \"1.9169%\", \"1.7572%\", \"1.3738%\", \"1.1182%\", \"0.8946%\", \"0.5431%\"], \"marker\": {\"color\": \"#0047AB\"}, \"y\": [5.9425, 4.7604, 4.6326, 4.5047999999999995, 4.2812, 4.2492, 4.1853, 4.1534, 4.1534, 3.8977999999999997, 3.8339, 3.8019, 3.6422000000000003, 3.5783, 3.5783, 3.4824, 3.4185, 3.4185, 3.4185, 2.8115, 2.7476000000000003, 2.5879, 2.492, 2.492, 2.3323, 1.9168999999999998, 1.7572, 1.3738000000000001, 1.1181999999999999, 0.8946000000000001, 0.5431], \"x\": [\"20\", \"18\", \"19\", \"21\", \"14\", \"5\", \"7\", \"29\", \"17\", \"8\", \"30\", \"6\", \"16\", \"28\", \"9\", \"12\", \"13\", \"15\", \"11\", \"4\", \"26\", \"27\", \"3\", \"2\", \"23\", \"22\", \"25\", \"31\", \"10\", \"24\", \"1\"], \"type\": \"bar\"}], {\"autosize\": false, \"title\": \"Distribution of day column\", \"yaxis\": {\"tickfont\": {\"color\": \"black\", \"family\": \"Courier New, monospace\", \"size\": 14}, \"titlefont\": {\"color\": \"black\", \"size\": 14}, \"title\": \"Percentage\"}, \"height\": 600, \"width\": 800, \"titlefont\": {\"color\": \"black\", \"family\": \"Courier New, monospace\", \"size\": 14}, \"xaxis\": {\"tickfont\": {\"color\": \"black\", \"family\": \"Courier New, monospace\", \"size\": 14}}, \"font\": {\"color\": \"white\", \"family\": \"Courier New, monospace\", \"size\": 12}}, {\"linkText\": \"Export to plot.ly\", \"showLink\": true})});</script>"
      ],
      "text/vnd.plotly.v1+html": [
       "<div id=\"641460d8-5c08-434f-9209-dce6e1d1eb89\" style=\"height: 600px; width: 800px;\" class=\"plotly-graph-div\"></div><script type=\"text/javascript\">require([\"plotly\"], function(Plotly) { window.PLOTLYENV=window.PLOTLYENV || {};window.PLOTLYENV.BASE_URL=\"https://plot.ly\";Plotly.newPlot(\"641460d8-5c08-434f-9209-dce6e1d1eb89\", [{\"textposition\": \"auto\", \"text\": [\"5.9425%\", \"4.7604%\", \"4.6326%\", \"4.5048%\", \"4.2812%\", \"4.2492%\", \"4.1853%\", \"4.1534%\", \"4.1534%\", \"3.8978%\", \"3.8339%\", \"3.8019%\", \"3.6422%\", \"3.5783%\", \"3.5783%\", \"3.4824%\", \"3.4185%\", \"3.4185%\", \"3.4185%\", \"2.8115%\", \"2.7476%\", \"2.5879%\", \"2.492%\", \"2.492%\", \"2.3323%\", \"1.9169%\", \"1.7572%\", \"1.3738%\", \"1.1182%\", \"0.8946%\", \"0.5431%\"], \"marker\": {\"color\": \"#0047AB\"}, \"y\": [5.9425, 4.7604, 4.6326, 4.5047999999999995, 4.2812, 4.2492, 4.1853, 4.1534, 4.1534, 3.8977999999999997, 3.8339, 3.8019, 3.6422000000000003, 3.5783, 3.5783, 3.4824, 3.4185, 3.4185, 3.4185, 2.8115, 2.7476000000000003, 2.5879, 2.492, 2.492, 2.3323, 1.9168999999999998, 1.7572, 1.3738000000000001, 1.1181999999999999, 0.8946000000000001, 0.5431], \"x\": [\"20\", \"18\", \"19\", \"21\", \"14\", \"5\", \"7\", \"29\", \"17\", \"8\", \"30\", \"6\", \"16\", \"28\", \"9\", \"12\", \"13\", \"15\", \"11\", \"4\", \"26\", \"27\", \"3\", \"2\", \"23\", \"22\", \"25\", \"31\", \"10\", \"24\", \"1\"], \"type\": \"bar\"}], {\"autosize\": false, \"title\": \"Distribution of day column\", \"yaxis\": {\"tickfont\": {\"color\": \"black\", \"family\": \"Courier New, monospace\", \"size\": 14}, \"titlefont\": {\"color\": \"black\", \"size\": 14}, \"title\": \"Percentage\"}, \"height\": 600, \"width\": 800, \"titlefont\": {\"color\": \"black\", \"family\": \"Courier New, monospace\", \"size\": 14}, \"xaxis\": {\"tickfont\": {\"color\": \"black\", \"family\": \"Courier New, monospace\", \"size\": 14}}, \"font\": {\"color\": \"white\", \"family\": \"Courier New, monospace\", \"size\": 12}}, {\"linkText\": \"Export to plot.ly\", \"showLink\": true})});</script>"
      ]
     },
     "metadata": {},
     "output_type": "display_data"
    },
    {
     "data": {
      "application/vnd.plotly.v1+json": {
       "data": [
        {
         "marker": {
          "color": "#0047AB"
         },
         "text": [
          "64.4409%",
          "28.722%",
          "6.8371%"
         ],
         "textposition": "auto",
         "type": "bar",
         "x": [
          "cellular",
          "unknown",
          "telephone"
         ],
         "y": [
          64.4409,
          28.721999999999998,
          6.8371
         ]
        }
       ],
       "layout": {
        "autosize": false,
        "font": {
         "color": "white",
         "family": "Courier New, monospace",
         "size": 12
        },
        "height": 600,
        "title": "Distribution of contact column",
        "titlefont": {
         "color": "black",
         "family": "Courier New, monospace",
         "size": 14
        },
        "width": 800,
        "xaxis": {
         "tickfont": {
          "color": "black",
          "family": "Courier New, monospace",
          "size": 14
         }
        },
        "yaxis": {
         "tickfont": {
          "color": "black",
          "family": "Courier New, monospace",
          "size": 14
         },
         "title": "Percentage",
         "titlefont": {
          "color": "black",
          "size": 14
         }
        }
       }
      },
      "text/html": [
       "<div id=\"3f7cf341-0ef8-4e0d-8210-21f178bcab5e\" style=\"height: 600px; width: 800px;\" class=\"plotly-graph-div\"></div><script type=\"text/javascript\">require([\"plotly\"], function(Plotly) { window.PLOTLYENV=window.PLOTLYENV || {};window.PLOTLYENV.BASE_URL=\"https://plot.ly\";Plotly.newPlot(\"3f7cf341-0ef8-4e0d-8210-21f178bcab5e\", [{\"textposition\": \"auto\", \"text\": [\"64.4409%\", \"28.722%\", \"6.8371%\"], \"marker\": {\"color\": \"#0047AB\"}, \"y\": [64.4409, 28.721999999999998, 6.8371], \"x\": [\"cellular\", \"unknown\", \"telephone\"], \"type\": \"bar\"}], {\"autosize\": false, \"title\": \"Distribution of contact column\", \"yaxis\": {\"tickfont\": {\"color\": \"black\", \"family\": \"Courier New, monospace\", \"size\": 14}, \"titlefont\": {\"color\": \"black\", \"size\": 14}, \"title\": \"Percentage\"}, \"height\": 600, \"width\": 800, \"titlefont\": {\"color\": \"black\", \"family\": \"Courier New, monospace\", \"size\": 14}, \"xaxis\": {\"tickfont\": {\"color\": \"black\", \"family\": \"Courier New, monospace\", \"size\": 14}}, \"font\": {\"color\": \"white\", \"family\": \"Courier New, monospace\", \"size\": 12}}, {\"linkText\": \"Export to plot.ly\", \"showLink\": true})});</script>"
      ],
      "text/vnd.plotly.v1+html": [
       "<div id=\"3f7cf341-0ef8-4e0d-8210-21f178bcab5e\" style=\"height: 600px; width: 800px;\" class=\"plotly-graph-div\"></div><script type=\"text/javascript\">require([\"plotly\"], function(Plotly) { window.PLOTLYENV=window.PLOTLYENV || {};window.PLOTLYENV.BASE_URL=\"https://plot.ly\";Plotly.newPlot(\"3f7cf341-0ef8-4e0d-8210-21f178bcab5e\", [{\"textposition\": \"auto\", \"text\": [\"64.4409%\", \"28.722%\", \"6.8371%\"], \"marker\": {\"color\": \"#0047AB\"}, \"y\": [64.4409, 28.721999999999998, 6.8371], \"x\": [\"cellular\", \"unknown\", \"telephone\"], \"type\": \"bar\"}], {\"autosize\": false, \"title\": \"Distribution of contact column\", \"yaxis\": {\"tickfont\": {\"color\": \"black\", \"family\": \"Courier New, monospace\", \"size\": 14}, \"titlefont\": {\"color\": \"black\", \"size\": 14}, \"title\": \"Percentage\"}, \"height\": 600, \"width\": 800, \"titlefont\": {\"color\": \"black\", \"family\": \"Courier New, monospace\", \"size\": 14}, \"xaxis\": {\"tickfont\": {\"color\": \"black\", \"family\": \"Courier New, monospace\", \"size\": 14}}, \"font\": {\"color\": \"white\", \"family\": \"Courier New, monospace\", \"size\": 12}}, {\"linkText\": \"Export to plot.ly\", \"showLink\": true})});</script>"
      ]
     },
     "metadata": {},
     "output_type": "display_data"
    },
    {
     "data": {
      "application/vnd.plotly.v1+json": {
       "data": [
        {
         "marker": {
          "color": "#0047AB"
         },
         "text": [
          "31.1182%",
          "15.623%",
          "14.0575%",
          "11.5016%",
          "8.147%",
          "6.8371%",
          "4.7923%",
          "3.1949%",
          "1.9808%",
          "1.2141%",
          "1.0863%",
          "0.4473%"
         ],
         "textposition": "auto",
         "type": "bar",
         "x": [
          "may",
          "jul",
          "aug",
          "jun",
          "nov",
          "apr",
          "feb",
          "jan",
          "oct",
          "sep",
          "mar",
          "dec"
         ],
         "y": [
          31.1182,
          15.623000000000001,
          14.057500000000001,
          11.5016,
          8.147,
          6.8371,
          4.7923,
          3.1948999999999996,
          1.9808,
          1.2141000000000002,
          1.0863,
          0.44730000000000003
         ]
        }
       ],
       "layout": {
        "autosize": false,
        "font": {
         "color": "white",
         "family": "Courier New, monospace",
         "size": 12
        },
        "height": 600,
        "title": "Distribution of month column",
        "titlefont": {
         "color": "black",
         "family": "Courier New, monospace",
         "size": 14
        },
        "width": 800,
        "xaxis": {
         "tickfont": {
          "color": "black",
          "family": "Courier New, monospace",
          "size": 14
         }
        },
        "yaxis": {
         "tickfont": {
          "color": "black",
          "family": "Courier New, monospace",
          "size": 14
         },
         "title": "Percentage",
         "titlefont": {
          "color": "black",
          "size": 14
         }
        }
       }
      },
      "text/html": [
       "<div id=\"f5b8646b-6655-46af-94a6-0408c49695d5\" style=\"height: 600px; width: 800px;\" class=\"plotly-graph-div\"></div><script type=\"text/javascript\">require([\"plotly\"], function(Plotly) { window.PLOTLYENV=window.PLOTLYENV || {};window.PLOTLYENV.BASE_URL=\"https://plot.ly\";Plotly.newPlot(\"f5b8646b-6655-46af-94a6-0408c49695d5\", [{\"textposition\": \"auto\", \"text\": [\"31.1182%\", \"15.623%\", \"14.0575%\", \"11.5016%\", \"8.147%\", \"6.8371%\", \"4.7923%\", \"3.1949%\", \"1.9808%\", \"1.2141%\", \"1.0863%\", \"0.4473%\"], \"marker\": {\"color\": \"#0047AB\"}, \"y\": [31.1182, 15.623000000000001, 14.057500000000001, 11.5016, 8.147, 6.8371, 4.7923, 3.1948999999999996, 1.9808, 1.2141000000000002, 1.0863, 0.44730000000000003], \"x\": [\"may\", \"jul\", \"aug\", \"jun\", \"nov\", \"apr\", \"feb\", \"jan\", \"oct\", \"sep\", \"mar\", \"dec\"], \"type\": \"bar\"}], {\"autosize\": false, \"title\": \"Distribution of month column\", \"yaxis\": {\"tickfont\": {\"color\": \"black\", \"family\": \"Courier New, monospace\", \"size\": 14}, \"titlefont\": {\"color\": \"black\", \"size\": 14}, \"title\": \"Percentage\"}, \"height\": 600, \"width\": 800, \"titlefont\": {\"color\": \"black\", \"family\": \"Courier New, monospace\", \"size\": 14}, \"xaxis\": {\"tickfont\": {\"color\": \"black\", \"family\": \"Courier New, monospace\", \"size\": 14}}, \"font\": {\"color\": \"white\", \"family\": \"Courier New, monospace\", \"size\": 12}}, {\"linkText\": \"Export to plot.ly\", \"showLink\": true})});</script>"
      ],
      "text/vnd.plotly.v1+html": [
       "<div id=\"f5b8646b-6655-46af-94a6-0408c49695d5\" style=\"height: 600px; width: 800px;\" class=\"plotly-graph-div\"></div><script type=\"text/javascript\">require([\"plotly\"], function(Plotly) { window.PLOTLYENV=window.PLOTLYENV || {};window.PLOTLYENV.BASE_URL=\"https://plot.ly\";Plotly.newPlot(\"f5b8646b-6655-46af-94a6-0408c49695d5\", [{\"textposition\": \"auto\", \"text\": [\"31.1182%\", \"15.623%\", \"14.0575%\", \"11.5016%\", \"8.147%\", \"6.8371%\", \"4.7923%\", \"3.1949%\", \"1.9808%\", \"1.2141%\", \"1.0863%\", \"0.4473%\"], \"marker\": {\"color\": \"#0047AB\"}, \"y\": [31.1182, 15.623000000000001, 14.057500000000001, 11.5016, 8.147, 6.8371, 4.7923, 3.1948999999999996, 1.9808, 1.2141000000000002, 1.0863, 0.44730000000000003], \"x\": [\"may\", \"jul\", \"aug\", \"jun\", \"nov\", \"apr\", \"feb\", \"jan\", \"oct\", \"sep\", \"mar\", \"dec\"], \"type\": \"bar\"}], {\"autosize\": false, \"title\": \"Distribution of month column\", \"yaxis\": {\"tickfont\": {\"color\": \"black\", \"family\": \"Courier New, monospace\", \"size\": 14}, \"titlefont\": {\"color\": \"black\", \"size\": 14}, \"title\": \"Percentage\"}, \"height\": 600, \"width\": 800, \"titlefont\": {\"color\": \"black\", \"family\": \"Courier New, monospace\", \"size\": 14}, \"xaxis\": {\"tickfont\": {\"color\": \"black\", \"family\": \"Courier New, monospace\", \"size\": 14}}, \"font\": {\"color\": \"white\", \"family\": \"Courier New, monospace\", \"size\": 12}}, {\"linkText\": \"Export to plot.ly\", \"showLink\": true})});</script>"
      ]
     },
     "metadata": {},
     "output_type": "display_data"
    },
    {
     "data": {
      "application/vnd.plotly.v1+json": {
       "data": [
        {
         "marker": {
          "color": "#0047AB"
         },
         "text": [
          "81.7891%",
          "11.3099%",
          "4.2812%",
          "2.6198%"
         ],
         "textposition": "auto",
         "type": "bar",
         "x": [
          "unknown",
          "failure",
          "other",
          "success"
         ],
         "y": [
          81.7891,
          11.3099,
          4.2812,
          2.6197999999999997
         ]
        }
       ],
       "layout": {
        "autosize": false,
        "font": {
         "color": "white",
         "family": "Courier New, monospace",
         "size": 12
        },
        "height": 600,
        "title": "Distribution of poutcome column",
        "titlefont": {
         "color": "black",
         "family": "Courier New, monospace",
         "size": 14
        },
        "width": 800,
        "xaxis": {
         "tickfont": {
          "color": "black",
          "family": "Courier New, monospace",
          "size": 14
         }
        },
        "yaxis": {
         "tickfont": {
          "color": "black",
          "family": "Courier New, monospace",
          "size": 14
         },
         "title": "Percentage",
         "titlefont": {
          "color": "black",
          "size": 14
         }
        }
       }
      },
      "text/html": [
       "<div id=\"df29e840-6cb3-43bc-a977-a12d3f7b1bce\" style=\"height: 600px; width: 800px;\" class=\"plotly-graph-div\"></div><script type=\"text/javascript\">require([\"plotly\"], function(Plotly) { window.PLOTLYENV=window.PLOTLYENV || {};window.PLOTLYENV.BASE_URL=\"https://plot.ly\";Plotly.newPlot(\"df29e840-6cb3-43bc-a977-a12d3f7b1bce\", [{\"textposition\": \"auto\", \"text\": [\"81.7891%\", \"11.3099%\", \"4.2812%\", \"2.6198%\"], \"marker\": {\"color\": \"#0047AB\"}, \"y\": [81.7891, 11.3099, 4.2812, 2.6197999999999997], \"x\": [\"unknown\", \"failure\", \"other\", \"success\"], \"type\": \"bar\"}], {\"autosize\": false, \"title\": \"Distribution of poutcome column\", \"yaxis\": {\"tickfont\": {\"color\": \"black\", \"family\": \"Courier New, monospace\", \"size\": 14}, \"titlefont\": {\"color\": \"black\", \"size\": 14}, \"title\": \"Percentage\"}, \"height\": 600, \"width\": 800, \"titlefont\": {\"color\": \"black\", \"family\": \"Courier New, monospace\", \"size\": 14}, \"xaxis\": {\"tickfont\": {\"color\": \"black\", \"family\": \"Courier New, monospace\", \"size\": 14}}, \"font\": {\"color\": \"white\", \"family\": \"Courier New, monospace\", \"size\": 12}}, {\"linkText\": \"Export to plot.ly\", \"showLink\": true})});</script>"
      ],
      "text/vnd.plotly.v1+html": [
       "<div id=\"df29e840-6cb3-43bc-a977-a12d3f7b1bce\" style=\"height: 600px; width: 800px;\" class=\"plotly-graph-div\"></div><script type=\"text/javascript\">require([\"plotly\"], function(Plotly) { window.PLOTLYENV=window.PLOTLYENV || {};window.PLOTLYENV.BASE_URL=\"https://plot.ly\";Plotly.newPlot(\"df29e840-6cb3-43bc-a977-a12d3f7b1bce\", [{\"textposition\": \"auto\", \"text\": [\"81.7891%\", \"11.3099%\", \"4.2812%\", \"2.6198%\"], \"marker\": {\"color\": \"#0047AB\"}, \"y\": [81.7891, 11.3099, 4.2812, 2.6197999999999997], \"x\": [\"unknown\", \"failure\", \"other\", \"success\"], \"type\": \"bar\"}], {\"autosize\": false, \"title\": \"Distribution of poutcome column\", \"yaxis\": {\"tickfont\": {\"color\": \"black\", \"family\": \"Courier New, monospace\", \"size\": 14}, \"titlefont\": {\"color\": \"black\", \"size\": 14}, \"title\": \"Percentage\"}, \"height\": 600, \"width\": 800, \"titlefont\": {\"color\": \"black\", \"family\": \"Courier New, monospace\", \"size\": 14}, \"xaxis\": {\"tickfont\": {\"color\": \"black\", \"family\": \"Courier New, monospace\", \"size\": 14}}, \"font\": {\"color\": \"white\", \"family\": \"Courier New, monospace\", \"size\": 12}}, {\"linkText\": \"Export to plot.ly\", \"showLink\": true})});</script>"
      ]
     },
     "metadata": {},
     "output_type": "display_data"
    },
    {
     "data": {
      "application/vnd.plotly.v1+json": {
       "data": [
        {
         "marker": {
          "color": "#0047AB"
         },
         "text": [
          "88.4345%",
          "11.5655%"
         ],
         "textposition": "auto",
         "type": "bar",
         "x": [
          "no",
          "yes"
         ],
         "y": [
          88.4345,
          11.5655
         ]
        }
       ],
       "layout": {
        "autosize": false,
        "font": {
         "color": "white",
         "family": "Courier New, monospace",
         "size": 12
        },
        "height": 600,
        "title": "Distribution of Approved_no_yes column",
        "titlefont": {
         "color": "black",
         "family": "Courier New, monospace",
         "size": 14
        },
        "width": 800,
        "xaxis": {
         "tickfont": {
          "color": "black",
          "family": "Courier New, monospace",
          "size": 14
         }
        },
        "yaxis": {
         "tickfont": {
          "color": "black",
          "family": "Courier New, monospace",
          "size": 14
         },
         "title": "Percentage",
         "titlefont": {
          "color": "black",
          "size": 14
         }
        }
       }
      },
      "text/html": [
       "<div id=\"073b8cd3-1db8-4e84-bb17-eea9903ba5bf\" style=\"height: 600px; width: 800px;\" class=\"plotly-graph-div\"></div><script type=\"text/javascript\">require([\"plotly\"], function(Plotly) { window.PLOTLYENV=window.PLOTLYENV || {};window.PLOTLYENV.BASE_URL=\"https://plot.ly\";Plotly.newPlot(\"073b8cd3-1db8-4e84-bb17-eea9903ba5bf\", [{\"textposition\": \"auto\", \"text\": [\"88.4345%\", \"11.5655%\"], \"marker\": {\"color\": \"#0047AB\"}, \"y\": [88.4345, 11.5655], \"x\": [\"no\", \"yes\"], \"type\": \"bar\"}], {\"autosize\": false, \"title\": \"Distribution of Approved_no_yes column\", \"yaxis\": {\"tickfont\": {\"color\": \"black\", \"family\": \"Courier New, monospace\", \"size\": 14}, \"titlefont\": {\"color\": \"black\", \"size\": 14}, \"title\": \"Percentage\"}, \"height\": 600, \"width\": 800, \"titlefont\": {\"color\": \"black\", \"family\": \"Courier New, monospace\", \"size\": 14}, \"xaxis\": {\"tickfont\": {\"color\": \"black\", \"family\": \"Courier New, monospace\", \"size\": 14}}, \"font\": {\"color\": \"white\", \"family\": \"Courier New, monospace\", \"size\": 12}}, {\"linkText\": \"Export to plot.ly\", \"showLink\": true})});</script>"
      ],
      "text/vnd.plotly.v1+html": [
       "<div id=\"073b8cd3-1db8-4e84-bb17-eea9903ba5bf\" style=\"height: 600px; width: 800px;\" class=\"plotly-graph-div\"></div><script type=\"text/javascript\">require([\"plotly\"], function(Plotly) { window.PLOTLYENV=window.PLOTLYENV || {};window.PLOTLYENV.BASE_URL=\"https://plot.ly\";Plotly.newPlot(\"073b8cd3-1db8-4e84-bb17-eea9903ba5bf\", [{\"textposition\": \"auto\", \"text\": [\"88.4345%\", \"11.5655%\"], \"marker\": {\"color\": \"#0047AB\"}, \"y\": [88.4345, 11.5655], \"x\": [\"no\", \"yes\"], \"type\": \"bar\"}], {\"autosize\": false, \"title\": \"Distribution of Approved_no_yes column\", \"yaxis\": {\"tickfont\": {\"color\": \"black\", \"family\": \"Courier New, monospace\", \"size\": 14}, \"titlefont\": {\"color\": \"black\", \"size\": 14}, \"title\": \"Percentage\"}, \"height\": 600, \"width\": 800, \"titlefont\": {\"color\": \"black\", \"family\": \"Courier New, monospace\", \"size\": 14}, \"xaxis\": {\"tickfont\": {\"color\": \"black\", \"family\": \"Courier New, monospace\", \"size\": 14}}, \"font\": {\"color\": \"white\", \"family\": \"Courier New, monospace\", \"size\": 12}}, {\"linkText\": \"Export to plot.ly\", \"showLink\": true})});</script>"
      ]
     },
     "metadata": {},
     "output_type": "display_data"
    }
   ],
   "source": [
    "for i in cat_Var_Names:\n",
    "        plot_bar(trainingData ,i)"
   ]
  },
  {
   "cell_type": "markdown",
   "metadata": {},
   "source": [
    "#### Use VectorAssembler to combine a given list of numcolumns into a single vector column."
   ]
  },
  {
   "cell_type": "code",
   "execution_count": 112,
   "metadata": {},
   "outputs": [],
   "source": [
    "from pyspark.ml.feature import VectorAssembler\n",
    "\n",
    "assembler_Num = VectorAssembler(inputCols=num_Var_Names, outputCol=\"num_features\")"
   ]
  },
  {
   "cell_type": "markdown",
   "metadata": {},
   "source": [
    "#### Scale all the numeric attributes using MinMaxScaler\n",
    "\n",
    "    MinMaxScaler transforms a dataset of Vector rows, rescaling each feature to a specific range (often [0, 1]). \n",
    "\n",
    "    MinMaxScaler computes summary statistics on a data set and produces a MinMaxScalerModel. The model can then transform each feature individually such that it is in the given range."
   ]
  },
  {
   "cell_type": "code",
   "execution_count": 113,
   "metadata": {},
   "outputs": [],
   "source": [
    "from pyspark.ml.feature import MinMaxScaler\n",
    "\n",
    "min_Max_Scalar = MinMaxScaler(inputCol=\"num_features\", outputCol=\"scaled_num_features\")"
   ]
  },
  {
   "cell_type": "markdown",
   "metadata": {},
   "source": [
    "#### Covert categorical to numeric : \n",
    "\n",
    "    OneHotEncoder, StringIndexer, VectorAssembler"
   ]
  },
  {
   "cell_type": "code",
   "execution_count": 114,
   "metadata": {},
   "outputs": [],
   "source": [
    "from pyspark.ml.feature import OneHotEncoder, StringIndexer, VectorAssembler\n",
    "\n",
    "indexers_Cat = [StringIndexer(inputCol=cat_Var_Name, outputCol=\"{0}_index\".format(cat_Var_Name)) for cat_Var_Name in cat_Var_Names ]\n",
    "encoders_Cat = [OneHotEncoder(inputCol=indexer.getOutputCol(), outputCol=\"{0}_vec\".format(indexer.getInputCol())) for indexer in indexers_Cat]\n",
    "assembler_Cat = VectorAssembler(inputCols=[encoder.getOutputCol() for encoder in encoders_Cat], outputCol=\"cat_features\")\n",
    "\n",
    "assembler = VectorAssembler(inputCols=[\"scaled_num_features\", \"cat_features\"], outputCol=\"features\")"
   ]
  },
  {
   "cell_type": "code",
   "execution_count": 115,
   "metadata": {},
   "outputs": [],
   "source": [
    "indexer_Label = StringIndexer(inputCol=\"loan\", outputCol=\"label\")"
   ]
  },
  {
   "cell_type": "code",
   "execution_count": 116,
   "metadata": {},
   "outputs": [],
   "source": [
    "preprocessiong_Stages = [assembler_Num]+[min_Max_Scalar]+indexers_Cat+encoders_Cat+[assembler_Cat]+[assembler]+[indexer_Label]"
   ]
  },
  {
   "cell_type": "markdown",
   "metadata": {},
   "source": [
    "### Model Building and Evaluation"
   ]
  },
  {
   "cell_type": "markdown",
   "metadata": {},
   "source": [
    "#### Logistic Regression"
   ]
  },
  {
   "cell_type": "code",
   "execution_count": 117,
   "metadata": {},
   "outputs": [],
   "source": [
    "from pyspark.ml.classification import LogisticRegression\n",
    "\n",
    "lr = LogisticRegression(maxIter=10, labelCol=\"label\", featuresCol=\"features\")"
   ]
  },
  {
   "cell_type": "code",
   "execution_count": 118,
   "metadata": {},
   "outputs": [],
   "source": [
    "from pyspark.ml import Pipeline\n",
    "\n",
    "lr_Pipeline = Pipeline(stages=preprocessiong_Stages+[lr]) \n",
    "\n",
    "lr_Pipeline_model = lr_Pipeline.fit(trainingData)"
   ]
  },
  {
   "cell_type": "code",
   "execution_count": 119,
   "metadata": {},
   "outputs": [
    {
     "name": "stdout",
     "output_type": "stream",
     "text": [
      "Coefficients: [-0.33300798650858077,-6.512745661462765,0.38482059671527413,0.8552523772452456,-0.03423933514430892,0.6383958405582143,0.15649085963873755,-0.0836143026183671,0.1350827303283566,0.3096771806011728,0.035069661611043974,0.064032151022977,0.05734300928032968,0.45406574713678516,-1.0556090045928674,-0.4401924463802292,-1.7508915003715535,-0.09487613908784427,-0.4837608128257156,0.40141909644462326,0.2280145979021185,0.18236785783984963,-1.1182459346354063,0.08281683196158961,-0.7950688713339552,-0.017248313197427374,-0.010032083821835678,0.04229075245921547,-0.5721585347081491,0.20885044619383636,0.2775061430322408,-0.1437060180730782,0.416722601148906,0.7961408894635188,-0.2354318106651081,0.28431603977047337,0.34552587188663453,0.1378126498507733,0.37778262040277544,-0.7536277986398041,0.21634919168423505,-0.06867915653658245,-0.44223073066899526,0.1374617698497519,0.0007442403761870578,0.602133638273788,-0.004044387682266872,0.3098339440936362,0.05768225301212102,-1.8495906250412246,0.7617726416259917,-1.3038286541106754,0.06657347363966178,-0.4642108596850184,0.07579913417427232,0.18025684633238714,-0.28621397036573115,0.9494431613524824,-0.2665558148683839,-0.20935215658143466,0.5628313869157091,-0.08599132232770017,0.0390979618217396,-0.3073286379650733,-0.004888633889086883,-0.9593385518546754,-2.2366931000430985,0.282884631827486,0.2559976294374671,0.3220560789167616,0.5675276777427415]\n",
      "Intercept: -1.69166291447\n"
     ]
    }
   ],
   "source": [
    "print(\"Coefficients: \" + str(lr_Pipeline_model.stages[-1].coefficients))\n",
    "print(\"Intercept: \" + str(lr_Pipeline_model.stages[-1].intercept))"
   ]
  },
  {
   "cell_type": "code",
   "execution_count": 120,
   "metadata": {},
   "outputs": [
    {
     "name": "stdout",
     "output_type": "stream",
     "text": [
      "objectiveHistory:\n",
      "0.4328259763\n",
      "0.42331668069\n",
      "0.419087144183\n",
      "0.401264827262\n",
      "0.397232424549\n",
      "0.395583407688\n",
      "0.394208725962\n",
      "0.393703030392\n",
      "0.39344686149\n",
      "0.393030439178\n",
      "0.392511808553\n"
     ]
    }
   ],
   "source": [
    "lr_Summary = lr_Pipeline_model.stages[-1].summary\n",
    "objectiveHistory = lr_Summary.objectiveHistory\n",
    "print(\"objectiveHistory:\")\n",
    "for objective in objectiveHistory:\n",
    "    print(objective)"
   ]
  },
  {
   "cell_type": "code",
   "execution_count": 121,
   "metadata": {},
   "outputs": [],
   "source": [
    "train_predictions_lr = lr_Pipeline_model.transform(trainingData)\n",
    "test_predictions_lr = lr_Pipeline_model.transform(testData)"
   ]
  },
  {
   "cell_type": "code",
   "execution_count": 122,
   "metadata": {},
   "outputs": [
    {
     "name": "stdout",
     "output_type": "stream",
     "text": [
      "+---+-------+--------------+---------+-------+-------+-------+----+--------+---+-----+--------+--------+-----+--------+--------+---------------+---------------------------------+-------------------------------------------------------------------------+---------+--------------------+---------------+-------------+-------------+---------+-------------+-----------+--------------+---------------------+---------------+------------------+-------------+-------------+-----------+---------------+-------------+--------------+-------------+-------------------+----------------------------------------------------------------+----------------------------------------------------------------------------------------------------------------------------------+-----+----------------------------------------+-----------------------------------------+----------+\n",
      "|age|job    |marital_status|education|default|balance|housing|loan|contact |day|month|duration|campaign|pdays|previous|poutcome|Approved_no_yes|num_features                     |scaled_num_features                                                      |job_index|marital_status_index|education_index|default_index|housing_index|day_index|contact_index|month_index|poutcome_index|Approved_no_yes_index|job_vec        |marital_status_vec|education_vec|default_vec  |housing_vec|day_vec        |contact_vec  |month_vec     |poutcome_vec |Approved_no_yes_vec|cat_features                                                    |features                                                                                                                          |label|rawPrediction                           |probability                              |prediction|\n",
      "+---+-------+--------------+---------+-------+-------+-------+----+--------+---+-----+--------+--------+-----+--------+--------+---------------+---------------------------------+-------------------------------------------------------------------------+---------+--------------------+---------------+-------------+-------------+---------+-------------+-----------+--------------+---------------------+---------------+------------------+-------------+-------------+-----------+---------------+-------------+--------------+-------------+-------------------+----------------------------------------------------------------+----------------------------------------------------------------------------------------------------------------------------------+-----+----------------------------------------+-----------------------------------------+----------+\n",
      "|19 |student|single        |primary  |no     |103.0  |no     |no  |cellular|10 |jul  |104.0   |2.0     |-1.0 |0.0     |unknown |yes            |[19.0,103.0,104.0,0.0,-1.0,2.0]  |[0.0,0.0014468730684946902,0.033101621979477,0.0,0.0,0.02040816326530612]|10.0     |1.0                 |2.0            |0.0          |1.0          |28.0     |0.0          |1.0        |0.0           |1.0                  |(11,[10],[1.0])|(2,[1],[1.0])     |(3,[2],[1.0])|(1,[0],[1.0])|(1,[],[])  |(30,[28],[1.0])|(2,[0],[1.0])|(11,[1],[1.0])|(3,[0],[1.0])|(1,[],[])          |(65,[10,12,15,16,46,48,51,61],[1.0,1.0,1.0,1.0,1.0,1.0,1.0,1.0])|(71,[1,2,5,16,18,21,22,52,54,57,67],[0.0014468730684946902,0.033101621979477,0.02040816326530612,1.0,1.0,1.0,1.0,1.0,1.0,1.0,1.0])|0.0  |[3.4711493473002597,-3.4711493473002597]|[0.9698556386147666,0.03014436138523325] |0.0       |\n",
      "|19 |student|single        |unknown  |no     |1169.0 |no     |no  |cellular|6  |feb  |463.0   |18.0    |-1.0 |0.0     |unknown |no             |[19.0,1169.0,463.0,0.0,-1.0,18.0]|[0.0,0.0164213069618475,0.1519364448857994,0.0,0.0,0.3469387755102041]   |10.0     |1.0                 |3.0            |0.0          |1.0          |11.0     |0.0          |6.0        |0.0           |0.0                  |(11,[10],[1.0])|(2,[1],[1.0])     |(3,[],[])    |(1,[0],[1.0])|(1,[],[])  |(30,[11],[1.0])|(2,[0],[1.0])|(11,[6],[1.0])|(3,[0],[1.0])|(1,[0],[1.0])      |(65,[10,12,16,29,48,56,61,64],[1.0,1.0,1.0,1.0,1.0,1.0,1.0,1.0])|(71,[1,2,5,16,18,22,35,54,62,67,70],[0.0164213069618475,0.1519364448857994,0.3469387755102041,1.0,1.0,1.0,1.0,1.0,1.0,1.0,1.0])   |0.0  |[3.6219309680356586,-3.6219309680356586]|[0.9739649337148634,0.026035066285136528]|0.0       |\n",
      "+---+-------+--------------+---------+-------+-------+-------+----+--------+---+-----+--------+--------+-----+--------+--------+---------------+---------------------------------+-------------------------------------------------------------------------+---------+--------------------+---------------+-------------+-------------+---------+-------------+-----------+--------------+---------------------+---------------+------------------+-------------+-------------+-----------+---------------+-------------+--------------+-------------+-------------------+----------------------------------------------------------------+----------------------------------------------------------------------------------------------------------------------------------+-----+----------------------------------------+-----------------------------------------+----------+\n",
      "only showing top 2 rows\n",
      "\n"
     ]
    }
   ],
   "source": [
    "test_predictions_lr.show(2,truncate=False)"
   ]
  },
  {
   "cell_type": "markdown",
   "metadata": {},
   "source": [
    "#### Evaluation : LR Model"
   ]
  },
  {
   "cell_type": "code",
   "execution_count": 123,
   "metadata": {},
   "outputs": [
    {
     "name": "stdout",
     "output_type": "stream",
     "text": [
      "Train accuracy  = 0.845047923323\n",
      "Test accuracy = 0.856937455068\n"
     ]
    }
   ],
   "source": [
    "from pyspark.ml.evaluation import MulticlassClassificationEvaluator\n",
    "\n",
    "evaluator = MulticlassClassificationEvaluator(labelCol=\"label\", \n",
    "                                              predictionCol=\"prediction\",\n",
    "                                              metricName=\"accuracy\")\n",
    "\n",
    "predictionAndLabels_train_lr = train_predictions_lr.select(\"prediction\", \"label\")\n",
    "train_accuracy_lr = evaluator.evaluate(predictionAndLabels_train_lr)\n",
    "\n",
    "print(\"Train accuracy  = \" + str(train_accuracy_lr))\n",
    "\n",
    "predictionAndLabels_test_lr = test_predictions_lr.select(\"prediction\", \"label\")\n",
    "test_accuracy_lr = evaluator.evaluate(predictionAndLabels_test_lr)\n",
    "\n",
    "print(\"Test accuracy = \" + str(test_accuracy_lr))"
   ]
  },
  {
   "cell_type": "markdown",
   "metadata": {},
   "source": [
    "#### Tuning LR Model"
   ]
  },
  {
   "cell_type": "code",
   "execution_count": 124,
   "metadata": {},
   "outputs": [],
   "source": [
    "from pyspark.ml.tuning import ParamGridBuilder, CrossValidator"
   ]
  },
  {
   "cell_type": "code",
   "execution_count": 125,
   "metadata": {},
   "outputs": [],
   "source": [
    "paramGrid = ParamGridBuilder()\\\n",
    "    .addGrid(lr.regParam, [0.1]) \\\n",
    "    .addGrid(lr.elasticNetParam, [0.5])\\\n",
    "    .build()\n",
    "    \n",
    "lr_crossval = CrossValidator(estimator=lr_Pipeline,\n",
    "                             estimatorParamMaps=paramGrid,\n",
    "                             evaluator=evaluator,\n",
    "                             numFolds=2)     "
   ]
  },
  {
   "cell_type": "code",
   "execution_count": 126,
   "metadata": {},
   "outputs": [],
   "source": [
    "# Run cross-validation, and choose the best set of parameters.\n",
    "lr_crossval_Model = lr_crossval.fit(trainingData)"
   ]
  },
  {
   "cell_type": "code",
   "execution_count": 127,
   "metadata": {},
   "outputs": [],
   "source": [
    "train_predictions_lrcv = lr_crossval_Model.transform(trainingData)\n",
    "test_predictions_lrcv = lr_crossval_Model.transform(testData)"
   ]
  },
  {
   "cell_type": "code",
   "execution_count": 128,
   "metadata": {},
   "outputs": [
    {
     "name": "stdout",
     "output_type": "stream",
     "text": [
      "Train set accuracy  = 0.844089456869\n",
      "Test set accuracy = 0.854061826024\n"
     ]
    }
   ],
   "source": [
    "predictionAndLabels_train_lrcv = train_predictions_lrcv.select(\"prediction\", \"label\")\n",
    "train_accuracycv = evaluator.evaluate(predictionAndLabels_train_lrcv)\n",
    "print(\"Train set accuracy  = \" + str(train_accuracycv))\n",
    "\n",
    "predictionAndLabels_test_lrcv = test_predictions_lrcv.select(\"prediction\", \"label\")\n",
    "test_accuracycv = evaluator.evaluate(predictionAndLabels_test_lrcv)\n",
    "print(\"Test set accuracy = \" + str(test_accuracycv))"
   ]
  },
  {
   "cell_type": "markdown",
   "metadata": {},
   "source": [
    "#### Decision Tree Classifier"
   ]
  },
  {
   "cell_type": "code",
   "execution_count": 129,
   "metadata": {},
   "outputs": [],
   "source": [
    "from pyspark.ml.classification import DecisionTreeClassifier\n",
    "\n",
    "dt = DecisionTreeClassifier(labelCol=\"label\", featuresCol=\"features\")"
   ]
  },
  {
   "cell_type": "code",
   "execution_count": 130,
   "metadata": {},
   "outputs": [],
   "source": [
    "dt_Pipeline = Pipeline(stages=preprocessiong_Stages+[dt]) \n",
    "\n",
    "dt_Pipeline_model = dt_Pipeline.fit(trainingData)"
   ]
  },
  {
   "cell_type": "code",
   "execution_count": 131,
   "metadata": {},
   "outputs": [],
   "source": [
    "train_predictions_dt = dt_Pipeline_model.transform(trainingData)\n",
    "test_predictions_dt = dt_Pipeline_model.transform(testData)"
   ]
  },
  {
   "cell_type": "code",
   "execution_count": 132,
   "metadata": {},
   "outputs": [
    {
     "name": "stdout",
     "output_type": "stream",
     "text": [
      "+---+-------+--------------+---------+-------+-------+-------+----+--------+---+-----+--------+--------+-----+--------+--------+---------------+--------------------+--------------------+---------+--------------------+---------------+-------------+-------------+---------+-------------+-----------+--------------+---------------------+---------------+------------------+-------------+-------------+-----------+---------------+-------------+--------------+-------------+-------------------+--------------------+--------------------+-----+-------------+--------------------+----------+\n",
      "|age|    job|marital_status|education|default|balance|housing|loan| contact|day|month|duration|campaign|pdays|previous|poutcome|Approved_no_yes|        num_features| scaled_num_features|job_index|marital_status_index|education_index|default_index|housing_index|day_index|contact_index|month_index|poutcome_index|Approved_no_yes_index|        job_vec|marital_status_vec|education_vec|  default_vec|housing_vec|        day_vec|  contact_vec|     month_vec| poutcome_vec|Approved_no_yes_vec|        cat_features|            features|label|rawPrediction|         probability|prediction|\n",
      "+---+-------+--------------+---------+-------+-------+-------+----+--------+---+-----+--------+--------+-----+--------+--------+---------------+--------------------+--------------------+---------+--------------------+---------------+-------------+-------------+---------+-------------+-----------+--------------+---------------------+---------------+------------------+-------------+-------------+-----------+---------------+-------------+--------------+-------------+-------------------+--------------------+--------------------+-----+-------------+--------------------+----------+\n",
      "| 19|student|        single|  primary|     no|  103.0|     no|  no|cellular| 10|  jul|   104.0|     2.0| -1.0|     0.0| unknown|            yes|[19.0,103.0,104.0...|[0.0,0.0014468730...|     10.0|                 1.0|            2.0|          0.0|          1.0|     28.0|          0.0|        1.0|           0.0|                  1.0|(11,[10],[1.0])|     (2,[1],[1.0])|(3,[2],[1.0])|(1,[0],[1.0])|  (1,[],[])|(30,[28],[1.0])|(2,[0],[1.0])|(11,[1],[1.0])|(3,[0],[1.0])|          (1,[],[])|(65,[10,12,15,16,...|(71,[1,2,5,16,18,...|  0.0|   [32.0,9.0]|[0.78048780487804...|       0.0|\n",
      "| 19|student|        single|  unknown|     no| 1169.0|     no|  no|cellular|  6|  feb|   463.0|    18.0| -1.0|     0.0| unknown|             no|[19.0,1169.0,463....|[0.0,0.0164213069...|     10.0|                 1.0|            3.0|          0.0|          1.0|     11.0|          0.0|        6.0|           0.0|                  0.0|(11,[10],[1.0])|     (2,[1],[1.0])|    (3,[],[])|(1,[0],[1.0])|  (1,[],[])|(30,[11],[1.0])|(2,[0],[1.0])|(11,[6],[1.0])|(3,[0],[1.0])|      (1,[0],[1.0])|(65,[10,12,16,29,...|(71,[1,2,5,16,18,...|  0.0| [361.0,13.0]|[0.96524064171122...|       0.0|\n",
      "+---+-------+--------------+---------+-------+-------+-------+----+--------+---+-----+--------+--------+-----+--------+--------+---------------+--------------------+--------------------+---------+--------------------+---------------+-------------+-------------+---------+-------------+-----------+--------------+---------------------+---------------+------------------+-------------+-------------+-----------+---------------+-------------+--------------+-------------+-------------------+--------------------+--------------------+-----+-------------+--------------------+----------+\n",
      "only showing top 2 rows\n",
      "\n"
     ]
    }
   ],
   "source": [
    "test_predictions_dt.show(2)"
   ]
  },
  {
   "cell_type": "markdown",
   "metadata": {},
   "source": [
    "#### Evaluation : DT Model"
   ]
  },
  {
   "cell_type": "code",
   "execution_count": 133,
   "metadata": {},
   "outputs": [
    {
     "name": "stdout",
     "output_type": "stream",
     "text": [
      "Train accuracy  = 0.848881789137\n",
      "Test accuracy = 0.848310567937\n"
     ]
    }
   ],
   "source": [
    "predictionAndLabels_train_dt = train_predictions_dt.select(\"prediction\", \"label\")\n",
    "train_accuracy_dt = evaluator.evaluate(predictionAndLabels_train_dt)\n",
    "\n",
    "print(\"Train accuracy  = \" + str(train_accuracy_dt))\n",
    "\n",
    "predictionAndLabels_test_dt = test_predictions_dt.select(\"prediction\", \"label\")\n",
    "test_accuracy_dt = evaluator.evaluate(predictionAndLabels_test_dt)\n",
    "\n",
    "print(\"Test accuracy = \" + str(test_accuracy_dt))"
   ]
  },
  {
   "cell_type": "markdown",
   "metadata": {},
   "source": [
    "#### Tuning DT Model"
   ]
  },
  {
   "cell_type": "code",
   "execution_count": 134,
   "metadata": {},
   "outputs": [],
   "source": [
    "paramGridDT = ParamGridBuilder()\\\n",
    "    .addGrid(dt.maxDepth, [1,6,10]) \\\n",
    "    .build()\n",
    "    \n",
    "dt_crossval = CrossValidator(estimator=dt_Pipeline,\n",
    "                             estimatorParamMaps=paramGridDT,\n",
    "                             evaluator=evaluator,\n",
    "                             numFolds=2)     "
   ]
  },
  {
   "cell_type": "code",
   "execution_count": 135,
   "metadata": {},
   "outputs": [],
   "source": [
    "# Run cross-validation, and choose the best set of parameters.\n",
    "dt_crossval_Model = dt_crossval.fit(trainingData)"
   ]
  },
  {
   "cell_type": "code",
   "execution_count": 136,
   "metadata": {},
   "outputs": [],
   "source": [
    "train_predictions_dtcv = dt_crossval_Model.transform(trainingData)\n",
    "test_predictions_dtcv = dt_crossval_Model.transform(testData)"
   ]
  },
  {
   "cell_type": "code",
   "execution_count": 137,
   "metadata": {},
   "outputs": [
    {
     "name": "stdout",
     "output_type": "stream",
     "text": [
      "Train set accuracy  = 0.844089456869\n",
      "Test set accuracy = 0.854061826024\n"
     ]
    }
   ],
   "source": [
    "predictionAndLabels_train_dtcv = train_predictions_dtcv.select(\"prediction\", \"label\")\n",
    "train_accuracydtcv = evaluator.evaluate(predictionAndLabels_train_dtcv)\n",
    "print(\"Train set accuracy  = \" + str(train_accuracydtcv))\n",
    "\n",
    "predictionAndLabels_test_dtcv = test_predictions_dtcv.select(\"prediction\", \"label\")\n",
    "test_accuracydtcv = evaluator.evaluate(predictionAndLabels_test_dtcv)\n",
    "print(\"Test set accuracy = \" + str(test_accuracydtcv))"
   ]
  },
  {
   "cell_type": "markdown",
   "metadata": {},
   "source": [
    "#### Random Forest Classifier"
   ]
  },
  {
   "cell_type": "code",
   "execution_count": 138,
   "metadata": {},
   "outputs": [],
   "source": [
    "from pyspark.ml.classification import RandomForestClassifier\n",
    "\n",
    "rf = RandomForestClassifier(labelCol=\"label\", featuresCol=\"features\")"
   ]
  },
  {
   "cell_type": "code",
   "execution_count": 139,
   "metadata": {},
   "outputs": [],
   "source": [
    "rf_Pipeline = Pipeline(stages=preprocessiong_Stages+[rf]) \n",
    "\n",
    "rf_Pipeline_model = rf_Pipeline.fit(trainingData)"
   ]
  },
  {
   "cell_type": "code",
   "execution_count": 140,
   "metadata": {},
   "outputs": [],
   "source": [
    "train_predictions_rf = rf_Pipeline_model.transform(trainingData)\n",
    "test_predictions_rf = rf_Pipeline_model.transform(testData)"
   ]
  },
  {
   "cell_type": "code",
   "execution_count": 141,
   "metadata": {},
   "outputs": [
    {
     "name": "stdout",
     "output_type": "stream",
     "text": [
      "+---+-------------+--------------+---------+-------+-------+-------+----+---------+---+-----+--------+--------+-----+--------+--------+---------------+--------------------+--------------------+---------+--------------------+---------------+-------------+-------------+---------+-------------+-----------+--------------+---------------------+---------------+------------------+-------------+-------------+-------------+---------------+-------------+---------------+-------------+-------------------+--------------------+--------------------+-----+--------------------+--------------------+----------+\n",
      "|age|          job|marital_status|education|default|balance|housing|loan|  contact|day|month|duration|campaign|pdays|previous|poutcome|Approved_no_yes|        num_features| scaled_num_features|job_index|marital_status_index|education_index|default_index|housing_index|day_index|contact_index|month_index|poutcome_index|Approved_no_yes_index|        job_vec|marital_status_vec|education_vec|  default_vec|  housing_vec|        day_vec|  contact_vec|      month_vec| poutcome_vec|Approved_no_yes_vec|        cat_features|            features|label|       rawPrediction|         probability|prediction|\n",
      "+---+-------------+--------------+---------+-------+-------+-------+----+---------+---+-----+--------+--------+-----+--------+--------+---------------+--------------------+--------------------+---------+--------------------+---------------+-------------+-------------+---------+-------------+-----------+--------------+---------------------+---------------+------------------+-------------+-------------+-------------+---------------+-------------+---------------+-------------+-------------------+--------------------+--------------------+-----+--------------------+--------------------+----------+\n",
      "| 19|      student|        single|  primary|     no|  103.0|     no|  no| cellular| 10|  jul|   104.0|     2.0| -1.0|     0.0| unknown|            yes|[19.0,103.0,104.0...|[0.0,0.0014468730...|     10.0|                 1.0|            2.0|          0.0|          1.0|     28.0|          0.0|        1.0|           0.0|                  1.0|(11,[10],[1.0])|     (2,[1],[1.0])|(3,[2],[1.0])|(1,[0],[1.0])|    (1,[],[])|(30,[28],[1.0])|(2,[0],[1.0])| (11,[1],[1.0])|(3,[0],[1.0])|          (1,[],[])|(65,[10,12,15,16,...|(71,[1,2,5,16,18,...|  0.0|[18.0537148490378...|[0.90268574245189...|       0.0|\n",
      "| 19|      student|        single|  unknown|     no| 1169.0|     no|  no| cellular|  6|  feb|   463.0|    18.0| -1.0|     0.0| unknown|             no|[19.0,1169.0,463....|[0.0,0.0164213069...|     10.0|                 1.0|            3.0|          0.0|          1.0|     11.0|          0.0|        6.0|           0.0|                  0.0|(11,[10],[1.0])|     (2,[1],[1.0])|    (3,[],[])|(1,[0],[1.0])|    (1,[],[])|(30,[11],[1.0])|(2,[0],[1.0])| (11,[6],[1.0])|(3,[0],[1.0])|      (1,[0],[1.0])|(65,[10,12,16,29,...|(71,[1,2,5,16,18,...|  0.0|[18.2867544395802...|[0.91433772197901...|       0.0|\n",
      "| 21|     services|        single|secondary|     no| 1903.0|    yes|  no|  unknown| 29|  may|   107.0|     2.0| -1.0|     0.0| unknown|             no|[21.0,1903.0,107....|[0.02941176470588...|      4.0|                 1.0|            0.0|          0.0|          0.0|      8.0|          1.0|        0.0|           0.0|                  0.0| (11,[4],[1.0])|     (2,[1],[1.0])|(3,[0],[1.0])|(1,[0],[1.0])|(1,[0],[1.0])| (30,[8],[1.0])|(2,[1],[1.0])| (11,[0],[1.0])|(3,[0],[1.0])|      (1,[0],[1.0])|(65,[4,12,13,16,1...|(71,[0,1,2,5,10,1...|  0.0|[17.7147844853224...|[0.88573922426612...|       0.0|\n",
      "| 21|      student|        single|secondary|     no|    6.0|     no|  no|  unknown|  9|  may|   622.0|     1.0| -1.0|     0.0| unknown|             no|[21.0,6.0,622.0,0...|[0.02941176470588...|     10.0|                 1.0|            0.0|          0.0|          1.0|     13.0|          1.0|        0.0|           0.0|                  0.0|(11,[10],[1.0])|     (2,[1],[1.0])|(3,[0],[1.0])|(1,[0],[1.0])|    (1,[],[])|(30,[13],[1.0])|(2,[1],[1.0])| (11,[0],[1.0])|(3,[0],[1.0])|      (1,[0],[1.0])|(65,[10,12,13,16,...|(71,[0,1,2,16,18,...|  0.0|[17.4991419249724...|[0.87495709624862...|       0.0|\n",
      "| 21|      student|        single|secondary|     no| 6844.0|     no|  no| cellular| 14|  aug|   126.0|     3.0|127.0|     7.0|   other|             no|[21.0,6844.0,126....|[0.02941176470588...|     10.0|                 1.0|            0.0|          0.0|          1.0|      4.0|          0.0|        2.0|           2.0|                  0.0|(11,[10],[1.0])|     (2,[1],[1.0])|(3,[0],[1.0])|(1,[0],[1.0])|    (1,[],[])| (30,[4],[1.0])|(2,[0],[1.0])| (11,[2],[1.0])|(3,[2],[1.0])|      (1,[0],[1.0])|(65,[10,12,13,16,...|(71,[0,1,2,3,4,5,...|  0.0|[18.2973111534065...|[0.91486555767032...|       0.0|\n",
      "| 21|      student|        single|  unknown|     no|  137.0|    yes|  no|  unknown| 12|  may|   198.0|     3.0| -1.0|     0.0| unknown|             no|[21.0,137.0,198.0...|[0.02941176470588...|     10.0|                 1.0|            3.0|          0.0|          0.0|     15.0|          1.0|        0.0|           0.0|                  0.0|(11,[10],[1.0])|     (2,[1],[1.0])|    (3,[],[])|(1,[0],[1.0])|(1,[0],[1.0])|(30,[15],[1.0])|(2,[1],[1.0])| (11,[0],[1.0])|(3,[0],[1.0])|      (1,[0],[1.0])|(65,[10,12,16,17,...|(71,[0,1,2,5,16,1...|  0.0|[17.9372721825553...|[0.89686360912776...|       0.0|\n",
      "| 22|   technician|        single|secondary|     no|  333.0|     no| yes|telephone| 12|  nov|   129.0|     1.0| -1.0|     0.0| unknown|             no|[22.0,333.0,129.0...|[0.04411764705882...|      2.0|                 1.0|            0.0|          0.0|          1.0|     15.0|          2.0|        4.0|           0.0|                  0.0| (11,[2],[1.0])|     (2,[1],[1.0])|(3,[0],[1.0])|(1,[0],[1.0])|    (1,[],[])|(30,[15],[1.0])|    (2,[],[])| (11,[4],[1.0])|(3,[0],[1.0])|      (1,[0],[1.0])|(65,[2,12,13,16,3...|(71,[0,1,2,8,18,1...|  1.0|[17.6768121276906...|[0.88384060638453...|       0.0|\n",
      "| 23|       admin.|        single|secondary|     no|    5.0|     no|  no|  unknown| 12|  may|   413.0|     1.0| -1.0|     0.0| unknown|             no|[23.0,5.0,413.0,0...|[0.05882352941176...|      3.0|                 1.0|            0.0|          0.0|          1.0|     15.0|          1.0|        0.0|           0.0|                  0.0| (11,[3],[1.0])|     (2,[1],[1.0])|(3,[0],[1.0])|(1,[0],[1.0])|    (1,[],[])|(30,[15],[1.0])|(2,[1],[1.0])| (11,[0],[1.0])|(3,[0],[1.0])|      (1,[0],[1.0])|(65,[3,12,13,16,3...|(71,[0,1,2,9,18,1...|  0.0|[17.2184275208805...|[0.86092137604402...|       0.0|\n",
      "| 23|  blue-collar|        single|  primary|     no| 8627.0|    yes|  no| cellular| 15|  may|   169.0|     1.0|346.0|     1.0| failure|             no|[23.0,8627.0,169....|[0.05882352941176...|      0.0|                 1.0|            2.0|          0.0|          0.0|     16.0|          0.0|        0.0|           1.0|                  0.0| (11,[0],[1.0])|     (2,[1],[1.0])|(3,[2],[1.0])|(1,[0],[1.0])|(1,[0],[1.0])|(30,[16],[1.0])|(2,[0],[1.0])| (11,[0],[1.0])|(3,[1],[1.0])|      (1,[0],[1.0])|(65,[0,12,15,16,1...|(71,[0,1,2,3,4,6,...|  0.0|[17.6156132707060...|[0.88078066353530...|       0.0|\n",
      "| 23|     services|        single|secondary|     no|  500.0|    yes|  no|  unknown|  4|  jun|   111.0|     3.0| -1.0|     0.0| unknown|             no|[23.0,500.0,111.0...|[0.05882352941176...|      4.0|                 1.0|            0.0|          0.0|          0.0|     19.0|          1.0|        3.0|           0.0|                  0.0| (11,[4],[1.0])|     (2,[1],[1.0])|(3,[0],[1.0])|(1,[0],[1.0])|(1,[0],[1.0])|(30,[19],[1.0])|(2,[1],[1.0])| (11,[3],[1.0])|(3,[0],[1.0])|      (1,[0],[1.0])|(65,[4,12,13,16,1...|(71,[0,1,2,5,10,1...|  0.0|[17.3515362568998...|[0.86757681284499...|       0.0|\n",
      "| 23|     services|        single| tertiary|     no|  363.0|    yes|  no|  unknown| 30|  may|    16.0|    18.0| -1.0|     0.0| unknown|             no|[23.0,363.0,16.0,...|[0.05882352941176...|      4.0|                 1.0|            1.0|          0.0|          0.0|     10.0|          1.0|        0.0|           0.0|                  0.0| (11,[4],[1.0])|     (2,[1],[1.0])|(3,[1],[1.0])|(1,[0],[1.0])|(1,[0],[1.0])|(30,[10],[1.0])|(2,[1],[1.0])| (11,[0],[1.0])|(3,[0],[1.0])|      (1,[0],[1.0])|(65,[4,12,14,16,1...|(71,[0,1,2,5,10,1...|  0.0|[17.7734023167755...|[0.88867011583877...|       0.0|\n",
      "| 23|      student|       married| tertiary|    yes|    0.0|    yes|  no| cellular| 18|  may|   259.0|     2.0| -1.0|     0.0| unknown|             no|[23.0,0.0,259.0,0...|[0.05882352941176...|     10.0|                 0.0|            1.0|          1.0|          0.0|      1.0|          0.0|        0.0|           0.0|                  0.0|(11,[10],[1.0])|     (2,[0],[1.0])|(3,[1],[1.0])|    (1,[],[])|(1,[0],[1.0])| (30,[1],[1.0])|(2,[0],[1.0])| (11,[0],[1.0])|(3,[0],[1.0])|      (1,[0],[1.0])|(65,[10,11,14,17,...|(71,[0,2,5,16,17,...|  0.0|[16.2574948547353...|[0.81287474273676...|       0.0|\n",
      "| 23|      student|        single|secondary|     no| 1021.0|     no|  no|telephone| 19|  jun|    79.0|     9.0| -1.0|     0.0| unknown|             no|[23.0,1021.0,79.0...|[0.05882352941176...|     10.0|                 1.0|            0.0|          0.0|          1.0|      2.0|          2.0|        3.0|           0.0|                  0.0|(11,[10],[1.0])|     (2,[1],[1.0])|(3,[0],[1.0])|(1,[0],[1.0])|    (1,[],[])| (30,[2],[1.0])|    (2,[],[])| (11,[3],[1.0])|(3,[0],[1.0])|      (1,[0],[1.0])|(65,[10,12,13,16,...|(71,[0,1,2,5,16,1...|  0.0|[18.0734638574867...|[0.90367319287433...|       0.0|\n",
      "| 23|   technician|        single|secondary|     no|    0.0|    yes|  no|  unknown|  4|  jun|   217.0|     2.0| -1.0|     0.0| unknown|             no|[23.0,0.0,217.0,0...|[0.05882352941176...|      2.0|                 1.0|            0.0|          0.0|          0.0|     19.0|          1.0|        3.0|           0.0|                  0.0| (11,[2],[1.0])|     (2,[1],[1.0])|(3,[0],[1.0])|(1,[0],[1.0])|(1,[0],[1.0])|(30,[19],[1.0])|(2,[1],[1.0])| (11,[3],[1.0])|(3,[0],[1.0])|      (1,[0],[1.0])|(65,[2,12,13,16,1...|(71,[0,2,5,8,18,1...|  0.0|[16.7114870280229...|[0.83557435140114...|       0.0|\n",
      "| 23|   technician|        single| tertiary|     no| 1129.0|    yes|  no|  unknown| 28|  may|   806.0|     1.0| -1.0|     0.0| unknown|            yes|[23.0,1129.0,806....|[0.05882352941176...|      2.0|                 1.0|            1.0|          0.0|          0.0|     14.0|          1.0|        0.0|           0.0|                  1.0| (11,[2],[1.0])|     (2,[1],[1.0])|(3,[1],[1.0])|(1,[0],[1.0])|(1,[0],[1.0])|(30,[14],[1.0])|(2,[1],[1.0])| (11,[0],[1.0])|(3,[0],[1.0])|          (1,[],[])|(65,[2,12,14,16,1...|(71,[0,1,2,8,18,2...|  0.0|[18.1730401905030...|[0.90865200952515...|       0.0|\n",
      "| 24|       admin.|       married|secondary|     no|  299.0|    yes|  no| cellular|  6|  may|   209.0|     1.0|321.0|     1.0| failure|             no|[24.0,299.0,209.0...|[0.07352941176470...|      3.0|                 0.0|            0.0|          0.0|          0.0|     11.0|          0.0|        0.0|           1.0|                  0.0| (11,[3],[1.0])|     (2,[0],[1.0])|(3,[0],[1.0])|(1,[0],[1.0])|(1,[0],[1.0])|(30,[11],[1.0])|(2,[0],[1.0])| (11,[0],[1.0])|(3,[1],[1.0])|      (1,[0],[1.0])|(65,[3,11,13,16,1...|(71,[0,1,2,3,4,9,...|  0.0|[15.3987240928173...|[0.76993620464086...|       0.0|\n",
      "| 24|       admin.|        single|secondary|     no|  926.0|    yes| yes| cellular| 15|  may|   191.0|     1.0| -1.0|     0.0| unknown|             no|[24.0,926.0,191.0...|[0.07352941176470...|      3.0|                 1.0|            0.0|          0.0|          0.0|     16.0|          0.0|        0.0|           0.0|                  0.0| (11,[3],[1.0])|     (2,[1],[1.0])|(3,[0],[1.0])|(1,[0],[1.0])|(1,[0],[1.0])|(30,[16],[1.0])|(2,[0],[1.0])| (11,[0],[1.0])|(3,[0],[1.0])|      (1,[0],[1.0])|(65,[3,12,13,16,1...|(71,[0,1,2,9,18,1...|  1.0|[17.4018910432535...|[0.87009455216267...|       0.0|\n",
      "| 24|  blue-collar|       married|secondary|     no|    0.0|    yes|  no| cellular|  2|  apr|    90.0|     1.0| -1.0|     0.0| unknown|             no|[24.0,0.0,90.0,0....|[0.07352941176470...|      0.0|                 0.0|            0.0|          0.0|          0.0|     22.0|          0.0|        5.0|           0.0|                  0.0| (11,[0],[1.0])|     (2,[0],[1.0])|(3,[0],[1.0])|(1,[0],[1.0])|(1,[0],[1.0])|(30,[22],[1.0])|(2,[0],[1.0])| (11,[5],[1.0])|(3,[0],[1.0])|      (1,[0],[1.0])|(65,[0,11,13,16,1...|(71,[0,2,6,17,19,...|  0.0|[16.2662275693824...|[0.81331137846912...|       0.0|\n",
      "| 24|  blue-collar|       married|secondary|     no|    0.0|    yes| yes|  unknown| 27|  may|   290.0|     2.0| -1.0|     0.0| unknown|             no|[24.0,0.0,290.0,0...|[0.07352941176470...|      0.0|                 0.0|            0.0|          0.0|          0.0|     21.0|          1.0|        0.0|           0.0|                  0.0| (11,[0],[1.0])|     (2,[0],[1.0])|(3,[0],[1.0])|(1,[0],[1.0])|(1,[0],[1.0])|(30,[21],[1.0])|(2,[1],[1.0])| (11,[0],[1.0])|(3,[0],[1.0])|      (1,[0],[1.0])|(65,[0,11,13,16,1...|(71,[0,2,5,6,17,1...|  1.0|[15.7239260167382...|[0.78619630083691...|       0.0|\n",
      "| 24|  blue-collar|        single|secondary|     no|  174.0|    yes| yes| cellular| 18|  may|   487.0|     1.0| -1.0|     0.0| unknown|            yes|[24.0,174.0,487.0...|[0.07352941176470...|      0.0|                 1.0|            0.0|          0.0|          0.0|      1.0|          0.0|        0.0|           0.0|                  1.0| (11,[0],[1.0])|     (2,[1],[1.0])|(3,[0],[1.0])|(1,[0],[1.0])|(1,[0],[1.0])| (30,[1],[1.0])|(2,[0],[1.0])| (11,[0],[1.0])|(3,[0],[1.0])|          (1,[],[])|(65,[0,12,13,16,1...|(71,[0,1,2,6,18,1...|  1.0|[17.4136223117317...|[0.87068111558658...|       0.0|\n",
      "| 24|      retired|        single|secondary|     no|  366.0|     no| yes|  unknown| 16|  may|   234.0|     2.0| -1.0|     0.0| unknown|             no|[24.0,366.0,234.0...|[0.07352941176470...|      5.0|                 1.0|            0.0|          0.0|          1.0|     12.0|          1.0|        0.0|           0.0|                  0.0| (11,[5],[1.0])|     (2,[1],[1.0])|(3,[0],[1.0])|(1,[0],[1.0])|    (1,[],[])|(30,[12],[1.0])|(2,[1],[1.0])| (11,[0],[1.0])|(3,[0],[1.0])|      (1,[0],[1.0])|(65,[5,12,13,16,3...|(71,[0,1,2,5,11,1...|  1.0|[16.8683586099075...|[0.84341793049537...|       0.0|\n",
      "| 24|     services|       married|secondary|     no| 4500.0|    yes|  no| cellular| 11|  may|   733.0|     2.0| -1.0|     0.0| unknown|            yes|[24.0,4500.0,733....|[0.07352941176470...|      4.0|                 0.0|            0.0|          0.0|          0.0|     17.0|          0.0|        0.0|           0.0|                  1.0| (11,[4],[1.0])|     (2,[0],[1.0])|(3,[0],[1.0])|(1,[0],[1.0])|(1,[0],[1.0])|(30,[17],[1.0])|(2,[0],[1.0])| (11,[0],[1.0])|(3,[0],[1.0])|          (1,[],[])|(65,[4,11,13,16,1...|(71,[0,1,2,5,10,1...|  0.0|[17.5195718764202...|[0.87597859382101...|       0.0|\n",
      "| 24|   technician|       married|secondary|     no|  556.0|    yes|  no| cellular| 18|  aug|   460.0|     2.0| -1.0|     0.0| unknown|            yes|[24.0,556.0,460.0...|[0.07352941176470...|      2.0|                 0.0|            0.0|          0.0|          0.0|      1.0|          0.0|        2.0|           0.0|                  1.0| (11,[2],[1.0])|     (2,[0],[1.0])|(3,[0],[1.0])|(1,[0],[1.0])|(1,[0],[1.0])| (30,[1],[1.0])|(2,[0],[1.0])| (11,[2],[1.0])|(3,[0],[1.0])|          (1,[],[])|(65,[2,11,13,16,1...|(71,[0,1,2,5,8,17...|  0.0|[17.2439169286031...|[0.86219584643015...|       0.0|\n",
      "| 24|   technician|        single|secondary|     no|    0.0|    yes|  no|  unknown| 19|  may|    23.0|     1.0| -1.0|     0.0| unknown|             no|[24.0,0.0,23.0,0....|[0.07352941176470...|      2.0|                 1.0|            0.0|          0.0|          0.0|      2.0|          1.0|        0.0|           0.0|                  0.0| (11,[2],[1.0])|     (2,[1],[1.0])|(3,[0],[1.0])|(1,[0],[1.0])|(1,[0],[1.0])| (30,[2],[1.0])|(2,[1],[1.0])| (11,[0],[1.0])|(3,[0],[1.0])|      (1,[0],[1.0])|(65,[2,12,13,16,1...|(71,[0,2,8,18,19,...|  0.0|[16.8179091667341...|[0.84089545833670...|       0.0|\n",
      "| 24|   unemployed|        single|secondary|     no|  119.0|     no|  no|  unknown| 15|  sep|    51.0|     1.0| -1.0|     0.0| unknown|             no|[24.0,119.0,51.0,...|[0.07352941176470...|      8.0|                 1.0|            0.0|          0.0|          1.0|     16.0|          1.0|        9.0|           0.0|                  0.0| (11,[8],[1.0])|     (2,[1],[1.0])|(3,[0],[1.0])|(1,[0],[1.0])|    (1,[],[])|(30,[16],[1.0])|(2,[1],[1.0])| (11,[9],[1.0])|(3,[0],[1.0])|      (1,[0],[1.0])|(65,[8,12,13,16,3...|(71,[0,1,2,14,18,...|  0.0|[16.9066912658766...|[0.84533456329383...|       0.0|\n",
      "| 25|       admin.|       married|secondary|     no|  894.0|    yes|  no|  unknown| 28|  may|   328.0|     1.0| -1.0|     0.0| unknown|             no|[25.0,894.0,328.0...|[0.08823529411764...|      3.0|                 0.0|            0.0|          0.0|          0.0|     14.0|          1.0|        0.0|           0.0|                  0.0| (11,[3],[1.0])|     (2,[0],[1.0])|(3,[0],[1.0])|(1,[0],[1.0])|(1,[0],[1.0])|(30,[14],[1.0])|(2,[1],[1.0])| (11,[0],[1.0])|(3,[0],[1.0])|      (1,[0],[1.0])|(65,[3,11,13,16,1...|(71,[0,1,2,9,17,1...|  0.0|[16.6808461851265...|[0.83404230925632...|       0.0|\n",
      "| 25|  blue-collar|       married|  primary|    yes|    0.0|    yes|  no|  unknown|  3|  jun|   233.0|     1.0| -1.0|     0.0| unknown|             no|[25.0,0.0,233.0,0...|[0.08823529411764...|      0.0|                 0.0|            2.0|          1.0|          0.0|     23.0|          1.0|        3.0|           0.0|                  0.0| (11,[0],[1.0])|     (2,[0],[1.0])|(3,[2],[1.0])|    (1,[],[])|(1,[0],[1.0])|(30,[23],[1.0])|(2,[1],[1.0])| (11,[3],[1.0])|(3,[0],[1.0])|      (1,[0],[1.0])|(65,[0,11,15,17,4...|(71,[0,2,6,17,21,...|  0.0|[15.5988907294255...|[0.77994453647127...|       0.0|\n",
      "| 25|  blue-collar|        single|secondary|     no|  913.0|    yes|  no| cellular|  7|  jul|   113.0|     4.0| -1.0|     0.0| unknown|             no|[25.0,913.0,113.0...|[0.08823529411764...|      0.0|                 1.0|            0.0|          0.0|          0.0|      6.0|          0.0|        1.0|           0.0|                  0.0| (11,[0],[1.0])|     (2,[1],[1.0])|(3,[0],[1.0])|(1,[0],[1.0])|(1,[0],[1.0])| (30,[6],[1.0])|(2,[0],[1.0])| (11,[1],[1.0])|(3,[0],[1.0])|      (1,[0],[1.0])|(65,[0,12,13,16,1...|(71,[0,1,2,5,6,18...|  0.0|[16.5606062168520...|[0.82803031084260...|       0.0|\n",
      "| 25|   management|        single| tertiary|     no|  553.0|    yes|  no| cellular| 17|  sep|   113.0|     4.0|479.0|     1.0| failure|             no|[25.0,553.0,113.0...|[0.08823529411764...|      1.0|                 1.0|            1.0|          0.0|          0.0|      7.0|          0.0|        9.0|           1.0|                  0.0| (11,[1],[1.0])|     (2,[1],[1.0])|(3,[1],[1.0])|(1,[0],[1.0])|(1,[0],[1.0])| (30,[7],[1.0])|(2,[0],[1.0])| (11,[9],[1.0])|(3,[1],[1.0])|      (1,[0],[1.0])|(65,[1,12,14,16,1...|(71,[0,1,2,3,4,5,...|  0.0|[17.1274678208710...|[0.85637339104355...|       0.0|\n",
      "| 25|     services|       married|secondary|     no|   72.0|    yes|  no| cellular| 23|  jul|   305.0|     2.0| -1.0|     0.0| unknown|             no|[25.0,72.0,305.0,...|[0.08823529411764...|      4.0|                 0.0|            0.0|          0.0|          0.0|     24.0|          0.0|        1.0|           0.0|                  0.0| (11,[4],[1.0])|     (2,[0],[1.0])|(3,[0],[1.0])|(1,[0],[1.0])|(1,[0],[1.0])|(30,[24],[1.0])|(2,[0],[1.0])| (11,[1],[1.0])|(3,[0],[1.0])|      (1,[0],[1.0])|(65,[4,11,13,16,1...|(71,[0,1,2,5,10,1...|  0.0|[16.0193648223551...|[0.80096824111775...|       0.0|\n",
      "| 25|     services|        single|secondary|     no|    0.0|     no|  no| cellular| 15|  jul|   246.0|     1.0| -1.0|     0.0| unknown|             no|[25.0,0.0,246.0,0...|[0.08823529411764...|      4.0|                 1.0|            0.0|          0.0|          1.0|     16.0|          0.0|        1.0|           0.0|                  0.0| (11,[4],[1.0])|     (2,[1],[1.0])|(3,[0],[1.0])|(1,[0],[1.0])|    (1,[],[])|(30,[16],[1.0])|(2,[0],[1.0])| (11,[1],[1.0])|(3,[0],[1.0])|      (1,[0],[1.0])|(65,[4,12,13,16,3...|(71,[0,2,10,18,19...|  0.0|[15.5760583379803...|[0.77880291689901...|       0.0|\n",
      "| 25|     services|        single|secondary|     no| 3217.0|    yes|  no|  unknown| 28|  may|    24.0|     1.0| -1.0|     0.0| unknown|             no|[25.0,3217.0,24.0...|[0.08823529411764...|      4.0|                 1.0|            0.0|          0.0|          0.0|     14.0|          1.0|        0.0|           0.0|                  0.0| (11,[4],[1.0])|     (2,[1],[1.0])|(3,[0],[1.0])|(1,[0],[1.0])|(1,[0],[1.0])|(30,[14],[1.0])|(2,[1],[1.0])| (11,[0],[1.0])|(3,[0],[1.0])|      (1,[0],[1.0])|(65,[4,12,13,16,1...|(71,[0,1,2,10,18,...|  0.0|[17.5917968917903...|[0.87958984458951...|       0.0|\n",
      "| 25|      student|        single|secondary|     no|    8.0|     no|  no| cellular| 22|  apr|   107.0|     2.0| -1.0|     0.0| unknown|            yes|[25.0,8.0,107.0,0...|[0.08823529411764...|     10.0|                 1.0|            0.0|          0.0|          1.0|     25.0|          0.0|        5.0|           0.0|                  1.0|(11,[10],[1.0])|     (2,[1],[1.0])|(3,[0],[1.0])|(1,[0],[1.0])|    (1,[],[])|(30,[25],[1.0])|(2,[0],[1.0])| (11,[5],[1.0])|(3,[0],[1.0])|          (1,[],[])|(65,[10,12,13,16,...|(71,[0,1,2,5,16,1...|  0.0|[18.6477376818890...|[0.93238688409445...|       0.0|\n",
      "| 25|      student|        single|secondary|     no| 1790.0|     no|  no| cellular| 17|  apr|   224.0|     1.0|322.0|     3.0| failure|             no|[25.0,1790.0,224....|[0.08823529411764...|     10.0|                 1.0|            0.0|          0.0|          1.0|      7.0|          0.0|        5.0|           1.0|                  0.0|(11,[10],[1.0])|     (2,[1],[1.0])|(3,[0],[1.0])|(1,[0],[1.0])|    (1,[],[])| (30,[7],[1.0])|(2,[0],[1.0])| (11,[5],[1.0])|(3,[1],[1.0])|      (1,[0],[1.0])|(65,[10,12,13,16,...|(71,[0,1,2,3,4,16...|  0.0|[17.8959332955671...|[0.89479666477835...|       0.0|\n",
      "| 25|   unemployed|       married|secondary|     no|  157.0|    yes|  no| cellular| 28|  jul|    33.0|    31.0| -1.0|     0.0| unknown|             no|[25.0,157.0,33.0,...|[0.08823529411764...|      8.0|                 0.0|            0.0|          0.0|          0.0|     14.0|          0.0|        1.0|           0.0|                  0.0| (11,[8],[1.0])|     (2,[0],[1.0])|(3,[0],[1.0])|(1,[0],[1.0])|(1,[0],[1.0])|(30,[14],[1.0])|(2,[0],[1.0])| (11,[1],[1.0])|(3,[0],[1.0])|      (1,[0],[1.0])|(65,[8,11,13,16,1...|(71,[0,1,2,5,14,1...|  0.0|[16.0420061952799...|[0.80210030976399...|       0.0|\n",
      "| 25|   unemployed|        single|secondary|     no|   34.0|     no| yes|  unknown|  4|  jul|   316.0|     1.0| -1.0|     0.0| unknown|             no|[25.0,34.0,316.0,...|[0.08823529411764...|      8.0|                 1.0|            0.0|          0.0|          1.0|     19.0|          1.0|        1.0|           0.0|                  0.0| (11,[8],[1.0])|     (2,[1],[1.0])|(3,[0],[1.0])|(1,[0],[1.0])|    (1,[],[])|(30,[19],[1.0])|(2,[1],[1.0])| (11,[1],[1.0])|(3,[0],[1.0])|      (1,[0],[1.0])|(65,[8,12,13,16,3...|(71,[0,1,2,14,18,...|  1.0|[16.6940556243208...|[0.83470278121604...|       0.0|\n",
      "| 26|       admin.|      divorced|secondary|    yes|    0.0|    yes|  no|  unknown| 13|  may|   181.0|     5.0| -1.0|     0.0| unknown|             no|[26.0,0.0,181.0,0...|[0.10294117647058...|      3.0|                 2.0|            0.0|          1.0|          0.0|     18.0|          1.0|        0.0|           0.0|                  0.0| (11,[3],[1.0])|         (2,[],[])|(3,[0],[1.0])|    (1,[],[])|(1,[0],[1.0])|(30,[18],[1.0])|(2,[1],[1.0])| (11,[0],[1.0])|(3,[0],[1.0])|      (1,[0],[1.0])|(65,[3,13,17,36,4...|(71,[0,2,5,9,19,2...|  0.0|[14.4845357443518...|[0.72422678721759...|       0.0|\n",
      "| 26|       admin.|       married|secondary|     no|    0.0|     no|  no|  unknown| 27|  may|   755.0|     1.0| -1.0|     0.0| unknown|             no|[26.0,0.0,755.0,0...|[0.10294117647058...|      3.0|                 0.0|            0.0|          0.0|          1.0|     21.0|          1.0|        0.0|           0.0|                  0.0| (11,[3],[1.0])|     (2,[0],[1.0])|(3,[0],[1.0])|(1,[0],[1.0])|    (1,[],[])|(30,[21],[1.0])|(2,[1],[1.0])| (11,[0],[1.0])|(3,[0],[1.0])|      (1,[0],[1.0])|(65,[3,11,13,16,3...|(71,[0,2,9,17,19,...|  0.0|[15.4122142852571...|[0.77061071426285...|       0.0|\n",
      "| 26|       admin.|       married|secondary|     no| 2469.0|     no|  no| cellular| 16|  jul|   136.0|     8.0| -1.0|     0.0| unknown|             no|[26.0,2469.0,136....|[0.10294117647058...|      3.0|                 0.0|            0.0|          0.0|          1.0|     12.0|          0.0|        1.0|           0.0|                  0.0| (11,[3],[1.0])|     (2,[0],[1.0])|(3,[0],[1.0])|(1,[0],[1.0])|    (1,[],[])|(30,[12],[1.0])|(2,[0],[1.0])| (11,[1],[1.0])|(3,[0],[1.0])|      (1,[0],[1.0])|(65,[3,11,13,16,3...|(71,[0,1,2,5,9,17...|  0.0|[15.6797530166019...|[0.78398765083009...|       0.0|\n",
      "| 26|       admin.|        single|secondary|     no|  255.0|     no|  no| cellular| 30|  apr|   457.0|     1.0| 80.0|     1.0| success|            yes|[26.0,255.0,457.0...|[0.10294117647058...|      3.0|                 1.0|            0.0|          0.0|          1.0|     10.0|          0.0|        5.0|           3.0|                  1.0| (11,[3],[1.0])|     (2,[1],[1.0])|(3,[0],[1.0])|(1,[0],[1.0])|    (1,[],[])|(30,[10],[1.0])|(2,[0],[1.0])| (11,[5],[1.0])|    (3,[],[])|          (1,[],[])|(65,[3,12,13,16,2...|(71,[0,1,2,3,4,9,...|  0.0|[17.7973299830779...|[0.88986649915389...|       0.0|\n",
      "| 26|       admin.|        single|secondary|     no|  443.0|     no|  no| cellular| 30|  jul|    84.0|     3.0| -1.0|     0.0| unknown|             no|[26.0,443.0,84.0,...|[0.10294117647058...|      3.0|                 1.0|            0.0|          0.0|          1.0|     10.0|          0.0|        1.0|           0.0|                  0.0| (11,[3],[1.0])|     (2,[1],[1.0])|(3,[0],[1.0])|(1,[0],[1.0])|    (1,[],[])|(30,[10],[1.0])|(2,[0],[1.0])| (11,[1],[1.0])|(3,[0],[1.0])|      (1,[0],[1.0])|(65,[3,12,13,16,2...|(71,[0,1,2,5,9,18...|  0.0|[15.9180848264920...|[0.79590424132460...|       0.0|\n",
      "| 26|       admin.|        single|secondary|     no| 3529.0|     no| yes| cellular|  7|  sep|    57.0|     2.0| -1.0|     0.0| unknown|             no|[26.0,3529.0,57.0...|[0.10294117647058...|      3.0|                 1.0|            0.0|          0.0|          1.0|      6.0|          0.0|        9.0|           0.0|                  0.0| (11,[3],[1.0])|     (2,[1],[1.0])|(3,[0],[1.0])|(1,[0],[1.0])|    (1,[],[])| (30,[6],[1.0])|(2,[0],[1.0])| (11,[9],[1.0])|(3,[0],[1.0])|      (1,[0],[1.0])|(65,[3,12,13,16,2...|(71,[0,1,2,5,9,18...|  1.0|[17.2272016470100...|[0.86136008235050...|       0.0|\n",
      "| 26|       admin.|        single| tertiary|     no| 3672.0|    yes|  no|  unknown| 29|  may|   360.0|     5.0| -1.0|     0.0| unknown|             no|[26.0,3672.0,360....|[0.10294117647058...|      3.0|                 1.0|            1.0|          0.0|          0.0|      8.0|          1.0|        0.0|           0.0|                  0.0| (11,[3],[1.0])|     (2,[1],[1.0])|(3,[1],[1.0])|(1,[0],[1.0])|(1,[0],[1.0])| (30,[8],[1.0])|(2,[1],[1.0])| (11,[0],[1.0])|(3,[0],[1.0])|      (1,[0],[1.0])|(65,[3,12,14,16,1...|(71,[0,1,2,5,9,18...|  0.0|[16.9924527685969...|[0.84962263842984...|       0.0|\n",
      "| 26|  blue-collar|       married|  primary|     no|    0.0|    yes|  no|  unknown| 21|  may|   425.0|     1.0| -1.0|     0.0| unknown|             no|[26.0,0.0,425.0,0...|[0.10294117647058...|      0.0|                 0.0|            2.0|          0.0|          0.0|      3.0|          1.0|        0.0|           0.0|                  0.0| (11,[0],[1.0])|     (2,[0],[1.0])|(3,[2],[1.0])|(1,[0],[1.0])|(1,[0],[1.0])| (30,[3],[1.0])|(2,[1],[1.0])| (11,[0],[1.0])|(3,[0],[1.0])|      (1,[0],[1.0])|(65,[0,11,15,16,1...|(71,[0,2,6,17,21,...|  0.0|[16.4194899537170...|[0.82097449768585...|       0.0|\n",
      "| 26|  blue-collar|       married|secondary|     no|  484.0|    yes|  no|  unknown| 19|  may|    48.0|     2.0| -1.0|     0.0| unknown|             no|[26.0,484.0,48.0,...|[0.10294117647058...|      0.0|                 0.0|            0.0|          0.0|          0.0|      2.0|          1.0|        0.0|           0.0|                  0.0| (11,[0],[1.0])|     (2,[0],[1.0])|(3,[0],[1.0])|(1,[0],[1.0])|(1,[0],[1.0])| (30,[2],[1.0])|(2,[1],[1.0])| (11,[0],[1.0])|(3,[0],[1.0])|      (1,[0],[1.0])|(65,[0,11,13,16,1...|(71,[0,1,2,5,6,17...|  0.0|[16.6322878543308...|[0.83161439271654...|       0.0|\n",
      "| 26|  blue-collar|        single|  primary|     no|    0.0|    yes|  no| cellular| 18|  may|   827.0|     2.0| -1.0|     0.0| unknown|            yes|[26.0,0.0,827.0,0...|[0.10294117647058...|      0.0|                 1.0|            2.0|          0.0|          0.0|      1.0|          0.0|        0.0|           0.0|                  1.0| (11,[0],[1.0])|     (2,[1],[1.0])|(3,[2],[1.0])|(1,[0],[1.0])|(1,[0],[1.0])| (30,[1],[1.0])|(2,[0],[1.0])| (11,[0],[1.0])|(3,[0],[1.0])|          (1,[],[])|(65,[0,12,15,16,1...|(71,[0,2,5,6,18,2...|  0.0|[16.2835485145384...|[0.81417742572692...|       0.0|\n",
      "| 26|  blue-collar|        single|  primary|     no|  155.0|    yes|  no| cellular| 29|  jan|   291.0|     1.0|244.0|     4.0| failure|             no|[26.0,155.0,291.0...|[0.10294117647058...|      0.0|                 1.0|            2.0|          0.0|          0.0|      8.0|          0.0|        7.0|           1.0|                  0.0| (11,[0],[1.0])|     (2,[1],[1.0])|(3,[2],[1.0])|(1,[0],[1.0])|(1,[0],[1.0])| (30,[8],[1.0])|(2,[0],[1.0])| (11,[7],[1.0])|(3,[1],[1.0])|      (1,[0],[1.0])|(65,[0,12,15,16,1...|(71,[0,1,2,3,4,6,...|  0.0|[15.6031080899933...|[0.78015540449966...|       0.0|\n",
      "| 26|  blue-collar|        single|  primary|     no| 3342.0|    yes|  no|  unknown|  4|  jun|   329.0|     4.0| -1.0|     0.0| unknown|             no|[26.0,3342.0,329....|[0.10294117647058...|      0.0|                 1.0|            2.0|          0.0|          0.0|     19.0|          1.0|        3.0|           0.0|                  0.0| (11,[0],[1.0])|     (2,[1],[1.0])|(3,[2],[1.0])|(1,[0],[1.0])|(1,[0],[1.0])|(30,[19],[1.0])|(2,[1],[1.0])| (11,[3],[1.0])|(3,[0],[1.0])|      (1,[0],[1.0])|(65,[0,12,15,16,1...|(71,[0,1,2,5,6,18...|  0.0|[17.6812037829499...|[0.88406018914749...|       0.0|\n",
      "| 26|  blue-collar|        single|secondary|     no|    0.0|    yes| yes| cellular| 31|  jul|    14.0|     6.0| -1.0|     0.0| unknown|             no|[26.0,0.0,14.0,0....|[0.10294117647058...|      0.0|                 1.0|            0.0|          0.0|          0.0|     27.0|          0.0|        1.0|           0.0|                  0.0| (11,[0],[1.0])|     (2,[1],[1.0])|(3,[0],[1.0])|(1,[0],[1.0])|(1,[0],[1.0])|(30,[27],[1.0])|(2,[0],[1.0])| (11,[1],[1.0])|(3,[0],[1.0])|      (1,[0],[1.0])|(65,[0,12,13,16,1...|(71,[0,2,5,6,18,1...|  1.0|[16.3452678080083...|[0.81726339040041...|       0.0|\n",
      "| 26| entrepreneur|        single| tertiary|     no|   81.0|     no|  no| cellular| 21|  jul|   262.0|     3.0| -1.0|     0.0| unknown|             no|[26.0,81.0,262.0,...|[0.10294117647058...|      7.0|                 1.0|            1.0|          0.0|          1.0|      3.0|          0.0|        1.0|           0.0|                  0.0| (11,[7],[1.0])|     (2,[1],[1.0])|(3,[1],[1.0])|(1,[0],[1.0])|    (1,[],[])| (30,[3],[1.0])|(2,[0],[1.0])| (11,[1],[1.0])|(3,[0],[1.0])|      (1,[0],[1.0])|(65,[7,12,14,16,2...|(71,[0,1,2,5,13,1...|  0.0|[15.7073595032310...|[0.78536797516155...|       0.0|\n",
      "| 26|   management|       married| tertiary|     no|  265.0|     no|  no| cellular| 30|  jan|   650.0|     2.0| -1.0|     0.0| unknown|             no|[26.0,265.0,650.0...|[0.10294117647058...|      1.0|                 0.0|            1.0|          0.0|          1.0|     10.0|          0.0|        7.0|           0.0|                  0.0| (11,[1],[1.0])|     (2,[0],[1.0])|(3,[1],[1.0])|(1,[0],[1.0])|    (1,[],[])|(30,[10],[1.0])|(2,[0],[1.0])| (11,[7],[1.0])|(3,[0],[1.0])|      (1,[0],[1.0])|(65,[1,11,14,16,2...|(71,[0,1,2,5,7,17...|  0.0|[17.3028636642035...|[0.86514318321017...|       0.0|\n",
      "| 26|   management|        single| tertiary|     no|  350.0|     no|  no| cellular|  8|  jul|   367.0|     1.0| -1.0|     0.0| unknown|             no|[26.0,350.0,367.0...|[0.10294117647058...|      1.0|                 1.0|            1.0|          0.0|          1.0|      9.0|          0.0|        1.0|           0.0|                  0.0| (11,[1],[1.0])|     (2,[1],[1.0])|(3,[1],[1.0])|(1,[0],[1.0])|    (1,[],[])| (30,[9],[1.0])|(2,[0],[1.0])| (11,[1],[1.0])|(3,[0],[1.0])|      (1,[0],[1.0])|(65,[1,12,14,16,2...|(71,[0,1,2,7,18,2...|  0.0|[14.8041770545063...|[0.74020885272531...|       0.0|\n",
      "| 26|   management|        single| tertiary|     no| 1274.0|    yes|  no| cellular|  1|  jun|   190.0|     1.0| 84.0|     1.0| failure|             no|[26.0,1274.0,190....|[0.10294117647058...|      1.0|                 1.0|            1.0|          0.0|          0.0|     30.0|          0.0|        3.0|           1.0|                  0.0| (11,[1],[1.0])|     (2,[1],[1.0])|(3,[1],[1.0])|(1,[0],[1.0])|(1,[0],[1.0])|     (30,[],[])|(2,[0],[1.0])| (11,[3],[1.0])|(3,[1],[1.0])|      (1,[0],[1.0])|(65,[1,12,14,16,1...|(71,[0,1,2,3,4,7,...|  0.0|[17.6705030212754...|[0.88352515106377...|       0.0|\n",
      "| 26|self-employed|       married| tertiary|     no|  479.0|    yes|  no| cellular|  9|  feb|   133.0|     3.0| -1.0|     0.0| unknown|             no|[26.0,479.0,133.0...|[0.10294117647058...|      6.0|                 0.0|            1.0|          0.0|          0.0|     13.0|          0.0|        6.0|           0.0|                  0.0| (11,[6],[1.0])|     (2,[0],[1.0])|(3,[1],[1.0])|(1,[0],[1.0])|(1,[0],[1.0])|(30,[13],[1.0])|(2,[0],[1.0])| (11,[6],[1.0])|(3,[0],[1.0])|      (1,[0],[1.0])|(65,[6,11,14,16,1...|(71,[0,1,2,5,12,1...|  0.0|[16.4688280908255...|[0.82344140454127...|       0.0|\n",
      "| 26|self-employed|        single| tertiary|     no|  211.0|     no|  no| cellular| 29|  jan|   168.0|     3.0| -1.0|     0.0| unknown|             no|[26.0,211.0,168.0...|[0.10294117647058...|      6.0|                 1.0|            1.0|          0.0|          1.0|      8.0|          0.0|        7.0|           0.0|                  0.0| (11,[6],[1.0])|     (2,[1],[1.0])|(3,[1],[1.0])|(1,[0],[1.0])|    (1,[],[])| (30,[8],[1.0])|(2,[0],[1.0])| (11,[7],[1.0])|(3,[0],[1.0])|      (1,[0],[1.0])|(65,[6,12,14,16,2...|(71,[0,1,2,5,12,1...|  0.0|[17.5581596056274...|[0.87790798028137...|       0.0|\n",
      "| 26|     services|        single|secondary|     no| 1700.0|    yes|  no| cellular|  7|  may|    13.0|     5.0| -1.0|     0.0| unknown|             no|[26.0,1700.0,13.0...|[0.10294117647058...|      4.0|                 1.0|            0.0|          0.0|          0.0|      6.0|          0.0|        0.0|           0.0|                  0.0| (11,[4],[1.0])|     (2,[1],[1.0])|(3,[0],[1.0])|(1,[0],[1.0])|(1,[0],[1.0])| (30,[6],[1.0])|(2,[0],[1.0])| (11,[0],[1.0])|(3,[0],[1.0])|      (1,[0],[1.0])|(65,[4,12,13,16,1...|(71,[0,1,2,5,10,1...|  0.0|[17.5456290680688...|[0.87728145340344...|       0.0|\n",
      "| 26|     services|        single|secondary|     no| 5533.0|    yes|  no| cellular|  7|  may|   582.0|     2.0|283.0|     4.0| failure|             no|[26.0,5533.0,582....|[0.10294117647058...|      4.0|                 1.0|            0.0|          0.0|          0.0|      6.0|          0.0|        0.0|           1.0|                  0.0| (11,[4],[1.0])|     (2,[1],[1.0])|(3,[0],[1.0])|(1,[0],[1.0])|(1,[0],[1.0])| (30,[6],[1.0])|(2,[0],[1.0])| (11,[0],[1.0])|(3,[1],[1.0])|      (1,[0],[1.0])|(65,[4,12,13,16,1...|(71,[0,1,2,3,4,5,...|  0.0|[17.7305419872860...|[0.88652709936430...|       0.0|\n",
      "| 26|     services|        single|secondary|    yes|    0.0|    yes|  no| cellular| 15|  may|    44.0|     2.0| -1.0|     0.0| unknown|             no|[26.0,0.0,44.0,0....|[0.10294117647058...|      4.0|                 1.0|            0.0|          1.0|          0.0|     16.0|          0.0|        0.0|           0.0|                  0.0| (11,[4],[1.0])|     (2,[1],[1.0])|(3,[0],[1.0])|    (1,[],[])|(1,[0],[1.0])|(30,[16],[1.0])|(2,[0],[1.0])| (11,[0],[1.0])|(3,[0],[1.0])|      (1,[0],[1.0])|(65,[4,12,13,17,3...|(71,[0,2,5,10,18,...|  0.0|[16.0259569741364...|[0.80129784870682...|       0.0|\n",
      "| 26|      student|        single|secondary|     no|    0.0|     no|  no|  unknown|  4|  jun|    95.0|     2.0| -1.0|     0.0| unknown|             no|[26.0,0.0,95.0,0....|[0.10294117647058...|     10.0|                 1.0|            0.0|          0.0|          1.0|     19.0|          1.0|        3.0|           0.0|                  0.0|(11,[10],[1.0])|     (2,[1],[1.0])|(3,[0],[1.0])|(1,[0],[1.0])|    (1,[],[])|(30,[19],[1.0])|(2,[1],[1.0])| (11,[3],[1.0])|(3,[0],[1.0])|      (1,[0],[1.0])|(65,[10,12,13,16,...|(71,[0,2,5,16,18,...|  0.0|[17.7984148352084...|[0.88992074176042...|       0.0|\n",
      "| 26|      student|        single|secondary|     no|  279.0|     no|  no| cellular|  7|  may|   239.0|     3.0| -1.0|     0.0| unknown|             no|[26.0,279.0,239.0...|[0.10294117647058...|     10.0|                 1.0|            0.0|          0.0|          1.0|      6.0|          0.0|        0.0|           0.0|                  0.0|(11,[10],[1.0])|     (2,[1],[1.0])|(3,[0],[1.0])|(1,[0],[1.0])|    (1,[],[])| (30,[6],[1.0])|(2,[0],[1.0])| (11,[0],[1.0])|(3,[0],[1.0])|      (1,[0],[1.0])|(65,[10,12,13,16,...|(71,[0,1,2,5,16,1...|  0.0|[18.2235125375124...|[0.91117562687562...|       0.0|\n",
      "| 26|      student|        single| tertiary|     no|  294.0|     no|  no| cellular|  5|  mar|    87.0|     1.0| 91.0|     2.0| success|            yes|[26.0,294.0,87.0,...|[0.10294117647058...|     10.0|                 1.0|            1.0|          0.0|          1.0|      5.0|          0.0|       10.0|           3.0|                  1.0|(11,[10],[1.0])|     (2,[1],[1.0])|(3,[1],[1.0])|(1,[0],[1.0])|    (1,[],[])| (30,[5],[1.0])|(2,[0],[1.0])|(11,[10],[1.0])|    (3,[],[])|          (1,[],[])|(65,[10,12,14,16,...|(71,[0,1,2,3,4,16...|  0.0|[19.0170783241713...|[0.95085391620856...|       0.0|\n",
      "| 26|   technician|        single|secondary|     no|  261.0|    yes|  no|  unknown| 27|  may|   371.0|     2.0| -1.0|     0.0| unknown|             no|[26.0,261.0,371.0...|[0.10294117647058...|      2.0|                 1.0|            0.0|          0.0|          0.0|     21.0|          1.0|        0.0|           0.0|                  0.0| (11,[2],[1.0])|     (2,[1],[1.0])|(3,[0],[1.0])|(1,[0],[1.0])|(1,[0],[1.0])|(30,[21],[1.0])|(2,[1],[1.0])| (11,[0],[1.0])|(3,[0],[1.0])|      (1,[0],[1.0])|(65,[2,12,13,16,1...|(71,[0,1,2,5,8,18...|  0.0|[17.3429355170039...|[0.86714677585019...|       0.0|\n",
      "| 26|   technician|        single|secondary|     no| 2610.0|    yes| yes|  unknown|  2|  jun|   626.0|     1.0| -1.0|     0.0| unknown|             no|[26.0,2610.0,626....|[0.10294117647058...|      2.0|                 1.0|            0.0|          0.0|          0.0|     22.0|          1.0|        3.0|           0.0|                  0.0| (11,[2],[1.0])|     (2,[1],[1.0])|(3,[0],[1.0])|(1,[0],[1.0])|(1,[0],[1.0])|(30,[22],[1.0])|(2,[1],[1.0])| (11,[3],[1.0])|(3,[0],[1.0])|      (1,[0],[1.0])|(65,[2,12,13,16,1...|(71,[0,1,2,8,18,1...|  1.0|[17.9281787536509...|[0.89640893768254...|       0.0|\n",
      "| 26|   technician|        single| tertiary|     no|   75.0|    yes| yes|  unknown| 19|  may|   351.0|     1.0| -1.0|     0.0| unknown|             no|[26.0,75.0,351.0,...|[0.10294117647058...|      2.0|                 1.0|            1.0|          0.0|          0.0|      2.0|          1.0|        0.0|           0.0|                  0.0| (11,[2],[1.0])|     (2,[1],[1.0])|(3,[1],[1.0])|(1,[0],[1.0])|(1,[0],[1.0])| (30,[2],[1.0])|(2,[1],[1.0])| (11,[0],[1.0])|(3,[0],[1.0])|      (1,[0],[1.0])|(65,[2,12,14,16,1...|(71,[0,1,2,8,18,2...|  1.0|[17.1924243368858...|[0.85962121684429...|       0.0|\n",
      "| 26|   technician|        single| tertiary|     no| 1216.0|    yes|  no| cellular| 16|  apr|   472.0|     2.0| -1.0|     0.0| unknown|             no|[26.0,1216.0,472....|[0.10294117647058...|      2.0|                 1.0|            1.0|          0.0|          0.0|     12.0|          0.0|        5.0|           0.0|                  0.0| (11,[2],[1.0])|     (2,[1],[1.0])|(3,[1],[1.0])|(1,[0],[1.0])|(1,[0],[1.0])|(30,[12],[1.0])|(2,[0],[1.0])| (11,[5],[1.0])|(3,[0],[1.0])|      (1,[0],[1.0])|(65,[2,12,14,16,1...|(71,[0,1,2,5,8,18...|  0.0|[17.0698957501442...|[0.85349478750721...|       0.0|\n",
      "| 26|   unemployed|       married| tertiary|     no|  454.0|    yes| yes|  unknown| 23|  may|    28.0|    18.0| -1.0|     0.0| unknown|             no|[26.0,454.0,28.0,...|[0.10294117647058...|      8.0|                 0.0|            1.0|          0.0|          0.0|     24.0|          1.0|        0.0|           0.0|                  0.0| (11,[8],[1.0])|     (2,[0],[1.0])|(3,[1],[1.0])|(1,[0],[1.0])|(1,[0],[1.0])|(30,[24],[1.0])|(2,[1],[1.0])| (11,[0],[1.0])|(3,[0],[1.0])|      (1,[0],[1.0])|(65,[8,11,14,16,1...|(71,[0,1,2,5,14,1...|  1.0|[17.2531544699984...|[0.86265772349992...|       0.0|\n",
      "| 26|   unemployed|        single|secondary|     no|  622.0|     no|  no| cellular| 28|  jan|  1451.0|     2.0| -1.0|     0.0| unknown|            yes|[26.0,622.0,1451....|[0.10294117647058...|      8.0|                 1.0|            0.0|          0.0|          1.0|     14.0|          0.0|        7.0|           0.0|                  1.0| (11,[8],[1.0])|     (2,[1],[1.0])|(3,[0],[1.0])|(1,[0],[1.0])|    (1,[],[])|(30,[14],[1.0])|(2,[0],[1.0])| (11,[7],[1.0])|(3,[0],[1.0])|          (1,[],[])|(65,[8,12,13,16,3...|(71,[0,1,2,5,14,1...|  0.0|[18.0170589256806...|[0.90085294628403...|       0.0|\n",
      "| 27|       admin.|      divorced|secondary|     no|  451.0|    yes|  no| cellular| 16|  jul|   652.0|     1.0| -1.0|     0.0| unknown|            yes|[27.0,451.0,652.0...|[0.11764705882352...|      3.0|                 2.0|            0.0|          0.0|          0.0|     12.0|          0.0|        1.0|           0.0|                  1.0| (11,[3],[1.0])|         (2,[],[])|(3,[0],[1.0])|(1,[0],[1.0])|(1,[0],[1.0])|(30,[12],[1.0])|(2,[0],[1.0])| (11,[1],[1.0])|(3,[0],[1.0])|          (1,[],[])|(65,[3,13,16,17,3...|(71,[0,1,2,9,19,2...|  0.0|[16.6070520677329...|[0.83035260338664...|       0.0|\n",
      "| 27|       admin.|       married|secondary|     no|  186.0|    yes|  no|  unknown| 27|  may|   136.0|     2.0| -1.0|     0.0| unknown|             no|[27.0,186.0,136.0...|[0.11764705882352...|      3.0|                 0.0|            0.0|          0.0|          0.0|     21.0|          1.0|        0.0|           0.0|                  0.0| (11,[3],[1.0])|     (2,[0],[1.0])|(3,[0],[1.0])|(1,[0],[1.0])|(1,[0],[1.0])|(30,[21],[1.0])|(2,[1],[1.0])| (11,[0],[1.0])|(3,[0],[1.0])|      (1,[0],[1.0])|(65,[3,11,13,16,1...|(71,[0,1,2,5,9,17...|  0.0|[15.7090997429742...|[0.78545498714871...|       0.0|\n",
      "| 27|       admin.|       married|secondary|     no|  710.0|    yes| yes| cellular|  6|  may|   653.0|     1.0|334.0|     2.0| success|            yes|[27.0,710.0,653.0...|[0.11764705882352...|      3.0|                 0.0|            0.0|          0.0|          0.0|     11.0|          0.0|        0.0|           3.0|                  1.0| (11,[3],[1.0])|     (2,[0],[1.0])|(3,[0],[1.0])|(1,[0],[1.0])|(1,[0],[1.0])|(30,[11],[1.0])|(2,[0],[1.0])| (11,[0],[1.0])|    (3,[],[])|          (1,[],[])|(65,[3,11,13,16,1...|(71,[0,1,2,3,4,9,...|  1.0|[16.3478018481627...|[0.81739009240813...|       0.0|\n",
      "| 27|       admin.|        single|secondary|     no| 3638.0|     no|  no| cellular| 11|  jul|   271.0|     5.0| -1.0|     0.0| unknown|             no|[27.0,3638.0,271....|[0.11764705882352...|      3.0|                 1.0|            0.0|          0.0|          1.0|     17.0|          0.0|        1.0|           0.0|                  0.0| (11,[3],[1.0])|     (2,[1],[1.0])|(3,[0],[1.0])|(1,[0],[1.0])|    (1,[],[])|(30,[17],[1.0])|(2,[0],[1.0])| (11,[1],[1.0])|(3,[0],[1.0])|      (1,[0],[1.0])|(65,[3,12,13,16,3...|(71,[0,1,2,5,9,18...|  0.0|[16.0851099923285...|[0.80425549961642...|       0.0|\n",
      "| 27|       admin.|        single| tertiary|     no| 3672.0|    yes|  no| cellular| 15|  may|   157.0|     2.0|351.0|     5.0| failure|             no|[27.0,3672.0,157....|[0.11764705882352...|      3.0|                 1.0|            1.0|          0.0|          0.0|     16.0|          0.0|        0.0|           1.0|                  0.0| (11,[3],[1.0])|     (2,[1],[1.0])|(3,[1],[1.0])|(1,[0],[1.0])|(1,[0],[1.0])|(30,[16],[1.0])|(2,[0],[1.0])| (11,[0],[1.0])|(3,[1],[1.0])|      (1,[0],[1.0])|(65,[3,12,14,16,1...|(71,[0,1,2,3,4,5,...|  0.0|[17.6992921419056...|[0.88496460709528...|       0.0|\n",
      "| 27|  blue-collar|      divorced|secondary|     no|    1.0|    yes|  no| cellular| 14|  jul|   116.0|     3.0| -1.0|     0.0| unknown|             no|[27.0,1.0,116.0,0...|[0.11764705882352...|      0.0|                 2.0|            0.0|          0.0|          0.0|      4.0|          0.0|        1.0|           0.0|                  0.0| (11,[0],[1.0])|         (2,[],[])|(3,[0],[1.0])|(1,[0],[1.0])|(1,[0],[1.0])| (30,[4],[1.0])|(2,[0],[1.0])| (11,[1],[1.0])|(3,[0],[1.0])|      (1,[0],[1.0])|(65,[0,13,16,17,2...|(71,[0,1,2,5,6,19...|  0.0|[16.2224764538838...|[0.81112382269419...|       0.0|\n",
      "| 27|  blue-collar|       married|secondary|     no|  362.0|    yes|  no|  unknown| 14|  may|   332.0|     2.0| -1.0|     0.0| unknown|             no|[27.0,362.0,332.0...|[0.11764705882352...|      0.0|                 0.0|            0.0|          0.0|          0.0|      4.0|          1.0|        0.0|           0.0|                  0.0| (11,[0],[1.0])|     (2,[0],[1.0])|(3,[0],[1.0])|(1,[0],[1.0])|(1,[0],[1.0])| (30,[4],[1.0])|(2,[1],[1.0])| (11,[0],[1.0])|(3,[0],[1.0])|      (1,[0],[1.0])|(65,[0,11,13,16,1...|(71,[0,1,2,5,6,17...|  0.0|[16.9500366267306...|[0.84750183133653...|       0.0|\n",
      "| 27|  blue-collar|       married|secondary|     no|  818.0|    yes|  no|  unknown|  3|  jun|   188.0|     5.0| -1.0|     0.0| unknown|             no|[27.0,818.0,188.0...|[0.11764705882352...|      0.0|                 0.0|            0.0|          0.0|          0.0|     23.0|          1.0|        3.0|           0.0|                  0.0| (11,[0],[1.0])|     (2,[0],[1.0])|(3,[0],[1.0])|(1,[0],[1.0])|(1,[0],[1.0])|(30,[23],[1.0])|(2,[1],[1.0])| (11,[3],[1.0])|(3,[0],[1.0])|      (1,[0],[1.0])|(65,[0,11,13,16,1...|(71,[0,1,2,5,6,17...|  0.0|[16.6670170615982...|[0.83335085307991...|       0.0|\n",
      "| 27|  blue-collar|        single|  primary|     no|    0.0|    yes|  no| cellular| 15|  may|    54.0|     2.0| -1.0|     0.0| unknown|             no|[27.0,0.0,54.0,0....|[0.11764705882352...|      0.0|                 1.0|            2.0|          0.0|          0.0|     16.0|          0.0|        0.0|           0.0|                  0.0| (11,[0],[1.0])|     (2,[1],[1.0])|(3,[2],[1.0])|(1,[0],[1.0])|(1,[0],[1.0])|(30,[16],[1.0])|(2,[0],[1.0])| (11,[0],[1.0])|(3,[0],[1.0])|      (1,[0],[1.0])|(65,[0,12,15,16,1...|(71,[0,2,5,6,18,2...|  0.0|[16.5656747152469...|[0.82828373576234...|       0.0|\n",
      "| 27|  blue-collar|        single|  primary|     no| 1209.0|     no|  no| cellular| 29|  jan|   283.0|     1.0| -1.0|     0.0| unknown|             no|[27.0,1209.0,283....|[0.11764705882352...|      0.0|                 1.0|            2.0|          0.0|          1.0|      8.0|          0.0|        7.0|           0.0|                  0.0| (11,[0],[1.0])|     (2,[1],[1.0])|(3,[2],[1.0])|(1,[0],[1.0])|    (1,[],[])| (30,[8],[1.0])|(2,[0],[1.0])| (11,[7],[1.0])|(3,[0],[1.0])|      (1,[0],[1.0])|(65,[0,12,15,16,2...|(71,[0,1,2,6,18,2...|  0.0|[17.3292952635046...|[0.86646476317523...|       0.0|\n",
      "| 27|  blue-collar|        single|secondary|     no|    5.0|    yes|  no|  unknown| 19|  may|   205.0|     3.0| -1.0|     0.0| unknown|             no|[27.0,5.0,205.0,0...|[0.11764705882352...|      0.0|                 1.0|            0.0|          0.0|          0.0|      2.0|          1.0|        0.0|           0.0|                  0.0| (11,[0],[1.0])|     (2,[1],[1.0])|(3,[0],[1.0])|(1,[0],[1.0])|(1,[0],[1.0])| (30,[2],[1.0])|(2,[1],[1.0])| (11,[0],[1.0])|(3,[0],[1.0])|      (1,[0],[1.0])|(65,[0,12,13,16,1...|(71,[0,1,2,5,6,18...|  0.0|[16.8864796285389...|[0.84432398142694...|       0.0|\n",
      "| 27|   management|       married| tertiary|     no|  802.0|     no|  no| cellular| 22|  sep|   569.0|     1.0| -1.0|     0.0| unknown|            yes|[27.0,802.0,569.0...|[0.11764705882352...|      1.0|                 0.0|            1.0|          0.0|          1.0|     25.0|          0.0|        9.0|           0.0|                  1.0| (11,[1],[1.0])|     (2,[0],[1.0])|(3,[1],[1.0])|(1,[0],[1.0])|    (1,[],[])|(30,[25],[1.0])|(2,[0],[1.0])| (11,[9],[1.0])|(3,[0],[1.0])|          (1,[],[])|(65,[1,11,14,16,4...|(71,[0,1,2,7,17,2...|  0.0|[18.1743366936371...|[0.90871683468185...|       0.0|\n",
      "| 27|   management|        single| tertiary|     no|    0.0|    yes|  no| cellular| 30|  jan|   323.0|     4.0| -1.0|     0.0| unknown|             no|[27.0,0.0,323.0,0...|[0.11764705882352...|      1.0|                 1.0|            1.0|          0.0|          0.0|     10.0|          0.0|        7.0|           0.0|                  0.0| (11,[1],[1.0])|     (2,[1],[1.0])|(3,[1],[1.0])|(1,[0],[1.0])|(1,[0],[1.0])|(30,[10],[1.0])|(2,[0],[1.0])| (11,[7],[1.0])|(3,[0],[1.0])|      (1,[0],[1.0])|(65,[1,12,14,16,1...|(71,[0,2,5,7,18,2...|  0.0|[16.7158724355251...|[0.83579362177625...|       0.0|\n",
      "| 27|   management|        single| tertiary|    yes|    0.0|     no| yes| cellular|  8|  jul|    46.0|     1.0| -1.0|     0.0| unknown|             no|[27.0,0.0,46.0,0....|[0.11764705882352...|      1.0|                 1.0|            1.0|          1.0|          1.0|      9.0|          0.0|        1.0|           0.0|                  0.0| (11,[1],[1.0])|     (2,[1],[1.0])|(3,[1],[1.0])|    (1,[],[])|    (1,[],[])| (30,[9],[1.0])|(2,[0],[1.0])| (11,[1],[1.0])|(3,[0],[1.0])|      (1,[0],[1.0])|(65,[1,12,14,27,4...|(71,[0,2,7,18,20,...|  1.0|[12.3093286794813...|[0.61546643397406...|       0.0|\n",
      "| 27|     services|       married|secondary|     no|    0.0|    yes|  no|  unknown|  4|  jun|   749.0|     2.0| -1.0|     0.0| unknown|             no|[27.0,0.0,749.0,0...|[0.11764705882352...|      4.0|                 0.0|            0.0|          0.0|          0.0|     19.0|          1.0|        3.0|           0.0|                  0.0| (11,[4],[1.0])|     (2,[0],[1.0])|(3,[0],[1.0])|(1,[0],[1.0])|(1,[0],[1.0])|(30,[19],[1.0])|(2,[1],[1.0])| (11,[3],[1.0])|(3,[0],[1.0])|      (1,[0],[1.0])|(65,[4,11,13,16,1...|(71,[0,2,5,10,17,...|  0.0|[16.1624047220762...|[0.80812023610381...|       0.0|\n",
      "| 27|     services|       married|secondary|     no|   58.0|    yes|  no| cellular|  7|  may|   113.0|     1.0|337.0|     2.0|   other|             no|[27.0,58.0,113.0,...|[0.11764705882352...|      4.0|                 0.0|            0.0|          0.0|          0.0|      6.0|          0.0|        0.0|           2.0|                  0.0| (11,[4],[1.0])|     (2,[0],[1.0])|(3,[0],[1.0])|(1,[0],[1.0])|(1,[0],[1.0])| (30,[6],[1.0])|(2,[0],[1.0])| (11,[0],[1.0])|(3,[2],[1.0])|      (1,[0],[1.0])|(65,[4,11,13,16,1...|(71,[0,1,2,3,4,10...|  0.0|[16.4705222540515...|[0.82352611270257...|       0.0|\n",
      "| 27|     services|        single|secondary|     no|  261.0|    yes| yes| cellular| 18|  may|   113.0|     1.0| -1.0|     0.0| unknown|             no|[27.0,261.0,113.0...|[0.11764705882352...|      4.0|                 1.0|            0.0|          0.0|          0.0|      1.0|          0.0|        0.0|           0.0|                  0.0| (11,[4],[1.0])|     (2,[1],[1.0])|(3,[0],[1.0])|(1,[0],[1.0])|(1,[0],[1.0])| (30,[1],[1.0])|(2,[0],[1.0])| (11,[0],[1.0])|(3,[0],[1.0])|      (1,[0],[1.0])|(65,[4,12,13,16,1...|(71,[0,1,2,10,18,...|  1.0|[17.2453362428048...|[0.86226681214024...|       0.0|\n",
      "| 27|     services|        single|secondary|     no|  795.0|     no|  no| cellular|  6|  feb|   101.0|     3.0| -1.0|     0.0| unknown|             no|[27.0,795.0,101.0...|[0.11764705882352...|      4.0|                 1.0|            0.0|          0.0|          1.0|     11.0|          0.0|        6.0|           0.0|                  0.0| (11,[4],[1.0])|     (2,[1],[1.0])|(3,[0],[1.0])|(1,[0],[1.0])|    (1,[],[])|(30,[11],[1.0])|(2,[0],[1.0])| (11,[6],[1.0])|(3,[0],[1.0])|      (1,[0],[1.0])|(65,[4,12,13,16,2...|(71,[0,1,2,5,10,1...|  0.0|[17.4160739730943...|[0.87080369865471...|       0.0|\n",
      "| 27|      student|        single|secondary|     no|  268.0|    yes|  no| cellular| 13|  may|   528.0|     1.0|358.0|     2.0| failure|             no|[27.0,268.0,528.0...|[0.11764705882352...|     10.0|                 1.0|            0.0|          0.0|          0.0|     18.0|          0.0|        0.0|           1.0|                  0.0|(11,[10],[1.0])|     (2,[1],[1.0])|(3,[0],[1.0])|(1,[0],[1.0])|(1,[0],[1.0])|(30,[18],[1.0])|(2,[0],[1.0])| (11,[0],[1.0])|(3,[1],[1.0])|      (1,[0],[1.0])|(65,[10,12,13,16,...|(71,[0,1,2,3,4,16...|  0.0|[17.2728877342723...|[0.86364438671361...|       0.0|\n",
      "| 27|   technician|       married|secondary|     no|    7.0|    yes|  no|  unknown| 15|  may|    98.0|     2.0| -1.0|     0.0| unknown|             no|[27.0,7.0,98.0,0....|[0.11764705882352...|      2.0|                 0.0|            0.0|          0.0|          0.0|     16.0|          1.0|        0.0|           0.0|                  0.0| (11,[2],[1.0])|     (2,[0],[1.0])|(3,[0],[1.0])|(1,[0],[1.0])|(1,[0],[1.0])|(30,[16],[1.0])|(2,[1],[1.0])| (11,[0],[1.0])|(3,[0],[1.0])|      (1,[0],[1.0])|(65,[2,11,13,16,1...|(71,[0,1,2,5,8,17...|  0.0|[16.1530764220020...|[0.80765382110010...|       0.0|\n",
      "| 27|   technician|        single|secondary|     no|  282.0|     no| yes| cellular|  9|  jul|   676.0|     5.0| -1.0|     0.0| unknown|             no|[27.0,282.0,676.0...|[0.11764705882352...|      2.0|                 1.0|            0.0|          0.0|          1.0|     13.0|          0.0|        1.0|           0.0|                  0.0| (11,[2],[1.0])|     (2,[1],[1.0])|(3,[0],[1.0])|(1,[0],[1.0])|    (1,[],[])|(30,[13],[1.0])|(2,[0],[1.0])| (11,[1],[1.0])|(3,[0],[1.0])|      (1,[0],[1.0])|(65,[2,12,13,16,3...|(71,[0,1,2,5,8,18...|  1.0|[15.9444491314062...|[0.79722245657031...|       0.0|\n",
      "| 27|   unemployed|        single| tertiary|     no|    1.0|     no|  no| cellular|  3|  feb|    65.0|     2.0| -1.0|     0.0| unknown|             no|[27.0,1.0,65.0,0....|[0.11764705882352...|      8.0|                 1.0|            1.0|          0.0|          1.0|     23.0|          0.0|        6.0|           0.0|                  0.0| (11,[8],[1.0])|     (2,[1],[1.0])|(3,[1],[1.0])|(1,[0],[1.0])|    (1,[],[])|(30,[23],[1.0])|(2,[0],[1.0])| (11,[6],[1.0])|(3,[0],[1.0])|      (1,[0],[1.0])|(65,[8,12,14,16,4...|(71,[0,1,2,5,14,1...|  0.0|[17.1694061798231...|[0.85847030899115...|       0.0|\n",
      "| 28|       admin.|       married|secondary|     no|    0.0|    yes|  no| cellular| 29|  jan|    79.0|     1.0|225.0|     2.0| success|             no|[28.0,0.0,79.0,2....|[0.13235294117647...|      3.0|                 0.0|            0.0|          0.0|          0.0|      8.0|          0.0|        7.0|           3.0|                  0.0| (11,[3],[1.0])|     (2,[0],[1.0])|(3,[0],[1.0])|(1,[0],[1.0])|(1,[0],[1.0])| (30,[8],[1.0])|(2,[0],[1.0])| (11,[7],[1.0])|    (3,[],[])|      (1,[0],[1.0])|(65,[3,11,13,16,1...|(71,[0,2,3,4,9,17...|  0.0|[15.8773023905124...|[0.79386511952562...|       0.0|\n",
      "| 28|       admin.|        single|secondary|     no| 1323.0|    yes|  no|  unknown|  3|  jun|   361.0|     1.0| -1.0|     0.0| unknown|             no|[28.0,1323.0,361....|[0.13235294117647...|      3.0|                 1.0|            0.0|          0.0|          0.0|     23.0|          1.0|        3.0|           0.0|                  0.0| (11,[3],[1.0])|     (2,[1],[1.0])|(3,[0],[1.0])|(1,[0],[1.0])|(1,[0],[1.0])|(30,[23],[1.0])|(2,[1],[1.0])| (11,[3],[1.0])|(3,[0],[1.0])|      (1,[0],[1.0])|(65,[3,12,13,16,1...|(71,[0,1,2,9,18,1...|  0.0|[17.4175604128781...|[0.87087802064390...|       0.0|\n",
      "| 28|       admin.|        single|  unknown|     no|  174.0|     no|  no| cellular| 28|  sep|   184.0|     1.0| -1.0|     0.0| unknown|             no|[28.0,174.0,184.0...|[0.13235294117647...|      3.0|                 1.0|            3.0|          0.0|          1.0|     14.0|          0.0|        9.0|           0.0|                  0.0| (11,[3],[1.0])|     (2,[1],[1.0])|    (3,[],[])|(1,[0],[1.0])|    (1,[],[])|(30,[14],[1.0])|(2,[0],[1.0])| (11,[9],[1.0])|(3,[0],[1.0])|      (1,[0],[1.0])|(65,[3,12,16,32,4...|(71,[0,1,2,9,18,2...|  0.0|[17.2421348445295...|[0.86210674222647...|       0.0|\n",
      "| 28|  blue-collar|       married|secondary|     no| 1020.0|    yes|  no|  unknown| 28|  may|   251.0|     1.0| -1.0|     0.0| unknown|             no|[28.0,1020.0,251....|[0.13235294117647...|      0.0|                 0.0|            0.0|          0.0|          0.0|     14.0|          1.0|        0.0|           0.0|                  0.0| (11,[0],[1.0])|     (2,[0],[1.0])|(3,[0],[1.0])|(1,[0],[1.0])|(1,[0],[1.0])|(30,[14],[1.0])|(2,[1],[1.0])| (11,[0],[1.0])|(3,[0],[1.0])|      (1,[0],[1.0])|(65,[0,11,13,16,1...|(71,[0,1,2,6,17,1...|  0.0|[16.7210629497386...|[0.83605314748693...|       0.0|\n",
      "| 28|  blue-collar|       married|secondary|     no| 1137.0|     no|  no| cellular|  6|  feb|   129.0|     4.0|211.0|     3.0|   other|             no|[28.0,1137.0,129....|[0.13235294117647...|      0.0|                 0.0|            0.0|          0.0|          1.0|     11.0|          0.0|        6.0|           2.0|                  0.0| (11,[0],[1.0])|     (2,[0],[1.0])|(3,[0],[1.0])|(1,[0],[1.0])|    (1,[],[])|(30,[11],[1.0])|(2,[0],[1.0])| (11,[6],[1.0])|(3,[2],[1.0])|      (1,[0],[1.0])|(65,[0,11,13,16,2...|(71,[0,1,2,3,4,5,...|  0.0|[17.0212672929125...|[0.85106336464562...|       0.0|\n",
      "| 28|  blue-collar|       married|secondary|     no| 2788.0|    yes|  no|  unknown|  6|  jun|   369.0|     2.0| -1.0|     0.0| unknown|            yes|[28.0,2788.0,369....|[0.13235294117647...|      0.0|                 0.0|            0.0|          0.0|          0.0|     11.0|          1.0|        3.0|           0.0|                  1.0| (11,[0],[1.0])|     (2,[0],[1.0])|(3,[0],[1.0])|(1,[0],[1.0])|(1,[0],[1.0])|(30,[11],[1.0])|(2,[1],[1.0])| (11,[3],[1.0])|(3,[0],[1.0])|          (1,[],[])|(65,[0,11,13,16,1...|(71,[0,1,2,5,6,17...|  0.0|[17.5195738587985...|[0.87597869293992...|       0.0|\n",
      "| 28|  blue-collar|        single|secondary|     no|    0.0|    yes|  no| cellular|  1|  sep|   199.0|     1.0| 92.0|    14.0| success|            yes|[28.0,0.0,199.0,1...|[0.13235294117647...|      0.0|                 1.0|            0.0|          0.0|          0.0|     30.0|          0.0|        9.0|           3.0|                  1.0| (11,[0],[1.0])|     (2,[1],[1.0])|(3,[0],[1.0])|(1,[0],[1.0])|(1,[0],[1.0])|     (30,[],[])|(2,[0],[1.0])| (11,[9],[1.0])|    (3,[],[])|          (1,[],[])|(65,[0,12,13,16,1...|(71,[0,2,3,4,6,18...|  0.0|[17.0332609725437...|[0.85166304862718...|       0.0|\n",
      "| 28|  blue-collar|        single|secondary|     no|    0.0|    yes|  no|  unknown| 28|  may|   386.0|     1.0| -1.0|     0.0| unknown|             no|[28.0,0.0,386.0,0...|[0.13235294117647...|      0.0|                 1.0|            0.0|          0.0|          0.0|     14.0|          1.0|        0.0|           0.0|                  0.0| (11,[0],[1.0])|     (2,[1],[1.0])|(3,[0],[1.0])|(1,[0],[1.0])|(1,[0],[1.0])|(30,[14],[1.0])|(2,[1],[1.0])| (11,[0],[1.0])|(3,[0],[1.0])|      (1,[0],[1.0])|(65,[0,12,13,16,1...|(71,[0,2,6,18,19,...|  0.0|[16.6607431305985...|[0.83303715652992...|       0.0|\n",
      "| 28|  blue-collar|        single|secondary|     no|   56.0|    yes|  no|  unknown| 23|  may|    66.0|     1.0| -1.0|     0.0| unknown|             no|[28.0,56.0,66.0,0...|[0.13235294117647...|      0.0|                 1.0|            0.0|          0.0|          0.0|     24.0|          1.0|        0.0|           0.0|                  0.0| (11,[0],[1.0])|     (2,[1],[1.0])|(3,[0],[1.0])|(1,[0],[1.0])|(1,[0],[1.0])|(30,[24],[1.0])|(2,[1],[1.0])| (11,[0],[1.0])|(3,[0],[1.0])|      (1,[0],[1.0])|(65,[0,12,13,16,1...|(71,[0,1,2,6,18,1...|  0.0|[17.076543725798,...|[0.85382718628990...|       0.0|\n",
      "| 28|  blue-collar|        single|secondary|     no|  517.0|     no| yes| cellular|  8|  jul|   681.0|     1.0| -1.0|     0.0| unknown|            yes|[28.0,517.0,681.0...|[0.13235294117647...|      0.0|                 1.0|            0.0|          0.0|          1.0|      9.0|          0.0|        1.0|           0.0|                  1.0| (11,[0],[1.0])|     (2,[1],[1.0])|(3,[0],[1.0])|(1,[0],[1.0])|    (1,[],[])| (30,[9],[1.0])|(2,[0],[1.0])| (11,[1],[1.0])|(3,[0],[1.0])|          (1,[],[])|(65,[0,12,13,16,2...|(71,[0,1,2,6,18,1...|  1.0|[15.1429716214671...|[0.75714858107335...|       0.0|\n",
      "| 28|   management|       married| tertiary|     no| 1480.0|    yes|  no| cellular| 18|  may|   143.0|     1.0| -1.0|     0.0| unknown|             no|[28.0,1480.0,143....|[0.13235294117647...|      1.0|                 0.0|            1.0|          0.0|          0.0|      1.0|          0.0|        0.0|           0.0|                  0.0| (11,[1],[1.0])|     (2,[0],[1.0])|(3,[1],[1.0])|(1,[0],[1.0])|(1,[0],[1.0])| (30,[1],[1.0])|(2,[0],[1.0])| (11,[0],[1.0])|(3,[0],[1.0])|      (1,[0],[1.0])|(65,[1,11,14,16,1...|(71,[0,1,2,7,17,2...|  0.0|[16.9263626745215...|[0.84631813372607...|       0.0|\n",
      "+---+-------------+--------------+---------+-------+-------+-------+----+---------+---+-----+--------+--------+-----+--------+--------+---------------+--------------------+--------------------+---------+--------------------+---------------+-------------+-------------+---------+-------------+-----------+--------------+---------------------+---------------+------------------+-------------+-------------+-------------+---------------+-------------+---------------+-------------+-------------------+--------------------+--------------------+-----+--------------------+--------------------+----------+\n",
      "only showing top 100 rows\n",
      "\n"
     ]
    }
   ],
   "source": [
    "test_predictions_rf.show(100)"
   ]
  },
  {
   "cell_type": "markdown",
   "metadata": {},
   "source": [
    "#### Evaluation : RF Model"
   ]
  },
  {
   "cell_type": "code",
   "execution_count": 142,
   "metadata": {},
   "outputs": [
    {
     "name": "stdout",
     "output_type": "stream",
     "text": [
      "Train accuracy  = 0.844408945687\n",
      "Test accuracy = 0.854061826024\n"
     ]
    }
   ],
   "source": [
    "predictionAndLabels_train_rf = train_predictions_rf.select(\"prediction\", \"label\")\n",
    "train_accuracy_rf = evaluator.evaluate(predictionAndLabels_train_rf)\n",
    "\n",
    "print(\"Train accuracy  = \" + str(train_accuracy_rf))\n",
    "\n",
    "predictionAndLabels_test_rf = test_predictions_rf.select(\"prediction\", \"label\")\n",
    "test_accuracy_rf = evaluator.evaluate(predictionAndLabels_test_rf)\n",
    "\n",
    "print(\"Test accuracy = \" + str(test_accuracy_rf))"
   ]
  },
  {
   "cell_type": "markdown",
   "metadata": {},
   "source": [
    "#### Tuning RF Model"
   ]
  },
  {
   "cell_type": "code",
   "execution_count": 143,
   "metadata": {},
   "outputs": [],
   "source": [
    "paramGridRF = ParamGridBuilder()\\\n",
    "            .addGrid(rf.maxDepth, [5])\\\n",
    "            .addGrid(rf.numTrees, [20])\\\n",
    "            .build()\n",
    "    \n",
    "rf_crossval = CrossValidator(estimator=rf_Pipeline,\n",
    "                             estimatorParamMaps=paramGridRF,\n",
    "                             evaluator=evaluator,\n",
    "                             numFolds=2)     "
   ]
  },
  {
   "cell_type": "code",
   "execution_count": 144,
   "metadata": {},
   "outputs": [],
   "source": [
    "# Run cross-validation, and choose the best set of parameters.\n",
    "rf_crossval_Model = rf_crossval.fit(trainingData)"
   ]
  },
  {
   "cell_type": "code",
   "execution_count": 145,
   "metadata": {},
   "outputs": [],
   "source": [
    "train_predictions_rfcv = rf_crossval_Model.transform(trainingData)\n",
    "test_predictions_rfcv = rf_crossval_Model.transform(testData)"
   ]
  },
  {
   "cell_type": "code",
   "execution_count": 146,
   "metadata": {},
   "outputs": [
    {
     "name": "stdout",
     "output_type": "stream",
     "text": [
      "Train set accuracy  = 0.844408945687\n",
      "Test set accuracy = 0.854061826024\n"
     ]
    }
   ],
   "source": [
    "predictionAndLabels_train_rfcv = train_predictions_rfcv.select(\"prediction\", \"label\")\n",
    "train_accuracyrfcv = evaluator.evaluate(predictionAndLabels_train_rfcv)\n",
    "print(\"Train set accuracy  = \" + str(train_accuracyrfcv))\n",
    "\n",
    "predictionAndLabels_test_rfcv = test_predictions_rfcv.select(\"prediction\", \"label\")\n",
    "test_accuracyrfcv = evaluator.evaluate(predictionAndLabels_test_rfcv)\n",
    "print(\"Test set accuracy = \" + str(test_accuracyrfcv))"
   ]
  },
  {
   "cell_type": "markdown",
   "metadata": {},
   "source": [
    "#### Gradient Boosted Tree Classifier"
   ]
  },
  {
   "cell_type": "code",
   "execution_count": 147,
   "metadata": {},
   "outputs": [],
   "source": [
    "from pyspark.ml.classification import GBTClassifier\n",
    "\n",
    "gbt = GBTClassifier(labelCol=\"label\", featuresCol=\"features\")"
   ]
  },
  {
   "cell_type": "code",
   "execution_count": 148,
   "metadata": {},
   "outputs": [],
   "source": [
    "gbt_Pipeline = Pipeline(stages=preprocessiong_Stages+[gbt]) \n",
    "\n",
    "gbt_Pipeline_model = gbt_Pipeline.fit(trainingData)"
   ]
  },
  {
   "cell_type": "code",
   "execution_count": 149,
   "metadata": {},
   "outputs": [],
   "source": [
    "train_predictions_gbt = gbt_Pipeline_model.transform(trainingData)\n",
    "test_predictions_gbt = gbt_Pipeline_model.transform(testData)"
   ]
  },
  {
   "cell_type": "code",
   "execution_count": 150,
   "metadata": {},
   "outputs": [
    {
     "name": "stdout",
     "output_type": "stream",
     "text": [
      "+---+-------------+--------------+---------+-------+-------+-------+----+---------+---+-----+--------+--------+-----+--------+--------+---------------+---------------------------------+------------------------------------------------------------------------------------------------------------+---------+--------------------+---------------+-------------+-------------+---------+-------------+-----------+--------------+---------------------+---------------+------------------+-------------+-------------+-------------+---------------+-------------+---------------+-------------+-------------------+------------------------------------------------------------------------------+----------------------------------------------------------------------------------------------------------------------------------------------------------------------------------------------------+-----+--------------------------------------------+-----------------------------------------+----------+\n",
      "|age|job          |marital_status|education|default|balance|housing|loan|contact  |day|month|duration|campaign|pdays|previous|poutcome|Approved_no_yes|num_features                     |scaled_num_features                                                                                         |job_index|marital_status_index|education_index|default_index|housing_index|day_index|contact_index|month_index|poutcome_index|Approved_no_yes_index|job_vec        |marital_status_vec|education_vec|default_vec  |housing_vec  |day_vec        |contact_vec  |month_vec      |poutcome_vec |Approved_no_yes_vec|cat_features                                                                  |features                                                                                                                                                                                            |label|rawPrediction                               |probability                              |prediction|\n",
      "+---+-------------+--------------+---------+-------+-------+-------+----+---------+---+-----+--------+--------+-----+--------+--------+---------------+---------------------------------+------------------------------------------------------------------------------------------------------------+---------+--------------------+---------------+-------------+-------------+---------+-------------+-----------+--------------+---------------------+---------------+------------------+-------------+-------------+-------------+---------------+-------------+---------------+-------------+-------------------+------------------------------------------------------------------------------+----------------------------------------------------------------------------------------------------------------------------------------------------------------------------------------------------+-----+--------------------------------------------+-----------------------------------------+----------+\n",
      "|19 |student      |single        |primary  |no     |103.0  |no     |no  |cellular |10 |jul  |104.0   |2.0     |-1.0 |0.0     |unknown |yes            |[19.0,103.0,104.0,0.0,-1.0,2.0]  |[0.0,0.0014468730684946902,0.033101621979477,0.0,0.0,0.02040816326530612]                                   |10.0     |1.0                 |2.0            |0.0          |1.0          |28.0     |0.0          |1.0        |0.0           |1.0                  |(11,[10],[1.0])|(2,[1],[1.0])     |(3,[2],[1.0])|(1,[0],[1.0])|(1,[],[])    |(30,[28],[1.0])|(2,[0],[1.0])|(11,[1],[1.0]) |(3,[0],[1.0])|(1,[],[])          |(65,[10,12,15,16,46,48,51,61],[1.0,1.0,1.0,1.0,1.0,1.0,1.0,1.0])              |(71,[1,2,5,16,18,21,22,52,54,57,67],[0.0014468730684946902,0.033101621979477,0.02040816326530612,1.0,1.0,1.0,1.0,1.0,1.0,1.0,1.0])                                                                  |0.0  |[1.0874526676324512,-1.0874526676324512]    |[0.8979732582115221,0.10202674178847793] |0.0       |\n",
      "|19 |student      |single        |unknown  |no     |1169.0 |no     |no  |cellular |6  |feb  |463.0   |18.0    |-1.0 |0.0     |unknown |no             |[19.0,1169.0,463.0,0.0,-1.0,18.0]|[0.0,0.0164213069618475,0.1519364448857994,0.0,0.0,0.3469387755102041]                                      |10.0     |1.0                 |3.0            |0.0          |1.0          |11.0     |0.0          |6.0        |0.0           |0.0                  |(11,[10],[1.0])|(2,[1],[1.0])     |(3,[],[])    |(1,[0],[1.0])|(1,[],[])    |(30,[11],[1.0])|(2,[0],[1.0])|(11,[6],[1.0]) |(3,[0],[1.0])|(1,[0],[1.0])      |(65,[10,12,16,29,48,56,61,64],[1.0,1.0,1.0,1.0,1.0,1.0,1.0,1.0])              |(71,[1,2,5,16,18,22,35,54,62,67,70],[0.0164213069618475,0.1519364448857994,0.3469387755102041,1.0,1.0,1.0,1.0,1.0,1.0,1.0,1.0])                                                                     |0.0  |[1.2093322773446256,-1.2093322773446256]    |[0.9182395410473313,0.0817604589526687]  |0.0       |\n",
      "|21 |services     |single        |secondary|no     |1903.0 |yes    |no  |unknown  |29 |may  |107.0   |2.0     |-1.0 |0.0     |unknown |no             |[21.0,1903.0,107.0,0.0,-1.0,2.0] |[0.029411764705882353,0.026732033488790247,0.034094670638861305,0.0,0.0,0.02040816326530612]                |4.0      |1.0                 |0.0            |0.0          |0.0          |8.0      |1.0          |0.0        |0.0           |0.0                  |(11,[4],[1.0]) |(2,[1],[1.0])     |(3,[0],[1.0])|(1,[0],[1.0])|(1,[0],[1.0])|(30,[8],[1.0]) |(2,[1],[1.0])|(11,[0],[1.0]) |(3,[0],[1.0])|(1,[0],[1.0])      |(65,[4,12,13,16,17,26,49,50,61,64],[1.0,1.0,1.0,1.0,1.0,1.0,1.0,1.0,1.0,1.0]) |(71,[0,1,2,5,10,18,19,22,23,32,55,56,67,70],[0.029411764705882353,0.026732033488790247,0.034094670638861305,0.02040816326530612,1.0,1.0,1.0,1.0,1.0,1.0,1.0,1.0,1.0,1.0])                           |0.0  |[1.2022717715428777,-1.2022717715428777]    |[0.917173115860252,0.08282688413974804]  |0.0       |\n",
      "|21 |student      |single        |secondary|no     |6.0    |no     |no  |unknown  |9  |may  |622.0   |1.0     |-1.0 |0.0     |unknown |no             |[21.0,6.0,622.0,0.0,-1.0,1.0]    |[0.029411764705882353,8.428386806765185E-5,0.20456802383316783,0.0,0.0,0.0]                                 |10.0     |1.0                 |0.0            |0.0          |1.0          |13.0     |1.0          |0.0        |0.0           |0.0                  |(11,[10],[1.0])|(2,[1],[1.0])     |(3,[0],[1.0])|(1,[0],[1.0])|(1,[],[])    |(30,[13],[1.0])|(2,[1],[1.0])|(11,[0],[1.0]) |(3,[0],[1.0])|(1,[0],[1.0])      |(65,[10,12,13,16,31,49,50,61,64],[1.0,1.0,1.0,1.0,1.0,1.0,1.0,1.0,1.0])       |(71,[0,1,2,16,18,19,22,37,55,56,67,70],[0.029411764705882353,8.428386806765185E-5,0.20456802383316783,1.0,1.0,1.0,1.0,1.0,1.0,1.0,1.0,1.0])                                                         |0.0  |[1.1928391263748213,-1.1928391263748213]    |[0.9157286588882252,0.08427134111177481] |0.0       |\n",
      "|21 |student      |single        |secondary|no     |6844.0 |no     |no  |cellular |14 |aug  |126.0   |3.0     |127.0|7.0     |other   |no             |[21.0,6844.0,126.0,7.0,127.0,3.0]|[0.029411764705882353,0.09613979884250154,0.04038397881496193,0.28,0.15822002472187885,0.04081632653061224] |10.0     |1.0                 |0.0            |0.0          |1.0          |4.0      |0.0          |2.0        |2.0           |0.0                  |(11,[10],[1.0])|(2,[1],[1.0])     |(3,[0],[1.0])|(1,[0],[1.0])|(1,[],[])    |(30,[4],[1.0]) |(2,[0],[1.0])|(11,[2],[1.0]) |(3,[2],[1.0])|(1,[0],[1.0])      |(65,[10,12,13,16,22,48,52,63,64],[1.0,1.0,1.0,1.0,1.0,1.0,1.0,1.0,1.0])       |(71,[0,1,2,3,4,5,16,18,19,22,28,54,58,69,70],[0.029411764705882353,0.09613979884250154,0.04038397881496193,0.28,0.15822002472187885,0.04081632653061224,1.0,1.0,1.0,1.0,1.0,1.0,1.0,1.0,1.0])       |0.0  |[1.3479731290089414,-1.3479731290089414]    |[0.9367870177095646,0.06321298229043537] |0.0       |\n",
      "|21 |student      |single        |unknown  |no     |137.0  |yes    |no  |unknown  |12 |may  |198.0   |3.0     |-1.0 |0.0     |unknown |no             |[21.0,137.0,198.0,0.0,-1.0,3.0]  |[0.029411764705882353,0.0019244816542113839,0.06421714664018537,0.0,0.0,0.04081632653061224]                |10.0     |1.0                 |3.0            |0.0          |0.0          |15.0     |1.0          |0.0        |0.0           |0.0                  |(11,[10],[1.0])|(2,[1],[1.0])     |(3,[],[])    |(1,[0],[1.0])|(1,[0],[1.0])|(30,[15],[1.0])|(2,[1],[1.0])|(11,[0],[1.0]) |(3,[0],[1.0])|(1,[0],[1.0])      |(65,[10,12,16,17,33,49,50,61,64],[1.0,1.0,1.0,1.0,1.0,1.0,1.0,1.0,1.0])       |(71,[0,1,2,5,16,18,22,23,39,55,56,67,70],[0.029411764705882353,0.0019244816542113839,0.06421714664018537,0.04081632653061224,1.0,1.0,1.0,1.0,1.0,1.0,1.0,1.0,1.0])                                  |0.0  |[1.009464762833712,-1.009464762833712]      |[0.8827702744194407,0.11722972558055933] |0.0       |\n",
      "|22 |technician   |single        |secondary|no     |333.0  |no     |yes |telephone|12 |nov  |129.0   |1.0     |-1.0 |0.0     |unknown |no             |[22.0,333.0,129.0,0.0,-1.0,1.0]  |[0.04411764705882353,0.004677754677754678,0.04137702747434624,0.0,0.0,0.0]                                  |2.0      |1.0                 |0.0            |0.0          |1.0          |15.0     |2.0          |4.0        |0.0           |0.0                  |(11,[2],[1.0]) |(2,[1],[1.0])     |(3,[0],[1.0])|(1,[0],[1.0])|(1,[],[])    |(30,[15],[1.0])|(2,[],[])    |(11,[4],[1.0]) |(3,[0],[1.0])|(1,[0],[1.0])      |(65,[2,12,13,16,33,54,61,64],[1.0,1.0,1.0,1.0,1.0,1.0,1.0,1.0])               |(71,[0,1,2,8,18,19,22,39,60,67,70],[0.04411764705882353,0.004677754677754678,0.04137702747434624,1.0,1.0,1.0,1.0,1.0,1.0,1.0,1.0])                                                                  |1.0  |[1.3322784201326232,-1.3322784201326232]    |[0.934902545067174,0.06509745493282604]  |0.0       |\n",
      "|23 |admin.       |single        |secondary|no     |5.0    |no     |no  |unknown  |12 |may  |413.0   |1.0     |-1.0 |0.0     |unknown |no             |[23.0,5.0,413.0,0.0,-1.0,1.0]    |[0.058823529411764705,7.02365567230432E-5,0.1353856338960609,0.0,0.0,0.0]                                   |3.0      |1.0                 |0.0            |0.0          |1.0          |15.0     |1.0          |0.0        |0.0           |0.0                  |(11,[3],[1.0]) |(2,[1],[1.0])     |(3,[0],[1.0])|(1,[0],[1.0])|(1,[],[])    |(30,[15],[1.0])|(2,[1],[1.0])|(11,[0],[1.0]) |(3,[0],[1.0])|(1,[0],[1.0])      |(65,[3,12,13,16,33,49,50,61,64],[1.0,1.0,1.0,1.0,1.0,1.0,1.0,1.0,1.0])        |(71,[0,1,2,9,18,19,22,39,55,56,67,70],[0.058823529411764705,7.02365567230432E-5,0.1353856338960609,1.0,1.0,1.0,1.0,1.0,1.0,1.0,1.0,1.0])                                                            |0.0  |[1.258460807028867,-1.258460807028867]      |[0.9253196067412567,0.07468039325874332] |0.0       |\n",
      "|23 |blue-collar  |single        |primary  |no     |8627.0 |yes    |no  |cellular |15 |may  |169.0   |1.0     |346.0|1.0     |failure |no             |[23.0,8627.0,169.0,1.0,346.0,1.0]|[0.058823529411764705,0.12118615496993876,0.05461767626613704,0.04,0.4289245982694685,0.0]                  |0.0      |1.0                 |2.0            |0.0          |0.0          |16.0     |0.0          |0.0        |1.0           |0.0                  |(11,[0],[1.0]) |(2,[1],[1.0])     |(3,[2],[1.0])|(1,[0],[1.0])|(1,[0],[1.0])|(30,[16],[1.0])|(2,[0],[1.0])|(11,[0],[1.0]) |(3,[1],[1.0])|(1,[0],[1.0])      |(65,[0,12,15,16,17,34,48,50,62,64],[1.0,1.0,1.0,1.0,1.0,1.0,1.0,1.0,1.0,1.0]) |(71,[0,1,2,3,4,6,18,21,22,23,40,54,56,68,70],[0.058823529411764705,0.12118615496993876,0.05461767626613704,0.04,0.4289245982694685,1.0,1.0,1.0,1.0,1.0,1.0,1.0,1.0,1.0,1.0])                        |0.0  |[1.2187962032882984,-1.2187962032882984]    |[0.919649359772495,0.08035064022750504]  |0.0       |\n",
      "|23 |services     |single        |secondary|no     |500.0  |yes    |no  |unknown  |4  |jun  |111.0   |3.0     |-1.0 |0.0     |unknown |no             |[23.0,500.0,111.0,0.0,-1.0,3.0]  |[0.058823529411764705,0.007023655672304321,0.03541873551804038,0.0,0.0,0.04081632653061224]                 |4.0      |1.0                 |0.0            |0.0          |0.0          |19.0     |1.0          |3.0        |0.0           |0.0                  |(11,[4],[1.0]) |(2,[1],[1.0])     |(3,[0],[1.0])|(1,[0],[1.0])|(1,[0],[1.0])|(30,[19],[1.0])|(2,[1],[1.0])|(11,[3],[1.0]) |(3,[0],[1.0])|(1,[0],[1.0])      |(65,[4,12,13,16,17,37,49,53,61,64],[1.0,1.0,1.0,1.0,1.0,1.0,1.0,1.0,1.0,1.0]) |(71,[0,1,2,5,10,18,19,22,23,43,55,59,67,70],[0.058823529411764705,0.007023655672304321,0.03541873551804038,0.04081632653061224,1.0,1.0,1.0,1.0,1.0,1.0,1.0,1.0,1.0,1.0])                            |0.0  |[0.8952811340790416,-0.8952811340790416]    |[0.8569961984038472,0.14300380159615278] |0.0       |\n",
      "|23 |services     |single        |tertiary |no     |363.0  |yes    |no  |unknown  |30 |may  |16.0    |18.0    |-1.0 |0.0     |unknown |no             |[23.0,363.0,16.0,0.0,-1.0,18.0]  |[0.058823529411764705,0.005099174018092937,0.003972194637537239,0.0,0.0,0.3469387755102041]                 |4.0      |1.0                 |1.0            |0.0          |0.0          |10.0     |1.0          |0.0        |0.0           |0.0                  |(11,[4],[1.0]) |(2,[1],[1.0])     |(3,[1],[1.0])|(1,[0],[1.0])|(1,[0],[1.0])|(30,[10],[1.0])|(2,[1],[1.0])|(11,[0],[1.0]) |(3,[0],[1.0])|(1,[0],[1.0])      |(65,[4,12,14,16,17,28,49,50,61,64],[1.0,1.0,1.0,1.0,1.0,1.0,1.0,1.0,1.0,1.0]) |(71,[0,1,2,5,10,18,20,22,23,34,55,56,67,70],[0.058823529411764705,0.005099174018092937,0.003972194637537239,0.3469387755102041,1.0,1.0,1.0,1.0,1.0,1.0,1.0,1.0,1.0,1.0])                            |0.0  |[0.9363966437145961,-0.9363966437145961]    |[0.8667811533796338,0.1332188466203662]  |0.0       |\n",
      "|23 |student      |married       |tertiary |yes    |0.0    |yes    |no  |cellular |18 |may  |259.0   |2.0     |-1.0 |0.0     |unknown |no             |[23.0,0.0,259.0,0.0,-1.0,2.0]    |[0.058823529411764705,0.0,0.08440913604766634,0.0,0.0,0.02040816326530612]                                  |10.0     |0.0                 |1.0            |1.0          |0.0          |1.0      |0.0          |0.0        |0.0           |0.0                  |(11,[10],[1.0])|(2,[0],[1.0])     |(3,[1],[1.0])|(1,[],[])    |(1,[0],[1.0])|(30,[1],[1.0]) |(2,[0],[1.0])|(11,[0],[1.0]) |(3,[0],[1.0])|(1,[0],[1.0])      |(65,[10,11,14,17,19,48,50,61,64],[1.0,1.0,1.0,1.0,1.0,1.0,1.0,1.0,1.0])       |(71,[0,2,5,16,17,20,23,25,54,56,67,70],[0.058823529411764705,0.08440913604766634,0.02040816326530612,1.0,1.0,1.0,1.0,1.0,1.0,1.0,1.0,1.0])                                                          |0.0  |[0.7242406268252063,-0.7242406268252063]    |[0.8097645873947659,0.19023541260523413] |0.0       |\n",
      "|23 |student      |single        |secondary|no     |1021.0 |no     |no  |telephone|19 |jun  |79.0    |9.0     |-1.0 |0.0     |unknown |no             |[23.0,1021.0,79.0,0.0,-1.0,9.0]  |[0.058823529411764705,0.014342304882845424,0.024826216484607744,0.0,0.0,0.16326530612244897]                |10.0     |1.0                 |0.0            |0.0          |1.0          |2.0      |2.0          |3.0        |0.0           |0.0                  |(11,[10],[1.0])|(2,[1],[1.0])     |(3,[0],[1.0])|(1,[0],[1.0])|(1,[],[])    |(30,[2],[1.0]) |(2,[],[])    |(11,[3],[1.0]) |(3,[0],[1.0])|(1,[0],[1.0])      |(65,[10,12,13,16,20,53,61,64],[1.0,1.0,1.0,1.0,1.0,1.0,1.0,1.0])              |(71,[0,1,2,5,16,18,19,22,26,59,67,70],[0.058823529411764705,0.014342304882845424,0.024826216484607744,0.16326530612244897,1.0,1.0,1.0,1.0,1.0,1.0,1.0,1.0])                                         |0.0  |[1.250673837863919,-1.250673837863919]      |[0.9242362430689139,0.07576375693108606] |0.0       |\n",
      "|23 |technician   |single        |secondary|no     |0.0    |yes    |no  |unknown  |4  |jun  |217.0   |2.0     |-1.0 |0.0     |unknown |no             |[23.0,0.0,217.0,0.0,-1.0,2.0]    |[0.058823529411764705,0.0,0.070506454816286,0.0,0.0,0.02040816326530612]                                    |2.0      |1.0                 |0.0            |0.0          |0.0          |19.0     |1.0          |3.0        |0.0           |0.0                  |(11,[2],[1.0]) |(2,[1],[1.0])     |(3,[0],[1.0])|(1,[0],[1.0])|(1,[0],[1.0])|(30,[19],[1.0])|(2,[1],[1.0])|(11,[3],[1.0]) |(3,[0],[1.0])|(1,[0],[1.0])      |(65,[2,12,13,16,17,37,49,53,61,64],[1.0,1.0,1.0,1.0,1.0,1.0,1.0,1.0,1.0,1.0]) |(71,[0,2,5,8,18,19,22,23,43,55,59,67,70],[0.058823529411764705,0.070506454816286,0.02040816326530612,1.0,1.0,1.0,1.0,1.0,1.0,1.0,1.0,1.0,1.0])                                                      |0.0  |[0.8676986625889388,-0.8676986625889388]    |[0.8501014961064339,0.14989850389356607] |0.0       |\n",
      "|23 |technician   |single        |tertiary |no     |1129.0 |yes    |no  |unknown  |28 |may  |806.0   |1.0     |-1.0 |0.0     |unknown |yes            |[23.0,1129.0,806.0,0.0,-1.0,1.0] |[0.058823529411764705,0.015859414508063156,0.2654750082754055,0.0,0.0,0.0]                                  |2.0      |1.0                 |1.0            |0.0          |0.0          |14.0     |1.0          |0.0        |0.0           |1.0                  |(11,[2],[1.0]) |(2,[1],[1.0])     |(3,[1],[1.0])|(1,[0],[1.0])|(1,[0],[1.0])|(30,[14],[1.0])|(2,[1],[1.0])|(11,[0],[1.0]) |(3,[0],[1.0])|(1,[],[])          |(65,[2,12,14,16,17,32,49,50,61],[1.0,1.0,1.0,1.0,1.0,1.0,1.0,1.0,1.0])        |(71,[0,1,2,8,18,20,22,23,38,55,56,67],[0.058823529411764705,0.015859414508063156,0.2654750082754055,1.0,1.0,1.0,1.0,1.0,1.0,1.0,1.0,1.0])                                                           |0.0  |[0.9546934665511734,-0.9546934665511734]    |[0.8709502573130565,0.12904974268694347] |0.0       |\n",
      "|24 |admin.       |married       |secondary|no     |299.0  |yes    |no  |cellular |6  |may  |209.0   |1.0     |321.0|1.0     |failure |no             |[24.0,299.0,209.0,1.0,321.0,1.0] |[0.07352941176470588,0.004200146092037984,0.06785832505792784,0.04,0.3980222496909765,0.0]                  |3.0      |0.0                 |0.0            |0.0          |0.0          |11.0     |0.0          |0.0        |1.0           |0.0                  |(11,[3],[1.0]) |(2,[0],[1.0])     |(3,[0],[1.0])|(1,[0],[1.0])|(1,[0],[1.0])|(30,[11],[1.0])|(2,[0],[1.0])|(11,[0],[1.0]) |(3,[1],[1.0])|(1,[0],[1.0])      |(65,[3,11,13,16,17,29,48,50,62,64],[1.0,1.0,1.0,1.0,1.0,1.0,1.0,1.0,1.0,1.0]) |(71,[0,1,2,3,4,9,17,19,22,23,35,54,56,68,70],[0.07352941176470588,0.004200146092037984,0.06785832505792784,0.04,0.3980222496909765,1.0,1.0,1.0,1.0,1.0,1.0,1.0,1.0,1.0,1.0])                        |0.0  |[-0.31772058685854465,0.31772058685854465]  |[0.34627779406234305,0.653722205937657]  |1.0       |\n",
      "|24 |admin.       |single        |secondary|no     |926.0  |yes    |yes |cellular |15 |may  |191.0   |1.0     |-1.0 |0.0     |unknown |no             |[24.0,926.0,191.0,0.0,-1.0,1.0]  |[0.07352941176470588,0.013007810305107602,0.06190003310162198,0.0,0.0,0.0]                                  |3.0      |1.0                 |0.0            |0.0          |0.0          |16.0     |0.0          |0.0        |0.0           |0.0                  |(11,[3],[1.0]) |(2,[1],[1.0])     |(3,[0],[1.0])|(1,[0],[1.0])|(1,[0],[1.0])|(30,[16],[1.0])|(2,[0],[1.0])|(11,[0],[1.0]) |(3,[0],[1.0])|(1,[0],[1.0])      |(65,[3,12,13,16,17,34,48,50,61,64],[1.0,1.0,1.0,1.0,1.0,1.0,1.0,1.0,1.0,1.0]) |(71,[0,1,2,9,18,19,22,23,40,54,56,67,70],[0.07352941176470588,0.013007810305107602,0.06190003310162198,1.0,1.0,1.0,1.0,1.0,1.0,1.0,1.0,1.0,1.0])                                                    |1.0  |[1.1347553264393324,-1.1347553264393324]    |[0.9063202485650691,0.0936797514349309]  |0.0       |\n",
      "|24 |blue-collar  |married       |secondary|no     |0.0    |yes    |no  |cellular |2  |apr  |90.0    |1.0     |-1.0 |0.0     |unknown |no             |[24.0,0.0,90.0,0.0,-1.0,1.0]     |[0.07352941176470588,0.0,0.028467394902350215,0.0,0.0,0.0]                                                  |0.0      |0.0                 |0.0            |0.0          |0.0          |22.0     |0.0          |5.0        |0.0           |0.0                  |(11,[0],[1.0]) |(2,[0],[1.0])     |(3,[0],[1.0])|(1,[0],[1.0])|(1,[0],[1.0])|(30,[22],[1.0])|(2,[0],[1.0])|(11,[5],[1.0]) |(3,[0],[1.0])|(1,[0],[1.0])      |(65,[0,11,13,16,17,40,48,55,61,64],[1.0,1.0,1.0,1.0,1.0,1.0,1.0,1.0,1.0,1.0]) |(71,[0,2,6,17,19,22,23,46,54,61,67,70],[0.07352941176470588,0.028467394902350215,1.0,1.0,1.0,1.0,1.0,1.0,1.0,1.0,1.0,1.0])                                                                          |0.0  |[0.7069310616917485,-0.7069310616917485]    |[0.8043743873070952,0.1956256126929048]  |0.0       |\n",
      "|24 |blue-collar  |married       |secondary|no     |0.0    |yes    |yes |unknown  |27 |may  |290.0   |2.0     |-1.0 |0.0     |unknown |no             |[24.0,0.0,290.0,0.0,-1.0,2.0]    |[0.07352941176470588,0.0,0.09467063886130421,0.0,0.0,0.02040816326530612]                                   |0.0      |0.0                 |0.0            |0.0          |0.0          |21.0     |1.0          |0.0        |0.0           |0.0                  |(11,[0],[1.0]) |(2,[0],[1.0])     |(3,[0],[1.0])|(1,[0],[1.0])|(1,[0],[1.0])|(30,[21],[1.0])|(2,[1],[1.0])|(11,[0],[1.0]) |(3,[0],[1.0])|(1,[0],[1.0])      |(65,[0,11,13,16,17,39,49,50,61,64],[1.0,1.0,1.0,1.0,1.0,1.0,1.0,1.0,1.0,1.0]) |(71,[0,2,5,6,17,19,22,23,45,55,56,67,70],[0.07352941176470588,0.09467063886130421,0.02040816326530612,1.0,1.0,1.0,1.0,1.0,1.0,1.0,1.0,1.0,1.0])                                                     |1.0  |[0.5003617202731291,-0.5003617202731291]    |[0.7312007918962241,0.2687992081037759]  |0.0       |\n",
      "|24 |blue-collar  |single        |secondary|no     |174.0  |yes    |yes |cellular |18 |may  |487.0   |1.0     |-1.0 |0.0     |unknown |yes            |[24.0,174.0,487.0,0.0,-1.0,1.0]  |[0.07352941176470588,0.0024442321739619037,0.15988083416087387,0.0,0.0,0.0]                                 |0.0      |1.0                 |0.0            |0.0          |0.0          |1.0      |0.0          |0.0        |0.0           |1.0                  |(11,[0],[1.0]) |(2,[1],[1.0])     |(3,[0],[1.0])|(1,[0],[1.0])|(1,[0],[1.0])|(30,[1],[1.0]) |(2,[0],[1.0])|(11,[0],[1.0]) |(3,[0],[1.0])|(1,[],[])          |(65,[0,12,13,16,17,19,48,50,61],[1.0,1.0,1.0,1.0,1.0,1.0,1.0,1.0,1.0])        |(71,[0,1,2,6,18,19,22,23,25,54,56,67],[0.07352941176470588,0.0024442321739619037,0.15988083416087387,1.0,1.0,1.0,1.0,1.0,1.0,1.0,1.0,1.0])                                                          |1.0  |[1.0419511461209763,-1.0419511461209763]    |[0.8893286931718941,0.11067130682810589] |0.0       |\n",
      "|24 |retired      |single        |secondary|no     |366.0  |no     |yes |unknown  |16 |may  |234.0   |2.0     |-1.0 |0.0     |unknown |no             |[24.0,366.0,234.0,0.0,-1.0,2.0]  |[0.07352941176470588,0.005141315952126763,0.07613373055279708,0.0,0.0,0.02040816326530612]                  |5.0      |1.0                 |0.0            |0.0          |1.0          |12.0     |1.0          |0.0        |0.0           |0.0                  |(11,[5],[1.0]) |(2,[1],[1.0])     |(3,[0],[1.0])|(1,[0],[1.0])|(1,[],[])    |(30,[12],[1.0])|(2,[1],[1.0])|(11,[0],[1.0]) |(3,[0],[1.0])|(1,[0],[1.0])      |(65,[5,12,13,16,30,49,50,61,64],[1.0,1.0,1.0,1.0,1.0,1.0,1.0,1.0,1.0])        |(71,[0,1,2,5,11,18,19,22,36,55,56,67,70],[0.07352941176470588,0.005141315952126763,0.07613373055279708,0.02040816326530612,1.0,1.0,1.0,1.0,1.0,1.0,1.0,1.0,1.0])                                    |1.0  |[0.8822644319573846,-0.8822644319573846]    |[0.8537759615663933,0.14622403843360665] |0.0       |\n",
      "|24 |services     |married       |secondary|no     |4500.0 |yes    |no  |cellular |11 |may  |733.0   |2.0     |-1.0 |0.0     |unknown |yes            |[24.0,4500.0,733.0,0.0,-1.0,2.0] |[0.07352941176470588,0.06321290105073889,0.2413108242303873,0.0,0.0,0.02040816326530612]                    |4.0      |0.0                 |0.0            |0.0          |0.0          |17.0     |0.0          |0.0        |0.0           |1.0                  |(11,[4],[1.0]) |(2,[0],[1.0])     |(3,[0],[1.0])|(1,[0],[1.0])|(1,[0],[1.0])|(30,[17],[1.0])|(2,[0],[1.0])|(11,[0],[1.0]) |(3,[0],[1.0])|(1,[],[])          |(65,[4,11,13,16,17,35,48,50,61],[1.0,1.0,1.0,1.0,1.0,1.0,1.0,1.0,1.0])        |(71,[0,1,2,5,10,17,19,22,23,41,54,56,67],[0.07352941176470588,0.06321290105073889,0.2413108242303873,0.02040816326530612,1.0,1.0,1.0,1.0,1.0,1.0,1.0,1.0,1.0])                                      |0.0  |[1.2656021306030256,-1.2656021306030256]    |[0.9263006078683752,0.0736993921316248]  |0.0       |\n",
      "|24 |technician   |married       |secondary|no     |556.0  |yes    |no  |cellular |18 |aug  |460.0   |2.0     |-1.0 |0.0     |unknown |yes            |[24.0,556.0,460.0,0.0,-1.0,2.0]  |[0.07352941176470588,0.007810305107602405,0.1509433962264151,0.0,0.0,0.02040816326530612]                   |2.0      |0.0                 |0.0            |0.0          |0.0          |1.0      |0.0          |2.0        |0.0           |1.0                  |(11,[2],[1.0]) |(2,[0],[1.0])     |(3,[0],[1.0])|(1,[0],[1.0])|(1,[0],[1.0])|(30,[1],[1.0]) |(2,[0],[1.0])|(11,[2],[1.0]) |(3,[0],[1.0])|(1,[],[])          |(65,[2,11,13,16,17,19,48,52,61],[1.0,1.0,1.0,1.0,1.0,1.0,1.0,1.0,1.0])        |(71,[0,1,2,5,8,17,19,22,23,25,54,58,67],[0.07352941176470588,0.007810305107602405,0.1509433962264151,0.02040816326530612,1.0,1.0,1.0,1.0,1.0,1.0,1.0,1.0,1.0])                                      |0.0  |[1.0871425682704003,-1.0871425682704003]    |[0.8979164232614721,0.10208357673852786] |0.0       |\n",
      "|24 |technician   |single        |secondary|no     |0.0    |yes    |no  |unknown  |19 |may  |23.0    |1.0     |-1.0 |0.0     |unknown |no             |[24.0,0.0,23.0,0.0,-1.0,1.0]     |[0.07352941176470588,0.0,0.006289308176100629,0.0,0.0,0.0]                                                  |2.0      |1.0                 |0.0            |0.0          |0.0          |2.0      |1.0          |0.0        |0.0           |0.0                  |(11,[2],[1.0]) |(2,[1],[1.0])     |(3,[0],[1.0])|(1,[0],[1.0])|(1,[0],[1.0])|(30,[2],[1.0]) |(2,[1],[1.0])|(11,[0],[1.0]) |(3,[0],[1.0])|(1,[0],[1.0])      |(65,[2,12,13,16,17,20,49,50,61,64],[1.0,1.0,1.0,1.0,1.0,1.0,1.0,1.0,1.0,1.0]) |(71,[0,2,8,18,19,22,23,26,55,56,67,70],[0.07352941176470588,0.006289308176100629,1.0,1.0,1.0,1.0,1.0,1.0,1.0,1.0,1.0,1.0])                                                                          |0.0  |[0.8676986625889388,-0.8676986625889388]    |[0.8501014961064339,0.14989850389356607] |0.0       |\n",
      "|24 |unemployed   |single        |secondary|no     |119.0  |no     |no  |unknown  |15 |sep  |51.0    |1.0     |-1.0 |0.0     |unknown |no             |[24.0,119.0,51.0,0.0,-1.0,1.0]   |[0.07352941176470588,0.0016716300500084283,0.015557762330354188,0.0,0.0,0.0]                                |8.0      |1.0                 |0.0            |0.0          |1.0          |16.0     |1.0          |9.0        |0.0           |0.0                  |(11,[8],[1.0]) |(2,[1],[1.0])     |(3,[0],[1.0])|(1,[0],[1.0])|(1,[],[])    |(30,[16],[1.0])|(2,[1],[1.0])|(11,[9],[1.0]) |(3,[0],[1.0])|(1,[0],[1.0])      |(65,[8,12,13,16,34,49,59,61,64],[1.0,1.0,1.0,1.0,1.0,1.0,1.0,1.0,1.0])        |(71,[0,1,2,14,18,19,22,40,55,65,67,70],[0.07352941176470588,0.0016716300500084283,0.015557762330354188,1.0,1.0,1.0,1.0,1.0,1.0,1.0,1.0,1.0])                                                        |0.0  |[1.2558890163147713,-1.2558890163147713]    |[0.924963390142287,0.07503660985771299]  |0.0       |\n",
      "|25 |admin.       |married       |secondary|no     |894.0  |yes    |no  |unknown  |28 |may  |328.0   |1.0     |-1.0 |0.0     |unknown |no             |[25.0,894.0,328.0,0.0,-1.0,1.0]  |[0.08823529411764706,0.012558296342080126,0.10724925521350546,0.0,0.0,0.0]                                  |3.0      |0.0                 |0.0            |0.0          |0.0          |14.0     |1.0          |0.0        |0.0           |0.0                  |(11,[3],[1.0]) |(2,[0],[1.0])     |(3,[0],[1.0])|(1,[0],[1.0])|(1,[0],[1.0])|(30,[14],[1.0])|(2,[1],[1.0])|(11,[0],[1.0]) |(3,[0],[1.0])|(1,[0],[1.0])      |(65,[3,11,13,16,17,32,49,50,61,64],[1.0,1.0,1.0,1.0,1.0,1.0,1.0,1.0,1.0,1.0]) |(71,[0,1,2,9,17,19,22,23,38,55,56,67,70],[0.08823529411764706,0.012558296342080126,0.10724925521350546,1.0,1.0,1.0,1.0,1.0,1.0,1.0,1.0,1.0,1.0])                                                    |0.0  |[0.8224509815416812,-0.8224509815416812]    |[0.838200845216195,0.16179915478380502]  |0.0       |\n",
      "|25 |blue-collar  |married       |primary  |yes    |0.0    |yes    |no  |unknown  |3  |jun  |233.0   |1.0     |-1.0 |0.0     |unknown |no             |[25.0,0.0,233.0,0.0,-1.0,1.0]    |[0.08823529411764706,0.0,0.07580271433300231,0.0,0.0,0.0]                                                   |0.0      |0.0                 |2.0            |1.0          |0.0          |23.0     |1.0          |3.0        |0.0           |0.0                  |(11,[0],[1.0]) |(2,[0],[1.0])     |(3,[2],[1.0])|(1,[],[])    |(1,[0],[1.0])|(30,[23],[1.0])|(2,[1],[1.0])|(11,[3],[1.0]) |(3,[0],[1.0])|(1,[0],[1.0])      |(65,[0,11,15,17,41,49,53,61,64],[1.0,1.0,1.0,1.0,1.0,1.0,1.0,1.0,1.0])        |(71,[0,2,6,17,21,23,47,55,59,67,70],[0.08823529411764706,0.07580271433300231,1.0,1.0,1.0,1.0,1.0,1.0,1.0,1.0,1.0])                                                                                  |0.0  |[0.7242406268252063,-0.7242406268252063]    |[0.8097645873947659,0.19023541260523413] |0.0       |\n",
      "|25 |blue-collar  |single        |secondary|no     |913.0  |yes    |no  |cellular |7  |jul  |113.0   |4.0     |-1.0 |0.0     |unknown |no             |[25.0,913.0,113.0,0.0,-1.0,4.0]  |[0.08823529411764706,0.01282519525762769,0.036080767957629926,0.0,0.0,0.061224489795918366]                 |0.0      |1.0                 |0.0            |0.0          |0.0          |6.0      |0.0          |1.0        |0.0           |0.0                  |(11,[0],[1.0]) |(2,[1],[1.0])     |(3,[0],[1.0])|(1,[0],[1.0])|(1,[0],[1.0])|(30,[6],[1.0]) |(2,[0],[1.0])|(11,[1],[1.0]) |(3,[0],[1.0])|(1,[0],[1.0])      |(65,[0,12,13,16,17,24,48,51,61,64],[1.0,1.0,1.0,1.0,1.0,1.0,1.0,1.0,1.0,1.0]) |(71,[0,1,2,5,6,18,19,22,23,30,54,57,67,70],[0.08823529411764706,0.01282519525762769,0.036080767957629926,0.061224489795918366,1.0,1.0,1.0,1.0,1.0,1.0,1.0,1.0,1.0,1.0])                             |0.0  |[0.052368496399024064,-0.052368496399024064]|[0.5261603380155859,0.4738396619844141]  |0.0       |\n",
      "|25 |management   |single        |tertiary |no     |553.0  |yes    |no  |cellular |17 |sep  |113.0   |4.0     |479.0|1.0     |failure |no             |[25.0,553.0,113.0,1.0,479.0,4.0] |[0.08823529411764706,0.007768163173568579,0.036080767957629926,0.04,0.5933250927070457,0.061224489795918366]|1.0      |1.0                 |1.0            |0.0          |0.0          |7.0      |0.0          |9.0        |1.0           |0.0                  |(11,[1],[1.0]) |(2,[1],[1.0])     |(3,[1],[1.0])|(1,[0],[1.0])|(1,[0],[1.0])|(30,[7],[1.0]) |(2,[0],[1.0])|(11,[9],[1.0]) |(3,[1],[1.0])|(1,[0],[1.0])      |(65,[1,12,14,16,17,25,48,59,62,64],[1.0,1.0,1.0,1.0,1.0,1.0,1.0,1.0,1.0,1.0]) |(71,[0,1,2,3,4,5,7,18,20,22,23,31,54,65,68,70],[0.08823529411764706,0.007768163173568579,0.036080767957629926,0.04,0.5933250927070457,0.061224489795918366,1.0,1.0,1.0,1.0,1.0,1.0,1.0,1.0,1.0,1.0])|0.0  |[1.0629298574319643,-1.0629298574319643]    |[0.8933913158087232,0.10660868419127678] |0.0       |\n",
      "|25 |services     |married       |secondary|no     |72.0   |yes    |no  |cellular |23 |jul  |305.0   |2.0     |-1.0 |0.0     |unknown |no             |[25.0,72.0,305.0,0.0,-1.0,2.0]   |[0.08823529411764706,0.0010114064168118223,0.09963588215822575,0.0,0.0,0.02040816326530612]                 |4.0      |0.0                 |0.0            |0.0          |0.0          |24.0     |0.0          |1.0        |0.0           |0.0                  |(11,[4],[1.0]) |(2,[0],[1.0])     |(3,[0],[1.0])|(1,[0],[1.0])|(1,[0],[1.0])|(30,[24],[1.0])|(2,[0],[1.0])|(11,[1],[1.0]) |(3,[0],[1.0])|(1,[0],[1.0])      |(65,[4,11,13,16,17,42,48,51,61,64],[1.0,1.0,1.0,1.0,1.0,1.0,1.0,1.0,1.0,1.0]) |(71,[0,1,2,5,10,17,19,22,23,48,54,57,67,70],[0.08823529411764706,0.0010114064168118223,0.09963588215822575,0.02040816326530612,1.0,1.0,1.0,1.0,1.0,1.0,1.0,1.0,1.0,1.0])                            |0.0  |[0.8427394843577403,-0.8427394843577403]    |[0.8436286745742114,0.15637132542578858] |0.0       |\n",
      "|25 |services     |single        |secondary|no     |0.0    |no     |no  |cellular |15 |jul  |246.0   |1.0     |-1.0 |0.0     |unknown |no             |[25.0,0.0,246.0,0.0,-1.0,1.0]    |[0.08823529411764706,0.0,0.08010592519033433,0.0,0.0,0.0]                                                   |4.0      |1.0                 |0.0            |0.0          |1.0          |16.0     |0.0          |1.0        |0.0           |0.0                  |(11,[4],[1.0]) |(2,[1],[1.0])     |(3,[0],[1.0])|(1,[0],[1.0])|(1,[],[])    |(30,[16],[1.0])|(2,[0],[1.0])|(11,[1],[1.0]) |(3,[0],[1.0])|(1,[0],[1.0])      |(65,[4,12,13,16,34,48,51,61,64],[1.0,1.0,1.0,1.0,1.0,1.0,1.0,1.0,1.0])        |(71,[0,2,10,18,19,22,40,54,57,67,70],[0.08823529411764706,0.08010592519033433,1.0,1.0,1.0,1.0,1.0,1.0,1.0,1.0,1.0])                                                                                 |0.0  |[0.771895433929265,-0.771895433929265]      |[0.8240151302756612,0.1759848697243388]  |0.0       |\n",
      "|25 |services     |single        |secondary|no     |3217.0 |yes    |no  |unknown  |28 |may  |24.0    |1.0     |-1.0 |0.0     |unknown |no             |[25.0,3217.0,24.0,0.0,-1.0,1.0]  |[0.08823529411764706,0.045190200595606,0.006620324395895399,0.0,0.0,0.0]                                    |4.0      |1.0                 |0.0            |0.0          |0.0          |14.0     |1.0          |0.0        |0.0           |0.0                  |(11,[4],[1.0]) |(2,[1],[1.0])     |(3,[0],[1.0])|(1,[0],[1.0])|(1,[0],[1.0])|(30,[14],[1.0])|(2,[1],[1.0])|(11,[0],[1.0]) |(3,[0],[1.0])|(1,[0],[1.0])      |(65,[4,12,13,16,17,32,49,50,61,64],[1.0,1.0,1.0,1.0,1.0,1.0,1.0,1.0,1.0,1.0]) |(71,[0,1,2,10,18,19,22,23,38,55,56,67,70],[0.08823529411764706,0.045190200595606,0.006620324395895399,1.0,1.0,1.0,1.0,1.0,1.0,1.0,1.0,1.0,1.0])                                                     |0.0  |[1.119660096250878,-1.119660096250878]      |[0.9037253272843209,0.09627467271567913] |0.0       |\n",
      "|25 |student      |single        |secondary|no     |8.0    |no     |no  |cellular |22 |apr  |107.0   |2.0     |-1.0 |0.0     |unknown |yes            |[25.0,8.0,107.0,0.0,-1.0,2.0]    |[0.08823529411764706,1.1237849075686913E-4,0.034094670638861305,0.0,0.0,0.02040816326530612]                |10.0     |1.0                 |0.0            |0.0          |1.0          |25.0     |0.0          |5.0        |0.0           |1.0                  |(11,[10],[1.0])|(2,[1],[1.0])     |(3,[0],[1.0])|(1,[0],[1.0])|(1,[],[])    |(30,[25],[1.0])|(2,[0],[1.0])|(11,[5],[1.0]) |(3,[0],[1.0])|(1,[],[])          |(65,[10,12,13,16,43,48,55,61],[1.0,1.0,1.0,1.0,1.0,1.0,1.0,1.0])              |(71,[0,1,2,5,16,18,19,22,49,54,61,67],[0.08823529411764706,1.1237849075686913E-4,0.034094670638861305,0.02040816326530612,1.0,1.0,1.0,1.0,1.0,1.0,1.0,1.0])                                         |0.0  |[1.5576526500613044,-1.5576526500613044]    |[0.9575196773811419,0.042480322618858146]|0.0       |\n",
      "|25 |student      |single        |secondary|no     |1790.0 |no     |no  |cellular |17 |apr  |224.0   |1.0     |322.0|3.0     |failure |no             |[25.0,1790.0,224.0,3.0,322.0,1.0]|[0.08823529411764706,0.02514468730684947,0.07282356835484939,0.12,0.3992583436341162,0.0]                   |10.0     |1.0                 |0.0            |0.0          |1.0          |7.0      |0.0          |5.0        |1.0           |0.0                  |(11,[10],[1.0])|(2,[1],[1.0])     |(3,[0],[1.0])|(1,[0],[1.0])|(1,[],[])    |(30,[7],[1.0]) |(2,[0],[1.0])|(11,[5],[1.0]) |(3,[1],[1.0])|(1,[0],[1.0])      |(65,[10,12,13,16,25,48,55,62,64],[1.0,1.0,1.0,1.0,1.0,1.0,1.0,1.0,1.0])       |(71,[0,1,2,3,4,16,18,19,22,31,54,61,68,70],[0.08823529411764706,0.02514468730684947,0.07282356835484939,0.12,0.3992583436341162,1.0,1.0,1.0,1.0,1.0,1.0,1.0,1.0,1.0])                               |0.0  |[-0.5499876983698586,0.5499876983698586]    |[0.2497445043431822,0.7502554956568178]  |1.0       |\n",
      "|25 |unemployed   |married       |secondary|no     |157.0  |yes    |no  |cellular |28 |jul  |33.0    |31.0    |-1.0 |0.0     |unknown |no             |[25.0,157.0,33.0,0.0,-1.0,31.0]  |[0.08823529411764706,0.0022054278811035567,0.009599470374048328,0.0,0.0,0.6122448979591837]                 |8.0      |0.0                 |0.0            |0.0          |0.0          |14.0     |0.0          |1.0        |0.0           |0.0                  |(11,[8],[1.0]) |(2,[0],[1.0])     |(3,[0],[1.0])|(1,[0],[1.0])|(1,[0],[1.0])|(30,[14],[1.0])|(2,[0],[1.0])|(11,[1],[1.0]) |(3,[0],[1.0])|(1,[0],[1.0])      |(65,[8,11,13,16,17,32,48,51,61,64],[1.0,1.0,1.0,1.0,1.0,1.0,1.0,1.0,1.0,1.0]) |(71,[0,1,2,5,14,17,19,22,23,38,54,57,67,70],[0.08823529411764706,0.0022054278811035567,0.009599470374048328,0.6122448979591837,1.0,1.0,1.0,1.0,1.0,1.0,1.0,1.0,1.0,1.0])                            |0.0  |[0.8839160525283465,-0.8839160525283465]    |[0.8541878649487952,0.14581213505120483] |0.0       |\n",
      "|25 |unemployed   |single        |secondary|no     |34.0   |no     |yes |unknown  |4  |jul  |316.0   |1.0     |-1.0 |0.0     |unknown |no             |[25.0,34.0,316.0,0.0,-1.0,1.0]   |[0.08823529411764706,4.776085857166938E-4,0.10327706057596822,0.0,0.0,0.0]                                  |8.0      |1.0                 |0.0            |0.0          |1.0          |19.0     |1.0          |1.0        |0.0           |0.0                  |(11,[8],[1.0]) |(2,[1],[1.0])     |(3,[0],[1.0])|(1,[0],[1.0])|(1,[],[])    |(30,[19],[1.0])|(2,[1],[1.0])|(11,[1],[1.0]) |(3,[0],[1.0])|(1,[0],[1.0])      |(65,[8,12,13,16,37,49,51,61,64],[1.0,1.0,1.0,1.0,1.0,1.0,1.0,1.0,1.0])        |(71,[0,1,2,14,18,19,22,43,55,57,67,70],[0.08823529411764706,4.776085857166938E-4,0.10327706057596822,1.0,1.0,1.0,1.0,1.0,1.0,1.0,1.0,1.0])                                                          |1.0  |[0.8272228407336025,-0.8272228407336025]    |[0.8394909921090713,0.1605090078909287]  |0.0       |\n",
      "|26 |admin.       |divorced      |secondary|yes    |0.0    |yes    |no  |unknown  |13 |may  |181.0   |5.0     |-1.0 |0.0     |unknown |no             |[26.0,0.0,181.0,0.0,-1.0,5.0]    |[0.10294117647058823,0.0,0.05858987090367428,0.0,0.0,0.08163265306122448]                                   |3.0      |2.0                 |0.0            |1.0          |0.0          |18.0     |1.0          |0.0        |0.0           |0.0                  |(11,[3],[1.0]) |(2,[],[])         |(3,[0],[1.0])|(1,[],[])    |(1,[0],[1.0])|(30,[18],[1.0])|(2,[1],[1.0])|(11,[0],[1.0]) |(3,[0],[1.0])|(1,[0],[1.0])      |(65,[3,13,17,36,49,50,61,64],[1.0,1.0,1.0,1.0,1.0,1.0,1.0,1.0])               |(71,[0,2,5,9,19,23,42,55,56,67,70],[0.10294117647058823,0.05858987090367428,0.08163265306122448,1.0,1.0,1.0,1.0,1.0,1.0,1.0,1.0])                                                                   |0.0  |[0.49689399403320655,-0.49689399403320655]  |[0.7298354713144369,0.27016452868556307] |0.0       |\n",
      "|26 |admin.       |married       |secondary|no     |0.0    |no     |no  |unknown  |27 |may  |755.0   |1.0     |-1.0 |0.0     |unknown |no             |[26.0,0.0,755.0,0.0,-1.0,1.0]    |[0.10294117647058823,0.0,0.24859318106587222,0.0,0.0,0.0]                                                   |3.0      |0.0                 |0.0            |0.0          |1.0          |21.0     |1.0          |0.0        |0.0           |0.0                  |(11,[3],[1.0]) |(2,[0],[1.0])     |(3,[0],[1.0])|(1,[0],[1.0])|(1,[],[])    |(30,[21],[1.0])|(2,[1],[1.0])|(11,[0],[1.0]) |(3,[0],[1.0])|(1,[0],[1.0])      |(65,[3,11,13,16,39,49,50,61,64],[1.0,1.0,1.0,1.0,1.0,1.0,1.0,1.0,1.0])        |(71,[0,2,9,17,19,22,45,55,56,67,70],[0.10294117647058823,0.24859318106587222,1.0,1.0,1.0,1.0,1.0,1.0,1.0,1.0,1.0])                                                                                  |0.0  |[1.0303332594770196,-1.0303332594770196]    |[0.8870209821967022,0.11297901780329778] |0.0       |\n",
      "|26 |admin.       |married       |secondary|no     |2469.0 |no     |no  |cellular |16 |jul  |136.0   |8.0     |-1.0 |0.0     |unknown |no             |[26.0,2469.0,136.0,0.0,-1.0,8.0] |[0.10294117647058823,0.03468281170983874,0.04369414101290963,0.0,0.0,0.14285714285714285]                   |3.0      |0.0                 |0.0            |0.0          |1.0          |12.0     |0.0          |1.0        |0.0           |0.0                  |(11,[3],[1.0]) |(2,[0],[1.0])     |(3,[0],[1.0])|(1,[0],[1.0])|(1,[],[])    |(30,[12],[1.0])|(2,[0],[1.0])|(11,[1],[1.0]) |(3,[0],[1.0])|(1,[0],[1.0])      |(65,[3,11,13,16,30,48,51,61,64],[1.0,1.0,1.0,1.0,1.0,1.0,1.0,1.0,1.0])        |(71,[0,1,2,5,9,17,19,22,36,54,57,67,70],[0.10294117647058823,0.03468281170983874,0.04369414101290963,0.14285714285714285,1.0,1.0,1.0,1.0,1.0,1.0,1.0,1.0,1.0])                                      |0.0  |[0.6300082773993715,-0.6300082773993715]    |[0.7790289575830611,0.22097104241693888] |0.0       |\n",
      "|26 |admin.       |single        |secondary|no     |255.0  |no     |no  |cellular |30 |apr  |457.0   |1.0     |80.0 |1.0     |success |yes            |[26.0,255.0,457.0,1.0,80.0,1.0]  |[0.10294117647058823,0.0035820643928752035,0.1499503475670308,0.04,0.10012360939431397,0.0]                 |3.0      |1.0                 |0.0            |0.0          |1.0          |10.0     |0.0          |5.0        |3.0           |1.0                  |(11,[3],[1.0]) |(2,[1],[1.0])     |(3,[0],[1.0])|(1,[0],[1.0])|(1,[],[])    |(30,[10],[1.0])|(2,[0],[1.0])|(11,[5],[1.0]) |(3,[],[])    |(1,[],[])          |(65,[3,12,13,16,28,48,55],[1.0,1.0,1.0,1.0,1.0,1.0,1.0])                      |(71,[0,1,2,3,4,9,18,19,22,34,54,61],[0.10294117647058823,0.0035820643928752035,0.1499503475670308,0.04,0.10012360939431397,1.0,1.0,1.0,1.0,1.0,1.0,1.0])                                            |0.0  |[1.487282782534996,-1.487282782534996]      |[0.9514117667831208,0.04858823321687922] |0.0       |\n",
      "|26 |admin.       |single        |secondary|no     |443.0  |no     |no  |cellular |30 |jul  |84.0    |3.0     |-1.0 |0.0     |unknown |no             |[26.0,443.0,84.0,0.0,-1.0,3.0]   |[0.10294117647058823,0.006222958925661629,0.026481297583581597,0.0,0.0,0.04081632653061224]                 |3.0      |1.0                 |0.0            |0.0          |1.0          |10.0     |0.0          |1.0        |0.0           |0.0                  |(11,[3],[1.0]) |(2,[1],[1.0])     |(3,[0],[1.0])|(1,[0],[1.0])|(1,[],[])    |(30,[10],[1.0])|(2,[0],[1.0])|(11,[1],[1.0]) |(3,[0],[1.0])|(1,[0],[1.0])      |(65,[3,12,13,16,28,48,51,61,64],[1.0,1.0,1.0,1.0,1.0,1.0,1.0,1.0,1.0])        |(71,[0,1,2,5,9,18,19,22,34,54,57,67,70],[0.10294117647058823,0.006222958925661629,0.026481297583581597,0.04081632653061224,1.0,1.0,1.0,1.0,1.0,1.0,1.0,1.0,1.0])                                    |0.0  |[0.7994779054193678,-0.7994779054193678]    |[0.8318723946970913,0.1681276053029087]  |0.0       |\n",
      "|26 |admin.       |single        |secondary|no     |3529.0 |no     |yes |cellular |7  |sep  |57.0    |2.0     |-1.0 |0.0     |unknown |no             |[26.0,3529.0,57.0,0.0,-1.0,2.0]  |[0.10294117647058823,0.0495729617351239,0.017543859649122806,0.0,0.0,0.02040816326530612]                   |3.0      |1.0                 |0.0            |0.0          |1.0          |6.0      |0.0          |9.0        |0.0           |0.0                  |(11,[3],[1.0]) |(2,[1],[1.0])     |(3,[0],[1.0])|(1,[0],[1.0])|(1,[],[])    |(30,[6],[1.0]) |(2,[0],[1.0])|(11,[9],[1.0]) |(3,[0],[1.0])|(1,[0],[1.0])      |(65,[3,12,13,16,24,48,59,61,64],[1.0,1.0,1.0,1.0,1.0,1.0,1.0,1.0,1.0])        |(71,[0,1,2,5,9,18,19,22,30,54,65,67,70],[0.10294117647058823,0.0495729617351239,0.017543859649122806,0.02040816326530612,1.0,1.0,1.0,1.0,1.0,1.0,1.0,1.0,1.0])                                      |1.0  |[1.301734794969925,-1.301734794969925]      |[0.9310845430295038,0.06891545697049617] |0.0       |\n",
      "|26 |admin.       |single        |tertiary |no     |3672.0 |yes    |no  |unknown  |29 |may  |360.0   |5.0     |-1.0 |0.0     |unknown |no             |[26.0,3672.0,360.0,0.0,-1.0,5.0] |[0.10294117647058823,0.05158172725740293,0.1178417742469381,0.0,0.0,0.08163265306122448]                    |3.0      |1.0                 |1.0            |0.0          |0.0          |8.0      |1.0          |0.0        |0.0           |0.0                  |(11,[3],[1.0]) |(2,[1],[1.0])     |(3,[1],[1.0])|(1,[0],[1.0])|(1,[0],[1.0])|(30,[8],[1.0]) |(2,[1],[1.0])|(11,[0],[1.0]) |(3,[0],[1.0])|(1,[0],[1.0])      |(65,[3,12,14,16,17,26,49,50,61,64],[1.0,1.0,1.0,1.0,1.0,1.0,1.0,1.0,1.0,1.0]) |(71,[0,1,2,5,9,18,20,22,23,32,55,56,67,70],[0.10294117647058823,0.05158172725740293,0.1178417742469381,0.08163265306122448,1.0,1.0,1.0,1.0,1.0,1.0,1.0,1.0,1.0,1.0])                                |0.0  |[1.2433872811784323,-1.2433872811784323]    |[0.9232094511504622,0.07679054884953784] |0.0       |\n",
      "|26 |blue-collar  |married       |primary  |no     |0.0    |yes    |no  |unknown  |21 |may  |425.0   |1.0     |-1.0 |0.0     |unknown |no             |[26.0,0.0,425.0,0.0,-1.0,1.0]    |[0.10294117647058823,0.0,0.13935782853359815,0.0,0.0,0.0]                                                   |0.0      |0.0                 |2.0            |0.0          |0.0          |3.0      |1.0          |0.0        |0.0           |0.0                  |(11,[0],[1.0]) |(2,[0],[1.0])     |(3,[2],[1.0])|(1,[0],[1.0])|(1,[0],[1.0])|(30,[3],[1.0]) |(2,[1],[1.0])|(11,[0],[1.0]) |(3,[0],[1.0])|(1,[0],[1.0])      |(65,[0,11,15,16,17,21,49,50,61,64],[1.0,1.0,1.0,1.0,1.0,1.0,1.0,1.0,1.0,1.0]) |(71,[0,2,6,17,21,22,23,27,55,56,67,70],[0.10294117647058823,0.13935782853359815,1.0,1.0,1.0,1.0,1.0,1.0,1.0,1.0,1.0,1.0])                                                                           |0.0  |[0.7773668762183483,-0.7773668762183483]    |[0.8255963815189369,0.17440361848106312] |0.0       |\n",
      "|26 |blue-collar  |married       |secondary|no     |484.0  |yes    |no  |unknown  |19 |may  |48.0    |2.0     |-1.0 |0.0     |unknown |no             |[26.0,484.0,48.0,0.0,-1.0,2.0]   |[0.10294117647058823,0.006798898690790583,0.014564713670969877,0.0,0.0,0.02040816326530612]                 |0.0      |0.0                 |0.0            |0.0          |0.0          |2.0      |1.0          |0.0        |0.0           |0.0                  |(11,[0],[1.0]) |(2,[0],[1.0])     |(3,[0],[1.0])|(1,[0],[1.0])|(1,[0],[1.0])|(30,[2],[1.0]) |(2,[1],[1.0])|(11,[0],[1.0]) |(3,[0],[1.0])|(1,[0],[1.0])      |(65,[0,11,13,16,17,20,49,50,61,64],[1.0,1.0,1.0,1.0,1.0,1.0,1.0,1.0,1.0,1.0]) |(71,[0,1,2,5,6,17,19,22,23,26,55,56,67,70],[0.10294117647058823,0.006798898690790583,0.014564713670969877,0.02040816326530612,1.0,1.0,1.0,1.0,1.0,1.0,1.0,1.0,1.0,1.0])                             |0.0  |[0.726791050046239,-0.726791050046239]      |[0.8105491105817416,0.18945088941825838] |0.0       |\n",
      "|26 |blue-collar  |single        |primary  |no     |0.0    |yes    |no  |cellular |18 |may  |827.0   |2.0     |-1.0 |0.0     |unknown |yes            |[26.0,0.0,827.0,0.0,-1.0,2.0]    |[0.10294117647058823,0.0,0.2724263488910957,0.0,0.0,0.02040816326530612]                                    |0.0      |1.0                 |2.0            |0.0          |0.0          |1.0      |0.0          |0.0        |0.0           |1.0                  |(11,[0],[1.0]) |(2,[1],[1.0])     |(3,[2],[1.0])|(1,[0],[1.0])|(1,[0],[1.0])|(30,[1],[1.0]) |(2,[0],[1.0])|(11,[0],[1.0]) |(3,[0],[1.0])|(1,[],[])          |(65,[0,12,15,16,17,19,48,50,61],[1.0,1.0,1.0,1.0,1.0,1.0,1.0,1.0,1.0])        |(71,[0,2,5,6,18,21,22,23,25,54,56,67],[0.10294117647058823,0.2724263488910957,0.02040816326530612,1.0,1.0,1.0,1.0,1.0,1.0,1.0,1.0,1.0])                                                             |0.0  |[0.9066068507400269,-0.9066068507400269]    |[0.8597498307744712,0.1402501692255288]  |0.0       |\n",
      "|26 |blue-collar  |single        |primary  |no     |155.0  |yes    |no  |cellular |29 |jan  |291.0   |1.0     |244.0|4.0     |failure |no             |[26.0,155.0,291.0,4.0,244.0,1.0] |[0.10294117647058823,0.0021773332584143395,0.09500165508109898,0.16,0.30284301606922126,0.0]                |0.0      |1.0                 |2.0            |0.0          |0.0          |8.0      |0.0          |7.0        |1.0           |0.0                  |(11,[0],[1.0]) |(2,[1],[1.0])     |(3,[2],[1.0])|(1,[0],[1.0])|(1,[0],[1.0])|(30,[8],[1.0]) |(2,[0],[1.0])|(11,[7],[1.0]) |(3,[1],[1.0])|(1,[0],[1.0])      |(65,[0,12,15,16,17,26,48,57,62,64],[1.0,1.0,1.0,1.0,1.0,1.0,1.0,1.0,1.0,1.0]) |(71,[0,1,2,3,4,6,18,21,22,23,32,54,63,68,70],[0.10294117647058823,0.0021773332584143395,0.09500165508109898,0.16,0.30284301606922126,1.0,1.0,1.0,1.0,1.0,1.0,1.0,1.0,1.0,1.0])                      |0.0  |[0.6007868409964805,-0.6007868409964805]    |[0.7688046144702562,0.23119538552974384] |0.0       |\n",
      "|26 |blue-collar  |single        |primary  |no     |3342.0 |yes    |no  |unknown  |4  |jun  |329.0   |4.0     |-1.0 |0.0     |unknown |no             |[26.0,3342.0,329.0,0.0,-1.0,4.0] |[0.10294117647058823,0.04694611451368208,0.10758027143330023,0.0,0.0,0.061224489795918366]                  |0.0      |1.0                 |2.0            |0.0          |0.0          |19.0     |1.0          |3.0        |0.0           |0.0                  |(11,[0],[1.0]) |(2,[1],[1.0])     |(3,[2],[1.0])|(1,[0],[1.0])|(1,[0],[1.0])|(30,[19],[1.0])|(2,[1],[1.0])|(11,[3],[1.0]) |(3,[0],[1.0])|(1,[0],[1.0])      |(65,[0,12,15,16,17,37,49,53,61,64],[1.0,1.0,1.0,1.0,1.0,1.0,1.0,1.0,1.0,1.0]) |(71,[0,1,2,5,6,18,21,22,23,43,55,59,67,70],[0.10294117647058823,0.04694611451368208,0.10758027143330023,0.061224489795918366,1.0,1.0,1.0,1.0,1.0,1.0,1.0,1.0,1.0,1.0])                              |0.0  |[1.1091147208333816,-1.1091147208333816]    |[0.9018746184238435,0.09812538157615647] |0.0       |\n",
      "|26 |blue-collar  |single        |secondary|no     |0.0    |yes    |yes |cellular |31 |jul  |14.0    |6.0     |-1.0 |0.0     |unknown |no             |[26.0,0.0,14.0,0.0,-1.0,6.0]     |[0.10294117647058823,0.0,0.0033101621979476996,0.0,0.0,0.10204081632653061]                                 |0.0      |1.0                 |0.0            |0.0          |0.0          |27.0     |0.0          |1.0        |0.0           |0.0                  |(11,[0],[1.0]) |(2,[1],[1.0])     |(3,[0],[1.0])|(1,[0],[1.0])|(1,[0],[1.0])|(30,[27],[1.0])|(2,[0],[1.0])|(11,[1],[1.0]) |(3,[0],[1.0])|(1,[0],[1.0])      |(65,[0,12,13,16,17,45,48,51,61,64],[1.0,1.0,1.0,1.0,1.0,1.0,1.0,1.0,1.0,1.0]) |(71,[0,2,5,6,18,19,22,23,51,54,57,67,70],[0.10294117647058823,0.0033101621979476996,0.10204081632653061,1.0,1.0,1.0,1.0,1.0,1.0,1.0,1.0,1.0,1.0])                                                   |1.0  |[0.9114648762500013,-0.9114648762500013]    |[0.8609173028770079,0.13908269712299215] |0.0       |\n",
      "|26 |entrepreneur |single        |tertiary |no     |81.0   |no     |no  |cellular |21 |jul  |262.0   |3.0     |-1.0 |0.0     |unknown |no             |[26.0,81.0,262.0,0.0,-1.0,3.0]   |[0.10294117647058823,0.0011378322189133,0.08540218470705065,0.0,0.0,0.04081632653061224]                    |7.0      |1.0                 |1.0            |0.0          |1.0          |3.0      |0.0          |1.0        |0.0           |0.0                  |(11,[7],[1.0]) |(2,[1],[1.0])     |(3,[1],[1.0])|(1,[0],[1.0])|(1,[],[])    |(30,[3],[1.0]) |(2,[0],[1.0])|(11,[1],[1.0]) |(3,[0],[1.0])|(1,[0],[1.0])      |(65,[7,12,14,16,21,48,51,61,64],[1.0,1.0,1.0,1.0,1.0,1.0,1.0,1.0,1.0])        |(71,[0,1,2,5,13,18,20,22,27,54,57,67,70],[0.10294117647058823,0.0011378322189133,0.08540218470705065,0.04081632653061224,1.0,1.0,1.0,1.0,1.0,1.0,1.0,1.0,1.0])                                      |0.0  |[0.03567495904761864,-0.03567495904761864]  |[0.5178299161047111,0.4821700838952889]  |0.0       |\n",
      "|26 |management   |married       |tertiary |no     |265.0  |no     |no  |cellular |30 |jan  |650.0   |2.0     |-1.0 |0.0     |unknown |no             |[26.0,265.0,650.0,0.0,-1.0,2.0]  |[0.10294117647058823,0.00372253750632129,0.2138364779874214,0.0,0.0,0.02040816326530612]                    |1.0      |0.0                 |1.0            |0.0          |1.0          |10.0     |0.0          |7.0        |0.0           |0.0                  |(11,[1],[1.0]) |(2,[0],[1.0])     |(3,[1],[1.0])|(1,[0],[1.0])|(1,[],[])    |(30,[10],[1.0])|(2,[0],[1.0])|(11,[7],[1.0]) |(3,[0],[1.0])|(1,[0],[1.0])      |(65,[1,11,14,16,28,48,57,61,64],[1.0,1.0,1.0,1.0,1.0,1.0,1.0,1.0,1.0])        |(71,[0,1,2,5,7,17,20,22,34,54,63,67,70],[0.10294117647058823,0.00372253750632129,0.2138364779874214,0.02040816326530612,1.0,1.0,1.0,1.0,1.0,1.0,1.0,1.0,1.0])                                       |0.0  |[1.0637578541959218,-1.0637578541959218]    |[0.8935489353339956,0.1064510646660044]  |0.0       |\n",
      "|26 |management   |single        |tertiary |no     |350.0  |no     |no  |cellular |8  |jul  |367.0   |1.0     |-1.0 |0.0     |unknown |no             |[26.0,350.0,367.0,0.0,-1.0,1.0]  |[0.10294117647058823,0.0049165589706130245,0.12015888778550149,0.0,0.0,0.0]                                 |1.0      |1.0                 |1.0            |0.0          |1.0          |9.0      |0.0          |1.0        |0.0           |0.0                  |(11,[1],[1.0]) |(2,[1],[1.0])     |(3,[1],[1.0])|(1,[0],[1.0])|(1,[],[])    |(30,[9],[1.0]) |(2,[0],[1.0])|(11,[1],[1.0]) |(3,[0],[1.0])|(1,[0],[1.0])      |(65,[1,12,14,16,27,48,51,61,64],[1.0,1.0,1.0,1.0,1.0,1.0,1.0,1.0,1.0])        |(71,[0,1,2,7,18,20,22,33,54,57,67,70],[0.10294117647058823,0.0049165589706130245,0.12015888778550149,1.0,1.0,1.0,1.0,1.0,1.0,1.0,1.0,1.0])                                                          |0.0  |[0.19938946479958744,-0.19938946479958744]  |[0.5983942495064815,0.40160575049351854] |0.0       |\n",
      "|26 |management   |single        |tertiary |no     |1274.0 |yes    |no  |cellular |1  |jun  |190.0   |1.0     |84.0 |1.0     |failure |no             |[26.0,1274.0,190.0,1.0,84.0,1.0] |[0.10294117647058823,0.01789627465303141,0.06156901688182721,0.04,0.10506798516687268,0.0]                  |1.0      |1.0                 |1.0            |0.0          |0.0          |30.0     |0.0          |3.0        |1.0           |0.0                  |(11,[1],[1.0]) |(2,[1],[1.0])     |(3,[1],[1.0])|(1,[0],[1.0])|(1,[0],[1.0])|(30,[],[])     |(2,[0],[1.0])|(11,[3],[1.0]) |(3,[1],[1.0])|(1,[0],[1.0])      |(65,[1,12,14,16,17,48,53,62,64],[1.0,1.0,1.0,1.0,1.0,1.0,1.0,1.0,1.0])        |(71,[0,1,2,3,4,7,18,20,22,23,54,59,68,70],[0.10294117647058823,0.01789627465303141,0.06156901688182721,0.04,0.10506798516687268,1.0,1.0,1.0,1.0,1.0,1.0,1.0,1.0,1.0])                               |0.0  |[1.226113716387983,-1.226113716387983]      |[0.9207241861540176,0.07927581384598237] |0.0       |\n",
      "|26 |self-employed|married       |tertiary |no     |479.0  |yes    |no  |cellular |9  |feb  |133.0   |3.0     |-1.0 |0.0     |unknown |no             |[26.0,479.0,133.0,0.0,-1.0,3.0]  |[0.10294117647058823,0.00672866213406754,0.04270109235352532,0.0,0.0,0.04081632653061224]                   |6.0      |0.0                 |1.0            |0.0          |0.0          |13.0     |0.0          |6.0        |0.0           |0.0                  |(11,[6],[1.0]) |(2,[0],[1.0])     |(3,[1],[1.0])|(1,[0],[1.0])|(1,[0],[1.0])|(30,[13],[1.0])|(2,[0],[1.0])|(11,[6],[1.0]) |(3,[0],[1.0])|(1,[0],[1.0])      |(65,[6,11,14,16,17,31,48,56,61,64],[1.0,1.0,1.0,1.0,1.0,1.0,1.0,1.0,1.0,1.0]) |(71,[0,1,2,5,12,17,20,22,23,37,54,62,67,70],[0.10294117647058823,0.00672866213406754,0.04270109235352532,0.04081632653061224,1.0,1.0,1.0,1.0,1.0,1.0,1.0,1.0,1.0,1.0])                              |0.0  |[0.7139445263185208,-0.7139445263185208]    |[0.8065721926167928,0.1934278073832072]  |0.0       |\n",
      "|26 |self-employed|single        |tertiary |no     |211.0  |no     |no  |cellular |29 |jan  |168.0   |3.0     |-1.0 |0.0     |unknown |no             |[26.0,211.0,168.0,0.0,-1.0,3.0]  |[0.10294117647058823,0.0029639826937124234,0.05428666004634227,0.0,0.0,0.04081632653061224]                 |6.0      |1.0                 |1.0            |0.0          |1.0          |8.0      |0.0          |7.0        |0.0           |0.0                  |(11,[6],[1.0]) |(2,[1],[1.0])     |(3,[1],[1.0])|(1,[0],[1.0])|(1,[],[])    |(30,[8],[1.0]) |(2,[0],[1.0])|(11,[7],[1.0]) |(3,[0],[1.0])|(1,[0],[1.0])      |(65,[6,12,14,16,26,48,57,61,64],[1.0,1.0,1.0,1.0,1.0,1.0,1.0,1.0,1.0])        |(71,[0,1,2,5,12,18,20,22,32,54,63,67,70],[0.10294117647058823,0.0029639826937124234,0.05428666004634227,0.04081632653061224,1.0,1.0,1.0,1.0,1.0,1.0,1.0,1.0,1.0])                                   |0.0  |[1.2082541878025121,-1.2082541878025121]    |[0.9180775183736174,0.0819224816263826]  |0.0       |\n",
      "|26 |services     |single        |secondary|no     |1700.0 |yes    |no  |cellular |7  |may  |13.0    |5.0     |-1.0 |0.0     |unknown |no             |[26.0,1700.0,13.0,0.0,-1.0,5.0]  |[0.10294117647058823,0.02388042928583469,0.0029791459781529296,0.0,0.0,0.08163265306122448]                 |4.0      |1.0                 |0.0            |0.0          |0.0          |6.0      |0.0          |0.0        |0.0           |0.0                  |(11,[4],[1.0]) |(2,[1],[1.0])     |(3,[0],[1.0])|(1,[0],[1.0])|(1,[0],[1.0])|(30,[6],[1.0]) |(2,[0],[1.0])|(11,[0],[1.0]) |(3,[0],[1.0])|(1,[0],[1.0])      |(65,[4,12,13,16,17,24,48,50,61,64],[1.0,1.0,1.0,1.0,1.0,1.0,1.0,1.0,1.0,1.0]) |(71,[0,1,2,5,10,18,19,22,23,30,54,56,67,70],[0.10294117647058823,0.02388042928583469,0.0029791459781529296,0.08163265306122448,1.0,1.0,1.0,1.0,1.0,1.0,1.0,1.0,1.0,1.0])                            |0.0  |[1.1560334375038612,-1.1560334375038612]    |[0.9098714937726321,0.0901285062273679]  |0.0       |\n",
      "|26 |services     |single        |secondary|no     |5533.0 |yes    |no  |cellular |7  |may  |582.0   |2.0     |283.0|4.0     |failure |no             |[26.0,5533.0,582.0,4.0,283.0,2.0]|[0.10294117647058823,0.07772377366971961,0.19132737504137703,0.16,0.3510506798516687,0.02040816326530612]   |4.0      |1.0                 |0.0            |0.0          |0.0          |6.0      |0.0          |0.0        |1.0           |0.0                  |(11,[4],[1.0]) |(2,[1],[1.0])     |(3,[0],[1.0])|(1,[0],[1.0])|(1,[0],[1.0])|(30,[6],[1.0]) |(2,[0],[1.0])|(11,[0],[1.0]) |(3,[1],[1.0])|(1,[0],[1.0])      |(65,[4,12,13,16,17,24,48,50,62,64],[1.0,1.0,1.0,1.0,1.0,1.0,1.0,1.0,1.0,1.0]) |(71,[0,1,2,3,4,5,10,18,19,22,23,30,54,56,68,70],[0.10294117647058823,0.07772377366971961,0.19132737504137703,0.16,0.3510506798516687,0.02040816326530612,1.0,1.0,1.0,1.0,1.0,1.0,1.0,1.0,1.0,1.0])  |0.0  |[1.3368695998250952,-1.3368695998250952]    |[0.9354591547118177,0.06454084528818227] |0.0       |\n",
      "|26 |services     |single        |secondary|yes    |0.0    |yes    |no  |cellular |15 |may  |44.0    |2.0     |-1.0 |0.0     |unknown |no             |[26.0,0.0,44.0,0.0,-1.0,2.0]     |[0.10294117647058823,0.0,0.013240648791790799,0.0,0.0,0.02040816326530612]                                  |4.0      |1.0                 |0.0            |1.0          |0.0          |16.0     |0.0          |0.0        |0.0           |0.0                  |(11,[4],[1.0]) |(2,[1],[1.0])     |(3,[0],[1.0])|(1,[],[])    |(1,[0],[1.0])|(30,[16],[1.0])|(2,[0],[1.0])|(11,[0],[1.0]) |(3,[0],[1.0])|(1,[0],[1.0])      |(65,[4,12,13,17,34,48,50,61,64],[1.0,1.0,1.0,1.0,1.0,1.0,1.0,1.0,1.0])        |(71,[0,2,5,10,18,19,23,40,54,56,67,70],[0.10294117647058823,0.013240648791790799,0.02040816326530612,1.0,1.0,1.0,1.0,1.0,1.0,1.0,1.0,1.0])                                                          |0.0  |[0.8299578615656028,-0.8299578615656028]    |[0.840226689565084,0.15977331043491605]  |0.0       |\n",
      "|26 |student      |single        |secondary|no     |0.0    |no     |no  |unknown  |4  |jun  |95.0    |2.0     |-1.0 |0.0     |unknown |no             |[26.0,0.0,95.0,0.0,-1.0,2.0]     |[0.10294117647058823,0.0,0.030122476001324065,0.0,0.0,0.02040816326530612]                                  |10.0     |1.0                 |0.0            |0.0          |1.0          |19.0     |1.0          |3.0        |0.0           |0.0                  |(11,[10],[1.0])|(2,[1],[1.0])     |(3,[0],[1.0])|(1,[0],[1.0])|(1,[],[])    |(30,[19],[1.0])|(2,[1],[1.0])|(11,[3],[1.0]) |(3,[0],[1.0])|(1,[0],[1.0])      |(65,[10,12,13,16,37,49,53,61,64],[1.0,1.0,1.0,1.0,1.0,1.0,1.0,1.0,1.0])       |(71,[0,2,5,16,18,19,22,43,55,59,67,70],[0.10294117647058823,0.030122476001324065,0.02040816326530612,1.0,1.0,1.0,1.0,1.0,1.0,1.0,1.0,1.0])                                                          |0.0  |[1.1928391263748213,-1.1928391263748213]    |[0.9157286588882252,0.08427134111177481] |0.0       |\n",
      "|26 |student      |single        |secondary|no     |279.0  |no     |no  |cellular |7  |may  |239.0   |3.0     |-1.0 |0.0     |unknown |no             |[26.0,279.0,239.0,0.0,-1.0,3.0]  |[0.10294117647058823,0.003919199865145811,0.07778881165177094,0.0,0.0,0.04081632653061224]                  |10.0     |1.0                 |0.0            |0.0          |1.0          |6.0      |0.0          |0.0        |0.0           |0.0                  |(11,[10],[1.0])|(2,[1],[1.0])     |(3,[0],[1.0])|(1,[0],[1.0])|(1,[],[])    |(30,[6],[1.0]) |(2,[0],[1.0])|(11,[0],[1.0]) |(3,[0],[1.0])|(1,[0],[1.0])      |(65,[10,12,13,16,24,48,50,61,64],[1.0,1.0,1.0,1.0,1.0,1.0,1.0,1.0,1.0])       |(71,[0,1,2,5,16,18,19,22,30,54,56,67,70],[0.10294117647058823,0.003919199865145811,0.07778881165177094,0.04081632653061224,1.0,1.0,1.0,1.0,1.0,1.0,1.0,1.0,1.0])                                    |0.0  |[1.2567949391179074,-1.2567949391179074]    |[0.925089046524717,0.07491095347528298]  |0.0       |\n",
      "|26 |student      |single        |tertiary |no     |294.0  |no     |no  |cellular |5  |mar  |87.0    |1.0     |91.0 |2.0     |success |yes            |[26.0,294.0,87.0,2.0,91.0,1.0]   |[0.10294117647058823,0.004129909535314941,0.027474346242965905,0.08,0.11372064276885044,0.0]                |10.0     |1.0                 |1.0            |0.0          |1.0          |5.0      |0.0          |10.0       |3.0           |1.0                  |(11,[10],[1.0])|(2,[1],[1.0])     |(3,[1],[1.0])|(1,[0],[1.0])|(1,[],[])    |(30,[5],[1.0]) |(2,[0],[1.0])|(11,[10],[1.0])|(3,[],[])    |(1,[],[])          |(65,[10,12,14,16,23,48,60],[1.0,1.0,1.0,1.0,1.0,1.0,1.0])                     |(71,[0,1,2,3,4,16,18,20,22,29,54,66],[0.10294117647058823,0.004129909535314941,0.027474346242965905,0.08,0.11372064276885044,1.0,1.0,1.0,1.0,1.0,1.0,1.0])                                          |0.0  |[1.3371452231749783,-1.3371452231749783]    |[0.935492428422194,0.06450757157780596]  |0.0       |\n",
      "|26 |technician   |single        |secondary|no     |261.0  |yes    |no  |unknown  |27 |may  |371.0   |2.0     |-1.0 |0.0     |unknown |no             |[26.0,261.0,371.0,0.0,-1.0,2.0]  |[0.10294117647058823,0.0036663482609428557,0.12148295266468057,0.0,0.0,0.02040816326530612]                 |2.0      |1.0                 |0.0            |0.0          |0.0          |21.0     |1.0          |0.0        |0.0           |0.0                  |(11,[2],[1.0]) |(2,[1],[1.0])     |(3,[0],[1.0])|(1,[0],[1.0])|(1,[0],[1.0])|(30,[21],[1.0])|(2,[1],[1.0])|(11,[0],[1.0]) |(3,[0],[1.0])|(1,[0],[1.0])      |(65,[2,12,13,16,17,39,49,50,61,64],[1.0,1.0,1.0,1.0,1.0,1.0,1.0,1.0,1.0,1.0]) |(71,[0,1,2,5,8,18,19,22,23,45,55,56,67,70],[0.10294117647058823,0.0036663482609428557,0.12148295266468057,0.02040816326530612,1.0,1.0,1.0,1.0,1.0,1.0,1.0,1.0,1.0,1.0])                             |0.0  |[0.89354286807843,-0.89354286807843]        |[0.856569607478072,0.14343039252192802]  |0.0       |\n",
      "|26 |technician   |single        |secondary|no     |2610.0 |yes    |yes |unknown  |2  |jun  |626.0   |1.0     |-1.0 |0.0     |unknown |no             |[26.0,2610.0,626.0,0.0,-1.0,1.0] |[0.10294117647058823,0.036663482609428553,0.2058920887123469,0.0,0.0,0.0]                                   |2.0      |1.0                 |0.0            |0.0          |0.0          |22.0     |1.0          |3.0        |0.0           |0.0                  |(11,[2],[1.0]) |(2,[1],[1.0])     |(3,[0],[1.0])|(1,[0],[1.0])|(1,[0],[1.0])|(30,[22],[1.0])|(2,[1],[1.0])|(11,[3],[1.0]) |(3,[0],[1.0])|(1,[0],[1.0])      |(65,[2,12,13,16,17,40,49,53,61,64],[1.0,1.0,1.0,1.0,1.0,1.0,1.0,1.0,1.0,1.0]) |(71,[0,1,2,8,18,19,22,23,46,55,59,67,70],[0.10294117647058823,0.036663482609428553,0.2058920887123469,1.0,1.0,1.0,1.0,1.0,1.0,1.0,1.0,1.0,1.0])                                                     |1.0  |[1.2022717715428777,-1.2022717715428777]    |[0.917173115860252,0.08282688413974804]  |0.0       |\n",
      "|26 |technician   |single        |tertiary |no     |75.0   |yes    |yes |unknown  |19 |may  |351.0   |1.0     |-1.0 |0.0     |unknown |no             |[26.0,75.0,351.0,0.0,-1.0,1.0]   |[0.10294117647058823,0.0010535483508456482,0.11486262826878517,0.0,0.0,0.0]                                 |2.0      |1.0                 |1.0            |0.0          |0.0          |2.0      |1.0          |0.0        |0.0           |0.0                  |(11,[2],[1.0]) |(2,[1],[1.0])     |(3,[1],[1.0])|(1,[0],[1.0])|(1,[0],[1.0])|(30,[2],[1.0]) |(2,[1],[1.0])|(11,[0],[1.0]) |(3,[0],[1.0])|(1,[0],[1.0])      |(65,[2,12,14,16,17,20,49,50,61,64],[1.0,1.0,1.0,1.0,1.0,1.0,1.0,1.0,1.0,1.0]) |(71,[0,1,2,8,18,20,22,23,26,55,56,67,70],[0.10294117647058823,0.0010535483508456482,0.11486262826878517,1.0,1.0,1.0,1.0,1.0,1.0,1.0,1.0,1.0,1.0])                                                   |1.0  |[0.9363966437145961,-0.9363966437145961]    |[0.8667811533796338,0.1332188466203662]  |0.0       |\n",
      "|26 |technician   |single        |tertiary |no     |1216.0 |yes    |no  |cellular |16 |apr  |472.0   |2.0     |-1.0 |0.0     |unknown |no             |[26.0,1216.0,472.0,0.0,-1.0,2.0] |[0.10294117647058823,0.01708153059504411,0.15491559086395235,0.0,0.0,0.02040816326530612]                   |2.0      |1.0                 |1.0            |0.0          |0.0          |12.0     |0.0          |5.0        |0.0           |0.0                  |(11,[2],[1.0]) |(2,[1],[1.0])     |(3,[1],[1.0])|(1,[0],[1.0])|(1,[0],[1.0])|(30,[12],[1.0])|(2,[0],[1.0])|(11,[5],[1.0]) |(3,[0],[1.0])|(1,[0],[1.0])      |(65,[2,12,14,16,17,30,48,55,61,64],[1.0,1.0,1.0,1.0,1.0,1.0,1.0,1.0,1.0,1.0]) |(71,[0,1,2,5,8,18,20,22,23,36,54,61,67,70],[0.10294117647058823,0.01708153059504411,0.15491559086395235,0.02040816326530612,1.0,1.0,1.0,1.0,1.0,1.0,1.0,1.0,1.0,1.0])                               |0.0  |[0.7414527771537022,-0.7414527771537022]    |[0.8150110464480481,0.18498895355195188] |0.0       |\n",
      "|26 |unemployed   |married       |tertiary |no     |454.0  |yes    |yes |unknown  |23 |may  |28.0    |18.0    |-1.0 |0.0     |unknown |no             |[26.0,454.0,28.0,0.0,-1.0,18.0]  |[0.10294117647058823,0.0063774793504523235,0.007944389275074478,0.0,0.0,0.3469387755102041]                 |8.0      |0.0                 |1.0            |0.0          |0.0          |24.0     |1.0          |0.0        |0.0           |0.0                  |(11,[8],[1.0]) |(2,[0],[1.0])     |(3,[1],[1.0])|(1,[0],[1.0])|(1,[0],[1.0])|(30,[24],[1.0])|(2,[1],[1.0])|(11,[0],[1.0]) |(3,[0],[1.0])|(1,[0],[1.0])      |(65,[8,11,14,16,17,42,49,50,61,64],[1.0,1.0,1.0,1.0,1.0,1.0,1.0,1.0,1.0,1.0]) |(71,[0,1,2,5,14,17,20,22,23,48,55,56,67,70],[0.10294117647058823,0.0063774793504523235,0.007944389275074478,0.3469387755102041,1.0,1.0,1.0,1.0,1.0,1.0,1.0,1.0,1.0,1.0])                            |1.0  |[0.8697382365450604,-0.8697382365450604]    |[0.8506205556140667,0.1493794443859333]  |0.0       |\n",
      "|26 |unemployed   |single        |secondary|no     |622.0  |no     |no  |cellular |28 |jan  |1451.0  |2.0     |-1.0 |0.0     |unknown |yes            |[26.0,622.0,1451.0,0.0,-1.0,2.0] |[0.10294117647058823,0.008737427656346575,0.4789804700430321,0.0,0.0,0.02040816326530612]                   |8.0      |1.0                 |0.0            |0.0          |1.0          |14.0     |0.0          |7.0        |0.0           |1.0                  |(11,[8],[1.0]) |(2,[1],[1.0])     |(3,[0],[1.0])|(1,[0],[1.0])|(1,[],[])    |(30,[14],[1.0])|(2,[0],[1.0])|(11,[7],[1.0]) |(3,[0],[1.0])|(1,[],[])          |(65,[8,12,13,16,32,48,57,61],[1.0,1.0,1.0,1.0,1.0,1.0,1.0,1.0])               |(71,[0,1,2,5,14,18,19,22,38,54,63,67],[0.10294117647058823,0.008737427656346575,0.4789804700430321,0.02040816326530612,1.0,1.0,1.0,1.0,1.0,1.0,1.0,1.0])                                            |0.0  |[1.0795619023180762,-1.0795619023180762]    |[0.896518289290386,0.10348171070961398]  |0.0       |\n",
      "|27 |admin.       |divorced      |secondary|no     |451.0  |yes    |no  |cellular |16 |jul  |652.0   |1.0     |-1.0 |0.0     |unknown |yes            |[27.0,451.0,652.0,0.0,-1.0,1.0]  |[0.11764705882352941,0.006335337416418498,0.21449851042701093,0.0,0.0,0.0]                                  |3.0      |2.0                 |0.0            |0.0          |0.0          |12.0     |0.0          |1.0        |0.0           |1.0                  |(11,[3],[1.0]) |(2,[],[])         |(3,[0],[1.0])|(1,[0],[1.0])|(1,[0],[1.0])|(30,[12],[1.0])|(2,[0],[1.0])|(11,[1],[1.0]) |(3,[0],[1.0])|(1,[],[])          |(65,[3,13,16,17,30,48,51,61],[1.0,1.0,1.0,1.0,1.0,1.0,1.0,1.0])               |(71,[0,1,2,9,19,22,23,36,54,57,67],[0.11764705882352941,0.006335337416418498,0.21449851042701093,1.0,1.0,1.0,1.0,1.0,1.0,1.0,1.0])                                                                  |0.0  |[1.4430522628255136,-1.4430522628255136]    |[0.9471552438326227,0.05284475616737727] |0.0       |\n",
      "|27 |admin.       |married       |secondary|no     |186.0  |yes    |no  |unknown  |27 |may  |136.0   |2.0     |-1.0 |0.0     |unknown |no             |[27.0,186.0,136.0,0.0,-1.0,2.0]  |[0.11764705882352941,0.0026127999100972075,0.04369414101290963,0.0,0.0,0.02040816326530612]                 |3.0      |0.0                 |0.0            |0.0          |0.0          |21.0     |1.0          |0.0        |0.0           |0.0                  |(11,[3],[1.0]) |(2,[0],[1.0])     |(3,[0],[1.0])|(1,[0],[1.0])|(1,[0],[1.0])|(30,[21],[1.0])|(2,[1],[1.0])|(11,[0],[1.0]) |(3,[0],[1.0])|(1,[0],[1.0])      |(65,[3,11,13,16,17,39,49,50,61,64],[1.0,1.0,1.0,1.0,1.0,1.0,1.0,1.0,1.0,1.0]) |(71,[0,1,2,5,9,17,19,22,23,45,55,56,67,70],[0.11764705882352941,0.0026127999100972075,0.04369414101290963,0.02040816326530612,1.0,1.0,1.0,1.0,1.0,1.0,1.0,1.0,1.0,1.0])                             |0.0  |[0.5681419657802275,-0.5681419657802275]    |[0.7569967112102312,0.24300328878976885] |0.0       |\n",
      "|27 |admin.       |married       |secondary|no     |710.0  |yes    |yes |cellular |6  |may  |653.0   |1.0     |334.0|2.0     |success |yes            |[27.0,710.0,653.0,2.0,334.0,1.0] |[0.11764705882352941,0.009973591054672135,0.21482952664680569,0.08,0.41409147095179233,0.0]                 |3.0      |0.0                 |0.0            |0.0          |0.0          |11.0     |0.0          |0.0        |3.0           |1.0                  |(11,[3],[1.0]) |(2,[0],[1.0])     |(3,[0],[1.0])|(1,[0],[1.0])|(1,[0],[1.0])|(30,[11],[1.0])|(2,[0],[1.0])|(11,[0],[1.0]) |(3,[],[])    |(1,[],[])          |(65,[3,11,13,16,17,29,48,50],[1.0,1.0,1.0,1.0,1.0,1.0,1.0,1.0])               |(71,[0,1,2,3,4,9,17,19,22,23,35,54,56],[0.11764705882352941,0.009973591054672135,0.21482952664680569,0.08,0.41409147095179233,1.0,1.0,1.0,1.0,1.0,1.0,1.0,1.0])                                     |1.0  |[1.2783925729838534,-1.2783925729838534]    |[0.9280280264304815,0.07197197356951845] |0.0       |\n",
      "|27 |admin.       |single        |secondary|no     |3638.0 |no     |no  |cellular |11 |jul  |271.0   |5.0     |-1.0 |0.0     |unknown |no             |[27.0,3638.0,271.0,0.0,-1.0,5.0] |[0.11764705882352941,0.05110411867168624,0.08838133068520357,0.0,0.0,0.08163265306122448]                   |3.0      |1.0                 |0.0            |0.0          |1.0          |17.0     |0.0          |1.0        |0.0           |0.0                  |(11,[3],[1.0]) |(2,[1],[1.0])     |(3,[0],[1.0])|(1,[0],[1.0])|(1,[],[])    |(30,[17],[1.0])|(2,[0],[1.0])|(11,[1],[1.0]) |(3,[0],[1.0])|(1,[0],[1.0])      |(65,[3,12,13,16,35,48,51,61,64],[1.0,1.0,1.0,1.0,1.0,1.0,1.0,1.0,1.0])        |(71,[0,1,2,5,9,18,19,22,41,54,57,67,70],[0.11764705882352941,0.05110411867168624,0.08838133068520357,0.08163265306122448,1.0,1.0,1.0,1.0,1.0,1.0,1.0,1.0,1.0])                                      |0.0  |[0.927029436563385,-0.927029436563385]      |[0.8646029572416881,0.13539704275831188] |0.0       |\n",
      "|27 |admin.       |single        |tertiary |no     |3672.0 |yes    |no  |cellular |15 |may  |157.0   |2.0     |351.0|5.0     |failure |no             |[27.0,3672.0,157.0,5.0,351.0,2.0]|[0.11764705882352941,0.05158172725740293,0.0506454816285998,0.2,0.43510506798516685,0.02040816326530612]    |3.0      |1.0                 |1.0            |0.0          |0.0          |16.0     |0.0          |0.0        |1.0           |0.0                  |(11,[3],[1.0]) |(2,[1],[1.0])     |(3,[1],[1.0])|(1,[0],[1.0])|(1,[0],[1.0])|(30,[16],[1.0])|(2,[0],[1.0])|(11,[0],[1.0]) |(3,[1],[1.0])|(1,[0],[1.0])      |(65,[3,12,14,16,17,34,48,50,62,64],[1.0,1.0,1.0,1.0,1.0,1.0,1.0,1.0,1.0,1.0]) |(71,[0,1,2,3,4,5,9,18,20,22,23,40,54,56,68,70],[0.11764705882352941,0.05158172725740293,0.0506454816285998,0.2,0.43510506798516685,0.02040816326530612,1.0,1.0,1.0,1.0,1.0,1.0,1.0,1.0,1.0,1.0])    |0.0  |[1.3416117682076667,-1.3416117682076667]    |[0.9360294151485818,0.06397058485141816] |0.0       |\n",
      "|27 |blue-collar  |divorced      |secondary|no     |1.0    |yes    |no  |cellular |14 |jul  |116.0   |3.0     |-1.0 |0.0     |unknown |no             |[27.0,1.0,116.0,0.0,-1.0,3.0]    |[0.11764705882352941,1.4047311344608641E-5,0.037073816617014234,0.0,0.0,0.04081632653061224]                |0.0      |2.0                 |0.0            |0.0          |0.0          |4.0      |0.0          |1.0        |0.0           |0.0                  |(11,[0],[1.0]) |(2,[],[])         |(3,[0],[1.0])|(1,[0],[1.0])|(1,[0],[1.0])|(30,[4],[1.0]) |(2,[0],[1.0])|(11,[1],[1.0]) |(3,[0],[1.0])|(1,[0],[1.0])      |(65,[0,13,16,17,22,48,51,61,64],[1.0,1.0,1.0,1.0,1.0,1.0,1.0,1.0,1.0])        |(71,[0,1,2,5,6,19,22,23,28,54,57,67,70],[0.11764705882352941,1.4047311344608641E-5,0.037073816617014234,0.04081632653061224,1.0,1.0,1.0,1.0,1.0,1.0,1.0,1.0,1.0])                                   |0.0  |[0.27049120632682455,-0.27049120632682455]  |[0.6320409223492333,0.36795907765076674] |0.0       |\n",
      "|27 |blue-collar  |married       |secondary|no     |362.0  |yes    |no  |unknown  |14 |may  |332.0   |2.0     |-1.0 |0.0     |unknown |no             |[27.0,362.0,332.0,0.0,-1.0,2.0]  |[0.11764705882352941,0.005085126706748328,0.10857332009268454,0.0,0.0,0.02040816326530612]                  |0.0      |0.0                 |0.0            |0.0          |0.0          |4.0      |1.0          |0.0        |0.0           |0.0                  |(11,[0],[1.0]) |(2,[0],[1.0])     |(3,[0],[1.0])|(1,[0],[1.0])|(1,[0],[1.0])|(30,[4],[1.0]) |(2,[1],[1.0])|(11,[0],[1.0]) |(3,[0],[1.0])|(1,[0],[1.0])      |(65,[0,11,13,16,17,22,49,50,61,64],[1.0,1.0,1.0,1.0,1.0,1.0,1.0,1.0,1.0,1.0]) |(71,[0,1,2,5,6,17,19,22,23,28,55,56,67,70],[0.11764705882352941,0.005085126706748328,0.10857332009268454,0.02040816326530612,1.0,1.0,1.0,1.0,1.0,1.0,1.0,1.0,1.0,1.0])                              |0.0  |[0.726791050046239,-0.726791050046239]      |[0.8105491105817416,0.18945088941825838] |0.0       |\n",
      "|27 |blue-collar  |married       |secondary|no     |818.0  |yes    |no  |unknown  |3  |jun  |188.0   |5.0     |-1.0 |0.0     |unknown |no             |[27.0,818.0,188.0,0.0,-1.0,5.0]  |[0.11764705882352941,0.01149070067988987,0.06090698444223767,0.0,0.0,0.08163265306122448]                   |0.0      |0.0                 |0.0            |0.0          |0.0          |23.0     |1.0          |3.0        |0.0           |0.0                  |(11,[0],[1.0]) |(2,[0],[1.0])     |(3,[0],[1.0])|(1,[0],[1.0])|(1,[0],[1.0])|(30,[23],[1.0])|(2,[1],[1.0])|(11,[3],[1.0]) |(3,[0],[1.0])|(1,[0],[1.0])      |(65,[0,11,13,16,17,41,49,53,61,64],[1.0,1.0,1.0,1.0,1.0,1.0,1.0,1.0,1.0,1.0]) |(71,[0,1,2,5,6,17,19,22,23,47,55,59,67,70],[0.11764705882352941,0.01149070067988987,0.06090698444223767,0.08163265306122448,1.0,1.0,1.0,1.0,1.0,1.0,1.0,1.0,1.0,1.0])                               |0.0  |[0.9052506123788641,-0.9052506123788641]    |[0.8594224408999803,0.14057755910001968] |0.0       |\n",
      "|27 |blue-collar  |single        |primary  |no     |0.0    |yes    |no  |cellular |15 |may  |54.0    |2.0     |-1.0 |0.0     |unknown |no             |[27.0,0.0,54.0,0.0,-1.0,2.0]     |[0.11764705882352941,0.0,0.0165508109897385,0.0,0.0,0.02040816326530612]                                    |0.0      |1.0                 |2.0            |0.0          |0.0          |16.0     |0.0          |0.0        |0.0           |0.0                  |(11,[0],[1.0]) |(2,[1],[1.0])     |(3,[2],[1.0])|(1,[0],[1.0])|(1,[0],[1.0])|(30,[16],[1.0])|(2,[0],[1.0])|(11,[0],[1.0]) |(3,[0],[1.0])|(1,[0],[1.0])      |(65,[0,12,15,16,17,34,48,50,61,64],[1.0,1.0,1.0,1.0,1.0,1.0,1.0,1.0,1.0,1.0]) |(71,[0,2,5,6,18,21,22,23,40,54,56,67,70],[0.11764705882352941,0.0165508109897385,0.02040816326530612,1.0,1.0,1.0,1.0,1.0,1.0,1.0,1.0,1.0,1.0])                                                      |0.0  |[0.8343474177840229,-0.8343474177840229]    |[0.8414017312695274,0.15859826873047256] |0.0       |\n",
      "|27 |blue-collar  |single        |primary  |no     |1209.0 |no     |no  |cellular |29 |jan  |283.0   |1.0     |-1.0 |0.0     |unknown |no             |[27.0,1209.0,283.0,0.0,-1.0,1.0] |[0.11764705882352941,0.01698319941563185,0.09235352532274081,0.0,0.0,0.0]                                   |0.0      |1.0                 |2.0            |0.0          |1.0          |8.0      |0.0          |7.0        |0.0           |0.0                  |(11,[0],[1.0]) |(2,[1],[1.0])     |(3,[2],[1.0])|(1,[0],[1.0])|(1,[],[])    |(30,[8],[1.0]) |(2,[0],[1.0])|(11,[7],[1.0]) |(3,[0],[1.0])|(1,[0],[1.0])      |(65,[0,12,15,16,26,48,57,61,64],[1.0,1.0,1.0,1.0,1.0,1.0,1.0,1.0,1.0])        |(71,[0,1,2,6,18,21,22,32,54,63,67,70],[0.11764705882352941,0.01698319941563185,0.09235352532274081,1.0,1.0,1.0,1.0,1.0,1.0,1.0,1.0,1.0])                                                            |0.0  |[1.0750597169995748,-1.0750597169995748]    |[0.8956799370092399,0.10432006299076013] |0.0       |\n",
      "|27 |blue-collar  |single        |secondary|no     |5.0    |yes    |no  |unknown  |19 |may  |205.0   |3.0     |-1.0 |0.0     |unknown |no             |[27.0,5.0,205.0,0.0,-1.0,3.0]    |[0.11764705882352941,7.02365567230432E-5,0.06653426017874876,0.0,0.0,0.04081632653061224]                   |0.0      |1.0                 |0.0            |0.0          |0.0          |2.0      |1.0          |0.0        |0.0           |0.0                  |(11,[0],[1.0]) |(2,[1],[1.0])     |(3,[0],[1.0])|(1,[0],[1.0])|(1,[0],[1.0])|(30,[2],[1.0]) |(2,[1],[1.0])|(11,[0],[1.0]) |(3,[0],[1.0])|(1,[0],[1.0])      |(65,[0,12,13,16,17,20,49,50,61,64],[1.0,1.0,1.0,1.0,1.0,1.0,1.0,1.0,1.0,1.0]) |(71,[0,1,2,5,6,18,19,22,23,26,55,56,67,70],[0.11764705882352941,7.02365567230432E-5,0.06653426017874876,0.04081632653061224,1.0,1.0,1.0,1.0,1.0,1.0,1.0,1.0,1.0,1.0])                               |0.0  |[0.7733719197939779,-0.7733719197939779]    |[0.8244429434491621,0.17555705655083786] |0.0       |\n",
      "|27 |management   |married       |tertiary |no     |802.0  |no     |no  |cellular |22 |sep  |569.0   |1.0     |-1.0 |0.0     |unknown |yes            |[27.0,802.0,569.0,0.0,-1.0,1.0]  |[0.11764705882352941,0.01126594369837613,0.18702416418404502,0.0,0.0,0.0]                                   |1.0      |0.0                 |1.0            |0.0          |1.0          |25.0     |0.0          |9.0        |0.0           |1.0                  |(11,[1],[1.0]) |(2,[0],[1.0])     |(3,[1],[1.0])|(1,[0],[1.0])|(1,[],[])    |(30,[25],[1.0])|(2,[0],[1.0])|(11,[9],[1.0]) |(3,[0],[1.0])|(1,[],[])          |(65,[1,11,14,16,43,48,59,61],[1.0,1.0,1.0,1.0,1.0,1.0,1.0,1.0])               |(71,[0,1,2,7,17,20,22,49,54,65,67],[0.11764705882352941,0.01126594369837613,0.18702416418404502,1.0,1.0,1.0,1.0,1.0,1.0,1.0,1.0])                                                                   |0.0  |[1.3853882578532681,-1.3853882578532681]    |[0.9410760605641444,0.05892393943585561] |0.0       |\n",
      "|27 |management   |single        |tertiary |no     |0.0    |yes    |no  |cellular |30 |jan  |323.0   |4.0     |-1.0 |0.0     |unknown |no             |[27.0,0.0,323.0,0.0,-1.0,4.0]    |[0.11764705882352941,0.0,0.1055941741145316,0.0,0.0,0.061224489795918366]                                   |1.0      |1.0                 |1.0            |0.0          |0.0          |10.0     |0.0          |7.0        |0.0           |0.0                  |(11,[1],[1.0]) |(2,[1],[1.0])     |(3,[1],[1.0])|(1,[0],[1.0])|(1,[0],[1.0])|(30,[10],[1.0])|(2,[0],[1.0])|(11,[7],[1.0]) |(3,[0],[1.0])|(1,[0],[1.0])      |(65,[1,12,14,16,17,28,48,57,61,64],[1.0,1.0,1.0,1.0,1.0,1.0,1.0,1.0,1.0,1.0]) |(71,[0,2,5,7,18,20,22,23,34,54,63,67,70],[0.11764705882352941,0.1055941741145316,0.061224489795918366,1.0,1.0,1.0,1.0,1.0,1.0,1.0,1.0,1.0,1.0])                                                     |0.0  |[0.9286741605789838,-0.9286741605789838]    |[0.8649875738007936,0.1350124261992064]  |0.0       |\n",
      "|27 |management   |single        |tertiary |yes    |0.0    |no     |yes |cellular |8  |jul  |46.0    |1.0     |-1.0 |0.0     |unknown |no             |[27.0,0.0,46.0,0.0,-1.0,1.0]     |[0.11764705882352941,0.0,0.013902681231380337,0.0,0.0,0.0]                                                  |1.0      |1.0                 |1.0            |1.0          |1.0          |9.0      |0.0          |1.0        |0.0           |0.0                  |(11,[1],[1.0]) |(2,[1],[1.0])     |(3,[1],[1.0])|(1,[],[])    |(1,[],[])    |(30,[9],[1.0]) |(2,[0],[1.0])|(11,[1],[1.0]) |(3,[0],[1.0])|(1,[0],[1.0])      |(65,[1,12,14,27,48,51,61,64],[1.0,1.0,1.0,1.0,1.0,1.0,1.0,1.0])               |(71,[0,2,7,18,20,33,54,57,67,70],[0.11764705882352941,0.013902681231380337,1.0,1.0,1.0,1.0,1.0,1.0,1.0,1.0])                                                                                        |1.0  |[0.6098754394421287,-0.6098754394421287]    |[0.7720197057664644,0.2279802942335356]  |0.0       |\n",
      "|27 |services     |married       |secondary|no     |0.0    |yes    |no  |unknown  |4  |jun  |749.0   |2.0     |-1.0 |0.0     |unknown |no             |[27.0,0.0,749.0,0.0,-1.0,2.0]    |[0.11764705882352941,0.0,0.2466070837471036,0.0,0.0,0.02040816326530612]                                    |4.0      |0.0                 |0.0            |0.0          |0.0          |19.0     |1.0          |3.0        |0.0           |0.0                  |(11,[4],[1.0]) |(2,[0],[1.0])     |(3,[0],[1.0])|(1,[0],[1.0])|(1,[0],[1.0])|(30,[19],[1.0])|(2,[1],[1.0])|(11,[3],[1.0]) |(3,[0],[1.0])|(1,[0],[1.0])      |(65,[4,11,13,16,17,37,49,53,61,64],[1.0,1.0,1.0,1.0,1.0,1.0,1.0,1.0,1.0,1.0]) |(71,[0,2,5,10,17,19,22,23,43,55,59,67,70],[0.11764705882352941,0.2466070837471036,0.02040816326530612,1.0,1.0,1.0,1.0,1.0,1.0,1.0,1.0,1.0,1.0])                                                     |0.0  |[0.7069310616917485,-0.7069310616917485]    |[0.8043743873070952,0.1956256126929048]  |0.0       |\n",
      "|27 |services     |married       |secondary|no     |58.0   |yes    |no  |cellular |7  |may  |113.0   |1.0     |337.0|2.0     |other   |no             |[27.0,58.0,113.0,2.0,337.0,1.0]  |[0.11764705882352941,8.147440579873012E-4,0.036080767957629926,0.08,0.4177997527812114,0.0]                 |4.0      |0.0                 |0.0            |0.0          |0.0          |6.0      |0.0          |0.0        |2.0           |0.0                  |(11,[4],[1.0]) |(2,[0],[1.0])     |(3,[0],[1.0])|(1,[0],[1.0])|(1,[0],[1.0])|(30,[6],[1.0]) |(2,[0],[1.0])|(11,[0],[1.0]) |(3,[2],[1.0])|(1,[0],[1.0])      |(65,[4,11,13,16,17,24,48,50,63,64],[1.0,1.0,1.0,1.0,1.0,1.0,1.0,1.0,1.0,1.0]) |(71,[0,1,2,3,4,10,17,19,22,23,30,54,56,69,70],[0.11764705882352941,8.147440579873012E-4,0.036080767957629926,0.08,0.4177997527812114,1.0,1.0,1.0,1.0,1.0,1.0,1.0,1.0,1.0,1.0])                      |0.0  |[0.7585956978281815,-0.7585956978281815]    |[0.8201245269322593,0.17987547306774065] |0.0       |\n",
      "|27 |services     |single        |secondary|no     |261.0  |yes    |yes |cellular |18 |may  |113.0   |1.0     |-1.0 |0.0     |unknown |no             |[27.0,261.0,113.0,0.0,-1.0,1.0]  |[0.11764705882352941,0.0036663482609428557,0.036080767957629926,0.0,0.0,0.0]                                |4.0      |1.0                 |0.0            |0.0          |0.0          |1.0      |0.0          |0.0        |0.0           |0.0                  |(11,[4],[1.0]) |(2,[1],[1.0])     |(3,[0],[1.0])|(1,[0],[1.0])|(1,[0],[1.0])|(30,[1],[1.0]) |(2,[0],[1.0])|(11,[0],[1.0]) |(3,[0],[1.0])|(1,[0],[1.0])      |(65,[4,12,13,16,17,19,48,50,61,64],[1.0,1.0,1.0,1.0,1.0,1.0,1.0,1.0,1.0,1.0]) |(71,[0,1,2,10,18,19,22,23,25,54,56,67,70],[0.11764705882352941,0.0036663482609428557,0.036080767957629926,1.0,1.0,1.0,1.0,1.0,1.0,1.0,1.0,1.0,1.0])                                                 |1.0  |[0.8952811340790416,-0.8952811340790416]    |[0.8569961984038472,0.14300380159615278] |0.0       |\n",
      "|27 |services     |single        |secondary|no     |795.0  |no     |no  |cellular |6  |feb  |101.0   |3.0     |-1.0 |0.0     |unknown |no             |[27.0,795.0,101.0,0.0,-1.0,3.0]  |[0.11764705882352941,0.01116761251896387,0.03210857332009268,0.0,0.0,0.04081632653061224]                   |4.0      |1.0                 |0.0            |0.0          |1.0          |11.0     |0.0          |6.0        |0.0           |0.0                  |(11,[4],[1.0]) |(2,[1],[1.0])     |(3,[0],[1.0])|(1,[0],[1.0])|(1,[],[])    |(30,[11],[1.0])|(2,[0],[1.0])|(11,[6],[1.0]) |(3,[0],[1.0])|(1,[0],[1.0])      |(65,[4,12,13,16,29,48,56,61,64],[1.0,1.0,1.0,1.0,1.0,1.0,1.0,1.0,1.0])        |(71,[0,1,2,5,10,18,19,22,35,54,62,67,70],[0.11764705882352941,0.01116761251896387,0.03210857332009268,0.04081632653061224,1.0,1.0,1.0,1.0,1.0,1.0,1.0,1.0,1.0])                                     |0.0  |[1.280456683905396,-1.280456683905396]      |[0.928303271911096,0.07169672808890404]  |0.0       |\n",
      "|27 |student      |single        |secondary|no     |268.0  |yes    |no  |cellular |13 |may  |528.0   |1.0     |358.0|2.0     |failure |no             |[27.0,268.0,528.0,2.0,358.0,1.0] |[0.11764705882352941,0.003764679440355116,0.17345249917245945,0.08,0.4437577255871446,0.0]                  |10.0     |1.0                 |0.0            |0.0          |0.0          |18.0     |0.0          |0.0        |1.0           |0.0                  |(11,[10],[1.0])|(2,[1],[1.0])     |(3,[0],[1.0])|(1,[0],[1.0])|(1,[0],[1.0])|(30,[18],[1.0])|(2,[0],[1.0])|(11,[0],[1.0]) |(3,[1],[1.0])|(1,[0],[1.0])      |(65,[10,12,13,16,17,36,48,50,62,64],[1.0,1.0,1.0,1.0,1.0,1.0,1.0,1.0,1.0,1.0])|(71,[0,1,2,3,4,16,18,19,22,23,42,54,56,68,70],[0.11764705882352941,0.003764679440355116,0.17345249917245945,0.08,0.4437577255871446,1.0,1.0,1.0,1.0,1.0,1.0,1.0,1.0,1.0,1.0])                       |0.0  |[0.994859802619145,-0.994859802619145]      |[0.8797134699677677,0.12028653003223233] |0.0       |\n",
      "|27 |technician   |married       |secondary|no     |7.0    |yes    |no  |unknown  |15 |may  |98.0    |2.0     |-1.0 |0.0     |unknown |no             |[27.0,7.0,98.0,0.0,-1.0,2.0]     |[0.11764705882352941,9.83311794122605E-5,0.031115524660708375,0.0,0.0,0.02040816326530612]                  |2.0      |0.0                 |0.0            |0.0          |0.0          |16.0     |1.0          |0.0        |0.0           |0.0                  |(11,[2],[1.0]) |(2,[0],[1.0])     |(3,[0],[1.0])|(1,[0],[1.0])|(1,[0],[1.0])|(30,[16],[1.0])|(2,[1],[1.0])|(11,[0],[1.0]) |(3,[0],[1.0])|(1,[0],[1.0])      |(65,[2,11,13,16,17,34,49,50,61,64],[1.0,1.0,1.0,1.0,1.0,1.0,1.0,1.0,1.0,1.0]) |(71,[0,1,2,5,8,17,19,22,23,40,55,56,67,70],[0.11764705882352941,9.83311794122605E-5,0.031115524660708375,0.02040816326530612,1.0,1.0,1.0,1.0,1.0,1.0,1.0,1.0,1.0,1.0])                              |0.0  |[0.6544668468573336,-0.6544668468573336]    |[0.7873346695485145,0.2126653304514855]  |0.0       |\n",
      "|27 |technician   |single        |secondary|no     |282.0  |no     |yes |cellular |9  |jul  |676.0   |5.0     |-1.0 |0.0     |unknown |no             |[27.0,282.0,676.0,0.0,-1.0,5.0]  |[0.11764705882352941,0.003961341799179637,0.2224428997020854,0.0,0.0,0.08163265306122448]                   |2.0      |1.0                 |0.0            |0.0          |1.0          |13.0     |0.0          |1.0        |0.0           |0.0                  |(11,[2],[1.0]) |(2,[1],[1.0])     |(3,[0],[1.0])|(1,[0],[1.0])|(1,[],[])    |(30,[13],[1.0])|(2,[0],[1.0])|(11,[1],[1.0]) |(3,[0],[1.0])|(1,[0],[1.0])      |(65,[2,12,13,16,31,48,51,61,64],[1.0,1.0,1.0,1.0,1.0,1.0,1.0,1.0,1.0])        |(71,[0,1,2,5,8,18,19,22,37,54,57,67,70],[0.11764705882352941,0.003961341799179637,0.2224428997020854,0.08163265306122448,1.0,1.0,1.0,1.0,1.0,1.0,1.0,1.0,1.0])                                      |1.0  |[0.7994779054193678,-0.7994779054193678]    |[0.8318723946970913,0.1681276053029087]  |0.0       |\n",
      "|27 |unemployed   |single        |tertiary |no     |1.0    |no     |no  |cellular |3  |feb  |65.0    |2.0     |-1.0 |0.0     |unknown |no             |[27.0,1.0,65.0,0.0,-1.0,2.0]     |[0.11764705882352941,1.4047311344608641E-5,0.020191989407480966,0.0,0.0,0.02040816326530612]                |8.0      |1.0                 |1.0            |0.0          |1.0          |23.0     |0.0          |6.0        |0.0           |0.0                  |(11,[8],[1.0]) |(2,[1],[1.0])     |(3,[1],[1.0])|(1,[0],[1.0])|(1,[],[])    |(30,[23],[1.0])|(2,[0],[1.0])|(11,[6],[1.0]) |(3,[0],[1.0])|(1,[0],[1.0])      |(65,[8,12,14,16,41,48,56,61,64],[1.0,1.0,1.0,1.0,1.0,1.0,1.0,1.0,1.0])        |(71,[0,1,2,5,14,18,20,22,47,54,62,67,70],[0.11764705882352941,1.4047311344608641E-5,0.020191989407480966,0.02040816326530612,1.0,1.0,1.0,1.0,1.0,1.0,1.0,1.0,1.0])                                  |0.0  |[1.148377453841455,-1.148377453841455]      |[0.9086079250085644,0.09139207499143565] |0.0       |\n",
      "|28 |admin.       |married       |secondary|no     |0.0    |yes    |no  |cellular |29 |jan  |79.0    |1.0     |225.0|2.0     |success |no             |[28.0,0.0,79.0,2.0,225.0,1.0]    |[0.1323529411764706,0.0,0.024826216484607744,0.08,0.27935723114956734,0.0]                                  |3.0      |0.0                 |0.0            |0.0          |0.0          |8.0      |0.0          |7.0        |3.0           |0.0                  |(11,[3],[1.0]) |(2,[0],[1.0])     |(3,[0],[1.0])|(1,[0],[1.0])|(1,[0],[1.0])|(30,[8],[1.0]) |(2,[0],[1.0])|(11,[7],[1.0]) |(3,[],[])    |(1,[0],[1.0])      |(65,[3,11,13,16,17,26,48,57,64],[1.0,1.0,1.0,1.0,1.0,1.0,1.0,1.0,1.0])        |(71,[0,2,3,4,9,17,19,22,23,32,54,63,70],[0.1323529411764706,0.024826216484607744,0.08,0.27935723114956734,1.0,1.0,1.0,1.0,1.0,1.0,1.0,1.0,1.0])                                                     |0.0  |[0.5316563623201159,-0.5316563623201159]    |[0.7433231021521132,0.25667689784788683] |0.0       |\n",
      "|28 |admin.       |single        |secondary|no     |1323.0 |yes    |no  |unknown  |3  |jun  |361.0   |1.0     |-1.0 |0.0     |unknown |no             |[28.0,1323.0,361.0,0.0,-1.0,1.0] |[0.1323529411764706,0.018584592908917234,0.11817279046673287,0.0,0.0,0.0]                                   |3.0      |1.0                 |0.0            |0.0          |0.0          |23.0     |1.0          |3.0        |0.0           |0.0                  |(11,[3],[1.0]) |(2,[1],[1.0])     |(3,[0],[1.0])|(1,[0],[1.0])|(1,[0],[1.0])|(30,[23],[1.0])|(2,[1],[1.0])|(11,[3],[1.0]) |(3,[0],[1.0])|(1,[0],[1.0])      |(65,[3,12,13,16,17,41,49,53,61,64],[1.0,1.0,1.0,1.0,1.0,1.0,1.0,1.0,1.0,1.0]) |(71,[0,1,2,9,18,19,22,23,47,55,59,67,70],[0.1323529411764706,0.018584592908917234,0.11817279046673287,1.0,1.0,1.0,1.0,1.0,1.0,1.0,1.0,1.0,1.0])                                                     |0.0  |[1.2022717715428777,-1.2022717715428777]    |[0.917173115860252,0.08282688413974804]  |0.0       |\n",
      "|28 |admin.       |single        |unknown  |no     |174.0  |no     |no  |cellular |28 |sep  |184.0   |1.0     |-1.0 |0.0     |unknown |no             |[28.0,174.0,184.0,0.0,-1.0,1.0]  |[0.1323529411764706,0.0024442321739619037,0.05958291956305859,0.0,0.0,0.0]                                  |3.0      |1.0                 |3.0            |0.0          |1.0          |14.0     |0.0          |9.0        |0.0           |0.0                  |(11,[3],[1.0]) |(2,[1],[1.0])     |(3,[],[])    |(1,[0],[1.0])|(1,[],[])    |(30,[14],[1.0])|(2,[0],[1.0])|(11,[9],[1.0]) |(3,[0],[1.0])|(1,[0],[1.0])      |(65,[3,12,16,32,48,59,61,64],[1.0,1.0,1.0,1.0,1.0,1.0,1.0,1.0])               |(71,[0,1,2,9,18,22,38,54,65,67,70],[0.1323529411764706,0.0024442321739619037,0.05958291956305859,1.0,1.0,1.0,1.0,1.0,1.0,1.0,1.0])                                                                  |0.0  |[1.2227876216921696,-1.2227876216921696]    |[0.9202372741962606,0.07976272580373944] |0.0       |\n",
      "|28 |blue-collar  |married       |secondary|no     |1020.0 |yes    |no  |unknown  |28 |may  |251.0   |1.0     |-1.0 |0.0     |unknown |no             |[28.0,1020.0,251.0,0.0,-1.0,1.0] |[0.1323529411764706,0.014328257571500814,0.08176100628930817,0.0,0.0,0.0]                                   |0.0      |0.0                 |0.0            |0.0          |0.0          |14.0     |1.0          |0.0        |0.0           |0.0                  |(11,[0],[1.0]) |(2,[0],[1.0])     |(3,[0],[1.0])|(1,[0],[1.0])|(1,[0],[1.0])|(30,[14],[1.0])|(2,[1],[1.0])|(11,[0],[1.0]) |(3,[0],[1.0])|(1,[0],[1.0])      |(65,[0,11,13,16,17,32,49,50,61,64],[1.0,1.0,1.0,1.0,1.0,1.0,1.0,1.0,1.0,1.0]) |(71,[0,1,2,6,17,19,22,23,38,55,56,67,70],[0.1323529411764706,0.014328257571500814,0.08176100628930817,1.0,1.0,1.0,1.0,1.0,1.0,1.0,1.0,1.0,1.0])                                                     |0.0  |[0.8224509815416812,-0.8224509815416812]    |[0.838200845216195,0.16179915478380502]  |0.0       |\n",
      "|28 |blue-collar  |married       |secondary|no     |1137.0 |no     |no  |cellular |6  |feb  |129.0   |4.0     |211.0|3.0     |other   |no             |[28.0,1137.0,129.0,3.0,211.0,4.0]|[0.1323529411764706,0.015971792998820025,0.04137702747434624,0.12,0.2620519159456119,0.061224489795918366]  |0.0      |0.0                 |0.0            |0.0          |1.0          |11.0     |0.0          |6.0        |2.0           |0.0                  |(11,[0],[1.0]) |(2,[0],[1.0])     |(3,[0],[1.0])|(1,[0],[1.0])|(1,[],[])    |(30,[11],[1.0])|(2,[0],[1.0])|(11,[6],[1.0]) |(3,[2],[1.0])|(1,[0],[1.0])      |(65,[0,11,13,16,29,48,56,63,64],[1.0,1.0,1.0,1.0,1.0,1.0,1.0,1.0,1.0])        |(71,[0,1,2,3,4,5,6,17,19,22,35,54,62,69,70],[0.1323529411764706,0.015971792998820025,0.04137702747434624,0.12,0.2620519159456119,0.061224489795918366,1.0,1.0,1.0,1.0,1.0,1.0,1.0,1.0,1.0])         |0.0  |[0.9873144761530374,-0.9873144761530374]    |[0.8781074397995674,0.1218925602004326]  |0.0       |\n",
      "|28 |blue-collar  |married       |secondary|no     |2788.0 |yes    |no  |unknown  |6  |jun  |369.0   |2.0     |-1.0 |0.0     |unknown |yes            |[28.0,2788.0,369.0,0.0,-1.0,2.0] |[0.1323529411764706,0.039163904028768896,0.12082092022509103,0.0,0.0,0.02040816326530612]                   |0.0      |0.0                 |0.0            |0.0          |0.0          |11.0     |1.0          |3.0        |0.0           |1.0                  |(11,[0],[1.0]) |(2,[0],[1.0])     |(3,[0],[1.0])|(1,[0],[1.0])|(1,[0],[1.0])|(30,[11],[1.0])|(2,[1],[1.0])|(11,[3],[1.0]) |(3,[0],[1.0])|(1,[],[])          |(65,[0,11,13,16,17,29,49,53,61],[1.0,1.0,1.0,1.0,1.0,1.0,1.0,1.0,1.0])        |(71,[0,1,2,5,6,17,19,22,23,35,55,59,67],[0.1323529411764706,0.039163904028768896,0.12082092022509103,0.02040816326530612,1.0,1.0,1.0,1.0,1.0,1.0,1.0,1.0,1.0])                                      |0.0  |[1.1541888403718616,-1.1541888403718616]    |[0.909568502265628,0.09043149773437198]  |0.0       |\n",
      "|28 |blue-collar  |single        |secondary|no     |0.0    |yes    |no  |cellular |1  |sep  |199.0   |1.0     |92.0 |14.0    |success |yes            |[28.0,0.0,199.0,14.0,92.0,1.0]   |[0.1323529411764706,0.0,0.06454816285998013,0.56,0.11495673671199011,0.0]                                   |0.0      |1.0                 |0.0            |0.0          |0.0          |30.0     |0.0          |9.0        |3.0           |1.0                  |(11,[0],[1.0]) |(2,[1],[1.0])     |(3,[0],[1.0])|(1,[0],[1.0])|(1,[0],[1.0])|(30,[],[])     |(2,[0],[1.0])|(11,[9],[1.0]) |(3,[],[])    |(1,[],[])          |(65,[0,12,13,16,17,48,59],[1.0,1.0,1.0,1.0,1.0,1.0,1.0])                      |(71,[0,2,3,4,6,18,19,22,23,54,65],[0.1323529411764706,0.06454816285998013,0.56,0.11495673671199011,1.0,1.0,1.0,1.0,1.0,1.0,1.0])                                                                    |0.0  |[0.6728461219701908,-0.6728461219701908]    |[0.7934244704306982,0.2065755295693018]  |0.0       |\n",
      "|28 |blue-collar  |single        |secondary|no     |0.0    |yes    |no  |unknown  |28 |may  |386.0   |1.0     |-1.0 |0.0     |unknown |no             |[28.0,0.0,386.0,0.0,-1.0,1.0]    |[0.1323529411764706,0.0,0.12644819596160212,0.0,0.0,0.0]                                                    |0.0      |1.0                 |0.0            |0.0          |0.0          |14.0     |1.0          |0.0        |0.0           |0.0                  |(11,[0],[1.0]) |(2,[1],[1.0])     |(3,[0],[1.0])|(1,[0],[1.0])|(1,[0],[1.0])|(30,[14],[1.0])|(2,[1],[1.0])|(11,[0],[1.0]) |(3,[0],[1.0])|(1,[0],[1.0])      |(65,[0,12,13,16,17,32,49,50,61,64],[1.0,1.0,1.0,1.0,1.0,1.0,1.0,1.0,1.0,1.0]) |(71,[0,2,6,18,19,22,23,38,55,56,67,70],[0.1323529411764706,0.12644819596160212,1.0,1.0,1.0,1.0,1.0,1.0,1.0,1.0,1.0,1.0])                                                                            |0.0  |[0.7733719197939779,-0.7733719197939779]    |[0.8244429434491621,0.17555705655083786] |0.0       |\n",
      "|28 |blue-collar  |single        |secondary|no     |56.0   |yes    |no  |unknown  |23 |may  |66.0    |1.0     |-1.0 |0.0     |unknown |no             |[28.0,56.0,66.0,0.0,-1.0,1.0]    |[0.1323529411764706,7.86649435298084E-4,0.020523005627275735,0.0,0.0,0.0]                                   |0.0      |1.0                 |0.0            |0.0          |0.0          |24.0     |1.0          |0.0        |0.0           |0.0                  |(11,[0],[1.0]) |(2,[1],[1.0])     |(3,[0],[1.0])|(1,[0],[1.0])|(1,[0],[1.0])|(30,[24],[1.0])|(2,[1],[1.0])|(11,[0],[1.0]) |(3,[0],[1.0])|(1,[0],[1.0])      |(65,[0,12,13,16,17,42,49,50,61,64],[1.0,1.0,1.0,1.0,1.0,1.0,1.0,1.0,1.0,1.0]) |(71,[0,1,2,6,18,19,22,23,48,55,56,67,70],[0.1323529411764706,7.86649435298084E-4,0.020523005627275735,1.0,1.0,1.0,1.0,1.0,1.0,1.0,1.0,1.0,1.0])                                                     |0.0  |[0.7932319081484684,-0.7932319081484684]    |[0.8301180049821161,0.16988199501788392] |0.0       |\n",
      "|28 |blue-collar  |single        |secondary|no     |517.0  |no     |yes |cellular |8  |jul  |681.0   |1.0     |-1.0 |0.0     |unknown |yes            |[28.0,517.0,681.0,0.0,-1.0,1.0]  |[0.1323529411764706,0.007262459965162668,0.22409798080105925,0.0,0.0,0.0]                                   |0.0      |1.0                 |0.0            |0.0          |1.0          |9.0      |0.0          |1.0        |0.0           |1.0                  |(11,[0],[1.0]) |(2,[1],[1.0])     |(3,[0],[1.0])|(1,[0],[1.0])|(1,[],[])    |(30,[9],[1.0]) |(2,[0],[1.0])|(11,[1],[1.0]) |(3,[0],[1.0])|(1,[],[])          |(65,[0,12,13,16,27,48,51,61],[1.0,1.0,1.0,1.0,1.0,1.0,1.0,1.0])               |(71,[0,1,2,6,18,19,22,33,54,57,67],[0.1323529411764706,0.007262459965162668,0.22409798080105925,1.0,1.0,1.0,1.0,1.0,1.0,1.0,1.0])                                                                   |1.0  |[0.4545468623036186,-0.4545468623036186]    |[0.7128146749819484,0.2871853250180516]  |0.0       |\n",
      "|28 |management   |married       |tertiary |no     |1480.0 |yes    |no  |cellular |18 |may  |143.0   |1.0     |-1.0 |0.0     |unknown |no             |[28.0,1480.0,143.0,0.0,-1.0,1.0] |[0.1323529411764706,0.02079002079002079,0.04601125455147302,0.0,0.0,0.0]                                    |1.0      |0.0                 |1.0            |0.0          |0.0          |1.0      |0.0          |0.0        |0.0           |0.0                  |(11,[1],[1.0]) |(2,[0],[1.0])     |(3,[1],[1.0])|(1,[0],[1.0])|(1,[0],[1.0])|(30,[1],[1.0]) |(2,[0],[1.0])|(11,[0],[1.0]) |(3,[0],[1.0])|(1,[0],[1.0])      |(65,[1,11,14,16,17,19,48,50,61,64],[1.0,1.0,1.0,1.0,1.0,1.0,1.0,1.0,1.0,1.0]) |(71,[0,1,2,7,17,20,22,23,25,54,56,67,70],[0.1323529411764706,0.02079002079002079,0.04601125455147302,1.0,1.0,1.0,1.0,1.0,1.0,1.0,1.0,1.0,1.0])                                                      |0.0  |[0.9743149751358394,-0.9743149751358394]    |[0.8752971749785229,0.12470282502147712] |0.0       |\n",
      "+---+-------------+--------------+---------+-------+-------+-------+----+---------+---+-----+--------+--------+-----+--------+--------+---------------+---------------------------------+------------------------------------------------------------------------------------------------------------+---------+--------------------+---------------+-------------+-------------+---------+-------------+-----------+--------------+---------------------+---------------+------------------+-------------+-------------+-------------+---------------+-------------+---------------+-------------+-------------------+------------------------------------------------------------------------------+----------------------------------------------------------------------------------------------------------------------------------------------------------------------------------------------------+-----+--------------------------------------------+-----------------------------------------+----------+\n",
      "only showing top 100 rows\n",
      "\n"
     ]
    }
   ],
   "source": [
    "test_predictions_gbt.show(100, truncate= False)"
   ]
  },
  {
   "cell_type": "code",
   "execution_count": 151,
   "metadata": {},
   "outputs": [
    {
     "name": "stdout",
     "output_type": "stream",
     "text": [
      "+----+----------+--------------------+\n",
      "|loan|prediction|         probability|\n",
      "+----+----------+--------------------+\n",
      "|  no|       0.0|[0.89797325821152...|\n",
      "|  no|       0.0|[0.91823954104733...|\n",
      "|  no|       0.0|[0.91717311586025...|\n",
      "|  no|       0.0|[0.91572865888822...|\n",
      "|  no|       0.0|[0.93678701770956...|\n",
      "|  no|       0.0|[0.88277027441944...|\n",
      "| yes|       0.0|[0.93490254506717...|\n",
      "|  no|       0.0|[0.92531960674125...|\n",
      "|  no|       0.0|[0.91964935977249...|\n",
      "|  no|       0.0|[0.85699619840384...|\n",
      "|  no|       0.0|[0.86678115337963...|\n",
      "|  no|       0.0|[0.80976458739476...|\n",
      "|  no|       0.0|[0.92423624306891...|\n",
      "|  no|       0.0|[0.85010149610643...|\n",
      "|  no|       0.0|[0.87095025731305...|\n",
      "|  no|       1.0|[0.34627779406234...|\n",
      "| yes|       0.0|[0.90632024856506...|\n",
      "|  no|       0.0|[0.80437438730709...|\n",
      "| yes|       0.0|[0.73120079189622...|\n",
      "| yes|       0.0|[0.88932869317189...|\n",
      "| yes|       0.0|[0.85377596156639...|\n",
      "|  no|       0.0|[0.92630060786837...|\n",
      "|  no|       0.0|[0.89791642326147...|\n",
      "|  no|       0.0|[0.85010149610643...|\n",
      "|  no|       0.0|[0.92496339014228...|\n",
      "|  no|       0.0|[0.83820084521619...|\n",
      "|  no|       0.0|[0.80976458739476...|\n",
      "|  no|       0.0|[0.52616033801558...|\n",
      "|  no|       0.0|[0.89339131580872...|\n",
      "|  no|       0.0|[0.84362867457421...|\n",
      "|  no|       0.0|[0.82401513027566...|\n",
      "|  no|       0.0|[0.90372532728432...|\n",
      "|  no|       0.0|[0.95751967738114...|\n",
      "|  no|       1.0|[0.24974450434318...|\n",
      "|  no|       0.0|[0.85418786494879...|\n",
      "| yes|       0.0|[0.83949099210907...|\n",
      "|  no|       0.0|[0.72983547131443...|\n",
      "|  no|       0.0|[0.88702098219670...|\n",
      "|  no|       0.0|[0.77902895758306...|\n",
      "|  no|       0.0|[0.95141176678312...|\n",
      "|  no|       0.0|[0.83187239469709...|\n",
      "| yes|       0.0|[0.93108454302950...|\n",
      "|  no|       0.0|[0.92320945115046...|\n",
      "|  no|       0.0|[0.82559638151893...|\n",
      "|  no|       0.0|[0.81054911058174...|\n",
      "|  no|       0.0|[0.85974983077447...|\n",
      "|  no|       0.0|[0.76880461447025...|\n",
      "|  no|       0.0|[0.90187461842384...|\n",
      "| yes|       0.0|[0.86091730287700...|\n",
      "|  no|       0.0|[0.51782991610471...|\n",
      "|  no|       0.0|[0.89354893533399...|\n",
      "|  no|       0.0|[0.59839424950648...|\n",
      "|  no|       0.0|[0.92072418615401...|\n",
      "|  no|       0.0|[0.80657219261679...|\n",
      "|  no|       0.0|[0.91807751837361...|\n",
      "|  no|       0.0|[0.90987149377263...|\n",
      "|  no|       0.0|[0.93545915471181...|\n",
      "|  no|       0.0|[0.84022668956508...|\n",
      "|  no|       0.0|[0.91572865888822...|\n",
      "|  no|       0.0|[0.92508904652471...|\n",
      "|  no|       0.0|[0.93549242842219...|\n",
      "|  no|       0.0|[0.85656960747807...|\n",
      "| yes|       0.0|[0.91717311586025...|\n",
      "| yes|       0.0|[0.86678115337963...|\n",
      "|  no|       0.0|[0.81501104644804...|\n",
      "| yes|       0.0|[0.85062055561406...|\n",
      "|  no|       0.0|[0.89651828929038...|\n",
      "|  no|       0.0|[0.94715524383262...|\n",
      "|  no|       0.0|[0.75699671121023...|\n",
      "| yes|       0.0|[0.92802802643048...|\n",
      "|  no|       0.0|[0.86460295724168...|\n",
      "|  no|       0.0|[0.93602941514858...|\n",
      "|  no|       0.0|[0.63204092234923...|\n",
      "|  no|       0.0|[0.81054911058174...|\n",
      "|  no|       0.0|[0.85942244089998...|\n",
      "|  no|       0.0|[0.84140173126952...|\n",
      "|  no|       0.0|[0.89567993700923...|\n",
      "|  no|       0.0|[0.82444294344916...|\n",
      "|  no|       0.0|[0.94107606056414...|\n",
      "|  no|       0.0|[0.86498757380079...|\n",
      "| yes|       0.0|[0.77201970576646...|\n",
      "|  no|       0.0|[0.80437438730709...|\n",
      "|  no|       0.0|[0.82012452693225...|\n",
      "| yes|       0.0|[0.85699619840384...|\n",
      "|  no|       0.0|[0.92830327191109...|\n",
      "|  no|       0.0|[0.87971346996776...|\n",
      "|  no|       0.0|[0.78733466954851...|\n",
      "| yes|       0.0|[0.83187239469709...|\n",
      "|  no|       0.0|[0.90860792500856...|\n",
      "|  no|       0.0|[0.74332310215211...|\n",
      "|  no|       0.0|[0.91717311586025...|\n",
      "|  no|       0.0|[0.92023727419626...|\n",
      "|  no|       0.0|[0.83820084521619...|\n",
      "|  no|       0.0|[0.87810743979956...|\n",
      "|  no|       0.0|[0.90956850226562...|\n",
      "|  no|       0.0|[0.79342447043069...|\n",
      "|  no|       0.0|[0.82444294344916...|\n",
      "|  no|       0.0|[0.83011800498211...|\n",
      "| yes|       0.0|[0.71281467498194...|\n",
      "|  no|       0.0|[0.87529717497852...|\n",
      "+----+----------+--------------------+\n",
      "only showing top 100 rows\n",
      "\n"
     ]
    }
   ],
   "source": [
    "test_predictions_gbt.select(\"loan\",\"prediction\", \"probability\").show(100)"
   ]
  },
  {
   "cell_type": "markdown",
   "metadata": {},
   "source": [
    "#### Evaluation : gbt Model"
   ]
  },
  {
   "cell_type": "code",
   "execution_count": 152,
   "metadata": {},
   "outputs": [
    {
     "name": "stdout",
     "output_type": "stream",
     "text": [
      "Train accuracy  = 0.869009584665\n",
      "Test accuracy = 0.847591660676\n"
     ]
    }
   ],
   "source": [
    "predictionAndLabels_train_gbt = train_predictions_gbt.select(\"prediction\", \"label\")\n",
    "train_accuracy_gbt = evaluator.evaluate(predictionAndLabels_train_gbt)\n",
    "\n",
    "print(\"Train accuracy  = \" + str(train_accuracy_gbt))\n",
    "\n",
    "predictionAndLabels_test_gbt = test_predictions_gbt.select(\"prediction\", \"label\")\n",
    "test_accuracy_gbt = evaluator.evaluate(predictionAndLabels_test_gbt)\n",
    "\n",
    "print(\"Test accuracy = \" + str(test_accuracy_gbt))"
   ]
  },
  {
   "cell_type": "markdown",
   "metadata": {},
   "source": [
    "#### Tuning GBT Model"
   ]
  },
  {
   "cell_type": "code",
   "execution_count": 153,
   "metadata": {},
   "outputs": [],
   "source": [
    "paramGridGBT = ParamGridBuilder()\\\n",
    "            .addGrid(gbt.maxDepth, [5])\\\n",
    "            .addGrid(gbt.maxIter, [20])\\\n",
    "            .addGrid(gbt.stepSize, [0.1])\\\n",
    "            .build()\n",
    "    \n",
    "gbt_crossval = CrossValidator(estimator=gbt_Pipeline,\n",
    "                             estimatorParamMaps=paramGridGBT,\n",
    "                             evaluator=evaluator,\n",
    "                             numFolds=2)     "
   ]
  },
  {
   "cell_type": "code",
   "execution_count": 154,
   "metadata": {},
   "outputs": [],
   "source": [
    "# Run cross-validation, and choose the best set of parameters.\n",
    "gbt_crossval_Model = gbt_crossval.fit(trainingData)"
   ]
  }
 ],
 "metadata": {
  "kernelspec": {
   "display_name": "Python 3",
   "language": "python",
   "name": "python3"
  },
  "language_info": {
   "codemirror_mode": {
    "name": "ipython",
    "version": 3
   },
   "file_extension": ".py",
   "mimetype": "text/x-python",
   "name": "python",
   "nbconvert_exporter": "python",
   "pygments_lexer": "ipython3",
   "version": "3.6.5"
  }
 },
 "nbformat": 4,
 "nbformat_minor": 2
}
