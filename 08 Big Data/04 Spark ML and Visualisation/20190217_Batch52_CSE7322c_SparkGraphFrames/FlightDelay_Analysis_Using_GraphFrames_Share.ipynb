{
 "cells": [
  {
   "cell_type": "markdown",
   "metadata": {},
   "source": [
    "# Graph Analysis using Spark - GraphFrames\n",
    "\n",
    "#### Graphs are data structures composed of nodes, or vertices, which are arbitrary objects, and edges that define relationships between these nodes. \n",
    "\n",
    "#### Graph analytics is the process of analyzing these relationships.\n",
    "\n",
    "An example graph might be your friend group. \n",
    "<br>In the context of graph analytics, each vertex or node would represent a person, and each edge would represent a relationship.\n",
    "\n",
    "#### Edges and vertices in graphs can also have data associated with them.\n",
    "\n",
    "In our friend example, the weight of the edge might represent the intimacy between different friends; \n",
    "<br>acquaintances would have low-weight edges between them, \n",
    "<br>while married individuals would have edges with large weights. \n",
    "<br>We could set this value by looking at communication frequency between nodes and weighting the edges accordingly. \n",
    "<br>Each vertex (person) might also have data such as a name.\n",
    "\n",
    "#### Graphs are a natural way of describing relationships and many different problem sets.\n",
    "\n",
    "#### Some business use cases could be\n",
    "Fraud Detection & Analytics - Spot Fraud Rings in Their Tracks\n",
    "<br>motif finding.\n",
    "<br>Determining importance of papers in bibliographic networks (i.e., which papers are most referenced).\n",
    "<br>Ranking web pages, as Google famously used the PageRank algorithm to do.\n",
    "<br>Identity & Access Management - Track Roles, Groups and Assets like Never Before.\n",
    "<br>Knowledge Graph - Augment Your Knowledge Graph with Highly Contextual Search Results.\n",
    "<br>Master Data Management - Graphs Provide a 360° View of Your Data.\n",
    "<br>Network and Database Infrastructure Monitoring for IT Operationss - Manage and Monitor Complex Networks with Real-Time Insights.\n",
    "<br> And Many more ...."
   ]
  },
  {
   "cell_type": "markdown",
   "metadata": {},
   "source": [
    "### SPARK GraphX and GraphFrames\n",
    "Spark provides several ways of working in this analytics paradigm.\n",
    "<br>Spark has long contained an RDD-based library for performing graph processing: GraphX.\n",
    "<br>This provided a very low-level interface that was extremely powerful, but just like RDDs, wasn’t easy to use or optimize.\n",
    "<br>GraphX remains a core part of Spark.\n",
    "<br>Developers of Spark, have recently created a next-generation graph analytics library on Spark: GraphFrames.\n",
    "<br>GraphFrames extends GraphX to provide a DataFrame API and support for Spark’s different language bindings,\n",
    "<br>so that users of Python can take advantage of the scalability of the tool.\n",
    "\n",
    "<br>**GraphFrames** is currently available as a Spark package, \n",
    "<br>an external package that you need to load when you start up your Spark application, \n",
    "<br>but may be merged into the core of Spark in the future.\n",
    "\n",
    "<br>**HOW DOES GRAPHFRAMES COMPARE TO GRAPH DATABASES?**\n",
    "<br>Spark is not a database.\n",
    "<br>Spark is a distributed computation engine, but it does not store data long-term or perform transactions.\n",
    "<br>You can build a graph computation on top of Spark, but that’s fundamentally different from a database.\n",
    "<br>GraphFrames can scale to much larger workloads than many graph databases and \n",
    "<br>performs well for analytics but does not support transactional processing and serving."
   ]
  },
  {
   "cell_type": "markdown",
   "metadata": {},
   "source": [
    "Before initiating the jupyter notebook, pass external dependencies to the pyspark kernel\n",
    "<br>export PACKAGES=\"graphframes:graphframes:0.5.0-spark2.1-s_2.11\"\n",
    "<br>export PYSPARK_SUBMIT_ARGS=\"--packages ${PACKAGES} pyspark-shell\""
   ]
  },
  {
   "cell_type": "markdown",
   "metadata": {},
   "source": [
    "## Problem Statement\n",
    "There are two datasets airports.dat (Data about all the airports) and departureDelays.csv (trips delayed at the departure) obtained from OpenFlights and US DoT.\n",
    "\n",
    "** Analyze these datasets by**\n",
    "<br>Creating a graph structure using airports and departure delays data where\n",
    "each airport as a node and trips between two airports as edge/relation/connections.\n",
    "\n",
    "Upon building the graph structure, analyze the graph to find\n",
    "<br>1. Delayed vs On-Time flights\n",
    "<br>2. Which flights departing from a specific location are most likely to have significant delays?\n",
    "<br>3. Which destinations tend to have delays?\n",
    "<br>4. Which destinations tend to have significant delays departing from a specific location?\n",
    "<br>5. Degree wise (InDegree, OutDegree) analysis.\n",
    "<br>6. Motif Findings.\n",
    "<br>7. Determine the influential airports using PageRank.\n",
    "<br>8. Find most popular trips.\n",
    "<br>9. Find transfer cities/hubs.\n",
    "<br>10. Use Breadth First Search to find the connections between two cities with 1 Hop, 2 Hops..."
   ]
  },
  {
   "cell_type": "markdown",
   "metadata": {},
   "source": [
    "### Dataset Descriptions\n",
    "#### Airports data - airports.dat - \n",
    "#### OpenFlights: Airport, airline and route data : https://openflights.org/data.html\n",
    "<br>**Airport ID** Unique OpenFlights identifier for this airport.  \n",
    "<br>**Name** Name of airport. May or may not contain the City name. \n",
    "<br>**City** Main city served by airport. May be spelled differently from Name. \n",
    "<br>**Country** Country or territory where airport is located. See countries.dat to cross-reference to ISO 3166-1 codes.  \n",
    "<br>**IATA** 3-letter IATA code. Null if not assigned/unknown. \n",
    "<br>**ICAO** 4-letter ICAO code - Null if not assigned. \n",
    "<br>**Latitude** Decimal degrees, usually to six significant digits. Negative is South, positive is North. \n",
    "<br>**Longitude** Decimal degrees, usually to six significant digits. Negative is West, positive is East. \n",
    "<br>**Altitude** In feet. \n",
    "<br>**Timezone** Hours offset from UTC. Fractional hours are expressed as decimals, eg. India is 5.5. \n",
    "<br>**DST** Daylight savings time. \n",
    "<br>One of E (Europe), A (US/Canada), S (South America), O (Australia), Z (New Zealand), N (None) or U (Unknown). \n",
    "<br>See also: Help: Time  \n",
    "<br>**Tz database time zone** Timezone in \"tz\" (Olson) format, eg. \"America/Los_Angeles\".  \n",
    "<br>**Type** Type of the airport. \n",
    "<br>Value \"airport\" for air terminals, \n",
    "<br>\"station\" for train stations, \n",
    "<br>\"port\" for ferry terminals and \n",
    "<br>\"unknown\" if not known. \n",
    "<br>In airports.csv, only type=airport is included.  \n",
    "<br>**Source** Source of this data. \n",
    "<br>\"OurAirports\" for data sourced from OurAirports, \n",
    "<br>\"Legacy\" for old data not matched to OurAirports (mostly DAFIF), \n",
    "<br>\"User\" for unverified user contributions. \n",
    "<br>In airports.csv, only source=OurAirports is included.  \n",
    "\n",
    "The data is UTF-8 (Unicode) encoded.\n"
   ]
  },
  {
   "cell_type": "markdown",
   "metadata": {},
   "source": [
    "#### Departure Delays Data - departureDelays.csv \n",
    "#### Source: United States Department of Transportation: Bureau of Transportation Statistics (TranStats)\n",
    "#### https://www.transtats.bts.gov/DL_SelectFields.asp?Table_ID=236&DB_Short_Name=On-Time \n",
    "#### March 2017 Data\n",
    "\n",
    "<br>**flightDate** Flight Date (yyyymmddHHMM) \n",
    "<br>**originAirportID** Origin Airport, Airport ID. An identification number assigned by US DOT to identify a unique airport.\n",
    "<br>**origin** Origin Airport.\n",
    "<br>**originCity** Origin Airport, City Name.\n",
    "<br>**originState** Origin Aiport, State Code.\n",
    "<br>**destAirportID** Destination Airport, Airport ID. An identification number assigned by US DOT to identify a unique airport.\n",
    "<br>**destination** Destination Airport.\n",
    "<br>**destinationCity** Destination Airport, City Name.\n",
    "<br>**destinationState** Destination Airport, State Code.\n",
    "<br>**depDelayInMinutes** Difference in minutes between scheduled and actual departure time. Early departures set to 0.\n",
    "<br>**distanceInMiles** Distance between Airports (in miles)"
   ]
  },
  {
   "cell_type": "markdown",
   "metadata": {},
   "source": [
    "#### Configure Spark Environment"
   ]
  },
  {
   "cell_type": "code",
   "execution_count": 1,
   "metadata": {
    "collapsed": true
   },
   "outputs": [],
   "source": [
    "import os\n",
    "import sys\n",
    "os.environ[\"SPARK_HOME\"] = \"/usr/hdp/current/spark2-client\"\n",
    "os.environ[\"PYLIB\"] = os.environ[\"SPARK_HOME\"] + \"/python/lib\"\n",
    "sys.path.insert(0, os.environ[\"PYLIB\"] + \"/py4j-0.10.4-src.zip\")\n",
    "sys.path.insert(0, os.environ[\"PYLIB\"] + \"/pyspark.zip\")"
   ]
  },
  {
   "cell_type": "markdown",
   "metadata": {},
   "source": [
    "#### Create and Initialize Spark Driver"
   ]
  },
  {
   "cell_type": "code",
   "execution_count": 2,
   "metadata": {
    "collapsed": true
   },
   "outputs": [],
   "source": [
    "## Create SparkContext, SparkSession\n",
    "from pyspark.sql import SparkSession\n",
    "from pyspark import SparkContext,SparkConf\n",
    "conf = SparkConf().setAll([('spark.jars.packages','graphframes:graphframes:0.5.0-spark2.1-s_2.11')])\n",
    "sc = SparkContext(conf=conf)\n",
    "spark = SparkSession(sc)"
   ]
  },
  {
   "cell_type": "markdown",
   "metadata": {},
   "source": [
    "#### Verify Spark Driver - Spark Context and Spark Sessions"
   ]
  },
  {
   "cell_type": "code",
   "execution_count": 3,
   "metadata": {},
   "outputs": [
    {
     "data": {
      "text/html": [
       "\n",
       "        <div>\n",
       "            <p><b>SparkContext</b></p>\n",
       "\n",
       "            <p><a href=\"http://d.insofe.edu.in:4046\">Spark UI</a></p>\n",
       "\n",
       "            <dl>\n",
       "              <dt>Version</dt>\n",
       "                <dd><code>v2.3.0.2.6.5.0-292</code></dd>\n",
       "              <dt>Master</dt>\n",
       "                <dd><code>local[*]</code></dd>\n",
       "              <dt>AppName</dt>\n",
       "                <dd><code>pyspark-shell</code></dd>\n",
       "            </dl>\n",
       "        </div>\n",
       "        "
      ],
      "text/plain": [
       "<SparkContext master=local[*] appName=pyspark-shell>"
      ]
     },
     "execution_count": 3,
     "metadata": {},
     "output_type": "execute_result"
    }
   ],
   "source": [
    "## Verify Spark Context\n",
    "sc"
   ]
  },
  {
   "cell_type": "code",
   "execution_count": 4,
   "metadata": {
    "scrolled": true
   },
   "outputs": [
    {
     "data": {
      "text/html": [
       "\n",
       "            <div>\n",
       "                <p><b>SparkSession - in-memory</b></p>\n",
       "                \n",
       "        <div>\n",
       "            <p><b>SparkContext</b></p>\n",
       "\n",
       "            <p><a href=\"http://d.insofe.edu.in:4046\">Spark UI</a></p>\n",
       "\n",
       "            <dl>\n",
       "              <dt>Version</dt>\n",
       "                <dd><code>v2.3.0.2.6.5.0-292</code></dd>\n",
       "              <dt>Master</dt>\n",
       "                <dd><code>local[*]</code></dd>\n",
       "              <dt>AppName</dt>\n",
       "                <dd><code>pyspark-shell</code></dd>\n",
       "            </dl>\n",
       "        </div>\n",
       "        \n",
       "            </div>\n",
       "        "
      ],
      "text/plain": [
       "<pyspark.sql.session.SparkSession at 0x3ccd0d0>"
      ]
     },
     "execution_count": 4,
     "metadata": {},
     "output_type": "execute_result"
    }
   ],
   "source": [
    "## Verify Spark Session\n",
    "spark"
   ]
  },
  {
   "cell_type": "markdown",
   "metadata": {},
   "source": [
    "#### Load Dependent Libraries"
   ]
  },
  {
   "cell_type": "markdown",
   "metadata": {},
   "source": [
    "#### Spark libraries"
   ]
  },
  {
   "cell_type": "code",
   "execution_count": 5,
   "metadata": {
    "collapsed": true
   },
   "outputs": [],
   "source": [
    "from pyspark.sql.types import *\n",
    "from pyspark.sql.functions import *\n",
    "from graphframes import *"
   ]
  },
  {
   "cell_type": "code",
   "execution_count": 6,
   "metadata": {
    "collapsed": true
   },
   "outputs": [],
   "source": [
    "import numpy as np\n",
    "import StringIO\n",
    "import pandas as pd\n",
    "import warnings"
   ]
  },
  {
   "cell_type": "code",
   "execution_count": 7,
   "metadata": {},
   "outputs": [
    {
     "data": {
      "text/html": [
       "<script>requirejs.config({paths: { 'plotly': ['https://cdn.plot.ly/plotly-latest.min']},});if(!window.Plotly) {{require(['plotly'],function(plotly) {window.Plotly=plotly;});}}</script>"
      ],
      "text/vnd.plotly.v1+html": [
       "<script>requirejs.config({paths: { 'plotly': ['https://cdn.plot.ly/plotly-latest.min']},});if(!window.Plotly) {{require(['plotly'],function(plotly) {window.Plotly=plotly;});}}</script>"
      ]
     },
     "metadata": {},
     "output_type": "display_data"
    }
   ],
   "source": [
    "# Plotting libraries\n",
    "import matplotlib.pyplot as plt\n",
    "import seaborn as sns\n",
    "\n",
    "import plotly\n",
    "#plotly.tools.set_credentials_file(username='<your_user_id>', api_key='<your_api_key>')\n",
    "from plotly.offline import download_plotlyjs, init_notebook_mode, plot, iplot\n",
    "import plotly.figure_factory as ff\n",
    "import plotly.plotly as py\n",
    "import plotly.offline as pyoff\n",
    "import plotly.graph_objs as go\n",
    "\n",
    "# Initializing some settings\n",
    "sns.set_style('whitegrid')\n",
    "sns.set(color_codes=True)\n",
    "warnings.filterwarnings('ignore')\n",
    "pyoff.init_notebook_mode(connected=True)\n",
    "get_ipython().magic('matplotlib inline')"
   ]
  },
  {
   "cell_type": "markdown",
   "metadata": {},
   "source": [
    "#### Create dataframes from the 2 datasets."
   ]
  },
  {
   "cell_type": "markdown",
   "metadata": {},
   "source": [
    "#### Set file paths"
   ]
  },
  {
   "cell_type": "code",
   "execution_count": 8,
   "metadata": {
    "collapsed": true
   },
   "outputs": [],
   "source": [
    "tripdelaysFilePath = \"/user/thomasj/departureDelays.csv\"\n",
    "airportsnaFilePath = \"/user/thomasj/airports.dat\""
   ]
  },
  {
   "cell_type": "markdown",
   "metadata": {},
   "source": [
    "#### Define schema for airports data"
   ]
  },
  {
   "cell_type": "code",
   "execution_count": 9,
   "metadata": {
    "collapsed": true
   },
   "outputs": [],
   "source": [
    "airportsDataSchema = StructType([\n",
    "         StructField(\"airportID\", IntegerType(), True),\n",
    "         StructField(\"airportName\", StringType(), True),\n",
    "         StructField(\"city\", StringType(), True),\n",
    "         StructField(\"country\", StringType(), True),\n",
    "         StructField(\"IATA\", StringType(), True),\n",
    "         StructField(\"ICAO\", StringType(), True),\n",
    "         StructField(\"latitude\", DoubleType(), True),\n",
    "         StructField(\"longitude\", DoubleType(), True),        \n",
    "         StructField(\"altitude\", IntegerType(), True),\n",
    "         StructField(\"timezone\", IntegerType(), True),\n",
    "         StructField(\"dst\", StringType(), True),\n",
    "         StructField(\"tzDBTimezone\", StringType(), True),\n",
    "         StructField(\"type\", StringType(), True),\n",
    "         StructField(\"source\", StringType(), True)])"
   ]
  },
  {
   "cell_type": "markdown",
   "metadata": {},
   "source": [
    "#### Create dataframe from airports dataset"
   ]
  },
  {
   "cell_type": "code",
   "execution_count": 10,
   "metadata": {
    "collapsed": true,
    "scrolled": true
   },
   "outputs": [],
   "source": [
    "airportsDF = spark.read.format(\"csv\")\\\n",
    "            .option(\"header\", \"false\")\\\n",
    "            .option(\"inferSchema\", \"false\")\\\n",
    "            .load(airportsnaFilePath, schema = airportsDataSchema)"
   ]
  },
  {
   "cell_type": "markdown",
   "metadata": {},
   "source": [
    "#### Verify counts"
   ]
  },
  {
   "cell_type": "code",
   "execution_count": 11,
   "metadata": {
    "scrolled": true
   },
   "outputs": [
    {
     "name": "stdout",
     "output_type": "stream",
     "text": [
      "Rows and columns in Airports dataset are 7184 and 14\n"
     ]
    }
   ],
   "source": [
    "print(\"Rows and columns in Airports dataset are {} and {}\".format(airportsDF.count(), len(airportsDF.columns)))"
   ]
  },
  {
   "cell_type": "markdown",
   "metadata": {},
   "source": [
    "#### Verify records"
   ]
  },
  {
   "cell_type": "code",
   "execution_count": 12,
   "metadata": {
    "scrolled": true
   },
   "outputs": [
    {
     "name": "stdout",
     "output_type": "stream",
     "text": [
      "+---------+--------------------+-----------+----------------+----+----+------------------+------------------+--------+--------+---+--------------------+-------+-----------+\n",
      "|airportID|         airportName|       city|         country|IATA|ICAO|          latitude|         longitude|altitude|timezone|dst|        tzDBTimezone|   type|     source|\n",
      "+---------+--------------------+-----------+----------------+----+----+------------------+------------------+--------+--------+---+--------------------+-------+-----------+\n",
      "|        1|      Goroka Airport|     Goroka|Papua New Guinea| GKA|AYGA|-6.081689834590001|     145.391998291|    5282|      10|  U|Pacific/Port_Moresby|airport|OurAirports|\n",
      "|        2|      Madang Airport|     Madang|Papua New Guinea| MAG|AYMD|    -5.20707988739|     145.789001465|      20|      10|  U|Pacific/Port_Moresby|airport|OurAirports|\n",
      "|        3|Mount Hagen Kagam...|Mount Hagen|Papua New Guinea| HGU|AYMH|-5.826789855957031|144.29600524902344|    5388|      10|  U|Pacific/Port_Moresby|airport|OurAirports|\n",
      "|        4|      Nadzab Airport|     Nadzab|Papua New Guinea| LAE|AYNZ|         -6.569803|        146.725977|     239|      10|  U|Pacific/Port_Moresby|airport|OurAirports|\n",
      "+---------+--------------------+-----------+----------------+----+----+------------------+------------------+--------+--------+---+--------------------+-------+-----------+\n",
      "only showing top 4 rows\n",
      "\n"
     ]
    }
   ],
   "source": [
    "airportsDF.show(4)"
   ]
  },
  {
   "cell_type": "markdown",
   "metadata": {},
   "source": [
    "#### Define schema for departure Delays data"
   ]
  },
  {
   "cell_type": "code",
   "execution_count": 13,
   "metadata": {
    "collapsed": true
   },
   "outputs": [],
   "source": [
    "departureDelaysSchema = StructType([\n",
    "         StructField(\"flightDate\", StringType(), True),\n",
    "         StructField(\"originAirportID\", IntegerType(), True),\n",
    "         StructField(\"origin\", StringType(), True),\n",
    "         StructField(\"originCity\", StringType(), True),\n",
    "         StructField(\"originState\", StringType(), True),\n",
    "         StructField(\"destAirportID\", IntegerType(), True),\n",
    "         StructField(\"destination\", StringType(), True),\n",
    "         StructField(\"destinationCity\", StringType(), True),\n",
    "         StructField(\"destinationState\", StringType(), True),\n",
    "         StructField(\"depDelayInMinutes\", DoubleType(), True),        \n",
    "         StructField(\"distanceInMiles\", DoubleType(), True)])"
   ]
  },
  {
   "cell_type": "markdown",
   "metadata": {},
   "source": [
    "#### Create dataframe from departureDelays dataset"
   ]
  },
  {
   "cell_type": "code",
   "execution_count": 14,
   "metadata": {
    "collapsed": true
   },
   "outputs": [],
   "source": [
    "departureDelaysDF = spark.read.format(\"csv\")\\\n",
    "                    .option(\"header\", \"true\")\\\n",
    "                    .option(\"inferSchema\", \"true\")\\\n",
    "                    .load(tripdelaysFilePath, schema = departureDelaysSchema)"
   ]
  },
  {
   "cell_type": "code",
   "execution_count": 15,
   "metadata": {},
   "outputs": [
    {
     "name": "stdout",
     "output_type": "stream",
     "text": [
      "Rows and columns in Airports dataset are 488596 and 11\n"
     ]
    }
   ],
   "source": [
    "print(\"Rows and columns in Airports dataset are {} and {}\".format(departureDelaysDF.count(), len(departureDelaysDF.columns)))"
   ]
  },
  {
   "cell_type": "markdown",
   "metadata": {},
   "source": [
    "#### Cache departure delays dataframe"
   ]
  },
  {
   "cell_type": "code",
   "execution_count": 16,
   "metadata": {},
   "outputs": [
    {
     "data": {
      "text/plain": [
       "DataFrame[flightDate: string, originAirportID: int, origin: string, originCity: string, originState: string, destAirportID: int, destination: string, destinationCity: string, destinationState: string, depDelayInMinutes: double, distanceInMiles: double]"
      ]
     },
     "execution_count": 16,
     "metadata": {},
     "output_type": "execute_result"
    }
   ],
   "source": [
    "departureDelaysDF.cache()"
   ]
  },
  {
   "cell_type": "code",
   "execution_count": 17,
   "metadata": {},
   "outputs": [
    {
     "name": "stdout",
     "output_type": "stream",
     "text": [
      "+------------+---------------+------+-------------+-----------+-------------+-----------+---------------+----------------+-----------------+---------------+\n",
      "|  flightDate|originAirportID|origin|   originCity|originState|destAirportID|destination|destinationCity|destinationState|depDelayInMinutes|distanceInMiles|\n",
      "+------------+---------------+------+-------------+-----------+-------------+-----------+---------------+----------------+-----------------+---------------+\n",
      "|201703010000|          10693|   BNA|Nashville, TN|         TN|        12892|        LAX|Los Angeles, CA|              CA|             null|         1797.0|\n",
      "|201703010000|          10721|   BOS|   Boston, MA|         MA|        10821|        BWI|  Baltimore, MD|              MD|             null|          369.0|\n",
      "|201703010000|          10800|   BUR|  Burbank, CA|         CA|        13796|        OAK|    Oakland, CA|              CA|             null|          325.0|\n",
      "|201703010000|          10800|   BUR|  Burbank, CA|         CA|        14831|        SJC|   San Jose, CA|              CA|             null|          296.0|\n",
      "|201703010000|          10800|   BUR|  Burbank, CA|         CA|        14831|        SJC|   San Jose, CA|              CA|             null|          296.0|\n",
      "|201703010000|          10821|   BWI|Baltimore, MD|         MD|        10529|        BDL|   Hartford, CT|              CT|             null|          283.0|\n",
      "|201703010000|          10821|   BWI|Baltimore, MD|         MD|        10721|        BOS|     Boston, MA|              MA|             null|          369.0|\n",
      "|201703010000|          10821|   BWI|Baltimore, MD|         MD|        13204|        MCO|    Orlando, FL|              FL|             null|          787.0|\n",
      "|201703010000|          10821|   BWI|Baltimore, MD|         MD|        13342|        MKE|  Milwaukee, WI|              WI|             null|          641.0|\n",
      "|201703010000|          10821|   BWI|Baltimore, MD|         MD|        13931|        ORF|    Norfolk, VA|              VA|             null|          159.0|\n",
      "+------------+---------------+------+-------------+-----------+-------------+-----------+---------------+----------------+-----------------+---------------+\n",
      "only showing top 10 rows\n",
      "\n"
     ]
    }
   ],
   "source": [
    "departureDelaysDF.show(10)"
   ]
  },
  {
   "cell_type": "markdown",
   "metadata": {},
   "source": [
    "#### Define Tables/Views for the above dataframes to execute sql queries"
   ]
  },
  {
   "cell_type": "code",
   "execution_count": 18,
   "metadata": {
    "collapsed": true
   },
   "outputs": [],
   "source": [
    "airportsDF.createOrReplaceTempView(\"airportsDF_SQL\")\n",
    "departureDelaysDF.createOrReplaceTempView(\"departureDelaysDF_SQL\")"
   ]
  },
  {
   "cell_type": "markdown",
   "metadata": {},
   "source": [
    "As the airports dataset consists of all the airports details\n",
    "<br>Filter only the airports where there is a record/evidence exists for an airport in the trip datasets\n",
    "<br>1. Get unique airport codes (iata) combining origin and destination from the departureDelays dataset\n",
    "<br>2. Filter/Include only the airports returned from above from the airprotsDF"
   ]
  },
  {
   "cell_type": "markdown",
   "metadata": {},
   "source": [
    "#### Extract all unique IATA codes from the departure delays dataframe"
   ]
  },
  {
   "cell_type": "markdown",
   "metadata": {},
   "source": [
    "In the data the IATA codes are available in origin and destination fields\n",
    "<br>Find the unique origin codes \n",
    "<br>Find the unique destination codes\n",
    "<br>combine both the above \n",
    "<br>Find the unique/distinct set from the above"
   ]
  },
  {
   "cell_type": "code",
   "execution_count": 19,
   "metadata": {
    "collapsed": true
   },
   "outputs": [],
   "source": [
    "uniqueIATACodes = spark.sql(\"\"\"SELECT DISTINCT iata, state FROM \n",
    "                           (SELECT DISTINCT origin AS iata, originState as state FROM departureDelaysDF_SQL\n",
    "                            UNION ALL\n",
    "                            SELECT DISTINCT destination AS iata, destinationState as state FROM departureDelaysDF_SQL)\n",
    "                            a\n",
    "                            \"\"\")"
   ]
  },
  {
   "cell_type": "code",
   "execution_count": 20,
   "metadata": {
    "scrolled": true
   },
   "outputs": [
    {
     "name": "stdout",
     "output_type": "stream",
     "text": [
      "+----+-----+\n",
      "|iata|state|\n",
      "+----+-----+\n",
      "| SJC|   CA|\n",
      "| BTV|   VT|\n",
      "| MEI|   MS|\n",
      "| ROC|   NY|\n",
      "| SAF|   NM|\n",
      "+----+-----+\n",
      "only showing top 5 rows\n",
      "\n"
     ]
    }
   ],
   "source": [
    "uniqueIATACodes.show(5)"
   ]
  },
  {
   "cell_type": "code",
   "execution_count": 21,
   "metadata": {
    "collapsed": true
   },
   "outputs": [],
   "source": [
    "uniqueIATACodes.createOrReplaceTempView(\"uniqueIATACodes_SQL\")"
   ]
  },
  {
   "cell_type": "markdown",
   "metadata": {},
   "source": [
    "#### Filter airports exists in the above list\n",
    "Only include airports with atleast one trip from the departureDelays dataset"
   ]
  },
  {
   "cell_type": "code",
   "execution_count": 22,
   "metadata": {
    "collapsed": true
   },
   "outputs": [],
   "source": [
    "airportsNADF = spark.sql(\"\"\"SELECT at.IATA, at.city, it.state, at.country \n",
    "                            FROM airportsDF_SQL at \n",
    "                            JOIN uniqueIATACodes_SQL it \n",
    "                            ON at.IATA = it.IATA\"\"\")"
   ]
  },
  {
   "cell_type": "code",
   "execution_count": 23,
   "metadata": {
    "collapsed": true,
    "scrolled": true
   },
   "outputs": [],
   "source": [
    "airportsNADF.cache()\n",
    "airportsNADF.createOrReplaceTempView(\"airportsNADF_SQL\")"
   ]
  },
  {
   "cell_type": "code",
   "execution_count": 24,
   "metadata": {
    "scrolled": true
   },
   "outputs": [
    {
     "name": "stdout",
     "output_type": "stream",
     "text": [
      "+----+----------+-----+-------------+\n",
      "|IATA|      city|state|      country|\n",
      "+----+----------+-----+-------------+\n",
      "| SJC|  San Jose|   CA|United States|\n",
      "| BTV|Burlington|   VT|United States|\n",
      "| MEI|  Meridian|   MS|United States|\n",
      "| ROC| Rochester|   NY|United States|\n",
      "+----+----------+-----+-------------+\n",
      "only showing top 4 rows\n",
      "\n"
     ]
    }
   ],
   "source": [
    "airportsNADF.show(4)"
   ]
  },
  {
   "cell_type": "markdown",
   "metadata": {},
   "source": [
    "#### Build departureDelays_imp DataFrame\n",
    "Obtain key attributes such as Date of flight, delays, distance, and airport information (Origin, Destination)"
   ]
  },
  {
   "cell_type": "code",
   "execution_count": 25,
   "metadata": {
    "collapsed": true
   },
   "outputs": [],
   "source": [
    "departureDelays_imp = spark.sql(\"\"\"SELECT \n",
    "                                    CAST(ddt.flightDate AS STRING) AS flightDate,\n",
    "                                    CAST(ddt.depDelayInMinutes AS INT) AS departureDelayInMinutes, \n",
    "                                    CAST(ddt.distanceInMiles AS INT) AS distanceInMiles, \n",
    "                                    ddt.origin AS src, \n",
    "                                    ddt.destination AS dst, \n",
    "                                    ats.city AS src_city, \n",
    "                                    atd.city AS dst_city, \n",
    "                                    ddt.originState AS src_state, \n",
    "                                    ddt.destinationState AS dst_state \n",
    "                                    FROM departureDelaysDF_SQL ddt \n",
    "                                    JOIN airportsNADF_SQL ats \n",
    "                                    ON ats.iata = ddt.origin \n",
    "                                    JOIN airportsNADF_SQL atd \n",
    "                                    ON atd.iata = ddt.destination\"\"\")"
   ]
  },
  {
   "cell_type": "markdown",
   "metadata": {},
   "source": [
    "#### Add an unique index column (sequential number) to the above dataframe"
   ]
  },
  {
   "cell_type": "code",
   "execution_count": 26,
   "metadata": {
    "collapsed": true
   },
   "outputs": [],
   "source": [
    "# Modified Schema\n",
    "schemaNew  = StructType([StructField(\"tripId\", LongType(), False)] + departureDelays_imp.schema.fields[:])"
   ]
  },
  {
   "cell_type": "code",
   "execution_count": 27,
   "metadata": {
    "collapsed": true
   },
   "outputs": [],
   "source": [
    "### from pyspark.sql.functions import monotonicallyIncreasingId\n",
    "### This will return a new DF with all the columns + id\n",
    "\n",
    "### * Returns monotonically increasing 64-bit integers.\n",
    "### *\n",
    "### * The generated ID is guaranteed to be monotonically increasing and unique, but not consecutive.\n",
    "### * The current implementation puts the partition ID in the upper 31 bits, and the lower 33 bits represent the \n",
    "### * record number within each partition. The assumption is that the data frame has less than 1 billion partitions, \n",
    "### * and each partition has less than 8 billion records.\n",
    "###\n",
    "### departureDelays_imp = departureDelays_imp.withColumn(\"tripId\", monotonicallyIncreasingId())"
   ]
  },
  {
   "cell_type": "code",
   "execution_count": 28,
   "metadata": {
    "collapsed": true
   },
   "outputs": [],
   "source": [
    "departureDelays_imp = (departureDelays_imp.rdd.zipWithIndex().map(lambda line: (line[1], line[0][0],line[0][1],line[0][2],line[0][3],line[0][4],line[0][5],line[0][6],line[0][7],line[0][8])).toDF(schemaNew))"
   ]
  },
  {
   "cell_type": "code",
   "execution_count": 29,
   "metadata": {
    "collapsed": true
   },
   "outputs": [],
   "source": [
    "departureDelays_imp = departureDelays_imp.fillna(0)"
   ]
  },
  {
   "cell_type": "code",
   "execution_count": 30,
   "metadata": {
    "collapsed": true
   },
   "outputs": [],
   "source": [
    "departureDelays_imp.cache()\n",
    "departureDelays_imp.createOrReplaceTempView(\"departureDelays_imp_SQL\")"
   ]
  },
  {
   "cell_type": "code",
   "execution_count": 31,
   "metadata": {
    "scrolled": true
   },
   "outputs": [
    {
     "name": "stdout",
     "output_type": "stream",
     "text": [
      "+------+------------+-----------------------+---------------+---+---+---------+-----------+---------+---------+\n",
      "|tripId|  flightDate|departureDelayInMinutes|distanceInMiles|src|dst| src_city|   dst_city|src_state|dst_state|\n",
      "+------+------------+-----------------------+---------------+---+---+---------+-----------+---------+---------+\n",
      "|     0|201703010000|                      0|           1797|BNA|LAX|Nashville|Los Angeles|       TN|       CA|\n",
      "|     1|201703010000|                      0|            369|BOS|BWI|   Boston|  Baltimore|       MA|       MD|\n",
      "|     2|201703010000|                      0|            325|BUR|OAK|  Burbank|    Oakland|       CA|       CA|\n",
      "|     3|201703010000|                      0|            296|BUR|SJC|  Burbank|   San Jose|       CA|       CA|\n",
      "|     4|201703010000|                      0|            296|BUR|SJC|  Burbank|   San Jose|       CA|       CA|\n",
      "+------+------------+-----------------------+---------------+---+---+---------+-----------+---------+---------+\n",
      "only showing top 5 rows\n",
      "\n"
     ]
    }
   ],
   "source": [
    "departureDelays_imp.show(5)"
   ]
  },
  {
   "cell_type": "markdown",
   "metadata": {},
   "source": [
    "### Building the Graph\n",
    "<br>** Now that we've imported our data, we're going to need to build our graph. \n",
    "<br> To do so we're going to do two things. \n",
    "<br> We are going to build the structure of the vertices (or nodes) and build the structure of the edges. \n",
    "<br> What's awesome about GraphFrames is that this process is incredibly simple.\n",
    "<br> Rename IATA airport code to id in the Vertices Table\n",
    "<br> Start and End airports to src and dst for the Edges Table (flights)\n",
    "<br> These are required naming conventions for vertices and edges in GraphFrames as of the time of this writing. **\n",
    "\n",
    "<br> ** Note, ensure you have already installed the GraphFrames spark-package **"
   ]
  },
  {
   "cell_type": "code",
   "execution_count": 32,
   "metadata": {
    "collapsed": true
   },
   "outputs": [],
   "source": [
    "from graphframes import *"
   ]
  },
  {
   "cell_type": "markdown",
   "metadata": {},
   "source": [
    "** Create Vertices (airports) and Edges (flights)\n",
    "<br> Users can create GraphFrames from vertex and edge DataFrames.\n",
    "<br> Vertex DataFrame: A vertex DataFrame should contain a special column named “id” which specifies unique IDs for each vertex in the graph.\n",
    "<br> Edge DataFrame: An edge DataFrame should contain two special columns: “src” (source vertex ID of edge) and “dst” (destination vertex ID of edge).\n",
    "<br> Both DataFrames can have arbitrary other columns. Those columns can represent vertex and edge attributes. **"
   ]
  },
  {
   "cell_type": "code",
   "execution_count": 33,
   "metadata": {
    "collapsed": true
   },
   "outputs": [],
   "source": [
    "tripVertices = airportsNADF.withColumnRenamed(\"IATA\", \"id\").distinct()\n",
    "tripEdges = departureDelays_imp.select(\"tripId\", \"departureDelayInMinutes\", \"distanceInMiles\", \"src\", \"dst\", \"src_city\", \"src_state\", \"dst_city\", \"dst_state\")"
   ]
  },
  {
   "cell_type": "code",
   "execution_count": 34,
   "metadata": {
    "scrolled": true
   },
   "outputs": [
    {
     "data": {
      "text/plain": [
       "DataFrame[tripId: bigint, departureDelayInMinutes: int, distanceInMiles: int, src: string, dst: string, src_city: string, src_state: string, dst_city: string, dst_state: string]"
      ]
     },
     "execution_count": 34,
     "metadata": {},
     "output_type": "execute_result"
    }
   ],
   "source": [
    "tripVertices.cache()\n",
    "tripEdges.cache()"
   ]
  },
  {
   "cell_type": "markdown",
   "metadata": {},
   "source": [
    "#### Vertices - The vertices of our graph are the airports"
   ]
  },
  {
   "cell_type": "code",
   "execution_count": 35,
   "metadata": {
    "scrolled": true
   },
   "outputs": [
    {
     "name": "stdout",
     "output_type": "stream",
     "text": [
      "+---+----------+-----+-------------+\n",
      "| id|      city|state|      country|\n",
      "+---+----------+-----+-------------+\n",
      "|OGG|   Kahului|   HI|United States|\n",
      "|GSO|Greensboro|   NC|United States|\n",
      "|DEN|    Denver|   CO|United States|\n",
      "|CVG|Cincinnati|   KY|United States|\n",
      "+---+----------+-----+-------------+\n",
      "only showing top 4 rows\n",
      "\n"
     ]
    }
   ],
   "source": [
    "tripVertices.show(4)"
   ]
  },
  {
   "cell_type": "markdown",
   "metadata": {},
   "source": [
    "#### Edges - The edges of our graph are the flights between airports"
   ]
  },
  {
   "cell_type": "code",
   "execution_count": 36,
   "metadata": {},
   "outputs": [
    {
     "name": "stdout",
     "output_type": "stream",
     "text": [
      "+------+-----------------------+---------------+---+---+---------+---------+-----------+---------+\n",
      "|tripId|departureDelayInMinutes|distanceInMiles|src|dst| src_city|src_state|   dst_city|dst_state|\n",
      "+------+-----------------------+---------------+---+---+---------+---------+-----------+---------+\n",
      "|     0|                      0|           1797|BNA|LAX|Nashville|       TN|Los Angeles|       CA|\n",
      "|     1|                      0|            369|BOS|BWI|   Boston|       MA|  Baltimore|       MD|\n",
      "|     2|                      0|            325|BUR|OAK|  Burbank|       CA|    Oakland|       CA|\n",
      "|     3|                      0|            296|BUR|SJC|  Burbank|       CA|   San Jose|       CA|\n",
      "+------+-----------------------+---------------+---+---+---------+---------+-----------+---------+\n",
      "only showing top 4 rows\n",
      "\n"
     ]
    }
   ],
   "source": [
    "tripEdges.show(4)"
   ]
  },
  {
   "cell_type": "markdown",
   "metadata": {},
   "source": [
    "#### Build **tripGraph** GraphFrame\n",
    "This GraphFrame builds up on the vertices and edges based on our trips (flights)"
   ]
  },
  {
   "cell_type": "code",
   "execution_count": 37,
   "metadata": {},
   "outputs": [
    {
     "name": "stdout",
     "output_type": "stream",
     "text": [
      "GraphFrame(v:[id: string, city: string ... 2 more fields], e:[src: string, dst: string ... 7 more fields])\n"
     ]
    }
   ],
   "source": [
    "tripGraph = GraphFrame(tripVertices, tripEdges)\n",
    "print tripGraph"
   ]
  },
  {
   "cell_type": "markdown",
   "metadata": {},
   "source": [
    "#### Build tripGraphPrime GraphFrame\n",
    "This graphframe contains a smaller subset of data to make it easier to display motifs and subgraphs (below)"
   ]
  },
  {
   "cell_type": "code",
   "execution_count": 38,
   "metadata": {},
   "outputs": [
    {
     "name": "stdout",
     "output_type": "stream",
     "text": [
      "GraphFrame(v:[id: string, city: string ... 2 more fields], e:[src: string, dst: string ... 3 more fields])\n"
     ]
    }
   ],
   "source": [
    "tripEdgesPrime = departureDelays_imp.select(\"tripId\", \"departureDelayInMinutes\", \"distanceInMiles\", \"src\", \"dst\")\n",
    "tripGraphPrime = GraphFrame(tripVertices, tripEdgesPrime)\n",
    "print tripGraphPrime"
   ]
  },
  {
   "cell_type": "markdown",
   "metadata": {},
   "source": [
    "#### Determine the number of airports and trips"
   ]
  },
  {
   "cell_type": "code",
   "execution_count": 39,
   "metadata": {
    "scrolled": true
   },
   "outputs": [
    {
     "name": "stdout",
     "output_type": "stream",
     "text": [
      "Airports: 294 and Trips: 488534\n"
     ]
    }
   ],
   "source": [
    "print(\"Airports: {} and Trips: {}\".format(tripGraph.vertices.count(), tripGraph.edges.count()))"
   ]
  },
  {
   "cell_type": "markdown",
   "metadata": {},
   "source": [
    "#### Determining the longest delay in this dataset"
   ]
  },
  {
   "cell_type": "code",
   "execution_count": 40,
   "metadata": {
    "scrolled": true
   },
   "outputs": [
    {
     "name": "stdout",
     "output_type": "stream",
     "text": [
      "+----------------------------+\n",
      "|max(departureDelayInMinutes)|\n",
      "+----------------------------+\n",
      "|                        1773|\n",
      "+----------------------------+\n",
      "\n"
     ]
    }
   ],
   "source": [
    "longestDelay = tripGraph.edges.groupBy().max(\"departureDelayInMinutes\")\n",
    "longestDelay.show()"
   ]
  },
  {
   "cell_type": "markdown",
   "metadata": {},
   "source": [
    "#### 1. Determining the number of delayed vs. on-time / early flights"
   ]
  },
  {
   "cell_type": "code",
   "execution_count": 41,
   "metadata": {},
   "outputs": [
    {
     "name": "stdout",
     "output_type": "stream",
     "text": [
      "On-time / Early Flights: 320928\n",
      "Delayed Flights: 167606\n"
     ]
    }
   ],
   "source": [
    "print(\"On-time / Early Flights: {}\".format(tripGraph.edges.filter(\"departureDelayInMinutes <= 0\").count()))\n",
    "print(\"Delayed Flights: {}\".format(tripGraph.edges.filter(\"departureDelayInMinutes > 0\").count()))"
   ]
  },
  {
   "cell_type": "markdown",
   "metadata": {},
   "source": [
    "#### 2. Which flights departing 'SFO' are most likely to have significant delays ?\n",
    "Note, delay can be <= 0 meaning the flight left on time or early"
   ]
  },
  {
   "cell_type": "code",
   "execution_count": 42,
   "metadata": {
    "scrolled": true
   },
   "outputs": [
    {
     "name": "stdout",
     "output_type": "stream",
     "text": [
      "+---+---+----------------------------+\n",
      "|src|dst|avg(departureDelayInMinutes)|\n",
      "+---+---+----------------------------+\n",
      "|SFO|MRY|           69.33333333333333|\n",
      "|SFO|TUS|           68.93181818181819|\n",
      "|SFO|SMF|           62.06818181818182|\n",
      "|SFO|ABQ|          60.888888888888886|\n",
      "|SFO|SBP|                      57.625|\n",
      "|SFO|RDM|           55.61538461538461|\n",
      "|SFO|SBA|          55.333333333333336|\n",
      "|SFO|IND|           55.15384615384615|\n",
      "|SFO|MIA|           55.03333333333333|\n",
      "|SFO|PSC|                        54.0|\n",
      "|SFO|ONT|          50.196969696969695|\n",
      "|SFO|SLC|          48.396039603960396|\n",
      "|SFO|PIT|                       48.25|\n",
      "|SFO|OTH|                        48.2|\n",
      "|SFO|RDD|          47.833333333333336|\n",
      "|SFO|MCI|           47.57142857142857|\n",
      "|SFO|SAT|           45.30769230769231|\n",
      "|SFO|JFK|            44.9593220338983|\n",
      "|SFO|DTW|          44.888888888888886|\n",
      "|SFO|JAC|          44.083333333333336|\n",
      "+---+---+----------------------------+\n",
      "only showing top 20 rows\n",
      "\n"
     ]
    }
   ],
   "source": [
    "tripGraph.edges\\\n",
    ".filter(\"src = 'SFO' AND departureDelayInMinutes > 0\")\\\n",
    ".groupBy(\"src\", \"dst\")\\\n",
    ".avg(\"departureDelayInMinutes\")\\\n",
    ".sort(desc(\"avg(departureDelayInMinutes)\")).show()"
   ]
  },
  {
   "cell_type": "markdown",
   "metadata": {},
   "source": [
    "#### 3. Which destinations tend to have delays ?"
   ]
  },
  {
   "cell_type": "code",
   "execution_count": 43,
   "metadata": {
    "scrolled": true
   },
   "outputs": [
    {
     "name": "stdout",
     "output_type": "stream",
     "text": [
      "+---------+----------------------------+\n",
      "|dst_state|avg(departureDelayInMinutes)|\n",
      "+---------+----------------------------+\n",
      "|       SC|          41.598692810457514|\n",
      "|       AZ|          26.147823033707866|\n",
      "|       LA|           37.53012048192771|\n",
      "|       MN|           43.63625038928683|\n",
      "+---------+----------------------------+\n",
      "only showing top 4 rows\n",
      "\n"
     ]
    }
   ],
   "source": [
    "tripDelays = tripGraph.edges.filter(\"departureDelayInMinutes > 0\")\\\n",
    ".groupBy(\"dst_state\")\\\n",
    ".avg(\"departureDelayInMinutes\")\n",
    "\n",
    "tripDelays.show(4)"
   ]
  },
  {
   "cell_type": "code",
   "execution_count": 44,
   "metadata": {},
   "outputs": [
    {
     "data": {
      "text/html": [
       "<div>\n",
       "<style>\n",
       "    .dataframe thead tr:only-child th {\n",
       "        text-align: right;\n",
       "    }\n",
       "\n",
       "    .dataframe thead th {\n",
       "        text-align: left;\n",
       "    }\n",
       "\n",
       "    .dataframe tbody tr th {\n",
       "        vertical-align: top;\n",
       "    }\n",
       "</style>\n",
       "<table border=\"1\" class=\"dataframe\">\n",
       "  <thead>\n",
       "    <tr style=\"text-align: right;\">\n",
       "      <th></th>\n",
       "      <th>dst_state</th>\n",
       "      <th>avg(departureDelayInMinutes)</th>\n",
       "    </tr>\n",
       "  </thead>\n",
       "  <tbody>\n",
       "    <tr>\n",
       "      <th>0</th>\n",
       "      <td>SC</td>\n",
       "      <td>41.598693</td>\n",
       "    </tr>\n",
       "    <tr>\n",
       "      <th>1</th>\n",
       "      <td>AZ</td>\n",
       "      <td>26.147823</td>\n",
       "    </tr>\n",
       "    <tr>\n",
       "      <th>2</th>\n",
       "      <td>LA</td>\n",
       "      <td>37.530120</td>\n",
       "    </tr>\n",
       "    <tr>\n",
       "      <th>3</th>\n",
       "      <td>MN</td>\n",
       "      <td>43.636250</td>\n",
       "    </tr>\n",
       "    <tr>\n",
       "      <th>4</th>\n",
       "      <td>NJ</td>\n",
       "      <td>51.622002</td>\n",
       "    </tr>\n",
       "  </tbody>\n",
       "</table>\n",
       "</div>"
      ],
      "text/plain": [
       "  dst_state  avg(departureDelayInMinutes)\n",
       "0        SC                     41.598693\n",
       "1        AZ                     26.147823\n",
       "2        LA                     37.530120\n",
       "3        MN                     43.636250\n",
       "4        NJ                     51.622002"
      ]
     },
     "execution_count": 44,
     "metadata": {},
     "output_type": "execute_result"
    }
   ],
   "source": [
    "df = tripDelays.toPandas()\n",
    "df.head()"
   ]
  },
  {
   "cell_type": "code",
   "execution_count": 45,
   "metadata": {
    "scrolled": false
   },
   "outputs": [
    {
     "data": {
      "application/vnd.plotly.v1+json": {
       "data": [
        {
         "autocolorscale": false,
         "colorbar": {
          "title": "Delay in Minutes"
         },
         "colorscale": [
          [
           0,
           "rgb(242,240,247)"
          ],
          [
           0.2,
           "rgb(218,218,235)"
          ],
          [
           0.4,
           "rgb(188,189,220)"
          ],
          [
           0.6,
           "rgb(158,154,200)"
          ],
          [
           0.8,
           "rgb(117,107,177)"
          ],
          [
           1,
           "rgb(84,39,143)"
          ]
         ],
         "locationmode": "USA-states",
         "locations": [
          "SC",
          "AZ",
          "LA",
          "MN",
          "NJ",
          "OR",
          "VA",
          "RI",
          "KY",
          "WY",
          "NH",
          "MI",
          "NV",
          "WI",
          "ID",
          "CA",
          "CT",
          "NE",
          "MT",
          "NC",
          "VT",
          "MD",
          "MO",
          "VI",
          "IL",
          "ME",
          "WA",
          "ND",
          "MS",
          "AL",
          "IN",
          "OH",
          "TN",
          "NM",
          "IA",
          "PA",
          "SD",
          "NY",
          "TX",
          "WV",
          "GA",
          "MA",
          "KS",
          "TT",
          "FL",
          "CO",
          "AK",
          "AR",
          "OK",
          "PR",
          "UT",
          "HI"
         ],
         "marker": {
          "line": {
           "color": "rgb(255,255,255)",
           "width": 2
          }
         },
         "type": "choropleth",
         "z": [
          41.598692810457514,
          26.147823033707866,
          37.53012048192771,
          43.63625038928683,
          51.622002200220024,
          29.066102591221576,
          31.390035228988424,
          27.494708994708994,
          39.57589803012746,
          33.98823529411764,
          30.01675977653631,
          45.28093047034765,
          29.557176728068576,
          38.30568256041803,
          34.189795918367345,
          34.52847326435511,
          29.870639534883722,
          33.553772070626,
          32.87769784172662,
          32.39953051643192,
          33,
          24.466620546523693,
          27.321801371905757,
          27.354368932038835,
          40.415649165649164,
          46.264044943820224,
          29.960883448642896,
          53.385416666666664,
          41.0365296803653,
          41.298869143780294,
          38.21224832214765,
          36.7977977977978,
          31.935887412040657,
          26.28996865203762,
          44.638977635782744,
          31.827055355388143,
          50.8671875,
          50.30819158460161,
          32.826247805367444,
          37.84375,
          33.32271000422119,
          37.20010017530679,
          38.9,
          20.74074074074074,
          31.904414562983636,
          38.588921282798836,
          26.4004914004914,
          33.68232044198895,
          30.234553775743706,
          35.458123107971744,
          36.55920324603467,
          23.117099135063206
         ]
        }
       ],
       "layout": {
        "geo": {
         "lakecolor": "rgb(255, 255, 255)",
         "projection": {
          "type": "albers usa"
         },
         "scope": "usa",
         "showlakes": true
        },
        "title": "What destinations tend to have delays by State<br>(Hover for breakdown)"
       }
      },
      "text/html": [
       "<div id=\"e9b87e64-e390-44b6-85f4-cdfb9d0b4fec\" style=\"height: 525px; width: 100%;\" class=\"plotly-graph-div\"></div><script type=\"text/javascript\">require([\"plotly\"], function(Plotly) { window.PLOTLYENV=window.PLOTLYENV || {};window.PLOTLYENV.BASE_URL=\"https://plot.ly\";Plotly.newPlot(\"e9b87e64-e390-44b6-85f4-cdfb9d0b4fec\", [{\"autocolorscale\": false, \"colorscale\": [[0.0, \"rgb(242,240,247)\"], [0.2, \"rgb(218,218,235)\"], [0.4, \"rgb(188,189,220)\"], [0.6, \"rgb(158,154,200)\"], [0.8, \"rgb(117,107,177)\"], [1.0, \"rgb(84,39,143)\"]], \"type\": \"choropleth\", \"locations\": [\"SC\", \"AZ\", \"LA\", \"MN\", \"NJ\", \"OR\", \"VA\", \"RI\", \"KY\", \"WY\", \"NH\", \"MI\", \"NV\", \"WI\", \"ID\", \"CA\", \"CT\", \"NE\", \"MT\", \"NC\", \"VT\", \"MD\", \"MO\", \"VI\", \"IL\", \"ME\", \"WA\", \"ND\", \"MS\", \"AL\", \"IN\", \"OH\", \"TN\", \"NM\", \"IA\", \"PA\", \"SD\", \"NY\", \"TX\", \"WV\", \"GA\", \"MA\", \"KS\", \"TT\", \"FL\", \"CO\", \"AK\", \"AR\", \"OK\", \"PR\", \"UT\", \"HI\"], \"colorbar\": {\"title\": \"Delay in Minutes\"}, \"marker\": {\"line\": {\"color\": \"rgb(255,255,255)\", \"width\": 2}}, \"z\": [41.598692810457514, 26.147823033707866, 37.53012048192771, 43.63625038928683, 51.622002200220024, 29.066102591221576, 31.390035228988424, 27.494708994708994, 39.57589803012746, 33.98823529411764, 30.01675977653631, 45.28093047034765, 29.557176728068576, 38.30568256041803, 34.189795918367345, 34.52847326435511, 29.870639534883722, 33.553772070626, 32.87769784172662, 32.39953051643192, 33.0, 24.466620546523693, 27.321801371905757, 27.354368932038835, 40.415649165649164, 46.264044943820224, 29.960883448642896, 53.385416666666664, 41.0365296803653, 41.298869143780294, 38.21224832214765, 36.7977977977978, 31.935887412040657, 26.28996865203762, 44.638977635782744, 31.827055355388143, 50.8671875, 50.30819158460161, 32.826247805367444, 37.84375, 33.32271000422119, 37.20010017530679, 38.9, 20.74074074074074, 31.904414562983636, 38.588921282798836, 26.4004914004914, 33.68232044198895, 30.234553775743706, 35.458123107971744, 36.55920324603467, 23.117099135063206], \"locationmode\": \"USA-states\"}], {\"geo\": {\"showlakes\": true, \"scope\": \"usa\", \"projection\": {\"type\": \"albers usa\"}, \"lakecolor\": \"rgb(255, 255, 255)\"}, \"title\": \"What destinations tend to have delays by State<br>(Hover for breakdown)\"}, {\"linkText\": \"Export to plot.ly\", \"showLink\": true})});</script>"
      ],
      "text/vnd.plotly.v1+html": [
       "<div id=\"e9b87e64-e390-44b6-85f4-cdfb9d0b4fec\" style=\"height: 525px; width: 100%;\" class=\"plotly-graph-div\"></div><script type=\"text/javascript\">require([\"plotly\"], function(Plotly) { window.PLOTLYENV=window.PLOTLYENV || {};window.PLOTLYENV.BASE_URL=\"https://plot.ly\";Plotly.newPlot(\"e9b87e64-e390-44b6-85f4-cdfb9d0b4fec\", [{\"autocolorscale\": false, \"colorscale\": [[0.0, \"rgb(242,240,247)\"], [0.2, \"rgb(218,218,235)\"], [0.4, \"rgb(188,189,220)\"], [0.6, \"rgb(158,154,200)\"], [0.8, \"rgb(117,107,177)\"], [1.0, \"rgb(84,39,143)\"]], \"type\": \"choropleth\", \"locations\": [\"SC\", \"AZ\", \"LA\", \"MN\", \"NJ\", \"OR\", \"VA\", \"RI\", \"KY\", \"WY\", \"NH\", \"MI\", \"NV\", \"WI\", \"ID\", \"CA\", \"CT\", \"NE\", \"MT\", \"NC\", \"VT\", \"MD\", \"MO\", \"VI\", \"IL\", \"ME\", \"WA\", \"ND\", \"MS\", \"AL\", \"IN\", \"OH\", \"TN\", \"NM\", \"IA\", \"PA\", \"SD\", \"NY\", \"TX\", \"WV\", \"GA\", \"MA\", \"KS\", \"TT\", \"FL\", \"CO\", \"AK\", \"AR\", \"OK\", \"PR\", \"UT\", \"HI\"], \"colorbar\": {\"title\": \"Delay in Minutes\"}, \"marker\": {\"line\": {\"color\": \"rgb(255,255,255)\", \"width\": 2}}, \"z\": [41.598692810457514, 26.147823033707866, 37.53012048192771, 43.63625038928683, 51.622002200220024, 29.066102591221576, 31.390035228988424, 27.494708994708994, 39.57589803012746, 33.98823529411764, 30.01675977653631, 45.28093047034765, 29.557176728068576, 38.30568256041803, 34.189795918367345, 34.52847326435511, 29.870639534883722, 33.553772070626, 32.87769784172662, 32.39953051643192, 33.0, 24.466620546523693, 27.321801371905757, 27.354368932038835, 40.415649165649164, 46.264044943820224, 29.960883448642896, 53.385416666666664, 41.0365296803653, 41.298869143780294, 38.21224832214765, 36.7977977977978, 31.935887412040657, 26.28996865203762, 44.638977635782744, 31.827055355388143, 50.8671875, 50.30819158460161, 32.826247805367444, 37.84375, 33.32271000422119, 37.20010017530679, 38.9, 20.74074074074074, 31.904414562983636, 38.588921282798836, 26.4004914004914, 33.68232044198895, 30.234553775743706, 35.458123107971744, 36.55920324603467, 23.117099135063206], \"locationmode\": \"USA-states\"}], {\"geo\": {\"showlakes\": true, \"scope\": \"usa\", \"projection\": {\"type\": \"albers usa\"}, \"lakecolor\": \"rgb(255, 255, 255)\"}, \"title\": \"What destinations tend to have delays by State<br>(Hover for breakdown)\"}, {\"linkText\": \"Export to plot.ly\", \"showLink\": true})});</script>"
      ]
     },
     "metadata": {},
     "output_type": "display_data"
    }
   ],
   "source": [
    "# Refer: https://plot.ly/python/choropleth-maps/\n",
    "for col in df.columns:\n",
    "    df[col] = df[col].astype(str)\n",
    "\n",
    "scl = [[0.0, 'rgb(242,240,247)'],\n",
    "       [0.2, 'rgb(218,218,235)'],\n",
    "       [0.4, 'rgb(188,189,220)'],\n",
    "       [0.6, 'rgb(158,154,200)'],\n",
    "       [0.8, 'rgb(117,107,177)'],\n",
    "       [1.0, 'rgb(84,39,143)']]\n",
    "\n",
    "data = [ dict(\n",
    "        type='choropleth',\n",
    "        colorscale = scl,\n",
    "        autocolorscale = False,\n",
    "        locations = df['dst_state'],\n",
    "        z = df['avg(departureDelayInMinutes)'].astype(float),\n",
    "        locationmode = 'USA-states',\n",
    "        marker = dict(\n",
    "            line = dict (\n",
    "                color = 'rgb(255,255,255)',\n",
    "                width = 2\n",
    "            ) ),\n",
    "        colorbar = dict(\n",
    "            title = \"Delay in Minutes\")\n",
    "        ) ]\n",
    "\n",
    "layout = dict(\n",
    "        title = 'What destinations tend to have delays by State<br>(Hover for breakdown)',\n",
    "        geo = dict(\n",
    "            scope='usa',\n",
    "            projection=dict( type='albers usa' ),\n",
    "            showlakes = True,\n",
    "            lakecolor = 'rgb(255, 255, 255)'),\n",
    "             )\n",
    "    \n",
    "fig = dict( data=data, layout=layout )\n",
    "iplot( fig, filename='d3-cloropleth-map' )"
   ]
  },
  {
   "cell_type": "markdown",
   "metadata": {},
   "source": [
    "#### 4.Which destinations tend to have significant delays departing from SEA ?\n",
    "States with the longest cumulative delays (with individual delays > 100 minutes) (origin: Seattle)"
   ]
  },
  {
   "cell_type": "code",
   "execution_count": 46,
   "metadata": {
    "scrolled": false
   },
   "outputs": [
    {
     "name": "stdout",
     "output_type": "stream",
     "text": [
      "+---------+----------------------------+\n",
      "|dst_state|avg(departureDelayInMinutes)|\n",
      "+---------+----------------------------+\n",
      "|       AZ|                       220.0|\n",
      "|       SC|                       150.0|\n",
      "|       MN|          178.66666666666666|\n",
      "|       NJ|          148.85714285714286|\n",
      "+---------+----------------------------+\n",
      "only showing top 4 rows\n",
      "\n"
     ]
    }
   ],
   "source": [
    "tripDelaysSEA = tripGraph.edges.filter(\"src = 'SEA' and departureDelayInMinutes > 100\")\\\n",
    ".groupBy(\"dst_state\")\\\n",
    ".avg(\"departureDelayInMinutes\")\n",
    "\n",
    "tripDelaysSEA.show(4)"
   ]
  },
  {
   "cell_type": "code",
   "execution_count": 47,
   "metadata": {},
   "outputs": [
    {
     "data": {
      "text/html": [
       "<div>\n",
       "<style>\n",
       "    .dataframe thead tr:only-child th {\n",
       "        text-align: right;\n",
       "    }\n",
       "\n",
       "    .dataframe thead th {\n",
       "        text-align: left;\n",
       "    }\n",
       "\n",
       "    .dataframe tbody tr th {\n",
       "        vertical-align: top;\n",
       "    }\n",
       "</style>\n",
       "<table border=\"1\" class=\"dataframe\">\n",
       "  <thead>\n",
       "    <tr style=\"text-align: right;\">\n",
       "      <th></th>\n",
       "      <th>dst_state</th>\n",
       "      <th>avg(departureDelayInMinutes)</th>\n",
       "    </tr>\n",
       "  </thead>\n",
       "  <tbody>\n",
       "    <tr>\n",
       "      <th>0</th>\n",
       "      <td>AZ</td>\n",
       "      <td>220.000000</td>\n",
       "    </tr>\n",
       "    <tr>\n",
       "      <th>1</th>\n",
       "      <td>SC</td>\n",
       "      <td>150.000000</td>\n",
       "    </tr>\n",
       "    <tr>\n",
       "      <th>2</th>\n",
       "      <td>MN</td>\n",
       "      <td>178.666667</td>\n",
       "    </tr>\n",
       "    <tr>\n",
       "      <th>3</th>\n",
       "      <td>NJ</td>\n",
       "      <td>148.857143</td>\n",
       "    </tr>\n",
       "    <tr>\n",
       "      <th>4</th>\n",
       "      <td>OR</td>\n",
       "      <td>238.166667</td>\n",
       "    </tr>\n",
       "  </tbody>\n",
       "</table>\n",
       "</div>"
      ],
      "text/plain": [
       "  dst_state  avg(departureDelayInMinutes)\n",
       "0        AZ                    220.000000\n",
       "1        SC                    150.000000\n",
       "2        MN                    178.666667\n",
       "3        NJ                    148.857143\n",
       "4        OR                    238.166667"
      ]
     },
     "execution_count": 47,
     "metadata": {},
     "output_type": "execute_result"
    }
   ],
   "source": [
    "df = tripDelaysSEA.toPandas()\n",
    "df.head()"
   ]
  },
  {
   "cell_type": "code",
   "execution_count": 48,
   "metadata": {},
   "outputs": [
    {
     "data": {
      "application/vnd.plotly.v1+json": {
       "data": [
        {
         "autocolorscale": false,
         "colorbar": {
          "title": "Delay in Minutes"
         },
         "colorscale": [
          [
           0,
           "rgb(242,240,247)"
          ],
          [
           0.2,
           "rgb(218,218,235)"
          ],
          [
           0.4,
           "rgb(188,189,220)"
          ],
          [
           0.6,
           "rgb(158,154,200)"
          ],
          [
           0.8,
           "rgb(117,107,177)"
          ],
          [
           1,
           "rgb(84,39,143)"
          ]
         ],
         "locationmode": "USA-states",
         "locations": [
          "AZ",
          "SC",
          "MN",
          "NJ",
          "OR",
          "VA",
          "NV",
          "WI",
          "ID",
          "CA",
          "NC",
          "MO",
          "IL",
          "WA",
          "NY",
          "TX",
          "GA",
          "MA",
          "CO",
          "AK",
          "UT",
          "HI"
         ],
         "marker": {
          "line": {
           "color": "rgb(255,255,255)",
           "width": 2
          }
         },
         "type": "choropleth",
         "z": [
          220,
          150,
          178.66666666666666,
          148.85714285714286,
          238.16666666666666,
          194,
          151.25,
          108,
          151.14285714285714,
          154.5609756097561,
          109,
          161,
          140.85714285714286,
          161.33333333333334,
          192.375,
          130.25,
          301.5,
          190.2,
          234.7,
          158.33333333333334,
          360.2,
          161.27272727272728
         ]
        }
       ],
       "layout": {
        "geo": {
         "lakecolor": "rgb(255, 255, 255)",
         "projection": {
          "type": "albers usa"
         },
         "scope": "usa",
         "showlakes": true
        },
        "title": "What destinations tend to have significant delays departing from SEA<br>(Hover for breakdown)"
       }
      },
      "text/html": [
       "<div id=\"248abba2-8653-4a68-b600-2ac29ea0b111\" style=\"height: 525px; width: 100%;\" class=\"plotly-graph-div\"></div><script type=\"text/javascript\">require([\"plotly\"], function(Plotly) { window.PLOTLYENV=window.PLOTLYENV || {};window.PLOTLYENV.BASE_URL=\"https://plot.ly\";Plotly.newPlot(\"248abba2-8653-4a68-b600-2ac29ea0b111\", [{\"autocolorscale\": false, \"colorscale\": [[0.0, \"rgb(242,240,247)\"], [0.2, \"rgb(218,218,235)\"], [0.4, \"rgb(188,189,220)\"], [0.6, \"rgb(158,154,200)\"], [0.8, \"rgb(117,107,177)\"], [1.0, \"rgb(84,39,143)\"]], \"type\": \"choropleth\", \"locations\": [\"AZ\", \"SC\", \"MN\", \"NJ\", \"OR\", \"VA\", \"NV\", \"WI\", \"ID\", \"CA\", \"NC\", \"MO\", \"IL\", \"WA\", \"NY\", \"TX\", \"GA\", \"MA\", \"CO\", \"AK\", \"UT\", \"HI\"], \"colorbar\": {\"title\": \"Delay in Minutes\"}, \"marker\": {\"line\": {\"color\": \"rgb(255,255,255)\", \"width\": 2}}, \"z\": [220.0, 150.0, 178.66666666666666, 148.85714285714286, 238.16666666666666, 194.0, 151.25, 108.0, 151.14285714285714, 154.5609756097561, 109.0, 161.0, 140.85714285714286, 161.33333333333334, 192.375, 130.25, 301.5, 190.2, 234.7, 158.33333333333334, 360.2, 161.27272727272728], \"locationmode\": \"USA-states\"}], {\"geo\": {\"showlakes\": true, \"scope\": \"usa\", \"projection\": {\"type\": \"albers usa\"}, \"lakecolor\": \"rgb(255, 255, 255)\"}, \"title\": \"What destinations tend to have significant delays departing from SEA<br>(Hover for breakdown)\"}, {\"linkText\": \"Export to plot.ly\", \"showLink\": true})});</script>"
      ],
      "text/vnd.plotly.v1+html": [
       "<div id=\"248abba2-8653-4a68-b600-2ac29ea0b111\" style=\"height: 525px; width: 100%;\" class=\"plotly-graph-div\"></div><script type=\"text/javascript\">require([\"plotly\"], function(Plotly) { window.PLOTLYENV=window.PLOTLYENV || {};window.PLOTLYENV.BASE_URL=\"https://plot.ly\";Plotly.newPlot(\"248abba2-8653-4a68-b600-2ac29ea0b111\", [{\"autocolorscale\": false, \"colorscale\": [[0.0, \"rgb(242,240,247)\"], [0.2, \"rgb(218,218,235)\"], [0.4, \"rgb(188,189,220)\"], [0.6, \"rgb(158,154,200)\"], [0.8, \"rgb(117,107,177)\"], [1.0, \"rgb(84,39,143)\"]], \"type\": \"choropleth\", \"locations\": [\"AZ\", \"SC\", \"MN\", \"NJ\", \"OR\", \"VA\", \"NV\", \"WI\", \"ID\", \"CA\", \"NC\", \"MO\", \"IL\", \"WA\", \"NY\", \"TX\", \"GA\", \"MA\", \"CO\", \"AK\", \"UT\", \"HI\"], \"colorbar\": {\"title\": \"Delay in Minutes\"}, \"marker\": {\"line\": {\"color\": \"rgb(255,255,255)\", \"width\": 2}}, \"z\": [220.0, 150.0, 178.66666666666666, 148.85714285714286, 238.16666666666666, 194.0, 151.25, 108.0, 151.14285714285714, 154.5609756097561, 109.0, 161.0, 140.85714285714286, 161.33333333333334, 192.375, 130.25, 301.5, 190.2, 234.7, 158.33333333333334, 360.2, 161.27272727272728], \"locationmode\": \"USA-states\"}], {\"geo\": {\"showlakes\": true, \"scope\": \"usa\", \"projection\": {\"type\": \"albers usa\"}, \"lakecolor\": \"rgb(255, 255, 255)\"}, \"title\": \"What destinations tend to have significant delays departing from SEA<br>(Hover for breakdown)\"}, {\"linkText\": \"Export to plot.ly\", \"showLink\": true})});</script>"
      ]
     },
     "metadata": {},
     "output_type": "display_data"
    }
   ],
   "source": [
    "# Refer: https://plot.ly/python/choropleth-maps/\n",
    "for col in df.columns:\n",
    "    df[col] = df[col].astype(str)\n",
    "\n",
    "scl = [[0.0, 'rgb(242,240,247)'],\n",
    "       [0.2, 'rgb(218,218,235)'],\n",
    "       [0.4, 'rgb(188,189,220)'],            \n",
    "       [0.6, 'rgb(158,154,200)'],\n",
    "       [0.8, 'rgb(117,107,177)'],\n",
    "       [1.0, 'rgb(84,39,143)']]\n",
    "\n",
    "data = [ dict(\n",
    "        type='choropleth',\n",
    "        colorscale = scl,\n",
    "        autocolorscale = False,\n",
    "        locations = df['dst_state'],\n",
    "        z = df['avg(departureDelayInMinutes)'].astype(float),\n",
    "        locationmode = 'USA-states',\n",
    "        marker = dict(\n",
    "            line = dict (\n",
    "                color = 'rgb(255,255,255)',\n",
    "                width = 2\n",
    "            ) ),\n",
    "        colorbar = dict(\n",
    "            title = \"Delay in Minutes\")\n",
    "        ) ]\n",
    "\n",
    "layout = dict(\n",
    "        title = 'What destinations tend to have significant delays departing from SEA<br>(Hover for breakdown)',\n",
    "        geo = dict(\n",
    "            scope='usa',\n",
    "            projection=dict( type='albers usa' ),\n",
    "            showlakes = True,\n",
    "            lakecolor = 'rgb(255, 255, 255)'),\n",
    "             )\n",
    "    \n",
    "fig = dict( data=data, layout=layout )\n",
    "iplot( fig, filename='d3-cloropleth-map' )"
   ]
  },
  {
   "cell_type": "markdown",
   "metadata": {},
   "source": [
    "#### 5. Vertex Degrees\n",
    "<br>**inDegrees:** Incoming connections to the airport\n",
    "<br>**outDegrees:** Outgoing connections from the airport\n",
    "<br>**degrees:** Total connections to and from the airport"
   ]
  },
  {
   "cell_type": "markdown",
   "metadata": {},
   "source": [
    "#### Degree"
   ]
  },
  {
   "cell_type": "code",
   "execution_count": 49,
   "metadata": {},
   "outputs": [
    {
     "name": "stdout",
     "output_type": "stream",
     "text": [
      "+---+------+\n",
      "| id|degree|\n",
      "+---+------+\n",
      "|ATL| 64887|\n",
      "|ORD| 43960|\n",
      "|DEN| 37329|\n",
      "|LAX| 36152|\n",
      "|DFW| 30989|\n",
      "|PHX| 28667|\n",
      "|SFO| 28175|\n",
      "|LAS| 25708|\n",
      "|MCO| 24483|\n",
      "|IAH| 23093|\n",
      "|MSP| 22427|\n",
      "|DTW| 21804|\n",
      "|SEA| 21429|\n",
      "|BOS| 21184|\n",
      "|SLC| 19953|\n",
      "|EWR| 19841|\n",
      "|CLT| 19483|\n",
      "|FLL| 17099|\n",
      "|BWI| 16739|\n",
      "|JFK| 16624|\n",
      "+---+------+\n",
      "\n"
     ]
    }
   ],
   "source": [
    "# Degrees - The number of degrees - the number of incoming and outgoing connections - for various airports within this sample dataset\n",
    "tripGraphDegrees = tripGraph.degrees.sort(desc(\"degree\")).limit(20)\n",
    "tripGraphDegrees.show()"
   ]
  },
  {
   "cell_type": "code",
   "execution_count": 50,
   "metadata": {},
   "outputs": [
    {
     "data": {
      "text/html": [
       "<div>\n",
       "<style>\n",
       "    .dataframe thead tr:only-child th {\n",
       "        text-align: right;\n",
       "    }\n",
       "\n",
       "    .dataframe thead th {\n",
       "        text-align: left;\n",
       "    }\n",
       "\n",
       "    .dataframe tbody tr th {\n",
       "        vertical-align: top;\n",
       "    }\n",
       "</style>\n",
       "<table border=\"1\" class=\"dataframe\">\n",
       "  <thead>\n",
       "    <tr style=\"text-align: right;\">\n",
       "      <th></th>\n",
       "      <th>id</th>\n",
       "      <th>degree</th>\n",
       "    </tr>\n",
       "  </thead>\n",
       "  <tbody>\n",
       "    <tr>\n",
       "      <th>0</th>\n",
       "      <td>ATL</td>\n",
       "      <td>64887</td>\n",
       "    </tr>\n",
       "    <tr>\n",
       "      <th>1</th>\n",
       "      <td>ORD</td>\n",
       "      <td>43960</td>\n",
       "    </tr>\n",
       "    <tr>\n",
       "      <th>2</th>\n",
       "      <td>DEN</td>\n",
       "      <td>37329</td>\n",
       "    </tr>\n",
       "    <tr>\n",
       "      <th>3</th>\n",
       "      <td>LAX</td>\n",
       "      <td>36152</td>\n",
       "    </tr>\n",
       "    <tr>\n",
       "      <th>4</th>\n",
       "      <td>DFW</td>\n",
       "      <td>30989</td>\n",
       "    </tr>\n",
       "  </tbody>\n",
       "</table>\n",
       "</div>"
      ],
      "text/plain": [
       "    id  degree\n",
       "0  ATL   64887\n",
       "1  ORD   43960\n",
       "2  DEN   37329\n",
       "3  LAX   36152\n",
       "4  DFW   30989"
      ]
     },
     "execution_count": 50,
     "metadata": {},
     "output_type": "execute_result"
    }
   ],
   "source": [
    "df = tripGraphDegrees.toPandas()\n",
    "df.head()"
   ]
  },
  {
   "cell_type": "code",
   "execution_count": 51,
   "metadata": {
    "scrolled": false
   },
   "outputs": [
    {
     "data": {
      "application/vnd.plotly.v1+json": {
       "data": [
        {
         "type": "bar",
         "x": [
          "ATL",
          "ORD",
          "DEN",
          "LAX",
          "DFW",
          "PHX",
          "SFO",
          "LAS",
          "MCO",
          "IAH",
          "MSP",
          "DTW",
          "SEA",
          "BOS",
          "SLC",
          "EWR",
          "CLT",
          "FLL",
          "BWI",
          "JFK"
         ],
         "y": [
          64887,
          43960,
          37329,
          36152,
          30989,
          28667,
          28175,
          25708,
          24483,
          23093,
          22427,
          21804,
          21429,
          21184,
          19953,
          19841,
          19483,
          17099,
          16739,
          16624
         ]
        }
       ],
       "layout": {
        "title": "Degree - Top 20 - Descending Order"
       }
      },
      "text/html": [
       "<div id=\"2fda7fe8-0e35-4a2f-9b1c-1c64c150bd6b\" style=\"height: 525px; width: 100%;\" class=\"plotly-graph-div\"></div><script type=\"text/javascript\">require([\"plotly\"], function(Plotly) { window.PLOTLYENV=window.PLOTLYENV || {};window.PLOTLYENV.BASE_URL=\"https://plot.ly\";Plotly.newPlot(\"2fda7fe8-0e35-4a2f-9b1c-1c64c150bd6b\", [{\"y\": [64887, 43960, 37329, 36152, 30989, 28667, 28175, 25708, 24483, 23093, 22427, 21804, 21429, 21184, 19953, 19841, 19483, 17099, 16739, 16624], \"x\": [\"ATL\", \"ORD\", \"DEN\", \"LAX\", \"DFW\", \"PHX\", \"SFO\", \"LAS\", \"MCO\", \"IAH\", \"MSP\", \"DTW\", \"SEA\", \"BOS\", \"SLC\", \"EWR\", \"CLT\", \"FLL\", \"BWI\", \"JFK\"], \"type\": \"bar\"}], {\"title\": \"Degree - Top 20 - Descending Order\"}, {\"linkText\": \"Export to plot.ly\", \"showLink\": true})});</script>"
      ],
      "text/vnd.plotly.v1+html": [
       "<div id=\"2fda7fe8-0e35-4a2f-9b1c-1c64c150bd6b\" style=\"height: 525px; width: 100%;\" class=\"plotly-graph-div\"></div><script type=\"text/javascript\">require([\"plotly\"], function(Plotly) { window.PLOTLYENV=window.PLOTLYENV || {};window.PLOTLYENV.BASE_URL=\"https://plot.ly\";Plotly.newPlot(\"2fda7fe8-0e35-4a2f-9b1c-1c64c150bd6b\", [{\"y\": [64887, 43960, 37329, 36152, 30989, 28667, 28175, 25708, 24483, 23093, 22427, 21804, 21429, 21184, 19953, 19841, 19483, 17099, 16739, 16624], \"x\": [\"ATL\", \"ORD\", \"DEN\", \"LAX\", \"DFW\", \"PHX\", \"SFO\", \"LAS\", \"MCO\", \"IAH\", \"MSP\", \"DTW\", \"SEA\", \"BOS\", \"SLC\", \"EWR\", \"CLT\", \"FLL\", \"BWI\", \"JFK\"], \"type\": \"bar\"}], {\"title\": \"Degree - Top 20 - Descending Order\"}, {\"linkText\": \"Export to plot.ly\", \"showLink\": true})});</script>"
      ]
     },
     "metadata": {},
     "output_type": "display_data"
    }
   ],
   "source": [
    "data = [go.Bar(x=df.id, y=df.degree)]\n",
    "layout = go.Layout(title='Degree - Top 20 - Descending Order',)\n",
    "fig = go.Figure(data=data, layout=layout)\n",
    "iplot(fig, filename='basic_bar1')"
   ]
  },
  {
   "cell_type": "markdown",
   "metadata": {},
   "source": [
    "#### 6. Motif Finding"
   ]
  },
  {
   "cell_type": "markdown",
   "metadata": {},
   "source": [
    "City / Flight Relationships through Motif Finding\n",
    "<br>To more easily understand the complex relationship of city airports and their flights with each other,\n",
    "<br>we can use motifs to find patterns of airports (i.e. vertices) connected by flights (i.e. edges).\n",
    "<br>The result is a DataFrame in which the column names are given by the motif keys.\n",
    "\n",
    "<br>**What delays might we blame on SFO?**\n",
    "<br>Using tripGraphPrime to more easily display\n",
    "<br>- The associated edge (ab, bc) relationships\n",
    "<br>- With the different the city / airports (a, b, c) where SFO is the connecting city (b)\n",
    "<br>- Ensuring that flight ab (i.e. the flight to SFO) occured before flight bc (i.e. flight leaving SFO)\n",
    "<br>- Note, TripID was generated based on time in the format of CCYYMMDD converted to int - Sequence Number\n",
    "<br>  -- Therefore bc.tripid < ab.tripid + 10000 means the second flight (bc) occured within approx a day of the first flight (ab)\n",
    "\n",
    "<br>**Note:** In reality, we would need to be more careful to link trips ab and bc."
   ]
  },
  {
   "cell_type": "code",
   "execution_count": 52,
   "metadata": {
    "collapsed": true
   },
   "outputs": [],
   "source": [
    "motifs = tripGraphPrime.find(\"(a)-[ab]->(b); (b)-[bc]->(c)\")\\\n",
    "  .filter(\"(b.id = 'SFO') and (ab.departureDelayInMinutes > 500 or bc.departureDelayInMinutes > 500) and bc.tripId > ab.tripId and bc.tripId < ab.tripId + 10000\")"
   ]
  },
  {
   "cell_type": "code",
   "execution_count": 53,
   "metadata": {
    "scrolled": true
   },
   "outputs": [
    {
     "name": "stdout",
     "output_type": "stream",
     "text": [
      "+---------------------------------+---------------------------+---------------------------------------+--------------------------+----------------------------------------+\n",
      "|a                                |ab                         |b                                      |bc                        |c                                       |\n",
      "+---------------------------------+---------------------------+---------------------------------------+--------------------------+----------------------------------------+\n",
      "|[BUR, Burbank, CA, United States]|[12532, 687, 326, BUR, SFO]|[SFO, San Francisco, CA, United States]|[12597, -5, 599, SFO, SLC]|[SLC, Salt Lake City, UT, United States]|\n",
      "|[BUR, Burbank, CA, United States]|[12532, 687, 326, BUR, SFO]|[SFO, San Francisco, CA, United States]|[12601, -2, 326, SFO, BUR]|[BUR, Burbank, CA, United States]       |\n",
      "|[BUR, Burbank, CA, United States]|[12532, 687, 326, BUR, SFO]|[SFO, San Francisco, CA, United States]|[12643, 11, 447, SFO, SAN]|[SAN, San Diego, CA, United States]     |\n",
      "|[BUR, Burbank, CA, United States]|[12532, 687, 326, BUR, SFO]|[SFO, San Francisco, CA, United States]|[12689, -6, 372, SFO, SNA]|[SNA, Santa Ana, CA, United States]     |\n",
      "+---------------------------------+---------------------------+---------------------------------------+--------------------------+----------------------------------------+\n",
      "only showing top 4 rows\n",
      "\n"
     ]
    }
   ],
   "source": [
    "motifs.show(4, truncate = False)\n"
   ]
  },
  {
   "cell_type": "markdown",
   "metadata": {},
   "source": [
    "#### 7. PageRank"
   ]
  },
  {
   "cell_type": "markdown",
   "metadata": {},
   "source": [
    "#### Determining Airport Ranking using PageRank\n",
    "There are a large number of flights and connections through these various airports included in this Departure Delay Dataset.\n",
    "<br>Using the pageRank algorithm, Spark iteratively traverses the graph and determines a rough estimate of how important the airport is."
   ]
  },
  {
   "cell_type": "code",
   "execution_count": 54,
   "metadata": {},
   "outputs": [
    {
     "name": "stdout",
     "output_type": "stream",
     "text": [
      "+---+-----------------+-----+-------------+------------------+\n",
      "| id|             city|state|      country|          pagerank|\n",
      "+---+-----------------+-----+-------------+------------------+\n",
      "|ATL|          Atlanta|   GA|United States|20.177171960860903|\n",
      "|ORD|          Chicago|   IL|United States|13.157018642326195|\n",
      "|DEN|           Denver|   CO|United States|10.342668730780478|\n",
      "|DFW|Dallas-Fort Worth|   TX|United States| 8.964923534530998|\n",
      "|LAX|      Los Angeles|   CA|United States| 8.455103072395062|\n",
      "|PHX|          Phoenix|   AZ|United States| 7.423372726662571|\n",
      "|MSP|      Minneapolis|   MN|United States| 7.297660788911538|\n",
      "|SFO|    San Francisco|   CA|United States| 7.213926446645566|\n",
      "|DTW|          Detroit|   MI|United States| 6.976776841528112|\n",
      "|IAH|          Houston|   TX|United States| 6.865025182388982|\n",
      "|SLC|   Salt Lake City|   UT|United States| 6.530381123302239|\n",
      "|SEA|          Seattle|   WA|United States|6.2584847077915295|\n",
      "|MCO|          Orlando|   FL|United States| 6.013041841177969|\n",
      "|LAS|        Las Vegas|   NV|United States| 5.975256809735981|\n",
      "|EWR|           Newark|   NJ|United States|  4.81796089007591|\n",
      "|BOS|           Boston|   MA|United States| 4.777167522882932|\n",
      "|CLT|        Charlotte|   NC|United States| 4.583939532190844|\n",
      "|FLL|  Fort Lauderdale|   FL|United States| 4.230973000725963|\n",
      "|LGA|         New York|   NY|United States| 4.067899782988331|\n",
      "|BWI|        Baltimore|   MD|United States| 3.985999182399218|\n",
      "+---+-----------------+-----+-------------+------------------+\n",
      "\n"
     ]
    }
   ],
   "source": [
    "# Determining Airport ranking of importance using `pageRank`\n",
    "ranks = tripGraph.pageRank(maxIter=5)\n",
    "ranksDisplay = ranks.vertices.orderBy(ranks.vertices.pagerank.desc()).limit(20)\n",
    "ranksDisplay.show()"
   ]
  },
  {
   "cell_type": "code",
   "execution_count": 55,
   "metadata": {},
   "outputs": [
    {
     "data": {
      "text/html": [
       "<div>\n",
       "<style>\n",
       "    .dataframe thead tr:only-child th {\n",
       "        text-align: right;\n",
       "    }\n",
       "\n",
       "    .dataframe thead th {\n",
       "        text-align: left;\n",
       "    }\n",
       "\n",
       "    .dataframe tbody tr th {\n",
       "        vertical-align: top;\n",
       "    }\n",
       "</style>\n",
       "<table border=\"1\" class=\"dataframe\">\n",
       "  <thead>\n",
       "    <tr style=\"text-align: right;\">\n",
       "      <th></th>\n",
       "      <th>id</th>\n",
       "      <th>city</th>\n",
       "      <th>state</th>\n",
       "      <th>country</th>\n",
       "      <th>pagerank</th>\n",
       "      <th>id_city_state</th>\n",
       "    </tr>\n",
       "  </thead>\n",
       "  <tbody>\n",
       "    <tr>\n",
       "      <th>0</th>\n",
       "      <td>ATL</td>\n",
       "      <td>Atlanta</td>\n",
       "      <td>GA</td>\n",
       "      <td>United States</td>\n",
       "      <td>20.177172</td>\n",
       "      <td>ATL, Atlanta, GA</td>\n",
       "    </tr>\n",
       "    <tr>\n",
       "      <th>1</th>\n",
       "      <td>ORD</td>\n",
       "      <td>Chicago</td>\n",
       "      <td>IL</td>\n",
       "      <td>United States</td>\n",
       "      <td>13.157019</td>\n",
       "      <td>ORD, Chicago, IL</td>\n",
       "    </tr>\n",
       "    <tr>\n",
       "      <th>2</th>\n",
       "      <td>DEN</td>\n",
       "      <td>Denver</td>\n",
       "      <td>CO</td>\n",
       "      <td>United States</td>\n",
       "      <td>10.342669</td>\n",
       "      <td>DEN, Denver, CO</td>\n",
       "    </tr>\n",
       "    <tr>\n",
       "      <th>3</th>\n",
       "      <td>DFW</td>\n",
       "      <td>Dallas-Fort Worth</td>\n",
       "      <td>TX</td>\n",
       "      <td>United States</td>\n",
       "      <td>8.964924</td>\n",
       "      <td>DFW, Dallas-Fort Worth, TX</td>\n",
       "    </tr>\n",
       "    <tr>\n",
       "      <th>4</th>\n",
       "      <td>LAX</td>\n",
       "      <td>Los Angeles</td>\n",
       "      <td>CA</td>\n",
       "      <td>United States</td>\n",
       "      <td>8.455103</td>\n",
       "      <td>LAX, Los Angeles, CA</td>\n",
       "    </tr>\n",
       "  </tbody>\n",
       "</table>\n",
       "</div>"
      ],
      "text/plain": [
       "    id               city state        country   pagerank  \\\n",
       "0  ATL            Atlanta    GA  United States  20.177172   \n",
       "1  ORD            Chicago    IL  United States  13.157019   \n",
       "2  DEN             Denver    CO  United States  10.342669   \n",
       "3  DFW  Dallas-Fort Worth    TX  United States   8.964924   \n",
       "4  LAX        Los Angeles    CA  United States   8.455103   \n",
       "\n",
       "                id_city_state  \n",
       "0            ATL, Atlanta, GA  \n",
       "1            ORD, Chicago, IL  \n",
       "2             DEN, Denver, CO  \n",
       "3  DFW, Dallas-Fort Worth, TX  \n",
       "4        LAX, Los Angeles, CA  "
      ]
     },
     "execution_count": 55,
     "metadata": {},
     "output_type": "execute_result"
    }
   ],
   "source": [
    "df = ranksDisplay.toPandas()\n",
    "df[\"id_city_state\"] = df[\"id\"].map(str) + \", \" + df[\"city\"] + \", \" + df[\"state\"]\n",
    "df.head()"
   ]
  },
  {
   "cell_type": "code",
   "execution_count": 56,
   "metadata": {
    "scrolled": true
   },
   "outputs": [
    {
     "data": {
      "application/vnd.plotly.v1+json": {
       "data": [
        {
         "type": "bar",
         "x": [
          "ATL, Atlanta, GA",
          "ORD, Chicago, IL",
          "DEN, Denver, CO",
          "DFW, Dallas-Fort Worth, TX",
          "LAX, Los Angeles, CA",
          "PHX, Phoenix, AZ",
          "MSP, Minneapolis, MN",
          "SFO, San Francisco, CA",
          "DTW, Detroit, MI",
          "IAH, Houston, TX",
          "SLC, Salt Lake City, UT",
          "SEA, Seattle, WA",
          "MCO, Orlando, FL",
          "LAS, Las Vegas, NV",
          "EWR, Newark, NJ",
          "BOS, Boston, MA",
          "CLT, Charlotte, NC",
          "FLL, Fort Lauderdale, FL",
          "LGA, New York, NY",
          "BWI, Baltimore, MD"
         ],
         "y": [
          20.177171960860903,
          13.157018642326195,
          10.342668730780478,
          8.964923534530998,
          8.455103072395062,
          7.423372726662571,
          7.297660788911538,
          7.213926446645566,
          6.976776841528112,
          6.865025182388982,
          6.530381123302239,
          6.2584847077915295,
          6.013041841177969,
          5.975256809735981,
          4.81796089007591,
          4.777167522882932,
          4.583939532190844,
          4.230973000725963,
          4.067899782988331,
          3.985999182399218
         ]
        }
       ],
       "layout": {
        "title": "PageRank - Top 20 - Descending Order"
       }
      },
      "text/html": [
       "<div id=\"365b9bd1-c6a7-4c2f-b32e-61ec6ceb784a\" style=\"height: 525px; width: 100%;\" class=\"plotly-graph-div\"></div><script type=\"text/javascript\">require([\"plotly\"], function(Plotly) { window.PLOTLYENV=window.PLOTLYENV || {};window.PLOTLYENV.BASE_URL=\"https://plot.ly\";Plotly.newPlot(\"365b9bd1-c6a7-4c2f-b32e-61ec6ceb784a\", [{\"y\": [20.177171960860903, 13.157018642326195, 10.342668730780478, 8.964923534530998, 8.455103072395062, 7.423372726662571, 7.297660788911538, 7.213926446645566, 6.976776841528112, 6.865025182388982, 6.530381123302239, 6.2584847077915295, 6.013041841177969, 5.975256809735981, 4.81796089007591, 4.777167522882932, 4.583939532190844, 4.230973000725963, 4.067899782988331, 3.985999182399218], \"x\": [\"ATL, Atlanta, GA\", \"ORD, Chicago, IL\", \"DEN, Denver, CO\", \"DFW, Dallas-Fort Worth, TX\", \"LAX, Los Angeles, CA\", \"PHX, Phoenix, AZ\", \"MSP, Minneapolis, MN\", \"SFO, San Francisco, CA\", \"DTW, Detroit, MI\", \"IAH, Houston, TX\", \"SLC, Salt Lake City, UT\", \"SEA, Seattle, WA\", \"MCO, Orlando, FL\", \"LAS, Las Vegas, NV\", \"EWR, Newark, NJ\", \"BOS, Boston, MA\", \"CLT, Charlotte, NC\", \"FLL, Fort Lauderdale, FL\", \"LGA, New York, NY\", \"BWI, Baltimore, MD\"], \"type\": \"bar\"}], {\"title\": \"PageRank - Top 20 - Descending Order\"}, {\"linkText\": \"Export to plot.ly\", \"showLink\": true})});</script>"
      ],
      "text/vnd.plotly.v1+html": [
       "<div id=\"365b9bd1-c6a7-4c2f-b32e-61ec6ceb784a\" style=\"height: 525px; width: 100%;\" class=\"plotly-graph-div\"></div><script type=\"text/javascript\">require([\"plotly\"], function(Plotly) { window.PLOTLYENV=window.PLOTLYENV || {};window.PLOTLYENV.BASE_URL=\"https://plot.ly\";Plotly.newPlot(\"365b9bd1-c6a7-4c2f-b32e-61ec6ceb784a\", [{\"y\": [20.177171960860903, 13.157018642326195, 10.342668730780478, 8.964923534530998, 8.455103072395062, 7.423372726662571, 7.297660788911538, 7.213926446645566, 6.976776841528112, 6.865025182388982, 6.530381123302239, 6.2584847077915295, 6.013041841177969, 5.975256809735981, 4.81796089007591, 4.777167522882932, 4.583939532190844, 4.230973000725963, 4.067899782988331, 3.985999182399218], \"x\": [\"ATL, Atlanta, GA\", \"ORD, Chicago, IL\", \"DEN, Denver, CO\", \"DFW, Dallas-Fort Worth, TX\", \"LAX, Los Angeles, CA\", \"PHX, Phoenix, AZ\", \"MSP, Minneapolis, MN\", \"SFO, San Francisco, CA\", \"DTW, Detroit, MI\", \"IAH, Houston, TX\", \"SLC, Salt Lake City, UT\", \"SEA, Seattle, WA\", \"MCO, Orlando, FL\", \"LAS, Las Vegas, NV\", \"EWR, Newark, NJ\", \"BOS, Boston, MA\", \"CLT, Charlotte, NC\", \"FLL, Fort Lauderdale, FL\", \"LGA, New York, NY\", \"BWI, Baltimore, MD\"], \"type\": \"bar\"}], {\"title\": \"PageRank - Top 20 - Descending Order\"}, {\"linkText\": \"Export to plot.ly\", \"showLink\": true})});</script>"
      ]
     },
     "metadata": {},
     "output_type": "display_data"
    }
   ],
   "source": [
    "data = [go.Bar(x=df.id_city_state, y=df.pagerank)]\n",
    "layout = go.Layout(title='PageRank - Top 20 - Descending Order',)\n",
    "fig = go.Figure(data=data, layout=layout)\n",
    "iplot(fig, filename='basic_bar2')"
   ]
  },
  {
   "cell_type": "markdown",
   "metadata": {},
   "source": [
    "#### 8.Single Hops\n",
    "Most popular flights (single city hops)\n",
    "<br>Using the tripGraph, we can quickly determine what are the most popular single city hop flights"
   ]
  },
  {
   "cell_type": "code",
   "execution_count": 57,
   "metadata": {},
   "outputs": [
    {
     "name": "stdout",
     "output_type": "stream",
     "text": [
      "+---+---+-----+\n",
      "|src|dst|trips|\n",
      "+---+---+-----+\n",
      "|SFO|LAX| 1381|\n",
      "|LAX|SFO| 1361|\n",
      "|JFK|LAX| 1103|\n",
      "|LAX|JFK| 1102|\n",
      "|LAS|LAX|  972|\n",
      "|LAX|LAS|  967|\n",
      "|HNL|OGG|  859|\n",
      "|OGG|HNL|  859|\n",
      "|SEA|LAX|  817|\n",
      "|LAX|SEA|  816|\n",
      "|ATL|MCO|  796|\n",
      "|MCO|ATL|  796|\n",
      "|LGA|ORD|  772|\n",
      "|PHX|DEN|  762|\n",
      "|ORD|LGA|  758|\n",
      "|DEN|PHX|  754|\n",
      "|ATL|LGA|  753|\n",
      "|LGA|ATL|  753|\n",
      "|BOS|DCA|  738|\n",
      "|DCA|BOS|  734|\n",
      "+---+---+-----+\n",
      "\n"
     ]
    }
   ],
   "source": [
    "import pyspark.sql.functions as func\n",
    "\n",
    "topTrips = tripGraph \\\n",
    "  .edges \\\n",
    "  .groupBy(\"src\", \"dst\") \\\n",
    "  .agg(func.count(\"*\").alias(\"trips\"))\n",
    "  \n",
    "topTrips20 = topTrips.orderBy(topTrips.trips.desc()).limit(20)\n",
    "\n",
    "topTrips20.show(20)"
   ]
  },
  {
   "cell_type": "code",
   "execution_count": 58,
   "metadata": {
    "scrolled": true
   },
   "outputs": [
    {
     "data": {
      "text/html": [
       "<div>\n",
       "<style>\n",
       "    .dataframe thead tr:only-child th {\n",
       "        text-align: right;\n",
       "    }\n",
       "\n",
       "    .dataframe thead th {\n",
       "        text-align: left;\n",
       "    }\n",
       "\n",
       "    .dataframe tbody tr th {\n",
       "        vertical-align: top;\n",
       "    }\n",
       "</style>\n",
       "<table border=\"1\" class=\"dataframe\">\n",
       "  <thead>\n",
       "    <tr style=\"text-align: right;\">\n",
       "      <th></th>\n",
       "      <th>src</th>\n",
       "      <th>dst</th>\n",
       "      <th>trips</th>\n",
       "      <th>src_dst</th>\n",
       "    </tr>\n",
       "  </thead>\n",
       "  <tbody>\n",
       "    <tr>\n",
       "      <th>0</th>\n",
       "      <td>SFO</td>\n",
       "      <td>LAX</td>\n",
       "      <td>1381</td>\n",
       "      <td>SFO/LAX</td>\n",
       "    </tr>\n",
       "    <tr>\n",
       "      <th>1</th>\n",
       "      <td>LAX</td>\n",
       "      <td>SFO</td>\n",
       "      <td>1361</td>\n",
       "      <td>LAX/SFO</td>\n",
       "    </tr>\n",
       "    <tr>\n",
       "      <th>2</th>\n",
       "      <td>JFK</td>\n",
       "      <td>LAX</td>\n",
       "      <td>1103</td>\n",
       "      <td>JFK/LAX</td>\n",
       "    </tr>\n",
       "    <tr>\n",
       "      <th>3</th>\n",
       "      <td>LAX</td>\n",
       "      <td>JFK</td>\n",
       "      <td>1102</td>\n",
       "      <td>LAX/JFK</td>\n",
       "    </tr>\n",
       "    <tr>\n",
       "      <th>4</th>\n",
       "      <td>LAS</td>\n",
       "      <td>LAX</td>\n",
       "      <td>972</td>\n",
       "      <td>LAS/LAX</td>\n",
       "    </tr>\n",
       "  </tbody>\n",
       "</table>\n",
       "</div>"
      ],
      "text/plain": [
       "   src  dst  trips  src_dst\n",
       "0  SFO  LAX   1381  SFO/LAX\n",
       "1  LAX  SFO   1361  LAX/SFO\n",
       "2  JFK  LAX   1103  JFK/LAX\n",
       "3  LAX  JFK   1102  LAX/JFK\n",
       "4  LAS  LAX    972  LAS/LAX"
      ]
     },
     "execution_count": 58,
     "metadata": {},
     "output_type": "execute_result"
    }
   ],
   "source": [
    "df = topTrips20.toPandas()\n",
    "df[\"src_dst\"] = df[\"src\"].map(str) + \"/\" +df[\"dst\"]\n",
    "df.head()"
   ]
  },
  {
   "cell_type": "code",
   "execution_count": 59,
   "metadata": {
    "scrolled": true
   },
   "outputs": [
    {
     "data": {
      "application/vnd.plotly.v1+json": {
       "data": [
        {
         "type": "bar",
         "x": [
          "SFO/LAX",
          "LAX/SFO",
          "JFK/LAX",
          "LAX/JFK",
          "LAS/LAX",
          "LAX/LAS",
          "HNL/OGG",
          "OGG/HNL",
          "SEA/LAX",
          "LAX/SEA",
          "MCO/ATL",
          "ATL/MCO",
          "LGA/ORD",
          "PHX/DEN",
          "ORD/LGA",
          "DEN/PHX",
          "ATL/LGA",
          "LGA/ATL",
          "BOS/DCA",
          "DCA/BOS"
         ],
         "y": [
          1381,
          1361,
          1103,
          1102,
          972,
          967,
          859,
          859,
          817,
          816,
          796,
          796,
          772,
          762,
          758,
          754,
          753,
          753,
          738,
          734
         ]
        }
       ],
       "layout": {
        "title": "Top20 - Single HOPS"
       }
      },
      "text/html": [
       "<div id=\"22a198ca-2ccf-4caa-9d3c-10070ade460e\" style=\"height: 525px; width: 100%;\" class=\"plotly-graph-div\"></div><script type=\"text/javascript\">require([\"plotly\"], function(Plotly) { window.PLOTLYENV=window.PLOTLYENV || {};window.PLOTLYENV.BASE_URL=\"https://plot.ly\";Plotly.newPlot(\"22a198ca-2ccf-4caa-9d3c-10070ade460e\", [{\"y\": [1381, 1361, 1103, 1102, 972, 967, 859, 859, 817, 816, 796, 796, 772, 762, 758, 754, 753, 753, 738, 734], \"x\": [\"SFO/LAX\", \"LAX/SFO\", \"JFK/LAX\", \"LAX/JFK\", \"LAS/LAX\", \"LAX/LAS\", \"HNL/OGG\", \"OGG/HNL\", \"SEA/LAX\", \"LAX/SEA\", \"MCO/ATL\", \"ATL/MCO\", \"LGA/ORD\", \"PHX/DEN\", \"ORD/LGA\", \"DEN/PHX\", \"ATL/LGA\", \"LGA/ATL\", \"BOS/DCA\", \"DCA/BOS\"], \"type\": \"bar\"}], {\"title\": \"Top20 - Single HOPS\"}, {\"linkText\": \"Export to plot.ly\", \"showLink\": true})});</script>"
      ],
      "text/vnd.plotly.v1+html": [
       "<div id=\"22a198ca-2ccf-4caa-9d3c-10070ade460e\" style=\"height: 525px; width: 100%;\" class=\"plotly-graph-div\"></div><script type=\"text/javascript\">require([\"plotly\"], function(Plotly) { window.PLOTLYENV=window.PLOTLYENV || {};window.PLOTLYENV.BASE_URL=\"https://plot.ly\";Plotly.newPlot(\"22a198ca-2ccf-4caa-9d3c-10070ade460e\", [{\"y\": [1381, 1361, 1103, 1102, 972, 967, 859, 859, 817, 816, 796, 796, 772, 762, 758, 754, 753, 753, 738, 734], \"x\": [\"SFO/LAX\", \"LAX/SFO\", \"JFK/LAX\", \"LAX/JFK\", \"LAS/LAX\", \"LAX/LAS\", \"HNL/OGG\", \"OGG/HNL\", \"SEA/LAX\", \"LAX/SEA\", \"MCO/ATL\", \"ATL/MCO\", \"LGA/ORD\", \"PHX/DEN\", \"ORD/LGA\", \"DEN/PHX\", \"ATL/LGA\", \"LGA/ATL\", \"BOS/DCA\", \"DCA/BOS\"], \"type\": \"bar\"}], {\"title\": \"Top20 - Single HOPS\"}, {\"linkText\": \"Export to plot.ly\", \"showLink\": true})});</script>"
      ]
     },
     "metadata": {},
     "output_type": "display_data"
    }
   ],
   "source": [
    "data = [go.Bar(x=df.src_dst, y=df.trips)]\n",
    "layout = go.Layout(title='Top20 - Single HOPS',)\n",
    "fig = go.Figure(data=data, layout=layout)\n",
    "iplot(fig, filename='basic_bar3')"
   ]
  },
  {
   "cell_type": "markdown",
   "metadata": {},
   "source": [
    "#### 9.Transfer Cities\n",
    "Top Transfer Cities\n",
    "<br>Many airports are used as transfer points instead of the final Destination.\n",
    "<br>An easy way to calculate this is by calculating the ratio of\n",
    "<br>inDegree (the number of flights to the airport) / outDegree (the number of flights leaving the airport).\n",
    "<br>Values close to 1 may indicate many transfers, whereas\n",
    "<br>values < 1 indicate many outgoing flights and\n",
    "<br>values > 1 indicate many incoming flights.\n",
    "\n",
    "<br>**Note:** this is a simple calculation that does not take into account of timing or scheduling of flights,\n",
    "<br>just the overall aggregate number within the dataset."
   ]
  },
  {
   "cell_type": "code",
   "execution_count": 60,
   "metadata": {
    "collapsed": true
   },
   "outputs": [],
   "source": [
    "# Calculate the inDeg (flights into the airport) and outDeg (flights leaving the airport)\n",
    "inDeg = tripGraph.inDegrees\n",
    "outDeg = tripGraph.outDegrees"
   ]
  },
  {
   "cell_type": "code",
   "execution_count": 61,
   "metadata": {
    "collapsed": true
   },
   "outputs": [],
   "source": [
    "# Calculate the degreeRatio (inDeg/outDeg)\n",
    "degreeRatio = inDeg.join(outDeg, inDeg.id == outDeg.id) \\\n",
    "  .drop(outDeg.id) \\\n",
    "  .selectExpr(\"id\", \"double(inDegree)/double(outDegree) as degreeRatio\") \\\n",
    "  .cache()"
   ]
  },
  {
   "cell_type": "code",
   "execution_count": 62,
   "metadata": {},
   "outputs": [
    {
     "name": "stdout",
     "output_type": "stream",
     "text": [
      "+---+------------------+\n",
      "| id|       degreeRatio|\n",
      "+---+------------------+\n",
      "|BGM|               1.0|\n",
      "|PSE|               1.0|\n",
      "|INL|1.0188679245283019|\n",
      "|MSY|1.0002501876407306|\n",
      "|PPG|               1.0|\n",
      "|GEG|0.9975155279503105|\n",
      "|BUR|               1.0|\n",
      "|SNA|1.0002941176470588|\n",
      "|GRB|               1.0|\n",
      "|GTF|0.9924242424242424|\n",
      "|IDA|               1.0|\n",
      "|GRR|0.9970674486803519|\n",
      "|EUG|0.9964028776978417|\n",
      "|PSG|               1.0|\n",
      "|PVD|1.0008510638297872|\n",
      "|GSO| 0.997946611909651|\n",
      "|MYR|               1.0|\n",
      "|OAK|0.9982762866289091|\n",
      "|MQT|               1.0|\n",
      "|FSM|               1.0|\n",
      "+---+------------------+\n",
      "only showing top 20 rows\n",
      "\n"
     ]
    }
   ],
   "source": [
    "degreeRatio.show()"
   ]
  },
  {
   "cell_type": "code",
   "execution_count": 63,
   "metadata": {
    "collapsed": true
   },
   "outputs": [],
   "source": [
    "# Join back to the `airports` DataFrame (instead of registering temp table as above)\n",
    "nonTransferAirports = degreeRatio.join(airportsNADF, degreeRatio.id == airportsNADF.IATA) \\\n",
    "  .selectExpr(\"id\", \"city\", \"degreeRatio\") \\\n",
    "  .filter(\"degreeRatio < .9 or degreeRatio > 1.1\")"
   ]
  },
  {
   "cell_type": "code",
   "execution_count": 64,
   "metadata": {
    "scrolled": true
   },
   "outputs": [
    {
     "name": "stdout",
     "output_type": "stream",
     "text": [
      "+---+----------+------------------+\n",
      "| id|      city|       degreeRatio|\n",
      "+---+----------+------------------+\n",
      "|TWF|Twin Falls|0.8165137614678899|\n",
      "+---+----------+------------------+\n",
      "\n"
     ]
    }
   ],
   "source": [
    "# List out the city airports which have abnormal degree ratios.\n",
    "nonTransferAirports.show()"
   ]
  },
  {
   "cell_type": "code",
   "execution_count": 65,
   "metadata": {
    "collapsed": true
   },
   "outputs": [],
   "source": [
    "# Join back to the `airports` DataFrame (instead of registering temp table as above)\n",
    "transferAirports = degreeRatio.join(airportsNADF, degreeRatio.id == airportsNADF.IATA) \\\n",
    "  .selectExpr(\"id\", \"city\", \"degreeRatio\") \\\n",
    "  .filter(\"degreeRatio between 0.9 and 1.1\")"
   ]
  },
  {
   "cell_type": "code",
   "execution_count": 66,
   "metadata": {},
   "outputs": [
    {
     "name": "stdout",
     "output_type": "stream",
     "text": [
      "+---+------------------+------------------+\n",
      "| id|              city|       degreeRatio|\n",
      "+---+------------------+------------------+\n",
      "|KOA|              Kona|0.9718189581554227|\n",
      "|MOT|             Minot|0.9772727272727273|\n",
      "|HIB|           Hibbing|0.9818181818181818|\n",
      "|PGD|       Punta Gorda|0.9827586206896551|\n",
      "|PBG|       Plattsburgh|0.9838709677419355|\n",
      "|BLI|        Bellingham|0.9871794871794872|\n",
      "|GCC|          Gillette|0.9888888888888889|\n",
      "|ACV|         Arcata CA| 0.989247311827957|\n",
      "|SPI|       Springfield|0.9896907216494846|\n",
      "|BIS|          Bismarck|0.9914529914529915|\n",
      "|GTF|       Great Falls|0.9924242424242424|\n",
      "|CID|      Cedar Rapids|0.9927272727272727|\n",
      "|SGF|       Springfield|0.9936305732484076|\n",
      "|TLH|       Tallahassee|0.9946236559139785|\n",
      "|CHO|Charlottesville VA|0.9949748743718593|\n",
      "|MBS|           Saginaw|0.9952830188679245|\n",
      "|TUL|             Tulsa|0.9956597222222222|\n",
      "|GJT|    Grand Junction|0.9957446808510638|\n",
      "|BTV|        Burlington|0.9962264150943396|\n",
      "|EUG|            Eugene|0.9964028776978417|\n",
      "+---+------------------+------------------+\n",
      "\n"
     ]
    }
   ],
   "source": [
    "# List out the top 20 transfer city airports\n",
    "transferAirportsDF = transferAirports.orderBy(\"degreeRatio\").limit(20)\n",
    "transferAirportsDF.show()"
   ]
  },
  {
   "cell_type": "code",
   "execution_count": 67,
   "metadata": {
    "scrolled": true
   },
   "outputs": [
    {
     "data": {
      "text/html": [
       "<div>\n",
       "<style>\n",
       "    .dataframe thead tr:only-child th {\n",
       "        text-align: right;\n",
       "    }\n",
       "\n",
       "    .dataframe thead th {\n",
       "        text-align: left;\n",
       "    }\n",
       "\n",
       "    .dataframe tbody tr th {\n",
       "        vertical-align: top;\n",
       "    }\n",
       "</style>\n",
       "<table border=\"1\" class=\"dataframe\">\n",
       "  <thead>\n",
       "    <tr style=\"text-align: right;\">\n",
       "      <th></th>\n",
       "      <th>id</th>\n",
       "      <th>city</th>\n",
       "      <th>degreeRatio</th>\n",
       "      <th>city_id</th>\n",
       "    </tr>\n",
       "  </thead>\n",
       "  <tbody>\n",
       "    <tr>\n",
       "      <th>0</th>\n",
       "      <td>KOA</td>\n",
       "      <td>Kona</td>\n",
       "      <td>0.971819</td>\n",
       "      <td>Kona, KOA</td>\n",
       "    </tr>\n",
       "    <tr>\n",
       "      <th>1</th>\n",
       "      <td>MOT</td>\n",
       "      <td>Minot</td>\n",
       "      <td>0.977273</td>\n",
       "      <td>Minot, MOT</td>\n",
       "    </tr>\n",
       "    <tr>\n",
       "      <th>2</th>\n",
       "      <td>HIB</td>\n",
       "      <td>Hibbing</td>\n",
       "      <td>0.981818</td>\n",
       "      <td>Hibbing, HIB</td>\n",
       "    </tr>\n",
       "    <tr>\n",
       "      <th>3</th>\n",
       "      <td>PGD</td>\n",
       "      <td>Punta Gorda</td>\n",
       "      <td>0.982759</td>\n",
       "      <td>Punta Gorda, PGD</td>\n",
       "    </tr>\n",
       "    <tr>\n",
       "      <th>4</th>\n",
       "      <td>PBG</td>\n",
       "      <td>Plattsburgh</td>\n",
       "      <td>0.983871</td>\n",
       "      <td>Plattsburgh, PBG</td>\n",
       "    </tr>\n",
       "  </tbody>\n",
       "</table>\n",
       "</div>"
      ],
      "text/plain": [
       "    id         city  degreeRatio           city_id\n",
       "0  KOA         Kona     0.971819         Kona, KOA\n",
       "1  MOT        Minot     0.977273        Minot, MOT\n",
       "2  HIB      Hibbing     0.981818      Hibbing, HIB\n",
       "3  PGD  Punta Gorda     0.982759  Punta Gorda, PGD\n",
       "4  PBG  Plattsburgh     0.983871  Plattsburgh, PBG"
      ]
     },
     "execution_count": 67,
     "metadata": {},
     "output_type": "execute_result"
    }
   ],
   "source": [
    "df = transferAirportsDF.toPandas()\n",
    "df[\"city_id\"] = df[\"city\"].map(str) + \", \" +df[\"id\"]\n",
    "df.head()"
   ]
  },
  {
   "cell_type": "code",
   "execution_count": 68,
   "metadata": {},
   "outputs": [
    {
     "data": {
      "application/vnd.plotly.v1+json": {
       "data": [
        {
         "type": "bar",
         "x": [
          "Kona, KOA",
          "Minot, MOT",
          "Hibbing, HIB",
          "Punta Gorda, PGD",
          "Plattsburgh, PBG",
          "Bellingham, BLI",
          "Gillette, GCC",
          "Arcata CA, ACV",
          "Springfield, SPI",
          "Bismarck, BIS",
          "Great Falls, GTF",
          "Cedar Rapids, CID",
          "Springfield, SGF",
          "Tallahassee, TLH",
          "Charlottesville VA, CHO",
          "Saginaw, MBS",
          "Tulsa, TUL",
          "Grand Junction, GJT",
          "Burlington, BTV",
          "Eugene, EUG"
         ],
         "y": [
          0.9718189581554227,
          0.9772727272727273,
          0.9818181818181818,
          0.9827586206896551,
          0.9838709677419355,
          0.9871794871794872,
          0.9888888888888889,
          0.989247311827957,
          0.9896907216494846,
          0.9914529914529915,
          0.9924242424242424,
          0.9927272727272727,
          0.9936305732484076,
          0.9946236559139785,
          0.9949748743718593,
          0.9952830188679245,
          0.9956597222222222,
          0.9957446808510638,
          0.9962264150943396,
          0.9964028776978417
         ]
        }
       ],
       "layout": {
        "title": "Top20 - Transfer Cities"
       }
      },
      "text/html": [
       "<div id=\"263a3f9d-7e41-491a-8cd4-3e385168c59d\" style=\"height: 525px; width: 100%;\" class=\"plotly-graph-div\"></div><script type=\"text/javascript\">require([\"plotly\"], function(Plotly) { window.PLOTLYENV=window.PLOTLYENV || {};window.PLOTLYENV.BASE_URL=\"https://plot.ly\";Plotly.newPlot(\"263a3f9d-7e41-491a-8cd4-3e385168c59d\", [{\"y\": [0.9718189581554227, 0.9772727272727273, 0.9818181818181818, 0.9827586206896551, 0.9838709677419355, 0.9871794871794872, 0.9888888888888889, 0.989247311827957, 0.9896907216494846, 0.9914529914529915, 0.9924242424242424, 0.9927272727272727, 0.9936305732484076, 0.9946236559139785, 0.9949748743718593, 0.9952830188679245, 0.9956597222222222, 0.9957446808510638, 0.9962264150943396, 0.9964028776978417], \"x\": [\"Kona, KOA\", \"Minot, MOT\", \"Hibbing, HIB\", \"Punta Gorda, PGD\", \"Plattsburgh, PBG\", \"Bellingham, BLI\", \"Gillette, GCC\", \"Arcata CA, ACV\", \"Springfield, SPI\", \"Bismarck, BIS\", \"Great Falls, GTF\", \"Cedar Rapids, CID\", \"Springfield, SGF\", \"Tallahassee, TLH\", \"Charlottesville VA, CHO\", \"Saginaw, MBS\", \"Tulsa, TUL\", \"Grand Junction, GJT\", \"Burlington, BTV\", \"Eugene, EUG\"], \"type\": \"bar\"}], {\"title\": \"Top20 - Transfer Cities\"}, {\"linkText\": \"Export to plot.ly\", \"showLink\": true})});</script>"
      ],
      "text/vnd.plotly.v1+html": [
       "<div id=\"263a3f9d-7e41-491a-8cd4-3e385168c59d\" style=\"height: 525px; width: 100%;\" class=\"plotly-graph-div\"></div><script type=\"text/javascript\">require([\"plotly\"], function(Plotly) { window.PLOTLYENV=window.PLOTLYENV || {};window.PLOTLYENV.BASE_URL=\"https://plot.ly\";Plotly.newPlot(\"263a3f9d-7e41-491a-8cd4-3e385168c59d\", [{\"y\": [0.9718189581554227, 0.9772727272727273, 0.9818181818181818, 0.9827586206896551, 0.9838709677419355, 0.9871794871794872, 0.9888888888888889, 0.989247311827957, 0.9896907216494846, 0.9914529914529915, 0.9924242424242424, 0.9927272727272727, 0.9936305732484076, 0.9946236559139785, 0.9949748743718593, 0.9952830188679245, 0.9956597222222222, 0.9957446808510638, 0.9962264150943396, 0.9964028776978417], \"x\": [\"Kona, KOA\", \"Minot, MOT\", \"Hibbing, HIB\", \"Punta Gorda, PGD\", \"Plattsburgh, PBG\", \"Bellingham, BLI\", \"Gillette, GCC\", \"Arcata CA, ACV\", \"Springfield, SPI\", \"Bismarck, BIS\", \"Great Falls, GTF\", \"Cedar Rapids, CID\", \"Springfield, SGF\", \"Tallahassee, TLH\", \"Charlottesville VA, CHO\", \"Saginaw, MBS\", \"Tulsa, TUL\", \"Grand Junction, GJT\", \"Burlington, BTV\", \"Eugene, EUG\"], \"type\": \"bar\"}], {\"title\": \"Top20 - Transfer Cities\"}, {\"linkText\": \"Export to plot.ly\", \"showLink\": true})});</script>"
      ]
     },
     "metadata": {},
     "output_type": "display_data"
    }
   ],
   "source": [
    "data = [go.Bar(x=df.city_id, y=df.degreeRatio)]\n",
    "layout = go.Layout(title='Top20 - Transfer Cities',)\n",
    "fig = go.Figure(data=data, layout=layout)\n",
    "iplot(fig, filename='basic_bar4')"
   ]
  },
  {
   "cell_type": "markdown",
   "metadata": {},
   "source": [
    "#### 10.Breadth First Search\n",
    "Breadth-first search (BFS) is designed to traverse the graph to quickly find the desired vertices \n",
    "<br>(i.e. airports) and edges (i.e flights).\n",
    "<br>Let's try to find the shortest number of connections between cities based on the dataset.\n",
    "<br>**Note:** These examples do not take into account of time or distance, just hops between cities."
   ]
  },
  {
   "cell_type": "markdown",
   "metadata": {},
   "source": [
    "#### Example 1: Direct Seattle to San Francisco"
   ]
  },
  {
   "cell_type": "code",
   "execution_count": 69,
   "metadata": {
    "scrolled": true
   },
   "outputs": [
    {
     "name": "stdout",
     "output_type": "stream",
     "text": [
      "+--------------------+--------------------+--------------------+\n",
      "|                from|                  e0|                  to|\n",
      "+--------------------+--------------------+--------------------+\n",
      "|[SEA, Seattle, WA...|[594, -7, 679, SE...|[SFO, San Francis...|\n",
      "|[SEA, Seattle, WA...|[1877, -2, 679, S...|[SFO, San Francis...|\n",
      "|[SEA, Seattle, WA...|[2084, -5, 679, S...|[SFO, San Francis...|\n",
      "|[SEA, Seattle, WA...|[2458, -4, 679, S...|[SFO, San Francis...|\n",
      "|[SEA, Seattle, WA...|[3757, -8, 679, S...|[SFO, San Francis...|\n",
      "|[SEA, Seattle, WA...|[4461, -4, 679, S...|[SFO, San Francis...|\n",
      "|[SEA, Seattle, WA...|[4502, -2, 679, S...|[SFO, San Francis...|\n",
      "|[SEA, Seattle, WA...|[5763, -7, 679, S...|[SFO, San Francis...|\n",
      "|[SEA, Seattle, WA...|[6134, -5, 679, S...|[SFO, San Francis...|\n",
      "|[SEA, Seattle, WA...|[7491, -8, 679, S...|[SFO, San Francis...|\n",
      "|[SEA, Seattle, WA...|[7801, -9, 679, S...|[SFO, San Francis...|\n",
      "|[SEA, Seattle, WA...|[7823, -5, 679, S...|[SFO, San Francis...|\n",
      "|[SEA, Seattle, WA...|[9596, -1, 679, S...|[SFO, San Francis...|\n",
      "|[SEA, Seattle, WA...|[11016, -2, 679, ...|[SFO, San Francis...|\n",
      "|[SEA, Seattle, WA...|[11182, -5, 679, ...|[SFO, San Francis...|\n",
      "|[SEA, Seattle, WA...|[12337, -5, 679, ...|[SFO, San Francis...|\n",
      "|[SEA, Seattle, WA...|[12623, -6, 679, ...|[SFO, San Francis...|\n",
      "|[SEA, Seattle, WA...|[12890, 83, 679, ...|[SFO, San Francis...|\n",
      "|[SEA, Seattle, WA...|[13467, 2, 679, S...|[SFO, San Francis...|\n",
      "|[SEA, Seattle, WA...|[14241, -5, 679, ...|[SFO, San Francis...|\n",
      "+--------------------+--------------------+--------------------+\n",
      "only showing top 20 rows\n",
      "\n"
     ]
    }
   ],
   "source": [
    "filteredPaths1 = tripGraph.bfs(\n",
    "  fromExpr = \"id = 'SEA'\",\n",
    "  toExpr = \"id = 'SFO'\",\n",
    "  maxPathLength = 1)\n",
    "\n",
    "filteredPaths1.show()"
   ]
  },
  {
   "cell_type": "markdown",
   "metadata": {},
   "source": [
    "As you can see, there are a number of direct flights between Seattle and San Francisco."
   ]
  },
  {
   "cell_type": "markdown",
   "metadata": {
    "scrolled": true
   },
   "source": [
    "#### Example 2: Direct San Francisco and Buffalo"
   ]
  },
  {
   "cell_type": "code",
   "execution_count": 70,
   "metadata": {},
   "outputs": [
    {
     "name": "stdout",
     "output_type": "stream",
     "text": [
      "+---+----+-----+-------+\n",
      "| id|city|state|country|\n",
      "+---+----+-----+-------+\n",
      "+---+----+-----+-------+\n",
      "\n"
     ]
    }
   ],
   "source": [
    "filteredPaths2 = tripGraph.bfs(\n",
    "  fromExpr = \"id = 'SFO'\",\n",
    "  toExpr = \"id = 'BUF'\",\n",
    "  maxPathLength = 1)\n",
    "\n",
    "filteredPaths2.show()"
   ]
  },
  {
   "cell_type": "markdown",
   "metadata": {},
   "source": [
    "As you can see, there are no direct flights between San Francisco and Buffalo."
   ]
  },
  {
   "cell_type": "markdown",
   "metadata": {},
   "source": [
    "#### Example 3: Flying from San Francisco to Buffalo"
   ]
  },
  {
   "cell_type": "code",
   "execution_count": 71,
   "metadata": {},
   "outputs": [
    {
     "name": "stdout",
     "output_type": "stream",
     "text": [
      "+--------------------+--------------------+--------------------+--------------------+--------------------+\n",
      "|                from|                  e0|                  v1|                  e1|                  to|\n",
      "+--------------------+--------------------+--------------------+--------------------+--------------------+\n",
      "|[SFO, San Francis...|[1691, -3, 2704, ...|[BOS, Boston, MA,...|[1236, -10, 395, ...|[BUF, Buffalo, NY...|\n",
      "|[SFO, San Francis...|[1691, -3, 2704, ...|[BOS, Boston, MA,...|[5433, 34, 395, B...|[BUF, Buffalo, NY...|\n",
      "|[SFO, San Francis...|[1691, -3, 2704, ...|[BOS, Boston, MA,...|[10585, 0, 395, B...|[BUF, Buffalo, NY...|\n",
      "|[SFO, San Francis...|[1691, -3, 2704, ...|[BOS, Boston, MA,...|[14210, -3, 395, ...|[BUF, Buffalo, NY...|\n",
      "|[SFO, San Francis...|[1691, -3, 2704, ...|[BOS, Boston, MA,...|[16789, -4, 395, ...|[BUF, Buffalo, NY...|\n",
      "|[SFO, San Francis...|[1691, -3, 2704, ...|[BOS, Boston, MA,...|[20355, -6, 395, ...|[BUF, Buffalo, NY...|\n",
      "|[SFO, San Francis...|[1691, -3, 2704, ...|[BOS, Boston, MA,...|[26674, 28, 395, ...|[BUF, Buffalo, NY...|\n",
      "|[SFO, San Francis...|[1691, -3, 2704, ...|[BOS, Boston, MA,...|[29991, -7, 395, ...|[BUF, Buffalo, NY...|\n",
      "|[SFO, San Francis...|[1691, -3, 2704, ...|[BOS, Boston, MA,...|[32476, -6, 395, ...|[BUF, Buffalo, NY...|\n",
      "|[SFO, San Francis...|[1691, -3, 2704, ...|[BOS, Boston, MA,...|[35936, -19, 395,...|[BUF, Buffalo, NY...|\n",
      "|[SFO, San Francis...|[1691, -3, 2704, ...|[BOS, Boston, MA,...|[41970, -8, 395, ...|[BUF, Buffalo, NY...|\n",
      "|[SFO, San Francis...|[1691, -3, 2704, ...|[BOS, Boston, MA,...|[46152, 17, 395, ...|[BUF, Buffalo, NY...|\n",
      "|[SFO, San Francis...|[1691, -3, 2704, ...|[BOS, Boston, MA,...|[48195, -4, 395, ...|[BUF, Buffalo, NY...|\n",
      "|[SFO, San Francis...|[1691, -3, 2704, ...|[BOS, Boston, MA,...|[51845, 35, 395, ...|[BUF, Buffalo, NY...|\n",
      "|[SFO, San Francis...|[1691, -3, 2704, ...|[BOS, Boston, MA,...|[56886, -9, 395, ...|[BUF, Buffalo, NY...|\n",
      "|[SFO, San Francis...|[1691, -3, 2704, ...|[BOS, Boston, MA,...|[63831, -7, 395, ...|[BUF, Buffalo, NY...|\n",
      "|[SFO, San Francis...|[1691, -3, 2704, ...|[BOS, Boston, MA,...|[71287, 33, 395, ...|[BUF, Buffalo, NY...|\n",
      "|[SFO, San Francis...|[1691, -3, 2704, ...|[BOS, Boston, MA,...|[73499, 10, 395, ...|[BUF, Buffalo, NY...|\n",
      "|[SFO, San Francis...|[1691, -3, 2704, ...|[BOS, Boston, MA,...|[76097, -6, 395, ...|[BUF, Buffalo, NY...|\n",
      "|[SFO, San Francis...|[1691, -3, 2704, ...|[BOS, Boston, MA,...|[79690, -7, 395, ...|[BUF, Buffalo, NY...|\n",
      "+--------------------+--------------------+--------------------+--------------------+--------------------+\n",
      "only showing top 20 rows\n",
      "\n"
     ]
    }
   ],
   "source": [
    "filteredPaths3 = tripGraph.bfs(\n",
    "  fromExpr = \"id = 'SFO'\",\n",
    "  toExpr = \"id = 'BUF'\",\n",
    "  maxPathLength = 2)\n",
    "\n",
    "filteredPaths3.show()"
   ]
  },
  {
   "cell_type": "markdown",
   "metadata": {},
   "source": [
    "As you can see, there are flights from San Francisco to Buffalo with Washington as the transfer point."
   ]
  },
  {
   "cell_type": "code",
   "execution_count": null,
   "metadata": {
    "collapsed": true
   },
   "outputs": [],
   "source": []
  }
 ],
 "metadata": {
  "kernelspec": {
   "display_name": "Python 3",
   "language": "python",
   "name": "python3"
  },
  "language_info": {
   "codemirror_mode": {
    "name": "ipython",
    "version": 3
   },
   "file_extension": ".py",
   "mimetype": "text/x-python",
   "name": "python",
   "nbconvert_exporter": "python",
   "pygments_lexer": "ipython3",
   "version": "3.6.5"
  }
 },
 "nbformat": 4,
 "nbformat_minor": 2
}
