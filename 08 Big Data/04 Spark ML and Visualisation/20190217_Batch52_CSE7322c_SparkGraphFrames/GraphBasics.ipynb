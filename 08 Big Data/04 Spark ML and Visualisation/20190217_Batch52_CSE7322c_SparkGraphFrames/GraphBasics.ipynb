{
 "cells": [
  {
   "cell_type": "code",
   "execution_count": 1,
   "metadata": {},
   "outputs": [],
   "source": [
    "import os\n",
    "import sys\n",
    "\n",
    "os.environ[\"SPARK_HOME\"] = \"/usr/hdp/current/spark2-client/\"\n",
    "os.environ[\"PYLIB\"] = os.environ[\"SPARK_HOME\"] + \"/python/lib\"\n",
    "sys.path.insert(0, os.environ[\"PYLIB\"] + \"/py4j-0.10.4-src.zip\")\n",
    "sys.path.insert(0, os.environ[\"PYLIB\"] + \"/pyspark.zip\")\n"
   ]
  },
  {
   "cell_type": "code",
   "execution_count": 2,
   "metadata": {},
   "outputs": [],
   "source": [
    "import pyspark\n",
    "from pyspark import SparkContext,SparkConf\n",
    "from pyspark.sql import SparkSession"
   ]
  },
  {
   "cell_type": "code",
   "execution_count": 3,
   "metadata": {},
   "outputs": [],
   "source": [
    "from pyspark.sql import *\n",
    "from pyspark.sql.functions import *\n"
   ]
  },
  {
   "cell_type": "code",
   "execution_count": 4,
   "metadata": {},
   "outputs": [],
   "source": [
    "conf = SparkConf().set('spark.jars.packages','graphframes:graphframes:0.5.0-spark2.1-s_2.11')\n"
   ]
  },
  {
   "cell_type": "code",
   "execution_count": 5,
   "metadata": {},
   "outputs": [],
   "source": [
    "sc = SparkContext(conf=conf)\n",
    "spark  = SparkSession(sc)"
   ]
  },
  {
   "cell_type": "code",
   "execution_count": 6,
   "metadata": {},
   "outputs": [
    {
     "data": {
      "text/html": [
       "\n",
       "            <div>\n",
       "                <p><b>SparkSession - in-memory</b></p>\n",
       "                \n",
       "        <div>\n",
       "            <p><b>SparkContext</b></p>\n",
       "\n",
       "            <p><a href=\"http://d.insofe.edu.in:4049\">Spark UI</a></p>\n",
       "\n",
       "            <dl>\n",
       "              <dt>Version</dt>\n",
       "                <dd><code>v2.3.0.2.6.5.0-292</code></dd>\n",
       "              <dt>Master</dt>\n",
       "                <dd><code>local[*]</code></dd>\n",
       "              <dt>AppName</dt>\n",
       "                <dd><code>pyspark-shell</code></dd>\n",
       "            </dl>\n",
       "        </div>\n",
       "        \n",
       "            </div>\n",
       "        "
      ],
      "text/plain": [
       "<pyspark.sql.session.SparkSession at 0x39e30d0>"
      ]
     },
     "execution_count": 6,
     "metadata": {},
     "output_type": "execute_result"
    }
   ],
   "source": [
    "spark"
   ]
  },
  {
   "cell_type": "code",
   "execution_count": 7,
   "metadata": {},
   "outputs": [],
   "source": [
    "import graphframes\n",
    "from graphframes import GraphFrame"
   ]
  },
  {
   "cell_type": "code",
   "execution_count": 8,
   "metadata": {},
   "outputs": [],
   "source": [
    "vertices = spark.createDataFrame([\n",
    "    (\"1\",\"Aryan\",23,\"M\",\"NIT\"),\n",
    "    (\"2\",\"Ram\",28,\"M\",\"BITS\"),\n",
    "    (\"3\",\"Samera\",25,\"F\",\"IIT\"),\n",
    "    (\"4\",\"Sachin\",27,\"M\",\"NIT\"),\n",
    "    (\"5\",\"Manoj\",27,\"M\",\"NIT\"),\n",
    "    (\"6\",\"Mytri\",27,\"F\",\"BITS\"),\n",
    "(\"7\",\"Shiva\",27,\"M\",\"IIT\")],[\"id\",\"name\",\"age\",\"gender\",\"university\"])"
   ]
  },
  {
   "cell_type": "code",
   "execution_count": 9,
   "metadata": {},
   "outputs": [],
   "source": [
    "edges = spark.createDataFrame([ \n",
    "    (\"1\", \"2\", \"friend\"), (\"2\", \"1\", \"friend\"), \n",
    "    (\"1\", \"3\", \"friend\"), (\"3\", \"1\", \"friend\"), \n",
    "    (\"1\", \"4\", \"friend\"), (\"4\", \"1\", \"friend\"),\n",
    "    (\"2\", \"3\", \"friend\"), (\"3\", \"2\", \"friend\"), \n",
    "    (\"3\", \"4\", \"friend\"),  (\"4\", \"3\", \"friend\"),\n",
    "    (\"3\", \"5\", \"friend\"), (\"5\", \"3\", \"friend\"), \n",
    "    (\"3\", \"6\", \"friend\"), (\"6\", \"3\", \"friend\"), \n",
    "    (\"3\", \"7\", \"friend\"), (\"7\", \"3\", \"friend\"),\n",
    "    (\"2\", \"5\", \"friend\"),(\"5\", \"2\", \"friend\")\n",
    "], [\"src\", \"dst\", \"relationship\"])"
   ]
  },
  {
   "cell_type": "markdown",
   "metadata": {},
   "source": [
    "### Creating the Graph \n",
    "#### to create a graph we require vertices and edges\n",
    "* create two data frames for vertices and edges\n",
    "* use GraphFrame(vertices,edges) to get the graph\n",
    "* vertices should have a unique column called \"id\"\n",
    "* edges should have two columns \"src\",\"dst\""
   ]
  },
  {
   "cell_type": "code",
   "execution_count": 10,
   "metadata": {},
   "outputs": [],
   "source": [
    "g = GraphFrame(vertices, edges)"
   ]
  },
  {
   "cell_type": "code",
   "execution_count": 11,
   "metadata": {},
   "outputs": [
    {
     "name": "stdout",
     "output_type": "stream",
     "text": [
      "+---+------+---+------+----------+\n",
      "| id|  name|age|gender|university|\n",
      "+---+------+---+------+----------+\n",
      "|  1| Aryan| 23|     M|       NIT|\n",
      "|  2|   Ram| 28|     M|      BITS|\n",
      "|  3|Samera| 25|     F|       IIT|\n",
      "|  4|Sachin| 27|     M|       NIT|\n",
      "|  5| Manoj| 27|     M|       NIT|\n",
      "|  6| Mytri| 27|     F|      BITS|\n",
      "|  7| Shiva| 27|     M|       IIT|\n",
      "+---+------+---+------+----------+\n",
      "\n"
     ]
    }
   ],
   "source": [
    "g.vertices.show()"
   ]
  },
  {
   "cell_type": "code",
   "execution_count": 12,
   "metadata": {},
   "outputs": [
    {
     "name": "stdout",
     "output_type": "stream",
     "text": [
      "+---+---+------------+\n",
      "|src|dst|relationship|\n",
      "+---+---+------------+\n",
      "|  1|  2|      friend|\n",
      "|  2|  1|      friend|\n",
      "|  1|  3|      friend|\n",
      "|  3|  1|      friend|\n",
      "|  1|  4|      friend|\n",
      "|  4|  1|      friend|\n",
      "|  2|  3|      friend|\n",
      "|  3|  2|      friend|\n",
      "|  3|  4|      friend|\n",
      "|  4|  3|      friend|\n",
      "|  3|  5|      friend|\n",
      "|  5|  3|      friend|\n",
      "|  3|  6|      friend|\n",
      "|  6|  3|      friend|\n",
      "|  3|  7|      friend|\n",
      "|  7|  3|      friend|\n",
      "|  2|  5|      friend|\n",
      "|  5|  2|      friend|\n",
      "+---+---+------------+\n",
      "\n"
     ]
    }
   ],
   "source": [
    "g.edges.show()"
   ]
  },
  {
   "cell_type": "markdown",
   "metadata": {},
   "source": [
    "#### Queries on the Graph\n",
    "* Queries similar to Data frame queries can be run on the graph frame\n",
    "* We can query on the numerical and categorical colmns of the graph frame"
   ]
  },
  {
   "cell_type": "code",
   "execution_count": 13,
   "metadata": {},
   "outputs": [
    {
     "name": "stdout",
     "output_type": "stream",
     "text": [
      "+---+------+---+------+----------+\n",
      "| id|  name|age|gender|university|\n",
      "+---+------+---+------+----------+\n",
      "|  2|   Ram| 28|     M|      BITS|\n",
      "|  4|Sachin| 27|     M|       NIT|\n",
      "|  5| Manoj| 27|     M|       NIT|\n",
      "|  6| Mytri| 27|     F|      BITS|\n",
      "|  7| Shiva| 27|     M|       IIT|\n",
      "+---+------+---+------+----------+\n",
      "\n"
     ]
    }
   ],
   "source": [
    "g.vertices.filter(\"age>25\").show()\n"
   ]
  },
  {
   "cell_type": "code",
   "execution_count": 14,
   "metadata": {},
   "outputs": [
    {
     "name": "stdout",
     "output_type": "stream",
     "text": [
      "+---+------+---+------+----------+\n",
      "| id|  name|age|gender|university|\n",
      "+---+------+---+------+----------+\n",
      "|  1| Aryan| 23|     M|       NIT|\n",
      "|  2|   Ram| 28|     M|      BITS|\n",
      "|  4|Sachin| 27|     M|       NIT|\n",
      "|  5| Manoj| 27|     M|       NIT|\n",
      "|  7| Shiva| 27|     M|       IIT|\n",
      "+---+------+---+------+----------+\n",
      "\n"
     ]
    }
   ],
   "source": [
    "g.vertices.filter(\"gender='M'\").show()"
   ]
  },
  {
   "cell_type": "markdown",
   "metadata": {},
   "source": [
    "##### Counting the number of inlinks -- inDegrees"
   ]
  },
  {
   "cell_type": "code",
   "execution_count": 15,
   "metadata": {},
   "outputs": [
    {
     "name": "stdout",
     "output_type": "stream",
     "text": [
      "+---+--------+\n",
      "| id|inDegree|\n",
      "+---+--------+\n",
      "|  7|       1|\n",
      "|  3|       6|\n",
      "|  5|       2|\n",
      "|  6|       1|\n",
      "|  1|       3|\n",
      "|  4|       2|\n",
      "|  2|       3|\n",
      "+---+--------+\n",
      "\n"
     ]
    }
   ],
   "source": [
    "## As relationship is the edge here it will tell\n",
    "g.inDegrees.show()"
   ]
  },
  {
   "cell_type": "code",
   "execution_count": 16,
   "metadata": {},
   "outputs": [
    {
     "name": "stdout",
     "output_type": "stream",
     "text": [
      "+---+---------+\n",
      "| id|outDegree|\n",
      "+---+---------+\n",
      "|  7|        1|\n",
      "|  3|        6|\n",
      "|  5|        2|\n",
      "|  6|        1|\n",
      "|  1|        3|\n",
      "|  4|        2|\n",
      "|  2|        3|\n",
      "+---+---------+\n",
      "\n"
     ]
    }
   ],
   "source": [
    "g.outDegrees.show()"
   ]
  },
  {
   "cell_type": "markdown",
   "metadata": {},
   "source": [
    "##### To find the number of users having more than 2 friends"
   ]
  },
  {
   "cell_type": "code",
   "execution_count": 17,
   "metadata": {},
   "outputs": [
    {
     "name": "stdout",
     "output_type": "stream",
     "text": [
      "+---+--------+\n",
      "| id|inDegree|\n",
      "+---+--------+\n",
      "|  1|       3|\n",
      "|  2|       3|\n",
      "|  3|       6|\n",
      "+---+--------+\n",
      "\n"
     ]
    }
   ],
   "source": [
    "g.inDegrees.filter(\"inDegree > 2\").sort(\"id\").show()"
   ]
  },
  {
   "cell_type": "markdown",
   "metadata": {},
   "source": [
    "### Motif Finding using DSL\n",
    "* DSL should be given with (src vertex)-[e edge]->(dst vertex) "
   ]
  },
  {
   "cell_type": "code",
   "execution_count": 18,
   "metadata": {},
   "outputs": [
    {
     "data": {
      "text/plain": [
       "18"
      ]
     },
     "execution_count": 18,
     "metadata": {},
     "output_type": "execute_result"
    }
   ],
   "source": [
    "g.find(\"(a)-[e]->(b)\").count()"
   ]
  },
  {
   "cell_type": "code",
   "execution_count": 19,
   "metadata": {},
   "outputs": [
    {
     "name": "stdout",
     "output_type": "stream",
     "text": [
      "+-----------------------+--------------+-----------------------+--------------+\n",
      "|a                      |e             |b                      |e2            |\n",
      "+-----------------------+--------------+-----------------------+--------------+\n",
      "|[1, Aryan, 23, M, NIT] |[1, 4, friend]|[4, Sachin, 27, M, NIT]|[4, 1, friend]|\n",
      "|[4, Sachin, 27, M, NIT]|[4, 1, friend]|[1, Aryan, 23, M, NIT] |[1, 4, friend]|\n",
      "|[3, Samera, 25, F, IIT]|[3, 2, friend]|[2, Ram, 28, M, BITS]  |[2, 3, friend]|\n",
      "|[2, Ram, 28, M, BITS]  |[2, 1, friend]|[1, Aryan, 23, M, NIT] |[1, 2, friend]|\n",
      "|[2, Ram, 28, M, BITS]  |[2, 5, friend]|[5, Manoj, 27, M, NIT] |[5, 2, friend]|\n",
      "|[3, Samera, 25, F, IIT]|[3, 5, friend]|[5, Manoj, 27, M, NIT] |[5, 3, friend]|\n",
      "|[1, Aryan, 23, M, NIT] |[1, 3, friend]|[3, Samera, 25, F, IIT]|[3, 1, friend]|\n",
      "|[3, Samera, 25, F, IIT]|[3, 1, friend]|[1, Aryan, 23, M, NIT] |[1, 3, friend]|\n",
      "|[5, Manoj, 27, M, NIT] |[5, 3, friend]|[3, Samera, 25, F, IIT]|[3, 5, friend]|\n",
      "|[2, Ram, 28, M, BITS]  |[2, 3, friend]|[3, Samera, 25, F, IIT]|[3, 2, friend]|\n",
      "|[3, Samera, 25, F, IIT]|[3, 7, friend]|[7, Shiva, 27, M, IIT] |[7, 3, friend]|\n",
      "|[4, Sachin, 27, M, NIT]|[4, 3, friend]|[3, Samera, 25, F, IIT]|[3, 4, friend]|\n",
      "|[6, Mytri, 27, F, BITS]|[6, 3, friend]|[3, Samera, 25, F, IIT]|[3, 6, friend]|\n",
      "|[1, Aryan, 23, M, NIT] |[1, 2, friend]|[2, Ram, 28, M, BITS]  |[2, 1, friend]|\n",
      "|[3, Samera, 25, F, IIT]|[3, 4, friend]|[4, Sachin, 27, M, NIT]|[4, 3, friend]|\n",
      "|[3, Samera, 25, F, IIT]|[3, 6, friend]|[6, Mytri, 27, F, BITS]|[6, 3, friend]|\n",
      "|[5, Manoj, 27, M, NIT] |[5, 2, friend]|[2, Ram, 28, M, BITS]  |[2, 5, friend]|\n",
      "|[7, Shiva, 27, M, IIT] |[7, 3, friend]|[3, Samera, 25, F, IIT]|[3, 7, friend]|\n",
      "+-----------------------+--------------+-----------------------+--------------+\n",
      "\n"
     ]
    }
   ],
   "source": [
    "g.find((\"(a)-[e]->(b);(b)-[e2]->(a)\")).show(truncate=False) # Explicity giving the edges "
   ]
  },
  {
   "cell_type": "code",
   "execution_count": 20,
   "metadata": {},
   "outputs": [
    {
     "data": {
      "text/plain": [
       "18"
      ]
     },
     "execution_count": 20,
     "metadata": {},
     "output_type": "execute_result"
    }
   ],
   "source": [
    "g.find((\"(a)-[e]->(b);(b)-[e2]->(a)\")).count()"
   ]
  },
  {
   "cell_type": "markdown",
   "metadata": {},
   "source": [
    "#### Creating the anonymous edge based motif finding"
   ]
  },
  {
   "cell_type": "code",
   "execution_count": 21,
   "metadata": {},
   "outputs": [
    {
     "name": "stdout",
     "output_type": "stream",
     "text": [
      "+--------------------+--------------------+\n",
      "|                   a|                   b|\n",
      "+--------------------+--------------------+\n",
      "|[1, Aryan, 23, M,...|[4, Sachin, 27, M...|\n",
      "|[4, Sachin, 27, M...|[1, Aryan, 23, M,...|\n",
      "|[3, Samera, 25, F...|[2, Ram, 28, M, B...|\n",
      "|[2, Ram, 28, M, B...|[1, Aryan, 23, M,...|\n",
      "|[2, Ram, 28, M, B...|[5, Manoj, 27, M,...|\n",
      "|[3, Samera, 25, F...|[5, Manoj, 27, M,...|\n",
      "|[1, Aryan, 23, M,...|[3, Samera, 25, F...|\n",
      "|[3, Samera, 25, F...|[1, Aryan, 23, M,...|\n",
      "|[5, Manoj, 27, M,...|[3, Samera, 25, F...|\n",
      "|[2, Ram, 28, M, B...|[3, Samera, 25, F...|\n",
      "|[3, Samera, 25, F...|[7, Shiva, 27, M,...|\n",
      "|[4, Sachin, 27, M...|[3, Samera, 25, F...|\n",
      "|[6, Mytri, 27, F,...|[3, Samera, 25, F...|\n",
      "|[1, Aryan, 23, M,...|[2, Ram, 28, M, B...|\n",
      "|[3, Samera, 25, F...|[4, Sachin, 27, M...|\n",
      "|[3, Samera, 25, F...|[6, Mytri, 27, F,...|\n",
      "|[5, Manoj, 27, M,...|[2, Ram, 28, M, B...|\n",
      "|[7, Shiva, 27, M,...|[3, Samera, 25, F...|\n",
      "+--------------------+--------------------+\n",
      "\n"
     ]
    }
   ],
   "source": [
    "g.find((\"(a)-[]->(b);(b)-[]->(a)\")).show()"
   ]
  },
  {
   "cell_type": "markdown",
   "metadata": {},
   "source": [
    "#### Creating the anonymous vertex based motif finding"
   ]
  },
  {
   "cell_type": "code",
   "execution_count": 22,
   "metadata": {},
   "outputs": [
    {
     "name": "stdout",
     "output_type": "stream",
     "text": [
      "+--------------------+--------------+\n",
      "|                   a|             e|\n",
      "+--------------------+--------------+\n",
      "|[7, Shiva, 27, M,...|[7, 3, friend]|\n",
      "|[3, Samera, 25, F...|[3, 1, friend]|\n",
      "|[3, Samera, 25, F...|[3, 2, friend]|\n",
      "|[3, Samera, 25, F...|[3, 4, friend]|\n",
      "|[3, Samera, 25, F...|[3, 5, friend]|\n",
      "|[3, Samera, 25, F...|[3, 6, friend]|\n",
      "|[3, Samera, 25, F...|[3, 7, friend]|\n",
      "|[5, Manoj, 27, M,...|[5, 3, friend]|\n",
      "|[5, Manoj, 27, M,...|[5, 2, friend]|\n",
      "|[6, Mytri, 27, F,...|[6, 3, friend]|\n",
      "|[1, Aryan, 23, M,...|[1, 2, friend]|\n",
      "|[1, Aryan, 23, M,...|[1, 3, friend]|\n",
      "|[1, Aryan, 23, M,...|[1, 4, friend]|\n",
      "|[4, Sachin, 27, M...|[4, 1, friend]|\n",
      "|[4, Sachin, 27, M...|[4, 3, friend]|\n",
      "|[2, Ram, 28, M, B...|[2, 1, friend]|\n",
      "|[2, Ram, 28, M, B...|[2, 3, friend]|\n",
      "|[2, Ram, 28, M, B...|[2, 5, friend]|\n",
      "+--------------------+--------------+\n",
      "\n"
     ]
    }
   ],
   "source": [
    "g.find(\"(a)-[e]->()\").show()"
   ]
  },
  {
   "cell_type": "markdown",
   "metadata": {},
   "source": [
    "##### To find a unidirectional edge"
   ]
  },
  {
   "cell_type": "code",
   "execution_count": 23,
   "metadata": {},
   "outputs": [
    {
     "name": "stdout",
     "output_type": "stream",
     "text": [
      "+---+---+\n",
      "|  a|  b|\n",
      "+---+---+\n",
      "+---+---+\n",
      "\n"
     ]
    }
   ],
   "source": [
    "g.find(\"(a)-[]->(b);!(b)-[]->(a)\").show()  ## Find the links from a to b but not b to a "
   ]
  },
  {
   "cell_type": "markdown",
   "metadata": {},
   "source": [
    "##### To find mutual friends"
   ]
  },
  {
   "cell_type": "code",
   "execution_count": 24,
   "metadata": {},
   "outputs": [
    {
     "name": "stdout",
     "output_type": "stream",
     "text": [
      "+-----------------------+-----------------------+-----------------------+\n",
      "|a                      |b                      |c                      |\n",
      "+-----------------------+-----------------------+-----------------------+\n",
      "|[7, Shiva, 27, M, IIT] |[3, Samera, 25, F, IIT]|[7, Shiva, 27, M, IIT] |\n",
      "|[5, Manoj, 27, M, NIT] |[3, Samera, 25, F, IIT]|[7, Shiva, 27, M, IIT] |\n",
      "|[6, Mytri, 27, F, BITS]|[3, Samera, 25, F, IIT]|[7, Shiva, 27, M, IIT] |\n",
      "|[1, Aryan, 23, M, NIT] |[3, Samera, 25, F, IIT]|[7, Shiva, 27, M, IIT] |\n",
      "|[4, Sachin, 27, M, NIT]|[3, Samera, 25, F, IIT]|[7, Shiva, 27, M, IIT] |\n",
      "|[2, Ram, 28, M, BITS]  |[3, Samera, 25, F, IIT]|[7, Shiva, 27, M, IIT] |\n",
      "|[3, Samera, 25, F, IIT]|[7, Shiva, 27, M, IIT] |[3, Samera, 25, F, IIT]|\n",
      "|[3, Samera, 25, F, IIT]|[5, Manoj, 27, M, NIT] |[3, Samera, 25, F, IIT]|\n",
      "|[2, Ram, 28, M, BITS]  |[5, Manoj, 27, M, NIT] |[3, Samera, 25, F, IIT]|\n",
      "|[3, Samera, 25, F, IIT]|[6, Mytri, 27, F, BITS]|[3, Samera, 25, F, IIT]|\n",
      "|[3, Samera, 25, F, IIT]|[1, Aryan, 23, M, NIT] |[3, Samera, 25, F, IIT]|\n",
      "|[4, Sachin, 27, M, NIT]|[1, Aryan, 23, M, NIT] |[3, Samera, 25, F, IIT]|\n",
      "|[2, Ram, 28, M, BITS]  |[1, Aryan, 23, M, NIT] |[3, Samera, 25, F, IIT]|\n",
      "|[3, Samera, 25, F, IIT]|[4, Sachin, 27, M, NIT]|[3, Samera, 25, F, IIT]|\n",
      "|[1, Aryan, 23, M, NIT] |[4, Sachin, 27, M, NIT]|[3, Samera, 25, F, IIT]|\n",
      "|[3, Samera, 25, F, IIT]|[2, Ram, 28, M, BITS]  |[3, Samera, 25, F, IIT]|\n",
      "|[5, Manoj, 27, M, NIT] |[2, Ram, 28, M, BITS]  |[3, Samera, 25, F, IIT]|\n",
      "|[1, Aryan, 23, M, NIT] |[2, Ram, 28, M, BITS]  |[3, Samera, 25, F, IIT]|\n",
      "|[7, Shiva, 27, M, IIT] |[3, Samera, 25, F, IIT]|[5, Manoj, 27, M, NIT] |\n",
      "|[5, Manoj, 27, M, NIT] |[3, Samera, 25, F, IIT]|[5, Manoj, 27, M, NIT] |\n",
      "|[6, Mytri, 27, F, BITS]|[3, Samera, 25, F, IIT]|[5, Manoj, 27, M, NIT] |\n",
      "|[1, Aryan, 23, M, NIT] |[3, Samera, 25, F, IIT]|[5, Manoj, 27, M, NIT] |\n",
      "|[4, Sachin, 27, M, NIT]|[3, Samera, 25, F, IIT]|[5, Manoj, 27, M, NIT] |\n",
      "|[2, Ram, 28, M, BITS]  |[3, Samera, 25, F, IIT]|[5, Manoj, 27, M, NIT] |\n",
      "|[3, Samera, 25, F, IIT]|[2, Ram, 28, M, BITS]  |[5, Manoj, 27, M, NIT] |\n",
      "|[5, Manoj, 27, M, NIT] |[2, Ram, 28, M, BITS]  |[5, Manoj, 27, M, NIT] |\n",
      "|[1, Aryan, 23, M, NIT] |[2, Ram, 28, M, BITS]  |[5, Manoj, 27, M, NIT] |\n",
      "|[7, Shiva, 27, M, IIT] |[3, Samera, 25, F, IIT]|[6, Mytri, 27, F, BITS]|\n",
      "|[5, Manoj, 27, M, NIT] |[3, Samera, 25, F, IIT]|[6, Mytri, 27, F, BITS]|\n",
      "|[6, Mytri, 27, F, BITS]|[3, Samera, 25, F, IIT]|[6, Mytri, 27, F, BITS]|\n",
      "|[1, Aryan, 23, M, NIT] |[3, Samera, 25, F, IIT]|[6, Mytri, 27, F, BITS]|\n",
      "|[4, Sachin, 27, M, NIT]|[3, Samera, 25, F, IIT]|[6, Mytri, 27, F, BITS]|\n",
      "|[2, Ram, 28, M, BITS]  |[3, Samera, 25, F, IIT]|[6, Mytri, 27, F, BITS]|\n",
      "|[7, Shiva, 27, M, IIT] |[3, Samera, 25, F, IIT]|[1, Aryan, 23, M, NIT] |\n",
      "|[5, Manoj, 27, M, NIT] |[3, Samera, 25, F, IIT]|[1, Aryan, 23, M, NIT] |\n",
      "|[6, Mytri, 27, F, BITS]|[3, Samera, 25, F, IIT]|[1, Aryan, 23, M, NIT] |\n",
      "|[1, Aryan, 23, M, NIT] |[3, Samera, 25, F, IIT]|[1, Aryan, 23, M, NIT] |\n",
      "|[4, Sachin, 27, M, NIT]|[3, Samera, 25, F, IIT]|[1, Aryan, 23, M, NIT] |\n",
      "|[2, Ram, 28, M, BITS]  |[3, Samera, 25, F, IIT]|[1, Aryan, 23, M, NIT] |\n",
      "|[3, Samera, 25, F, IIT]|[4, Sachin, 27, M, NIT]|[1, Aryan, 23, M, NIT] |\n",
      "|[1, Aryan, 23, M, NIT] |[4, Sachin, 27, M, NIT]|[1, Aryan, 23, M, NIT] |\n",
      "|[3, Samera, 25, F, IIT]|[2, Ram, 28, M, BITS]  |[1, Aryan, 23, M, NIT] |\n",
      "|[5, Manoj, 27, M, NIT] |[2, Ram, 28, M, BITS]  |[1, Aryan, 23, M, NIT] |\n",
      "|[1, Aryan, 23, M, NIT] |[2, Ram, 28, M, BITS]  |[1, Aryan, 23, M, NIT] |\n",
      "|[7, Shiva, 27, M, IIT] |[3, Samera, 25, F, IIT]|[4, Sachin, 27, M, NIT]|\n",
      "|[5, Manoj, 27, M, NIT] |[3, Samera, 25, F, IIT]|[4, Sachin, 27, M, NIT]|\n",
      "|[6, Mytri, 27, F, BITS]|[3, Samera, 25, F, IIT]|[4, Sachin, 27, M, NIT]|\n",
      "|[1, Aryan, 23, M, NIT] |[3, Samera, 25, F, IIT]|[4, Sachin, 27, M, NIT]|\n",
      "|[4, Sachin, 27, M, NIT]|[3, Samera, 25, F, IIT]|[4, Sachin, 27, M, NIT]|\n",
      "|[2, Ram, 28, M, BITS]  |[3, Samera, 25, F, IIT]|[4, Sachin, 27, M, NIT]|\n",
      "|[3, Samera, 25, F, IIT]|[1, Aryan, 23, M, NIT] |[4, Sachin, 27, M, NIT]|\n",
      "|[4, Sachin, 27, M, NIT]|[1, Aryan, 23, M, NIT] |[4, Sachin, 27, M, NIT]|\n",
      "|[2, Ram, 28, M, BITS]  |[1, Aryan, 23, M, NIT] |[4, Sachin, 27, M, NIT]|\n",
      "|[7, Shiva, 27, M, IIT] |[3, Samera, 25, F, IIT]|[2, Ram, 28, M, BITS]  |\n",
      "|[5, Manoj, 27, M, NIT] |[3, Samera, 25, F, IIT]|[2, Ram, 28, M, BITS]  |\n",
      "|[6, Mytri, 27, F, BITS]|[3, Samera, 25, F, IIT]|[2, Ram, 28, M, BITS]  |\n",
      "|[1, Aryan, 23, M, NIT] |[3, Samera, 25, F, IIT]|[2, Ram, 28, M, BITS]  |\n",
      "|[4, Sachin, 27, M, NIT]|[3, Samera, 25, F, IIT]|[2, Ram, 28, M, BITS]  |\n",
      "|[2, Ram, 28, M, BITS]  |[3, Samera, 25, F, IIT]|[2, Ram, 28, M, BITS]  |\n",
      "|[3, Samera, 25, F, IIT]|[5, Manoj, 27, M, NIT] |[2, Ram, 28, M, BITS]  |\n",
      "|[2, Ram, 28, M, BITS]  |[5, Manoj, 27, M, NIT] |[2, Ram, 28, M, BITS]  |\n",
      "|[3, Samera, 25, F, IIT]|[1, Aryan, 23, M, NIT] |[2, Ram, 28, M, BITS]  |\n",
      "|[4, Sachin, 27, M, NIT]|[1, Aryan, 23, M, NIT] |[2, Ram, 28, M, BITS]  |\n",
      "|[2, Ram, 28, M, BITS]  |[1, Aryan, 23, M, NIT] |[2, Ram, 28, M, BITS]  |\n",
      "+-----------------------+-----------------------+-----------------------+\n",
      "\n"
     ]
    }
   ],
   "source": [
    "g.find(\"(a)-[]->(b);(b)-[]->(c)\").show(100,truncate=False)"
   ]
  },
  {
   "cell_type": "code",
   "execution_count": 25,
   "metadata": {},
   "outputs": [
    {
     "name": "stdout",
     "output_type": "stream",
     "text": [
      "+--------------------+--------------------+--------------------+\n",
      "|                   a|                   b|                   c|\n",
      "+--------------------+--------------------+--------------------+\n",
      "|[5, Manoj, 27, M,...|[3, Samera, 25, F...|[7, Shiva, 27, M,...|\n",
      "|[6, Mytri, 27, F,...|[3, Samera, 25, F...|[7, Shiva, 27, M,...|\n",
      "|[1, Aryan, 23, M,...|[3, Samera, 25, F...|[7, Shiva, 27, M,...|\n",
      "|[4, Sachin, 27, M...|[3, Samera, 25, F...|[7, Shiva, 27, M,...|\n",
      "|[2, Ram, 28, M, B...|[3, Samera, 25, F...|[7, Shiva, 27, M,...|\n",
      "|[2, Ram, 28, M, B...|[5, Manoj, 27, M,...|[3, Samera, 25, F...|\n",
      "|[4, Sachin, 27, M...|[1, Aryan, 23, M,...|[3, Samera, 25, F...|\n",
      "|[2, Ram, 28, M, B...|[1, Aryan, 23, M,...|[3, Samera, 25, F...|\n",
      "|[1, Aryan, 23, M,...|[4, Sachin, 27, M...|[3, Samera, 25, F...|\n",
      "|[5, Manoj, 27, M,...|[2, Ram, 28, M, B...|[3, Samera, 25, F...|\n",
      "+--------------------+--------------------+--------------------+\n",
      "only showing top 10 rows\n",
      "\n"
     ]
    }
   ],
   "source": [
    "g.find(\"(a)-[]->(b);(b)-[]->(c)\").filter(\"a.id!=c.id\").show(10)"
   ]
  },
  {
   "cell_type": "code",
   "execution_count": 26,
   "metadata": {},
   "outputs": [
    {
     "name": "stdout",
     "output_type": "stream",
     "text": [
      "+---+---+-----+\n",
      "|  A|  C|count|\n",
      "+---+---+-----+\n",
      "|  1|  4|    1|\n",
      "|  1|  2|    1|\n",
      "|  1|  5|    2|\n",
      "|  1|  3|    2|\n",
      "|  1|  7|    1|\n",
      "|  1|  6|    1|\n",
      "+---+---+-----+\n",
      "\n"
     ]
    }
   ],
   "source": [
    "motifs = g.find(\"(a)-[]->(b);(b)-[]->(c)\").filter(\"a.id!=c.id\")\n",
    "Friends = motifs.selectExpr(\"A.id as A\", \"C.id as C\")\n",
    "Friends.groupBy(\"A\", \"C\").count().filter(\"A = 1\").show()"
   ]
  },
  {
   "cell_type": "code",
   "execution_count": 27,
   "metadata": {},
   "outputs": [
    {
     "name": "stdout",
     "output_type": "stream",
     "text": [
      "+---+---+\n",
      "|  A|  C|\n",
      "+---+---+\n",
      "|  5|  7|\n",
      "|  6|  7|\n",
      "|  1|  7|\n",
      "|  4|  7|\n",
      "|  2|  7|\n",
      "|  2|  3|\n",
      "|  4|  3|\n",
      "|  2|  3|\n",
      "|  1|  3|\n",
      "|  5|  3|\n",
      "|  1|  3|\n",
      "|  7|  5|\n",
      "|  6|  5|\n",
      "|  1|  5|\n",
      "|  4|  5|\n",
      "|  2|  5|\n",
      "|  3|  5|\n",
      "|  1|  5|\n",
      "|  7|  6|\n",
      "|  5|  6|\n",
      "+---+---+\n",
      "only showing top 20 rows\n",
      "\n"
     ]
    }
   ],
   "source": [
    "Friends = motifs.selectExpr(\"A.id as A\", \"C.id as C\")\n",
    "Friends.show()"
   ]
  },
  {
   "cell_type": "code",
   "execution_count": 28,
   "metadata": {},
   "outputs": [
    {
     "name": "stdout",
     "output_type": "stream",
     "text": [
      "+---+---+-----+\n",
      "|  A|  C|count|\n",
      "+---+---+-----+\n",
      "|  1|  4|    1|\n",
      "|  1|  2|    1|\n",
      "|  1|  5|    2|\n",
      "|  1|  3|    2|\n",
      "|  1|  7|    1|\n",
      "|  1|  6|    1|\n",
      "+---+---+-----+\n",
      "\n"
     ]
    }
   ],
   "source": [
    "Friends.groupBy(\"A\", \"C\").count().filter(\"A = 1\").show()"
   ]
  },
  {
   "cell_type": "code",
   "execution_count": 29,
   "metadata": {},
   "outputs": [
    {
     "name": "stdout",
     "output_type": "stream",
     "text": [
      "+-----+---+------+---+------+----------+\n",
      "|count| id|  name|age|gender|university|\n",
      "+-----+---+------+---+------+----------+\n",
      "|    0|  7| Shiva| 27|     M|       IIT|\n",
      "|    3|  3|Samera| 25|     F|       IIT|\n",
      "|    1|  5| Manoj| 27|     M|       NIT|\n",
      "|    0|  6| Mytri| 27|     F|      BITS|\n",
      "|    2|  1| Aryan| 23|     M|       NIT|\n",
      "|    1|  4|Sachin| 27|     M|       NIT|\n",
      "|    2|  2|   Ram| 28|     M|      BITS|\n",
      "+-----+---+------+---+------+----------+\n",
      "\n"
     ]
    }
   ],
   "source": [
    "g.triangleCount().show()"
   ]
  },
  {
   "cell_type": "code",
   "execution_count": 30,
   "metadata": {},
   "outputs": [],
   "source": [
    "results = g.pageRank(maxIter=5)\n"
   ]
  },
  {
   "cell_type": "code",
   "execution_count": 31,
   "metadata": {},
   "outputs": [
    {
     "name": "stdout",
     "output_type": "stream",
     "text": [
      "+---+------------------+\n",
      "| id|          pagerank|\n",
      "+---+------------------+\n",
      "|  1|1.1121941874035493|\n",
      "|  3| 2.376845942965535|\n",
      "|  2|1.1121941874035493|\n",
      "|  4|0.7600653645833334|\n",
      "|  7|0.4393174765303498|\n",
      "|  6|0.4393174765303498|\n",
      "|  5|0.7600653645833334|\n",
      "+---+------------------+\n",
      "\n"
     ]
    }
   ],
   "source": [
    "results.vertices.select(\"id\", \"pagerank\").show()"
   ]
  },
  {
   "cell_type": "code",
   "execution_count": 32,
   "metadata": {},
   "outputs": [
    {
     "name": "stdout",
     "output_type": "stream",
     "text": [
      "+----------------+--------------+--------------+\n",
      "|               a|             e|             b|\n",
      "+----------------+--------------+--------------+\n",
      "| [e, Esther, 32]|[e, f, follow]|[f, Fanny, 36]|\n",
      "|[c, Charlie, 30]|[c, b, follow]|  [b, Bob, 36]|\n",
      "+----------------+--------------+--------------+\n",
      "\n"
     ]
    }
   ],
   "source": [
    "v = spark.createDataFrame([\n",
    "  (\"a\", \"Alice\", 34),\n",
    "  (\"b\", \"Bob\", 36),\n",
    "  (\"c\", \"Charlie\", 30),\n",
    "  (\"d\", \"David\", 29),\n",
    "  (\"e\", \"Esther\", 32),\n",
    "  (\"f\", \"Fanny\", 36),\n",
    "  (\"g\", \"Gabby\", 60)\n",
    "], [\"id\", \"name\", \"age\"])\n",
    "# Edge DataFrame\n",
    "e = spark.createDataFrame([\n",
    "  (\"a\", \"b\", \"friend\"),\n",
    "  (\"b\", \"c\", \"follow\"),\n",
    "  (\"c\", \"b\", \"follow\"),\n",
    "  (\"f\", \"c\", \"follow\"),\n",
    "  (\"e\", \"f\", \"follow\"),\n",
    "  (\"e\", \"d\", \"friend\"),\n",
    "  (\"d\", \"a\", \"friend\"),\n",
    "  (\"a\", \"e\", \"friend\")\n",
    "], [\"src\", \"dst\", \"relationship\"])\n",
    "# Create a GraphFrame\n",
    "graph = GraphFrame(v, e)\n",
    "paths = graph.find(\"(a)-[e]->(b)\")\\\n",
    "  .filter(\"e.relationship = 'follow'\")\\\n",
    "  .filter(\"a.age < b.age\")\n",
    "paths.show()"
   ]
  },
  {
   "cell_type": "code",
   "execution_count": 33,
   "metadata": {},
   "outputs": [
    {
     "name": "stdout",
     "output_type": "stream",
     "text": [
      "+----------------+--------------+----------------+\n",
      "|               a|             e|               b|\n",
      "+----------------+--------------+----------------+\n",
      "| [e, Esther, 32]|[e, f, follow]|  [f, Fanny, 36]|\n",
      "|  [a, Alice, 34]|[a, e, friend]| [e, Esther, 32]|\n",
      "| [e, Esther, 32]|[e, d, friend]|  [d, David, 29]|\n",
      "|  [f, Fanny, 36]|[f, c, follow]|[c, Charlie, 30]|\n",
      "|    [b, Bob, 36]|[b, c, follow]|[c, Charlie, 30]|\n",
      "|[c, Charlie, 30]|[c, b, follow]|    [b, Bob, 36]|\n",
      "|  [a, Alice, 34]|[a, b, friend]|    [b, Bob, 36]|\n",
      "|  [d, David, 29]|[d, a, friend]|  [a, Alice, 34]|\n",
      "+----------------+--------------+----------------+\n",
      "\n"
     ]
    }
   ],
   "source": [
    "graph.find(\"(a)-[e]->(b)\").show()"
   ]
  },
  {
   "cell_type": "markdown",
   "metadata": {},
   "source": [
    "### For BFS use 'graph' created above"
   ]
  },
  {
   "cell_type": "code",
   "execution_count": 34,
   "metadata": {},
   "outputs": [
    {
     "name": "stdout",
     "output_type": "stream",
     "text": [
      "+---------------+--------------+--------------+\n",
      "|           from|            e0|            to|\n",
      "+---------------+--------------+--------------+\n",
      "|[e, Esther, 32]|[e, d, friend]|[d, David, 29]|\n",
      "+---------------+--------------+--------------+\n",
      "\n",
      "+---------------+--------------+--------------+--------------+----------------+\n",
      "|           from|            e0|            v1|            e1|              to|\n",
      "+---------------+--------------+--------------+--------------+----------------+\n",
      "|[e, Esther, 32]|[e, f, follow]|[f, Fanny, 36]|[f, c, follow]|[c, Charlie, 30]|\n",
      "+---------------+--------------+--------------+--------------+----------------+\n",
      "\n"
     ]
    }
   ],
   "source": [
    "# Search from \"Esther\" for users of age < 32.\n",
    "paths = graph.bfs(\"name = 'Esther'\", \"age < 32\")\n",
    "paths.show()\n",
    "\n",
    "# Specify edge filters or max path lengths.\n",
    "graph.bfs(\"name = 'Esther'\", \"age < 32\",\\\n",
    "  edgeFilter=\"relationship != 'friend'\", maxPathLength=2).show()"
   ]
  }
 ],
 "metadata": {
  "kernelspec": {
   "display_name": "Python 3",
   "language": "python",
   "name": "python3"
  },
  "language_info": {
   "codemirror_mode": {
    "name": "ipython",
    "version": 3
   },
   "file_extension": ".py",
   "mimetype": "text/x-python",
   "name": "python",
   "nbconvert_exporter": "python",
   "pygments_lexer": "ipython3",
   "version": "3.6.5"
  }
 },
 "nbformat": 4,
 "nbformat_minor": 2
}
